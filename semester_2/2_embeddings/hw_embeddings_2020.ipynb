{
 "cells": [
  {
   "cell_type": "markdown",
   "metadata": {
    "id": "eYtJxkhKpYK2"
   },
   "source": [
    "# Embeddings\n",
    "\n",
    "Привет! Сегодня ты поработаешь с эмбеддингами: сделаешь классификатор эмоции твитов. Для начала, загрузи их:"
   ]
  },
  {
   "cell_type": "code",
   "execution_count": 1,
   "metadata": {
    "id": "wXjhtsfF_gBK"
   },
   "outputs": [],
   "source": [
    "%%capture \n",
    "%%bash\n",
    "\n",
    "gdown https://drive.google.com/uc?id=1eE1FiUkXkcbw0McId4i7qY-L8hH-_Qph&export=download"
   ]
  },
  {
   "cell_type": "markdown",
   "metadata": {
    "id": "V9LMjw1cHrdK"
   },
   "source": [
    "additional packages:"
   ]
  },
  {
   "cell_type": "markdown",
   "metadata": {
    "id": "gnZ40fqlZ8ip"
   },
   "source": [
    "установим дополнительные пакеты: для замены contractions и замены эмотиконов(предварительно я проверил на данном датасете, их немало) на слова, отражающие их смысл, что может в случае анализа эмоций положительно повлиять на модель"
   ]
  },
  {
   "cell_type": "code",
   "execution_count": 2,
   "metadata": {
    "id": "4A8P7eKYB5gF"
   },
   "outputs": [],
   "source": [
    "%%capture \n",
    "%%bash\n",
    "\n",
    "pip install contractions # replacing contractions - I've > I have \n",
    "pip install git+https://github.com/NeelShah18/emot # replacing emoticons - ;) > wink\n",
    "pip install optuna\n",
    "pip install transformers"
   ]
  },
  {
   "cell_type": "code",
   "execution_count": 3,
   "metadata": {
    "id": "a-cemX6XHu5Q"
   },
   "outputs": [],
   "source": [
    "import contractions\n",
    "import emot"
   ]
  },
  {
   "cell_type": "markdown",
   "metadata": {
    "id": "Sh6wW-K53Mle"
   },
   "source": [
    "Заимпортируй библиотеки и сделай работу скриптов вопсроизводимой."
   ]
  },
  {
   "cell_type": "code",
   "execution_count": 4,
   "metadata": {
    "colab": {
     "base_uri": "https://localhost:8080/",
     "height": 35
    },
    "id": "A2Y5CHRm6NFe",
    "outputId": "5ee1bd00-dce8-4c78-dfde-fc21532a6a51"
   },
   "outputs": [
    {
     "data": {
      "application/vnd.google.colaboratory.intrinsic+json": {
       "type": "string"
      },
      "text/plain": [
       "'1.6.0+cu101'"
      ]
     },
     "execution_count": 4,
     "metadata": {
      "tags": []
     },
     "output_type": "execute_result"
    }
   ],
   "source": [
    "import math\n",
    "import random\n",
    "import string\n",
    "import gc\n",
    "import numpy as np\n",
    "import pandas as pd\n",
    "import seaborn as sns\n",
    "import regex as re\n",
    "import torch\n",
    "import gensim\n",
    "import gensim.downloader as api\n",
    "from html import unescape\n",
    "from collections import defaultdict\n",
    "from typing import Dict\n",
    "from sklearn.feature_extraction.text import TfidfVectorizer\n",
    "\n",
    "from torch.utils.data import DataLoader\n",
    "from tqdm.notebook import tqdm\n",
    "from torch.utils.data import Dataset, random_split\n",
    "import torch.nn as nn\n",
    "from torch.optim import Adam, AdamW\n",
    "from torch.optim.lr_scheduler import CosineAnnealingLR\n",
    "from transformers import get_linear_schedule_with_warmup\n",
    "from torch.nn import functional as F\n",
    "torch.__version__"
   ]
  },
  {
   "cell_type": "code",
   "execution_count": 5,
   "metadata": {
    "colab": {
     "base_uri": "https://localhost:8080/",
     "height": 51
    },
    "id": "s81DOmTev35e",
    "outputId": "b84a3740-a339-4127-bc68-88e00fde2d0a"
   },
   "outputs": [
    {
     "name": "stdout",
     "output_type": "stream",
     "text": [
      "[nltk_data] Downloading package stopwords to /root/nltk_data...\n",
      "[nltk_data]   Unzipping corpora/stopwords.zip.\n"
     ]
    }
   ],
   "source": [
    "import nltk\n",
    "nltk.download(\"stopwords\")\n",
    "from nltk.corpus import stopwords \n",
    "from nltk.tokenize import word_tokenize \n",
    "stop_words = set(stopwords.words('english')) "
   ]
  },
  {
   "cell_type": "code",
   "execution_count": 6,
   "metadata": {
    "id": "73Lb0wbESrgQ"
   },
   "outputs": [],
   "source": [
    "random.seed(42)\n",
    "np.random.seed(42)\n",
    "torch.random.manual_seed(42)\n",
    "torch.cuda.random.manual_seed(42)\n",
    "torch.cuda.random.manual_seed_all(42)\n",
    "\n",
    "device = \"cuda\" if torch.cuda.is_available() else \"cpu\""
   ]
  },
  {
   "cell_type": "markdown",
   "metadata": {
    "id": "XiHAg4dTaZRV"
   },
   "source": [
    "отключаем warnings"
   ]
  },
  {
   "cell_type": "code",
   "execution_count": 7,
   "metadata": {
    "id": "bvqb0EYKGScD"
   },
   "outputs": [],
   "source": [
    "import warnings\n",
    "warnings.filterwarnings('ignore')\n",
    "import logging\n",
    "logger = logging.getLogger()\n",
    "logger.setLevel(logging.CRITICAL)"
   ]
  },
  {
   "cell_type": "markdown",
   "metadata": {
    "id": "jE5i_LjKad7R"
   },
   "source": [
    "время выполнения в colab"
   ]
  },
  {
   "cell_type": "code",
   "execution_count": 8,
   "metadata": {
    "colab": {
     "base_uri": "https://localhost:8080/",
     "height": 34
    },
    "id": "YlsZDT9m6MOC",
    "outputId": "6fd6d8b8-c544-43ba-9858-58ee830dacf5"
   },
   "outputs": [
    {
     "name": "stdout",
     "output_type": "stream",
     "text": [
      "time: 237 µs\n"
     ]
    }
   ],
   "source": [
    "%%capture\n",
    "!pip install ipython-autotime -qq\n",
    "%load_ext autotime"
   ]
  },
  {
   "cell_type": "code",
   "execution_count": 9,
   "metadata": {
    "colab": {
     "base_uri": "https://localhost:8080/",
     "height": 34
    },
    "id": "L_Wv-4bu83Fl",
    "outputId": "c5705778-5ca4-4f90-c62b-47a0a1586d72"
   },
   "outputs": [
    {
     "name": "stdout",
     "output_type": "stream",
     "text": [
      "time: 4.94 s\n"
     ]
    }
   ],
   "source": [
    "data = pd.read_csv(\"archive.zip\", encoding=\"latin\", header=None, names=[\"emotion\", \"id\", \"date\", \"flag\", \"user\", \"text\"])"
   ]
  },
  {
   "cell_type": "markdown",
   "metadata": {
    "id": "RY1pvYDS3Yuj"
   },
   "source": [
    "Посмотрим на данные"
   ]
  },
  {
   "cell_type": "code",
   "execution_count": 10,
   "metadata": {
    "colab": {
     "base_uri": "https://localhost:8080/",
     "height": 221
    },
    "id": "jST2tjgjCTWD",
    "outputId": "96ce158c-0ad6-4176-f8ee-86413d08121b"
   },
   "outputs": [
    {
     "data": {
      "text/html": [
       "<div>\n",
       "<style scoped>\n",
       "    .dataframe tbody tr th:only-of-type {\n",
       "        vertical-align: middle;\n",
       "    }\n",
       "\n",
       "    .dataframe tbody tr th {\n",
       "        vertical-align: top;\n",
       "    }\n",
       "\n",
       "    .dataframe thead th {\n",
       "        text-align: right;\n",
       "    }\n",
       "</style>\n",
       "<table border=\"1\" class=\"dataframe\">\n",
       "  <thead>\n",
       "    <tr style=\"text-align: right;\">\n",
       "      <th></th>\n",
       "      <th>emotion</th>\n",
       "      <th>id</th>\n",
       "      <th>date</th>\n",
       "      <th>flag</th>\n",
       "      <th>user</th>\n",
       "      <th>text</th>\n",
       "    </tr>\n",
       "  </thead>\n",
       "  <tbody>\n",
       "    <tr>\n",
       "      <th>0</th>\n",
       "      <td>0</td>\n",
       "      <td>1467810369</td>\n",
       "      <td>Mon Apr 06 22:19:45 PDT 2009</td>\n",
       "      <td>NO_QUERY</td>\n",
       "      <td>_TheSpecialOne_</td>\n",
       "      <td>@switchfoot http://twitpic.com/2y1zl - Awww, t...</td>\n",
       "    </tr>\n",
       "    <tr>\n",
       "      <th>1</th>\n",
       "      <td>0</td>\n",
       "      <td>1467810672</td>\n",
       "      <td>Mon Apr 06 22:19:49 PDT 2009</td>\n",
       "      <td>NO_QUERY</td>\n",
       "      <td>scotthamilton</td>\n",
       "      <td>is upset that he can't update his Facebook by ...</td>\n",
       "    </tr>\n",
       "    <tr>\n",
       "      <th>2</th>\n",
       "      <td>0</td>\n",
       "      <td>1467810917</td>\n",
       "      <td>Mon Apr 06 22:19:53 PDT 2009</td>\n",
       "      <td>NO_QUERY</td>\n",
       "      <td>mattycus</td>\n",
       "      <td>@Kenichan I dived many times for the ball. Man...</td>\n",
       "    </tr>\n",
       "    <tr>\n",
       "      <th>3</th>\n",
       "      <td>0</td>\n",
       "      <td>1467811184</td>\n",
       "      <td>Mon Apr 06 22:19:57 PDT 2009</td>\n",
       "      <td>NO_QUERY</td>\n",
       "      <td>ElleCTF</td>\n",
       "      <td>my whole body feels itchy and like its on fire</td>\n",
       "    </tr>\n",
       "    <tr>\n",
       "      <th>4</th>\n",
       "      <td>0</td>\n",
       "      <td>1467811193</td>\n",
       "      <td>Mon Apr 06 22:19:57 PDT 2009</td>\n",
       "      <td>NO_QUERY</td>\n",
       "      <td>Karoli</td>\n",
       "      <td>@nationwideclass no, it's not behaving at all....</td>\n",
       "    </tr>\n",
       "  </tbody>\n",
       "</table>\n",
       "</div>"
      ],
      "text/plain": [
       "   emotion  ...                                               text\n",
       "0        0  ...  @switchfoot http://twitpic.com/2y1zl - Awww, t...\n",
       "1        0  ...  is upset that he can't update his Facebook by ...\n",
       "2        0  ...  @Kenichan I dived many times for the ball. Man...\n",
       "3        0  ...    my whole body feels itchy and like its on fire \n",
       "4        0  ...  @nationwideclass no, it's not behaving at all....\n",
       "\n",
       "[5 rows x 6 columns]"
      ]
     },
     "execution_count": 10,
     "metadata": {
      "tags": []
     },
     "output_type": "execute_result"
    },
    {
     "name": "stdout",
     "output_type": "stream",
     "text": [
      "time: 32.2 ms\n"
     ]
    }
   ],
   "source": [
    "data.head()"
   ]
  },
  {
   "cell_type": "markdown",
   "metadata": {
    "id": "k4dUIuzjak6X"
   },
   "source": [
    "функции препроцессинга:"
   ]
  },
  {
   "cell_type": "code",
   "execution_count": 11,
   "metadata": {
    "colab": {
     "base_uri": "https://localhost:8080/",
     "height": 34
    },
    "id": "c_tIRnZLF0dO",
    "outputId": "23a2be3e-9c53-46ee-eec3-9af02ad9ecfe"
   },
   "outputs": [
    {
     "name": "stdout",
     "output_type": "stream",
     "text": [
      "time: 6.1 ms\n"
     ]
    }
   ],
   "source": [
    "def fix_emoticon(s):\n",
    "  \"\"\"\n",
    "  replacing emoticons by related meaning word\n",
    "  example: \";)\" - \":wink:\" \n",
    "  \"\"\"\n",
    "  d = emot.emoticons(s)\n",
    "  if not d.get(\"flag\", False): return s\n",
    "  idx=0\n",
    "  r = \"\"\n",
    "  for meaning, location in zip(d[\"mean\"], d[\"location\"]):\n",
    "    start, end = location\n",
    "    r+=s[idx:start]+\":\"+meaning.split()[0].lower()+\":\"\n",
    "    idx=end\n",
    "  del d\n",
    "  return r"
   ]
  },
  {
   "cell_type": "code",
   "execution_count": 12,
   "metadata": {
    "colab": {
     "base_uri": "https://localhost:8080/",
     "height": 34
    },
    "id": "dh8Mq1tD-0w9",
    "outputId": "82a04e9b-8aeb-42ae-f219-9c8751a6d12b"
   },
   "outputs": [
    {
     "name": "stdout",
     "output_type": "stream",
     "text": [
      "time: 9.41 ms\n"
     ]
    }
   ],
   "source": [
    "def clean_column(col:pd.Series) -> pd.Series:\n",
    "  #fixing html entities\n",
    "  col = np.vectorize(unescape)(col) \n",
    "  col = pd.Series(np.vectorize(contractions.fix)(col)) \n",
    "  # removing urls\n",
    "  col = col.replace(r'http\\S+', '', regex=True).replace(r'www\\S+', '', regex=True) \n",
    "  col = pd.Series(np.vectorize(fix_emoticon)(col))\n",
    "  #user\n",
    "  col = col.str.replace('@[A-Za-z0-9]+', '') \n",
    "  col = col.str.strip()\n",
    "  col = col.str.strip(string.punctuation)\n",
    "  #repeated spaces\n",
    "  col = col.replace(r'\\s{2,}', ' ')  \n",
    "  col = col.str.lower()\n",
    "  col = pd.Series(np.vectorize(lambda s: \" \".join(t for t in s.split() if t not in stop_words))(col))\n",
    "  return col"
   ]
  },
  {
   "cell_type": "code",
   "execution_count": 13,
   "metadata": {
    "colab": {
     "base_uri": "https://localhost:8080/",
     "height": 34
    },
    "id": "M7WKkFO06NGx",
    "outputId": "ed30020c-53bb-4d6e-ae10-947df1a4cc7c"
   },
   "outputs": [
    {
     "name": "stdout",
     "output_type": "stream",
     "text": [
      "time: 2min 18s\n"
     ]
    }
   ],
   "source": [
    "data[\"text\"] = clean_column(data[\"text\"])"
   ]
  },
  {
   "cell_type": "code",
   "execution_count": 14,
   "metadata": {
    "colab": {
     "base_uri": "https://localhost:8080/",
     "height": 204
    },
    "id": "kCBwe0wR83C2",
    "outputId": "05934415-049a-489b-aa00-158a694bbd0d"
   },
   "outputs": [
    {
     "name": "stdout",
     "output_type": "stream",
     "text": [
      "ahhh hope ok\n",
      "cool , tweet apps razr 2\n",
      "know family drama. lame.hey next time hang kim n guys like sleepover whatever, ill call\n",
      "school email open geography stuff revise! *stupid school* :crying\n",
      "upper airways problem\n",
      "going miss pastor's sermon faith\n",
      "lunch....dj come eat\n",
      "oh feeling like\n",
      "gahh noo!peyton needs live!this horrible\n",
      "thank glad like it! product review bit site enjoy knitting\n",
      "time: 46.2 ms\n"
     ]
    }
   ],
   "source": [
    "examples = data[\"text\"].sample(10)\n",
    "print(\"\\n\".join(examples))"
   ]
  },
  {
   "cell_type": "markdown",
   "metadata": {
    "id": "GvcYW8aX3mKt"
   },
   "source": [
    "Текст очень грязные. Надо добавить очистку текста в его предобработку. \n",
    "\n",
    "Чтобы сравнивать различные методы обработки текста/модели/прочее, разделим датасет на dev(для обучения модели) и test(для получения качества модели)."
   ]
  },
  {
   "cell_type": "code",
   "execution_count": 15,
   "metadata": {
    "colab": {
     "base_uri": "https://localhost:8080/",
     "height": 34
    },
    "id": "f8hUK-jnQg6O",
    "outputId": "c57084bf-b54a-4f52-b099-d8ca9dcac054"
   },
   "outputs": [
    {
     "name": "stdout",
     "output_type": "stream",
     "text": [
      "time: 1.05 s\n"
     ]
    }
   ],
   "source": [
    "indexes = np.arange(data.shape[0])\n",
    "np.random.shuffle(indexes)\n",
    "dev_size = math.ceil(data.shape[0] * 0.8)\n",
    "\n",
    "dev_indexes = indexes[:dev_size]\n",
    "test_indexes = indexes[dev_size:]\n",
    "\n",
    "dev_data = data.iloc[dev_indexes]\n",
    "test_data = data.iloc[test_indexes]\n",
    "\n",
    "dev_data.reset_index(drop=True, inplace=True)\n",
    "test_data.reset_index(drop=True, inplace=True)"
   ]
  },
  {
   "cell_type": "markdown",
   "metadata": {
    "id": "6ivcpeFoCnZA"
   },
   "source": [
    "## Обработка текста"
   ]
  },
  {
   "cell_type": "markdown",
   "metadata": {
    "id": "Df4nca285Dar"
   },
   "source": [
    "Стокенизируем текст, избавим от знаков пунктуации и мелких слов."
   ]
  },
  {
   "cell_type": "code",
   "execution_count": 16,
   "metadata": {
    "colab": {
     "base_uri": "https://localhost:8080/",
     "height": 51
    },
    "id": "nsNHNDES9ZVF",
    "outputId": "a9c00885-f91a-489d-e1b0-946a788ee410"
   },
   "outputs": [
    {
     "name": "stdout",
     "output_type": "stream",
     "text": [
      "nelson north devon coast next weeks devon may sometime hope though\n",
      "time: 2.3 ms\n"
     ]
    }
   ],
   "source": [
    "tokenizer = nltk.WordPunctTokenizer()\n",
    "line = tokenizer.tokenize(dev_data[\"text\"][0].lower())\n",
    "print(\" \".join(line))"
   ]
  },
  {
   "cell_type": "code",
   "execution_count": 17,
   "metadata": {
    "colab": {
     "base_uri": "https://localhost:8080/",
     "height": 51
    },
    "id": "GcBS_u_hTuxp",
    "outputId": "5180d5b2-8486-40ae-9624-175fdf657105"
   },
   "outputs": [
    {
     "name": "stdout",
     "output_type": "stream",
     "text": [
      "nelson north devon coast next weeks devon sometime hope though\n",
      "time: 1.97 ms\n"
     ]
    }
   ],
   "source": [
    "filtered_line = [w for w in line if all(c not in string.punctuation for c in w) and len(w) > 3]\n",
    "print(\" \".join(filtered_line))"
   ]
  },
  {
   "cell_type": "markdown",
   "metadata": {
    "id": "cuFmlXkC6E7X"
   },
   "source": [
    "Загрузим предобученную модель эмбеддингов. Если хотите, можно попробовать другую. Полный список можно найти здесь: https://github.com/RaRe-Technologies/gensim-data . "
   ]
  },
  {
   "cell_type": "code",
   "execution_count": 18,
   "metadata": {
    "colab": {
     "base_uri": "https://localhost:8080/",
     "height": 51
    },
    "id": "cACJpje2T5bc",
    "outputId": "524e06c8-e89c-4017-c23d-991b1a87df82"
   },
   "outputs": [
    {
     "name": "stdout",
     "output_type": "stream",
     "text": [
      "[==================================================] 100.0% 1662.8/1662.8MB downloaded\n",
      "time: 7min 11s\n"
     ]
    }
   ],
   "source": [
    "word2vec = api.load(\"word2vec-google-news-300\")"
   ]
  },
  {
   "cell_type": "code",
   "execution_count": 19,
   "metadata": {
    "colab": {
     "base_uri": "https://localhost:8080/",
     "height": 51
    },
    "id": "NafmYHrkT5YD",
    "outputId": "6b5fe952-496b-4299-cb74-f2324f2f114e"
   },
   "outputs": [
    {
     "name": "stdout",
     "output_type": "stream",
     "text": [
      "(300,)\n",
      "time: 2.48 ms\n"
     ]
    }
   ],
   "source": [
    "emb_line = [word2vec.get_vector(w) for w in filtered_line if w in word2vec]\n",
    "print(sum(emb_line).shape)"
   ]
  },
  {
   "cell_type": "markdown",
   "metadata": {
    "id": "LTS6LCkd6_E7"
   },
   "source": [
    "Эмбеддинги не нормализированны, поэтому это тоже надо делать (нейросети и не только любят нормальные данные)."
   ]
  },
  {
   "cell_type": "code",
   "execution_count": 20,
   "metadata": {
    "colab": {
     "base_uri": "https://localhost:8080/",
     "height": 68
    },
    "id": "3PyLTZ6xf3Oq",
    "outputId": "b02b8b3c-2996-47a4-ba1f-d24b07f87f0f"
   },
   "outputs": [
    {
     "name": "stdout",
     "output_type": "stream",
     "text": [
      "(300,)\n",
      "[False, False, False, False, False, False, False, False, False, False]\n",
      "time: 3.52 s\n"
     ]
    }
   ],
   "source": [
    "mean = np.mean(word2vec.vectors, 0)\n",
    "std = np.std(word2vec.vectors, 0)\n",
    "norm_emb_line = [(word2vec.get_vector(w) - mean) / std for w in filtered_line if w in word2vec and len(w) > 3]\n",
    "print(sum(norm_emb_line).shape)\n",
    "print([all(norm_emb_line[i] == emb_line[i]) for i in range(len(emb_line))])"
   ]
  },
  {
   "cell_type": "markdown",
   "metadata": {
    "id": "q7vm6Ppd7Ubw"
   },
   "source": [
    "Сделаем датасет, который будет по запросу возвращать подготовленные данные."
   ]
  },
  {
   "cell_type": "code",
   "execution_count": 21,
   "metadata": {
    "colab": {
     "base_uri": "https://localhost:8080/",
     "height": 34
    },
    "id": "b4eZajF7pZ1X",
    "outputId": "fcae4451-2af6-4baa-c14a-d0d73267fb76"
   },
   "outputs": [
    {
     "name": "stdout",
     "output_type": "stream",
     "text": [
      "time: 30.2 ms\n"
     ]
    }
   ],
   "source": [
    "class TwitterDataset(Dataset):\n",
    "    def __init__(self, data: pd.DataFrame, feature_column: str, target_column: str, word2vec: gensim.models.Word2Vec):\n",
    "        self.tokenizer = nltk.WordPunctTokenizer()\n",
    "        self.data = data\n",
    "        self.feature_column = feature_column\n",
    "        self.target_column = target_column\n",
    "        self.word2vec = word2vec\n",
    "        self.label2num = lambda label: 0 if label == 0 else 1\n",
    "        self.mean = np.mean(word2vec.vectors, axis=0)\n",
    "        self.std = np.std(word2vec.vectors, axis=0)\n",
    "\n",
    "    def __getitem__(self, item):\n",
    "        text = self.data[self.feature_column][item]\n",
    "        label = self.label2num(self.data[self.target_column][item])\n",
    "        tokens = self.get_tokens_(text)\n",
    "        embeddings = self.get_embeddings_(tokens)\n",
    "        return {\"feature\": embeddings, \"target\": label, \"text\": text}\n",
    "\n",
    "    def get_tokens_(self, text):\n",
    "        return [w for w in self.tokenizer.tokenize(text) if not any(c in string.punctuation for c in w) and len(w) > 3]\n",
    "\n",
    "    def get_embeddings_(self, tokens):\n",
    "        embeddings = [(self.word2vec.get_vector(token) - self.mean) / self.std for token in tokens if token in word2vec and len(token) > 3]\n",
    "\n",
    "        if len(embeddings) == 0:\n",
    "            embeddings = np.zeros((1, self.word2vec.vector_size))\n",
    "        else:\n",
    "            embeddings = np.array(embeddings)\n",
    "            if len(embeddings.shape) == 1:\n",
    "                embeddings = embeddings.reshape(-1, 1)\n",
    "\n",
    "        return embeddings\n",
    "\n",
    "\n",
    "    def __len__(self):\n",
    "        return self.data.shape[0]"
   ]
  },
  {
   "cell_type": "code",
   "execution_count": 22,
   "metadata": {
    "colab": {
     "base_uri": "https://localhost:8080/",
     "height": 34
    },
    "id": "IZJpttbXpZyz",
    "outputId": "86c86b67-f7d9-449f-eb04-d3ffe3ec0d38"
   },
   "outputs": [
    {
     "name": "stdout",
     "output_type": "stream",
     "text": [
      "time: 3.01 s\n"
     ]
    }
   ],
   "source": [
    "dev = TwitterDataset(dev_data, \"text\", \"emotion\", word2vec)"
   ]
  },
  {
   "cell_type": "markdown",
   "metadata": {
    "id": "4AhHrWa196Yc"
   },
   "source": [
    "## Average embedding\n",
    "---\n",
    "Попробуем получить векторное представление предложения из эмбеддингов слов. Самый простой вариант: усреднить вектора по всем словам. Полученный вектор можно отправить любому классификатору как вектор признаков.\n",
    "\n",
    "Посмотрим, насколько хорошо усреднее работает для определение эмоций твитов. Сделаем их визуализацию."
   ]
  },
  {
   "cell_type": "code",
   "execution_count": 23,
   "metadata": {
    "colab": {
     "base_uri": "https://localhost:8080/",
     "height": 51
    },
    "id": "ScdokSW-994t",
    "outputId": "07a87d14-dad1-4072-9d53-88142ede3666"
   },
   "outputs": [
    {
     "name": "stdout",
     "output_type": "stream",
     "text": [
      "1280\n",
      "time: 232 ms\n"
     ]
    }
   ],
   "source": [
    "indexes = np.arange(len(dev))\n",
    "np.random.shuffle(indexes)\n",
    "example_indexes = indexes[::1000]\n",
    "\n",
    "examples = {\"features\": [np.sum(dev[i][\"feature\"], axis=0) for i in example_indexes], \n",
    "            \"targets\": [dev[i][\"target\"] for i in example_indexes]}\n",
    "print(len(examples[\"features\"]))"
   ]
  },
  {
   "cell_type": "markdown",
   "metadata": {
    "id": "LZwFksd_8uYO"
   },
   "source": [
    "Для визуализации векторов надо получить их проекцию на плоскость. Сделаем это с помощью `PCA`. Можно получить более аккуратными алгоритмами, но данный алгоритм покажет сложность задачи и поможет оценить требования к классификатору."
   ]
  },
  {
   "cell_type": "code",
   "execution_count": 24,
   "metadata": {
    "colab": {
     "base_uri": "https://localhost:8080/",
     "height": 34
    },
    "id": "aKFZRSHdtIac",
    "outputId": "e3c9b964-896a-401c-c245-2531ccdcde12"
   },
   "outputs": [
    {
     "name": "stdout",
     "output_type": "stream",
     "text": [
      "time: 47 ms\n"
     ]
    }
   ],
   "source": [
    "from sklearn.decomposition import PCA\n",
    "\n",
    "\n",
    "pca = PCA(n_components=2)\n",
    "examples[\"transformed_features\"] = pca.fit_transform(examples[\"features\"])"
   ]
  },
  {
   "cell_type": "code",
   "execution_count": 25,
   "metadata": {
    "colab": {
     "base_uri": "https://localhost:8080/",
     "height": 34
    },
    "id": "szEOWdiNtIX8",
    "outputId": "4bc4324e-9e87-465a-c781-28c1a7336dde"
   },
   "outputs": [
    {
     "name": "stdout",
     "output_type": "stream",
     "text": [
      "time: 348 ms\n"
     ]
    }
   ],
   "source": [
    "import bokeh.models as bm, bokeh.plotting as pl\n",
    "from bokeh.io import output_notebook\n",
    "output_notebook()\n",
    "\n",
    "def draw_vectors(x, y, radius=10, alpha=0.25, color='blue',\n",
    "                 width=600, height=400, show=True, **kwargs):\n",
    "    \"\"\" draws an interactive plot for data points with auxilirary info on hover \"\"\"\n",
    "    data_source = bm.ColumnDataSource({ 'x' : x, 'y' : y, 'color': color, **kwargs })\n",
    "\n",
    "    fig = pl.figure(active_scroll='wheel_zoom', width=width, height=height)\n",
    "    fig.scatter('x', 'y', size=radius, color='color', alpha=alpha, source=data_source)\n",
    "\n",
    "    fig.add_tools(bm.HoverTool(tooltips=[(key, \"@\" + key) for key in kwargs.keys()]))\n",
    "    if show: pl.show(fig)\n",
    "    return fig"
   ]
  },
  {
   "cell_type": "code",
   "execution_count": 26,
   "metadata": {
    "colab": {
     "base_uri": "https://localhost:8080/",
     "height": 451
    },
    "id": "7OONK8ldtIWe",
    "outputId": "5b1d6115-1689-4c42-d4b7-278ab379a37b"
   },
   "outputs": [
    {
     "data": {
      "application/javascript": [
       "\n",
       "(function(root) {\n",
       "  function now() {\n",
       "    return new Date();\n",
       "  }\n",
       "\n",
       "  var force = true;\n",
       "\n",
       "  if (typeof root._bokeh_onload_callbacks === \"undefined\" || force === true) {\n",
       "    root._bokeh_onload_callbacks = [];\n",
       "    root._bokeh_is_loading = undefined;\n",
       "  }\n",
       "\n",
       "  var JS_MIME_TYPE = 'application/javascript';\n",
       "  var HTML_MIME_TYPE = 'text/html';\n",
       "  var EXEC_MIME_TYPE = 'application/vnd.bokehjs_exec.v0+json';\n",
       "  var CLASS_NAME = 'output_bokeh rendered_html';\n",
       "\n",
       "  /**\n",
       "   * Render data to the DOM node\n",
       "   */\n",
       "  function render(props, node) {\n",
       "    var script = document.createElement(\"script\");\n",
       "    node.appendChild(script);\n",
       "  }\n",
       "\n",
       "  /**\n",
       "   * Handle when an output is cleared or removed\n",
       "   */\n",
       "  function handleClearOutput(event, handle) {\n",
       "    var cell = handle.cell;\n",
       "\n",
       "    var id = cell.output_area._bokeh_element_id;\n",
       "    var server_id = cell.output_area._bokeh_server_id;\n",
       "    // Clean up Bokeh references\n",
       "    if (id != null && id in Bokeh.index) {\n",
       "      Bokeh.index[id].model.document.clear();\n",
       "      delete Bokeh.index[id];\n",
       "    }\n",
       "\n",
       "    if (server_id !== undefined) {\n",
       "      // Clean up Bokeh references\n",
       "      var cmd = \"from bokeh.io.state import curstate; print(curstate().uuid_to_server['\" + server_id + \"'].get_sessions()[0].document.roots[0]._id)\";\n",
       "      cell.notebook.kernel.execute(cmd, {\n",
       "        iopub: {\n",
       "          output: function(msg) {\n",
       "            var id = msg.content.text.trim();\n",
       "            if (id in Bokeh.index) {\n",
       "              Bokeh.index[id].model.document.clear();\n",
       "              delete Bokeh.index[id];\n",
       "            }\n",
       "          }\n",
       "        }\n",
       "      });\n",
       "      // Destroy server and session\n",
       "      var cmd = \"import bokeh.io.notebook as ion; ion.destroy_server('\" + server_id + \"')\";\n",
       "      cell.notebook.kernel.execute(cmd);\n",
       "    }\n",
       "  }\n",
       "\n",
       "  /**\n",
       "   * Handle when a new output is added\n",
       "   */\n",
       "  function handleAddOutput(event, handle) {\n",
       "    var output_area = handle.output_area;\n",
       "    var output = handle.output;\n",
       "\n",
       "    // limit handleAddOutput to display_data with EXEC_MIME_TYPE content only\n",
       "    if ((output.output_type != \"display_data\") || (!output.data.hasOwnProperty(EXEC_MIME_TYPE))) {\n",
       "      return\n",
       "    }\n",
       "\n",
       "    var toinsert = output_area.element.find(\".\" + CLASS_NAME.split(' ')[0]);\n",
       "\n",
       "    if (output.metadata[EXEC_MIME_TYPE][\"id\"] !== undefined) {\n",
       "      toinsert[toinsert.length - 1].firstChild.textContent = output.data[JS_MIME_TYPE];\n",
       "      // store reference to embed id on output_area\n",
       "      output_area._bokeh_element_id = output.metadata[EXEC_MIME_TYPE][\"id\"];\n",
       "    }\n",
       "    if (output.metadata[EXEC_MIME_TYPE][\"server_id\"] !== undefined) {\n",
       "      var bk_div = document.createElement(\"div\");\n",
       "      bk_div.innerHTML = output.data[HTML_MIME_TYPE];\n",
       "      var script_attrs = bk_div.children[0].attributes;\n",
       "      for (var i = 0; i < script_attrs.length; i++) {\n",
       "        toinsert[toinsert.length - 1].firstChild.setAttribute(script_attrs[i].name, script_attrs[i].value);\n",
       "        toinsert[toinsert.length - 1].firstChild.textContent = bk_div.children[0].textContent\n",
       "      }\n",
       "      // store reference to server id on output_area\n",
       "      output_area._bokeh_server_id = output.metadata[EXEC_MIME_TYPE][\"server_id\"];\n",
       "    }\n",
       "  }\n",
       "\n",
       "  function register_renderer(events, OutputArea) {\n",
       "\n",
       "    function append_mime(data, metadata, element) {\n",
       "      // create a DOM node to render to\n",
       "      var toinsert = this.create_output_subarea(\n",
       "        metadata,\n",
       "        CLASS_NAME,\n",
       "        EXEC_MIME_TYPE\n",
       "      );\n",
       "      this.keyboard_manager.register_events(toinsert);\n",
       "      // Render to node\n",
       "      var props = {data: data, metadata: metadata[EXEC_MIME_TYPE]};\n",
       "      render(props, toinsert[toinsert.length - 1]);\n",
       "      element.append(toinsert);\n",
       "      return toinsert\n",
       "    }\n",
       "\n",
       "    /* Handle when an output is cleared or removed */\n",
       "    events.on('clear_output.CodeCell', handleClearOutput);\n",
       "    events.on('delete.Cell', handleClearOutput);\n",
       "\n",
       "    /* Handle when a new output is added */\n",
       "    events.on('output_added.OutputArea', handleAddOutput);\n",
       "\n",
       "    /**\n",
       "     * Register the mime type and append_mime function with output_area\n",
       "     */\n",
       "    OutputArea.prototype.register_mime_type(EXEC_MIME_TYPE, append_mime, {\n",
       "      /* Is output safe? */\n",
       "      safe: true,\n",
       "      /* Index of renderer in `output_area.display_order` */\n",
       "      index: 0\n",
       "    });\n",
       "  }\n",
       "\n",
       "  // register the mime type if in Jupyter Notebook environment and previously unregistered\n",
       "  if (root.Jupyter !== undefined) {\n",
       "    var events = require('base/js/events');\n",
       "    var OutputArea = require('notebook/js/outputarea').OutputArea;\n",
       "\n",
       "    if (OutputArea.prototype.mime_types().indexOf(EXEC_MIME_TYPE) == -1) {\n",
       "      register_renderer(events, OutputArea);\n",
       "    }\n",
       "  }\n",
       "\n",
       "  \n",
       "  if (typeof (root._bokeh_timeout) === \"undefined\" || force === true) {\n",
       "    root._bokeh_timeout = Date.now() + 5000;\n",
       "    root._bokeh_failed_load = false;\n",
       "  }\n",
       "\n",
       "  var NB_LOAD_WARNING = {'data': {'text/html':\n",
       "     \"<div style='background-color: #fdd'>\\n\"+\n",
       "     \"<p>\\n\"+\n",
       "     \"BokehJS does not appear to have successfully loaded. If loading BokehJS from CDN, this \\n\"+\n",
       "     \"may be due to a slow or bad network connection. Possible fixes:\\n\"+\n",
       "     \"</p>\\n\"+\n",
       "     \"<ul>\\n\"+\n",
       "     \"<li>re-rerun `output_notebook()` to attempt to load from CDN again, or</li>\\n\"+\n",
       "     \"<li>use INLINE resources instead, as so:</li>\\n\"+\n",
       "     \"</ul>\\n\"+\n",
       "     \"<code>\\n\"+\n",
       "     \"from bokeh.resources import INLINE\\n\"+\n",
       "     \"output_notebook(resources=INLINE)\\n\"+\n",
       "     \"</code>\\n\"+\n",
       "     \"</div>\"}};\n",
       "\n",
       "  function display_loaded() {\n",
       "    var el = document.getElementById(null);\n",
       "    if (el != null) {\n",
       "      el.textContent = \"BokehJS is loading...\";\n",
       "    }\n",
       "    if (root.Bokeh !== undefined) {\n",
       "      if (el != null) {\n",
       "        el.textContent = \"BokehJS \" + root.Bokeh.version + \" successfully loaded.\";\n",
       "      }\n",
       "    } else if (Date.now() < root._bokeh_timeout) {\n",
       "      setTimeout(display_loaded, 100)\n",
       "    }\n",
       "  }\n",
       "\n",
       "\n",
       "  function run_callbacks() {\n",
       "    try {\n",
       "      root._bokeh_onload_callbacks.forEach(function(callback) {\n",
       "        if (callback != null)\n",
       "          callback();\n",
       "      });\n",
       "    } finally {\n",
       "      delete root._bokeh_onload_callbacks\n",
       "    }\n",
       "    console.debug(\"Bokeh: all callbacks have finished\");\n",
       "  }\n",
       "\n",
       "  function load_libs(css_urls, js_urls, callback) {\n",
       "    if (css_urls == null) css_urls = [];\n",
       "    if (js_urls == null) js_urls = [];\n",
       "\n",
       "    root._bokeh_onload_callbacks.push(callback);\n",
       "    if (root._bokeh_is_loading > 0) {\n",
       "      console.debug(\"Bokeh: BokehJS is being loaded, scheduling callback at\", now());\n",
       "      return null;\n",
       "    }\n",
       "    if (js_urls == null || js_urls.length === 0) {\n",
       "      run_callbacks();\n",
       "      return null;\n",
       "    }\n",
       "    console.debug(\"Bokeh: BokehJS not loaded, scheduling load and callback at\", now());\n",
       "    root._bokeh_is_loading = css_urls.length + js_urls.length;\n",
       "\n",
       "    function on_load() {\n",
       "      root._bokeh_is_loading--;\n",
       "      if (root._bokeh_is_loading === 0) {\n",
       "        console.debug(\"Bokeh: all BokehJS libraries/stylesheets loaded\");\n",
       "        run_callbacks()\n",
       "      }\n",
       "    }\n",
       "\n",
       "    function on_error() {\n",
       "      console.error(\"failed to load \" + url);\n",
       "    }\n",
       "\n",
       "    for (var i = 0; i < css_urls.length; i++) {\n",
       "      var url = css_urls[i];\n",
       "      const element = document.createElement(\"link\");\n",
       "      element.onload = on_load;\n",
       "      element.onerror = on_error;\n",
       "      element.rel = \"stylesheet\";\n",
       "      element.type = \"text/css\";\n",
       "      element.href = url;\n",
       "      console.debug(\"Bokeh: injecting link tag for BokehJS stylesheet: \", url);\n",
       "      document.body.appendChild(element);\n",
       "    }\n",
       "\n",
       "    const hashes = {\"https://cdn.bokeh.org/bokeh/release/bokeh-2.1.1.min.js\": \"kLr4fYcqcSpbuI95brIH3vnnYCquzzSxHPU6XGQCIkQRGJwhg0StNbj1eegrHs12\", \"https://cdn.bokeh.org/bokeh/release/bokeh-widgets-2.1.1.min.js\": \"xIGPmVtaOm+z0BqfSOMn4lOR6ciex448GIKG4eE61LsAvmGj48XcMQZtKcE/UXZe\", \"https://cdn.bokeh.org/bokeh/release/bokeh-tables-2.1.1.min.js\": \"Dc9u1wF/0zApGIWoBbH77iWEHtdmkuYWG839Uzmv8y8yBLXebjO9ZnERsde5Ln/P\", \"https://cdn.bokeh.org/bokeh/release/bokeh-gl-2.1.1.min.js\": \"cT9JaBz7GiRXdENrJLZNSC6eMNF3nh3fa5fTF51Svp+ukxPdwcU5kGXGPBgDCa2j\"};\n",
       "\n",
       "    for (var i = 0; i < js_urls.length; i++) {\n",
       "      var url = js_urls[i];\n",
       "      var element = document.createElement('script');\n",
       "      element.onload = on_load;\n",
       "      element.onerror = on_error;\n",
       "      element.async = false;\n",
       "      element.src = url;\n",
       "      if (url in hashes) {\n",
       "        element.crossOrigin = \"anonymous\";\n",
       "        element.integrity = \"sha384-\" + hashes[url];\n",
       "      }\n",
       "      console.debug(\"Bokeh: injecting script tag for BokehJS library: \", url);\n",
       "      document.head.appendChild(element);\n",
       "    }\n",
       "  };\n",
       "\n",
       "  function inject_raw_css(css) {\n",
       "    const element = document.createElement(\"style\");\n",
       "    element.appendChild(document.createTextNode(css));\n",
       "    document.body.appendChild(element);\n",
       "  }\n",
       "\n",
       "  \n",
       "  var js_urls = [\"https://cdn.bokeh.org/bokeh/release/bokeh-2.1.1.min.js\", \"https://cdn.bokeh.org/bokeh/release/bokeh-widgets-2.1.1.min.js\", \"https://cdn.bokeh.org/bokeh/release/bokeh-tables-2.1.1.min.js\", \"https://cdn.bokeh.org/bokeh/release/bokeh-gl-2.1.1.min.js\"];\n",
       "  var css_urls = [];\n",
       "  \n",
       "\n",
       "  var inline_js = [\n",
       "    function(Bokeh) {\n",
       "      Bokeh.set_log_level(\"info\");\n",
       "    },\n",
       "    function(Bokeh) {\n",
       "    \n",
       "    \n",
       "    }\n",
       "  ];\n",
       "\n",
       "  function run_inline_js() {\n",
       "    \n",
       "    if (root.Bokeh !== undefined || force === true) {\n",
       "      \n",
       "    for (var i = 0; i < inline_js.length; i++) {\n",
       "      inline_js[i].call(root, root.Bokeh);\n",
       "    }\n",
       "    } else if (Date.now() < root._bokeh_timeout) {\n",
       "      setTimeout(run_inline_js, 100);\n",
       "    } else if (!root._bokeh_failed_load) {\n",
       "      console.log(\"Bokeh: BokehJS failed to load within specified timeout.\");\n",
       "      root._bokeh_failed_load = true;\n",
       "    } else if (force !== true) {\n",
       "      var cell = $(document.getElementById(null)).parents('.cell').data().cell;\n",
       "      cell.output_area.append_execute_result(NB_LOAD_WARNING)\n",
       "    }\n",
       "\n",
       "  }\n",
       "\n",
       "  if (root._bokeh_is_loading === 0) {\n",
       "    console.debug(\"Bokeh: BokehJS loaded, going straight to plotting\");\n",
       "    run_inline_js();\n",
       "  } else {\n",
       "    load_libs(css_urls, js_urls, function() {\n",
       "      console.debug(\"Bokeh: BokehJS plotting callback run at\", now());\n",
       "      run_inline_js();\n",
       "    });\n",
       "  }\n",
       "}(window));"
      ],
      "application/vnd.bokehjs_load.v0+json": "\n(function(root) {\n  function now() {\n    return new Date();\n  }\n\n  var force = true;\n\n  if (typeof root._bokeh_onload_callbacks === \"undefined\" || force === true) {\n    root._bokeh_onload_callbacks = [];\n    root._bokeh_is_loading = undefined;\n  }\n\n  \n\n  \n  if (typeof (root._bokeh_timeout) === \"undefined\" || force === true) {\n    root._bokeh_timeout = Date.now() + 5000;\n    root._bokeh_failed_load = false;\n  }\n\n  var NB_LOAD_WARNING = {'data': {'text/html':\n     \"<div style='background-color: #fdd'>\\n\"+\n     \"<p>\\n\"+\n     \"BokehJS does not appear to have successfully loaded. If loading BokehJS from CDN, this \\n\"+\n     \"may be due to a slow or bad network connection. Possible fixes:\\n\"+\n     \"</p>\\n\"+\n     \"<ul>\\n\"+\n     \"<li>re-rerun `output_notebook()` to attempt to load from CDN again, or</li>\\n\"+\n     \"<li>use INLINE resources instead, as so:</li>\\n\"+\n     \"</ul>\\n\"+\n     \"<code>\\n\"+\n     \"from bokeh.resources import INLINE\\n\"+\n     \"output_notebook(resources=INLINE)\\n\"+\n     \"</code>\\n\"+\n     \"</div>\"}};\n\n  function display_loaded() {\n    var el = document.getElementById(null);\n    if (el != null) {\n      el.textContent = \"BokehJS is loading...\";\n    }\n    if (root.Bokeh !== undefined) {\n      if (el != null) {\n        el.textContent = \"BokehJS \" + root.Bokeh.version + \" successfully loaded.\";\n      }\n    } else if (Date.now() < root._bokeh_timeout) {\n      setTimeout(display_loaded, 100)\n    }\n  }\n\n\n  function run_callbacks() {\n    try {\n      root._bokeh_onload_callbacks.forEach(function(callback) {\n        if (callback != null)\n          callback();\n      });\n    } finally {\n      delete root._bokeh_onload_callbacks\n    }\n    console.debug(\"Bokeh: all callbacks have finished\");\n  }\n\n  function load_libs(css_urls, js_urls, callback) {\n    if (css_urls == null) css_urls = [];\n    if (js_urls == null) js_urls = [];\n\n    root._bokeh_onload_callbacks.push(callback);\n    if (root._bokeh_is_loading > 0) {\n      console.debug(\"Bokeh: BokehJS is being loaded, scheduling callback at\", now());\n      return null;\n    }\n    if (js_urls == null || js_urls.length === 0) {\n      run_callbacks();\n      return null;\n    }\n    console.debug(\"Bokeh: BokehJS not loaded, scheduling load and callback at\", now());\n    root._bokeh_is_loading = css_urls.length + js_urls.length;\n\n    function on_load() {\n      root._bokeh_is_loading--;\n      if (root._bokeh_is_loading === 0) {\n        console.debug(\"Bokeh: all BokehJS libraries/stylesheets loaded\");\n        run_callbacks()\n      }\n    }\n\n    function on_error() {\n      console.error(\"failed to load \" + url);\n    }\n\n    for (var i = 0; i < css_urls.length; i++) {\n      var url = css_urls[i];\n      const element = document.createElement(\"link\");\n      element.onload = on_load;\n      element.onerror = on_error;\n      element.rel = \"stylesheet\";\n      element.type = \"text/css\";\n      element.href = url;\n      console.debug(\"Bokeh: injecting link tag for BokehJS stylesheet: \", url);\n      document.body.appendChild(element);\n    }\n\n    const hashes = {\"https://cdn.bokeh.org/bokeh/release/bokeh-2.1.1.min.js\": \"kLr4fYcqcSpbuI95brIH3vnnYCquzzSxHPU6XGQCIkQRGJwhg0StNbj1eegrHs12\", \"https://cdn.bokeh.org/bokeh/release/bokeh-widgets-2.1.1.min.js\": \"xIGPmVtaOm+z0BqfSOMn4lOR6ciex448GIKG4eE61LsAvmGj48XcMQZtKcE/UXZe\", \"https://cdn.bokeh.org/bokeh/release/bokeh-tables-2.1.1.min.js\": \"Dc9u1wF/0zApGIWoBbH77iWEHtdmkuYWG839Uzmv8y8yBLXebjO9ZnERsde5Ln/P\", \"https://cdn.bokeh.org/bokeh/release/bokeh-gl-2.1.1.min.js\": \"cT9JaBz7GiRXdENrJLZNSC6eMNF3nh3fa5fTF51Svp+ukxPdwcU5kGXGPBgDCa2j\"};\n\n    for (var i = 0; i < js_urls.length; i++) {\n      var url = js_urls[i];\n      var element = document.createElement('script');\n      element.onload = on_load;\n      element.onerror = on_error;\n      element.async = false;\n      element.src = url;\n      if (url in hashes) {\n        element.crossOrigin = \"anonymous\";\n        element.integrity = \"sha384-\" + hashes[url];\n      }\n      console.debug(\"Bokeh: injecting script tag for BokehJS library: \", url);\n      document.head.appendChild(element);\n    }\n  };\n\n  function inject_raw_css(css) {\n    const element = document.createElement(\"style\");\n    element.appendChild(document.createTextNode(css));\n    document.body.appendChild(element);\n  }\n\n  \n  var js_urls = [\"https://cdn.bokeh.org/bokeh/release/bokeh-2.1.1.min.js\", \"https://cdn.bokeh.org/bokeh/release/bokeh-widgets-2.1.1.min.js\", \"https://cdn.bokeh.org/bokeh/release/bokeh-tables-2.1.1.min.js\", \"https://cdn.bokeh.org/bokeh/release/bokeh-gl-2.1.1.min.js\"];\n  var css_urls = [];\n  \n\n  var inline_js = [\n    function(Bokeh) {\n      Bokeh.set_log_level(\"info\");\n    },\n    function(Bokeh) {\n    \n    \n    }\n  ];\n\n  function run_inline_js() {\n    \n    if (root.Bokeh !== undefined || force === true) {\n      \n    for (var i = 0; i < inline_js.length; i++) {\n      inline_js[i].call(root, root.Bokeh);\n    }\n    } else if (Date.now() < root._bokeh_timeout) {\n      setTimeout(run_inline_js, 100);\n    } else if (!root._bokeh_failed_load) {\n      console.log(\"Bokeh: BokehJS failed to load within specified timeout.\");\n      root._bokeh_failed_load = true;\n    } else if (force !== true) {\n      var cell = $(document.getElementById(null)).parents('.cell').data().cell;\n      cell.output_area.append_execute_result(NB_LOAD_WARNING)\n    }\n\n  }\n\n  if (root._bokeh_is_loading === 0) {\n    console.debug(\"Bokeh: BokehJS loaded, going straight to plotting\");\n    run_inline_js();\n  } else {\n    load_libs(css_urls, js_urls, function() {\n      console.debug(\"Bokeh: BokehJS plotting callback run at\", now());\n      run_inline_js();\n    });\n  }\n}(window));"
     },
     "metadata": {
      "tags": []
     },
     "output_type": "display_data"
    },
    {
     "data": {
      "text/html": [
       "\n",
       "\n",
       "\n",
       "\n",
       "\n",
       "\n",
       "  <div class=\"bk-root\" id=\"89a0635c-56c2-48de-991b-134f91882923\" data-root-id=\"1002\"></div>\n"
      ]
     },
     "metadata": {
      "tags": []
     },
     "output_type": "display_data"
    },
    {
     "data": {
      "application/javascript": [
       "(function(root) {\n",
       "  function embed_document(root) {\n",
       "    \n",
       "  var docs_json = {\"309bc35e-186f-44f5-96e6-fcf8fa45941c\":{\"roots\":{\"references\":[{\"attributes\":{\"below\":[{\"id\":\"1011\"}],\"center\":[{\"id\":\"1014\"},{\"id\":\"1018\"}],\"left\":[{\"id\":\"1015\"}],\"plot_height\":400,\"renderers\":[{\"id\":\"1036\"}],\"title\":{\"id\":\"1041\"},\"toolbar\":{\"id\":\"1026\"},\"x_range\":{\"id\":\"1003\"},\"x_scale\":{\"id\":\"1007\"},\"y_range\":{\"id\":\"1005\"},\"y_scale\":{\"id\":\"1009\"}},\"id\":\"1002\",\"subtype\":\"Figure\",\"type\":\"Plot\"},{\"attributes\":{},\"id\":\"1047\",\"type\":\"UnionRenderers\"},{\"attributes\":{\"active_drag\":\"auto\",\"active_inspect\":\"auto\",\"active_multi\":null,\"active_scroll\":{\"id\":\"1020\"},\"active_tap\":\"auto\",\"tools\":[{\"id\":\"1019\"},{\"id\":\"1020\"},{\"id\":\"1021\"},{\"id\":\"1022\"},{\"id\":\"1023\"},{\"id\":\"1024\"},{\"id\":\"1038\"}]},\"id\":\"1026\",\"type\":\"Toolbar\"},{\"attributes\":{},\"id\":\"1019\",\"type\":\"PanTool\"},{\"attributes\":{\"fill_alpha\":{\"value\":0.1},\"fill_color\":{\"field\":\"color\"},\"line_alpha\":{\"value\":0.1},\"line_color\":{\"field\":\"color\"},\"size\":{\"units\":\"screen\",\"value\":10},\"x\":{\"field\":\"x\"},\"y\":{\"field\":\"y\"}},\"id\":\"1035\",\"type\":\"Scatter\"},{\"attributes\":{\"bottom_units\":\"screen\",\"fill_alpha\":0.5,\"fill_color\":\"lightgrey\",\"left_units\":\"screen\",\"level\":\"overlay\",\"line_alpha\":1.0,\"line_color\":\"black\",\"line_dash\":[4,4],\"line_width\":2,\"right_units\":\"screen\",\"top_units\":\"screen\"},\"id\":\"1025\",\"type\":\"BoxAnnotation\"},{\"attributes\":{},\"id\":\"1022\",\"type\":\"SaveTool\"},{\"attributes\":{},\"id\":\"1023\",\"type\":\"ResetTool\"},{\"attributes\":{\"data_source\":{\"id\":\"1001\"},\"glyph\":{\"id\":\"1034\"},\"hover_glyph\":null,\"muted_glyph\":null,\"nonselection_glyph\":{\"id\":\"1035\"},\"selection_glyph\":null,\"view\":{\"id\":\"1037\"}},\"id\":\"1036\",\"type\":\"GlyphRenderer\"},{\"attributes\":{\"formatter\":{\"id\":\"1044\"},\"ticker\":{\"id\":\"1012\"}},\"id\":\"1011\",\"type\":\"LinearAxis\"},{\"attributes\":{},\"id\":\"1009\",\"type\":\"LinearScale\"},{\"attributes\":{\"axis\":{\"id\":\"1015\"},\"dimension\":1,\"ticker\":null},\"id\":\"1018\",\"type\":\"Grid\"},{\"attributes\":{},\"id\":\"1044\",\"type\":\"BasicTickFormatter\"},{\"attributes\":{},\"id\":\"1046\",\"type\":\"Selection\"},{\"attributes\":{},\"id\":\"1012\",\"type\":\"BasicTicker\"},{\"attributes\":{\"formatter\":{\"id\":\"1042\"},\"ticker\":{\"id\":\"1016\"}},\"id\":\"1015\",\"type\":\"LinearAxis\"},{\"attributes\":{},\"id\":\"1007\",\"type\":\"LinearScale\"},{\"attributes\":{\"source\":{\"id\":\"1001\"}},\"id\":\"1037\",\"type\":\"CDSView\"},{\"attributes\":{},\"id\":\"1016\",\"type\":\"BasicTicker\"},{\"attributes\":{\"callback\":null,\"tooltips\":[]},\"id\":\"1038\",\"type\":\"HoverTool\"},{\"attributes\":{\"axis\":{\"id\":\"1011\"},\"ticker\":null},\"id\":\"1014\",\"type\":\"Grid\"},{\"attributes\":{},\"id\":\"1005\",\"type\":\"DataRange1d\"},{\"attributes\":{},\"id\":\"1042\",\"type\":\"BasicTickFormatter\"},{\"attributes\":{\"data\":{\"color\":[\"red\",\"red\",\"red\",\"blue\",\"red\",\"blue\",\"blue\",\"blue\",\"blue\",\"blue\",\"blue\",\"blue\",\"blue\",\"red\",\"red\",\"blue\",\"blue\",\"blue\",\"red\",\"blue\",\"blue\",\"blue\",\"blue\",\"red\",\"blue\",\"blue\",\"red\",\"red\",\"blue\",\"red\",\"blue\",\"red\",\"red\",\"blue\",\"red\",\"red\",\"blue\",\"red\",\"blue\",\"blue\",\"red\",\"blue\",\"blue\",\"blue\",\"red\",\"red\",\"red\",\"red\",\"blue\",\"red\",\"blue\",\"blue\",\"blue\",\"red\",\"blue\",\"red\",\"blue\",\"blue\",\"red\",\"red\",\"red\",\"blue\",\"blue\",\"red\",\"red\",\"blue\",\"blue\",\"red\",\"blue\",\"blue\",\"blue\",\"blue\",\"red\",\"red\",\"red\",\"red\",\"red\",\"blue\",\"red\",\"red\",\"blue\",\"blue\",\"red\",\"red\",\"blue\",\"red\",\"red\",\"red\",\"blue\",\"red\",\"red\",\"red\",\"red\",\"blue\",\"blue\",\"red\",\"red\",\"blue\",\"red\",\"red\",\"blue\",\"red\",\"blue\",\"red\",\"red\",\"red\",\"red\",\"blue\",\"red\",\"blue\",\"blue\",\"blue\",\"blue\",\"red\",\"red\",\"blue\",\"blue\",\"blue\",\"red\",\"blue\",\"red\",\"red\",\"red\",\"red\",\"blue\",\"blue\",\"red\",\"blue\",\"red\",\"blue\",\"blue\",\"blue\",\"red\",\"blue\",\"red\",\"blue\",\"red\",\"red\",\"blue\",\"red\",\"red\",\"blue\",\"red\",\"red\",\"blue\",\"red\",\"red\",\"blue\",\"blue\",\"blue\",\"blue\",\"red\",\"red\",\"red\",\"blue\",\"red\",\"red\",\"red\",\"blue\",\"red\",\"red\",\"red\",\"red\",\"red\",\"red\",\"blue\",\"blue\",\"red\",\"blue\",\"blue\",\"red\",\"red\",\"red\",\"blue\",\"red\",\"red\",\"blue\",\"red\",\"blue\",\"blue\",\"red\",\"blue\",\"red\",\"red\",\"blue\",\"blue\",\"blue\",\"blue\",\"blue\",\"red\",\"red\",\"red\",\"blue\",\"blue\",\"blue\",\"red\",\"red\",\"blue\",\"blue\",\"blue\",\"blue\",\"blue\",\"blue\",\"red\",\"red\",\"red\",\"red\",\"red\",\"red\",\"red\",\"red\",\"red\",\"blue\",\"blue\",\"blue\",\"red\",\"blue\",\"red\",\"blue\",\"blue\",\"red\",\"blue\",\"red\",\"blue\",\"blue\",\"red\",\"blue\",\"blue\",\"blue\",\"blue\",\"red\",\"blue\",\"red\",\"red\",\"red\",\"blue\",\"red\",\"blue\",\"red\",\"red\",\"red\",\"blue\",\"red\",\"blue\",\"red\",\"blue\",\"red\",\"blue\",\"red\",\"blue\",\"blue\",\"blue\",\"blue\",\"blue\",\"blue\",\"blue\",\"red\",\"red\",\"red\",\"red\",\"blue\",\"red\",\"red\",\"blue\",\"blue\",\"blue\",\"red\",\"red\",\"red\",\"red\",\"blue\",\"blue\",\"blue\",\"blue\",\"blue\",\"blue\",\"blue\",\"red\",\"blue\",\"red\",\"red\",\"red\",\"blue\",\"red\",\"red\",\"blue\",\"blue\",\"red\",\"blue\",\"blue\",\"red\",\"red\",\"blue\",\"red\",\"red\",\"blue\",\"blue\",\"red\",\"blue\",\"red\",\"red\",\"blue\",\"red\",\"red\",\"blue\",\"red\",\"blue\",\"blue\",\"red\",\"red\",\"blue\",\"blue\",\"blue\",\"red\",\"blue\",\"blue\",\"red\",\"red\",\"red\",\"blue\",\"blue\",\"red\",\"blue\",\"red\",\"red\",\"red\",\"red\",\"red\",\"blue\",\"blue\",\"red\",\"red\",\"red\",\"red\",\"red\",\"blue\",\"red\",\"red\",\"red\",\"blue\",\"blue\",\"blue\",\"blue\",\"blue\",\"red\",\"blue\",\"blue\",\"red\",\"red\",\"blue\",\"blue\",\"blue\",\"blue\",\"red\",\"blue\",\"blue\",\"blue\",\"blue\",\"red\",\"blue\",\"red\",\"blue\",\"red\",\"red\",\"blue\",\"blue\",\"blue\",\"red\",\"red\",\"blue\",\"red\",\"red\",\"red\",\"blue\",\"red\",\"blue\",\"blue\",\"blue\",\"red\",\"red\",\"red\",\"blue\",\"blue\",\"red\",\"blue\",\"blue\",\"red\",\"blue\",\"blue\",\"red\",\"blue\",\"blue\",\"red\",\"blue\",\"red\",\"red\",\"blue\",\"blue\",\"blue\",\"red\",\"blue\",\"blue\",\"blue\",\"red\",\"red\",\"blue\",\"blue\",\"blue\",\"red\",\"blue\",\"blue\",\"blue\",\"red\",\"blue\",\"blue\",\"blue\",\"blue\",\"red\",\"blue\",\"blue\",\"red\",\"red\",\"red\",\"blue\",\"blue\",\"blue\",\"red\",\"red\",\"blue\",\"blue\",\"blue\",\"red\",\"blue\",\"blue\",\"blue\",\"blue\",\"blue\",\"red\",\"red\",\"blue\",\"blue\",\"blue\",\"red\",\"red\",\"blue\",\"red\",\"red\",\"red\",\"blue\",\"red\",\"red\",\"blue\",\"red\",\"blue\",\"blue\",\"red\",\"blue\",\"blue\",\"red\",\"red\",\"blue\",\"blue\",\"blue\",\"blue\",\"red\",\"red\",\"red\",\"red\",\"blue\",\"blue\",\"blue\",\"red\",\"blue\",\"blue\",\"red\",\"blue\",\"red\",\"red\",\"blue\",\"red\",\"blue\",\"red\",\"red\",\"blue\",\"red\",\"blue\",\"blue\",\"blue\",\"red\",\"blue\",\"red\",\"blue\",\"blue\",\"blue\",\"blue\",\"blue\",\"red\",\"blue\",\"blue\",\"red\",\"blue\",\"red\",\"blue\",\"red\",\"blue\",\"red\",\"red\",\"red\",\"red\",\"red\",\"red\",\"blue\",\"blue\",\"blue\",\"red\",\"blue\",\"red\",\"red\",\"blue\",\"red\",\"red\",\"red\",\"red\",\"red\",\"red\",\"blue\",\"blue\",\"blue\",\"red\",\"blue\",\"red\",\"blue\",\"blue\",\"red\",\"red\",\"red\",\"blue\",\"red\",\"blue\",\"blue\",\"blue\",\"red\",\"blue\",\"blue\",\"red\",\"blue\",\"blue\",\"blue\",\"blue\",\"blue\",\"blue\",\"red\",\"red\",\"red\",\"blue\",\"blue\",\"red\",\"blue\",\"blue\",\"blue\",\"red\",\"blue\",\"red\",\"blue\",\"blue\",\"red\",\"red\",\"blue\",\"red\",\"red\",\"red\",\"blue\",\"red\",\"red\",\"blue\",\"red\",\"red\",\"blue\",\"blue\",\"blue\",\"red\",\"red\",\"red\",\"blue\",\"blue\",\"blue\",\"red\",\"red\",\"red\",\"red\",\"blue\",\"blue\",\"red\",\"red\",\"red\",\"red\",\"red\",\"red\",\"blue\",\"blue\",\"red\",\"red\",\"red\",\"blue\",\"red\",\"red\",\"red\",\"blue\",\"red\",\"red\",\"blue\",\"red\",\"red\",\"blue\",\"blue\",\"blue\",\"red\",\"blue\",\"blue\",\"blue\",\"red\",\"red\",\"red\",\"blue\",\"blue\",\"red\",\"red\",\"blue\",\"red\",\"blue\",\"blue\",\"blue\",\"red\",\"red\",\"blue\",\"red\",\"red\",\"blue\",\"red\",\"blue\",\"blue\",\"red\",\"red\",\"red\",\"red\",\"red\",\"red\",\"red\",\"red\",\"red\",\"blue\",\"blue\",\"blue\",\"red\",\"red\",\"blue\",\"blue\",\"blue\",\"red\",\"blue\",\"blue\",\"blue\",\"blue\",\"red\",\"blue\",\"red\",\"blue\",\"red\",\"red\",\"red\",\"blue\",\"red\",\"red\",\"red\",\"blue\",\"red\",\"blue\",\"blue\",\"blue\",\"red\",\"red\",\"red\",\"blue\",\"blue\",\"blue\",\"red\",\"red\",\"red\",\"blue\",\"red\",\"red\",\"red\",\"blue\",\"red\",\"blue\",\"red\",\"red\",\"blue\",\"red\",\"blue\",\"blue\",\"red\",\"red\",\"blue\",\"blue\",\"blue\",\"blue\",\"red\",\"blue\",\"blue\",\"red\",\"red\",\"red\",\"red\",\"blue\",\"blue\",\"red\",\"red\",\"red\",\"red\",\"red\",\"blue\",\"blue\",\"red\",\"red\",\"red\",\"blue\",\"blue\",\"blue\",\"blue\",\"blue\",\"red\",\"red\",\"red\",\"blue\",\"blue\",\"red\",\"red\",\"red\",\"red\",\"red\",\"blue\",\"blue\",\"blue\",\"red\",\"red\",\"red\",\"red\",\"red\",\"blue\",\"red\",\"red\",\"red\",\"blue\",\"red\",\"red\",\"red\",\"red\",\"red\",\"red\",\"red\",\"red\",\"red\",\"blue\",\"blue\",\"blue\",\"blue\",\"blue\",\"red\",\"blue\",\"blue\",\"red\",\"blue\",\"red\",\"red\",\"blue\",\"red\",\"red\",\"blue\",\"red\",\"blue\",\"red\",\"red\",\"red\",\"blue\",\"red\",\"blue\",\"blue\",\"blue\",\"red\",\"blue\",\"blue\",\"red\",\"blue\",\"blue\",\"blue\",\"blue\",\"red\",\"blue\",\"red\",\"red\",\"red\",\"red\",\"blue\",\"blue\",\"red\",\"red\",\"blue\",\"red\",\"red\",\"blue\",\"red\",\"blue\",\"red\",\"blue\",\"blue\",\"red\",\"blue\",\"blue\",\"blue\",\"red\",\"blue\",\"red\",\"blue\",\"blue\",\"red\",\"red\",\"red\",\"blue\",\"blue\",\"blue\",\"red\",\"blue\",\"red\",\"blue\",\"blue\",\"red\",\"blue\",\"blue\",\"blue\",\"red\",\"red\",\"red\",\"blue\",\"red\",\"red\",\"red\",\"blue\",\"red\",\"red\",\"blue\",\"red\",\"blue\",\"blue\",\"blue\",\"red\",\"blue\",\"blue\",\"red\",\"red\",\"red\",\"blue\",\"blue\",\"blue\",\"red\",\"blue\",\"red\",\"blue\",\"red\",\"red\",\"blue\",\"red\",\"red\",\"red\",\"blue\",\"blue\",\"blue\",\"red\",\"red\",\"red\",\"red\",\"red\",\"red\",\"blue\",\"red\",\"red\",\"blue\",\"red\",\"red\",\"blue\",\"red\",\"blue\",\"blue\",\"blue\",\"blue\",\"red\",\"blue\",\"blue\",\"blue\",\"blue\",\"red\",\"red\",\"blue\",\"blue\",\"red\",\"red\",\"red\",\"blue\",\"red\",\"red\",\"blue\",\"blue\",\"red\",\"red\",\"blue\",\"red\",\"red\",\"blue\",\"red\",\"red\",\"red\",\"blue\",\"blue\",\"red\",\"red\",\"red\",\"blue\",\"red\",\"blue\",\"red\",\"blue\",\"red\",\"blue\",\"red\",\"blue\",\"red\",\"red\",\"blue\",\"blue\",\"blue\",\"red\",\"red\",\"red\",\"red\",\"red\",\"red\",\"blue\",\"red\",\"blue\",\"red\",\"blue\",\"red\",\"blue\",\"blue\",\"blue\",\"red\",\"blue\",\"blue\",\"red\",\"blue\",\"blue\",\"blue\",\"red\",\"red\",\"red\",\"blue\",\"blue\",\"blue\",\"red\",\"red\",\"blue\",\"red\",\"red\",\"red\",\"red\",\"blue\",\"red\",\"red\",\"red\",\"red\",\"blue\",\"blue\",\"blue\",\"red\",\"blue\",\"red\",\"red\",\"blue\",\"red\",\"blue\",\"blue\",\"red\",\"red\",\"red\",\"blue\",\"blue\",\"blue\",\"blue\",\"red\",\"red\",\"blue\",\"blue\",\"red\",\"blue\",\"blue\",\"blue\",\"blue\",\"red\",\"blue\",\"red\",\"red\",\"blue\",\"blue\",\"blue\",\"blue\",\"blue\",\"red\",\"red\",\"red\",\"red\",\"blue\",\"red\",\"blue\",\"red\",\"blue\",\"red\",\"blue\",\"red\",\"blue\",\"red\",\"blue\",\"blue\",\"red\",\"blue\",\"red\",\"blue\",\"red\",\"blue\",\"blue\",\"blue\",\"red\",\"red\",\"blue\",\"red\",\"red\",\"blue\",\"blue\",\"blue\",\"red\",\"blue\",\"blue\",\"red\",\"red\",\"red\",\"blue\",\"red\",\"blue\",\"blue\",\"red\",\"red\",\"red\",\"blue\",\"red\",\"blue\",\"blue\",\"blue\",\"red\",\"blue\",\"red\",\"red\",\"red\",\"red\",\"red\",\"red\",\"blue\",\"red\",\"blue\",\"blue\",\"blue\",\"red\",\"blue\",\"red\",\"red\",\"blue\",\"blue\",\"red\",\"red\",\"blue\",\"red\",\"blue\",\"red\",\"red\",\"blue\",\"red\",\"red\",\"blue\",\"red\",\"red\",\"red\",\"blue\",\"blue\",\"blue\",\"red\",\"blue\",\"blue\",\"blue\",\"red\",\"blue\",\"red\",\"red\",\"blue\",\"red\",\"blue\",\"blue\",\"red\",\"blue\",\"red\",\"blue\",\"blue\",\"red\",\"blue\",\"blue\",\"red\",\"blue\",\"blue\",\"blue\",\"red\",\"red\",\"blue\",\"blue\",\"red\",\"blue\",\"red\",\"red\",\"red\",\"blue\",\"blue\",\"blue\",\"red\",\"blue\",\"blue\",\"blue\",\"red\",\"blue\",\"blue\",\"blue\",\"blue\",\"blue\",\"red\",\"blue\",\"blue\",\"red\",\"red\",\"blue\",\"red\",\"red\",\"red\",\"blue\",\"blue\",\"blue\",\"red\",\"blue\",\"blue\",\"blue\",\"red\",\"red\",\"red\",\"red\",\"red\",\"blue\",\"blue\",\"red\",\"blue\",\"red\",\"blue\",\"blue\",\"blue\",\"red\",\"red\",\"red\",\"blue\",\"blue\",\"red\",\"red\",\"blue\",\"red\",\"blue\",\"blue\",\"red\",\"blue\",\"blue\",\"red\",\"red\",\"red\",\"red\",\"red\",\"red\",\"blue\",\"red\",\"red\",\"blue\",\"blue\",\"red\",\"blue\",\"blue\",\"blue\",\"red\",\"blue\",\"blue\",\"blue\",\"blue\",\"blue\",\"red\",\"red\",\"red\",\"red\",\"red\",\"red\",\"blue\",\"blue\",\"red\",\"red\",\"red\",\"blue\",\"red\",\"blue\",\"blue\",\"red\",\"blue\",\"blue\",\"red\",\"blue\",\"red\",\"red\",\"blue\",\"red\",\"red\",\"blue\",\"blue\",\"blue\",\"red\",\"red\",\"red\",\"blue\",\"blue\",\"red\",\"blue\",\"blue\",\"blue\",\"red\",\"red\",\"red\",\"blue\",\"red\",\"red\",\"red\",\"blue\",\"blue\",\"red\",\"blue\",\"blue\",\"blue\",\"blue\",\"blue\",\"blue\",\"blue\",\"blue\",\"blue\",\"red\",\"blue\",\"red\",\"red\",\"blue\",\"blue\",\"red\",\"red\",\"blue\",\"blue\",\"blue\",\"red\"],\"x\":{\"__ndarray__\":\"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\",\"dtype\":\"float64\",\"order\":\"little\",\"shape\":[1280]},\"y\":{\"__ndarray__\":\"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\",\"dtype\":\"float64\",\"order\":\"little\",\"shape\":[1280]}},\"selected\":{\"id\":\"1046\"},\"selection_policy\":{\"id\":\"1047\"}},\"id\":\"1001\",\"type\":\"ColumnDataSource\"},{\"attributes\":{\"text\":\"\"},\"id\":\"1041\",\"type\":\"Title\"},{\"attributes\":{},\"id\":\"1024\",\"type\":\"HelpTool\"},{\"attributes\":{\"fill_alpha\":{\"value\":0.25},\"fill_color\":{\"field\":\"color\"},\"line_alpha\":{\"value\":0.25},\"line_color\":{\"field\":\"color\"},\"size\":{\"units\":\"screen\",\"value\":10},\"x\":{\"field\":\"x\"},\"y\":{\"field\":\"y\"}},\"id\":\"1034\",\"type\":\"Scatter\"},{\"attributes\":{\"overlay\":{\"id\":\"1025\"}},\"id\":\"1021\",\"type\":\"BoxZoomTool\"},{\"attributes\":{},\"id\":\"1020\",\"type\":\"WheelZoomTool\"},{\"attributes\":{},\"id\":\"1003\",\"type\":\"DataRange1d\"}],\"root_ids\":[\"1002\"]},\"title\":\"Bokeh Application\",\"version\":\"2.1.1\"}};\n",
       "  var render_items = [{\"docid\":\"309bc35e-186f-44f5-96e6-fcf8fa45941c\",\"root_ids\":[\"1002\"],\"roots\":{\"1002\":\"89a0635c-56c2-48de-991b-134f91882923\"}}];\n",
       "  root.Bokeh.embed.embed_items_notebook(docs_json, render_items);\n",
       "\n",
       "  }\n",
       "  if (root.Bokeh !== undefined) {\n",
       "    embed_document(root);\n",
       "  } else {\n",
       "    var attempts = 0;\n",
       "    var timer = setInterval(function(root) {\n",
       "      if (root.Bokeh !== undefined) {\n",
       "        clearInterval(timer);\n",
       "        embed_document(root);\n",
       "      } else {\n",
       "        attempts++;\n",
       "        if (attempts > 100) {\n",
       "          clearInterval(timer);\n",
       "          console.log(\"Bokeh: ERROR: Unable to run BokehJS code because BokehJS library is missing\");\n",
       "        }\n",
       "      }\n",
       "    }, 10, root)\n",
       "  }\n",
       "})(window);"
      ],
      "application/vnd.bokehjs_exec.v0+json": ""
     },
     "metadata": {
      "application/vnd.bokehjs_exec.v0+json": {
       "id": "1002"
      },
      "tags": []
     },
     "output_type": "display_data"
    },
    {
     "data": {
      "text/html": [
       "<div style=\"display: table;\"><div style=\"display: table-row;\"><div style=\"display: table-cell;\"><b title=\"bokeh.plotting.figure.Figure\">Figure</b>(</div><div style=\"display: table-cell;\">id&nbsp;=&nbsp;'1002', <span id=\"1104\" style=\"cursor: pointer;\">&hellip;)</span></div></div><div class=\"1103\" style=\"display: none;\"><div style=\"display: table-cell;\"></div><div style=\"display: table-cell;\">above&nbsp;=&nbsp;[],</div></div><div class=\"1103\" style=\"display: none;\"><div style=\"display: table-cell;\"></div><div style=\"display: table-cell;\">align&nbsp;=&nbsp;'start',</div></div><div class=\"1103\" style=\"display: none;\"><div style=\"display: table-cell;\"></div><div style=\"display: table-cell;\">aspect_ratio&nbsp;=&nbsp;None,</div></div><div class=\"1103\" style=\"display: none;\"><div style=\"display: table-cell;\"></div><div style=\"display: table-cell;\">aspect_scale&nbsp;=&nbsp;1,</div></div><div class=\"1103\" style=\"display: none;\"><div style=\"display: table-cell;\"></div><div style=\"display: table-cell;\">background&nbsp;=&nbsp;None,</div></div><div class=\"1103\" style=\"display: none;\"><div style=\"display: table-cell;\"></div><div style=\"display: table-cell;\">background_fill_alpha&nbsp;=&nbsp;1.0,</div></div><div class=\"1103\" style=\"display: none;\"><div style=\"display: table-cell;\"></div><div style=\"display: table-cell;\">background_fill_color&nbsp;=&nbsp;'#ffffff',</div></div><div class=\"1103\" style=\"display: none;\"><div style=\"display: table-cell;\"></div><div style=\"display: table-cell;\">below&nbsp;=&nbsp;[LinearAxis(id='1011', ...)],</div></div><div class=\"1103\" style=\"display: none;\"><div style=\"display: table-cell;\"></div><div style=\"display: table-cell;\">border_fill_alpha&nbsp;=&nbsp;1.0,</div></div><div class=\"1103\" style=\"display: none;\"><div style=\"display: table-cell;\"></div><div style=\"display: table-cell;\">border_fill_color&nbsp;=&nbsp;'#ffffff',</div></div><div class=\"1103\" style=\"display: none;\"><div style=\"display: table-cell;\"></div><div style=\"display: table-cell;\">center&nbsp;=&nbsp;[Grid(id='1014', ...), Grid(id='1018', ...)],</div></div><div class=\"1103\" style=\"display: none;\"><div style=\"display: table-cell;\"></div><div style=\"display: table-cell;\">css_classes&nbsp;=&nbsp;[],</div></div><div class=\"1103\" style=\"display: none;\"><div style=\"display: table-cell;\"></div><div style=\"display: table-cell;\">disabled&nbsp;=&nbsp;False,</div></div><div class=\"1103\" style=\"display: none;\"><div style=\"display: table-cell;\"></div><div style=\"display: table-cell;\">extra_x_ranges&nbsp;=&nbsp;{},</div></div><div class=\"1103\" style=\"display: none;\"><div style=\"display: table-cell;\"></div><div style=\"display: table-cell;\">extra_y_ranges&nbsp;=&nbsp;{},</div></div><div class=\"1103\" style=\"display: none;\"><div style=\"display: table-cell;\"></div><div style=\"display: table-cell;\">frame_height&nbsp;=&nbsp;None,</div></div><div class=\"1103\" style=\"display: none;\"><div style=\"display: table-cell;\"></div><div style=\"display: table-cell;\">frame_width&nbsp;=&nbsp;None,</div></div><div class=\"1103\" style=\"display: none;\"><div style=\"display: table-cell;\"></div><div style=\"display: table-cell;\">height&nbsp;=&nbsp;None,</div></div><div class=\"1103\" style=\"display: none;\"><div style=\"display: table-cell;\"></div><div style=\"display: table-cell;\">height_policy&nbsp;=&nbsp;'auto',</div></div><div class=\"1103\" style=\"display: none;\"><div style=\"display: table-cell;\"></div><div style=\"display: table-cell;\">hidpi&nbsp;=&nbsp;True,</div></div><div class=\"1103\" style=\"display: none;\"><div style=\"display: table-cell;\"></div><div style=\"display: table-cell;\">js_event_callbacks&nbsp;=&nbsp;{},</div></div><div class=\"1103\" style=\"display: none;\"><div style=\"display: table-cell;\"></div><div style=\"display: table-cell;\">js_property_callbacks&nbsp;=&nbsp;{},</div></div><div class=\"1103\" style=\"display: none;\"><div style=\"display: table-cell;\"></div><div style=\"display: table-cell;\">left&nbsp;=&nbsp;[LinearAxis(id='1015', ...)],</div></div><div class=\"1103\" style=\"display: none;\"><div style=\"display: table-cell;\"></div><div style=\"display: table-cell;\">lod_factor&nbsp;=&nbsp;10,</div></div><div class=\"1103\" style=\"display: none;\"><div style=\"display: table-cell;\"></div><div style=\"display: table-cell;\">lod_interval&nbsp;=&nbsp;300,</div></div><div class=\"1103\" style=\"display: none;\"><div style=\"display: table-cell;\"></div><div style=\"display: table-cell;\">lod_threshold&nbsp;=&nbsp;2000,</div></div><div class=\"1103\" style=\"display: none;\"><div style=\"display: table-cell;\"></div><div style=\"display: table-cell;\">lod_timeout&nbsp;=&nbsp;500,</div></div><div class=\"1103\" style=\"display: none;\"><div style=\"display: table-cell;\"></div><div style=\"display: table-cell;\">margin&nbsp;=&nbsp;(0, 0, 0, 0),</div></div><div class=\"1103\" style=\"display: none;\"><div style=\"display: table-cell;\"></div><div style=\"display: table-cell;\">match_aspect&nbsp;=&nbsp;False,</div></div><div class=\"1103\" style=\"display: none;\"><div style=\"display: table-cell;\"></div><div style=\"display: table-cell;\">max_height&nbsp;=&nbsp;None,</div></div><div class=\"1103\" style=\"display: none;\"><div style=\"display: table-cell;\"></div><div style=\"display: table-cell;\">max_width&nbsp;=&nbsp;None,</div></div><div class=\"1103\" style=\"display: none;\"><div style=\"display: table-cell;\"></div><div style=\"display: table-cell;\">min_border&nbsp;=&nbsp;5,</div></div><div class=\"1103\" style=\"display: none;\"><div style=\"display: table-cell;\"></div><div style=\"display: table-cell;\">min_border_bottom&nbsp;=&nbsp;None,</div></div><div class=\"1103\" style=\"display: none;\"><div style=\"display: table-cell;\"></div><div style=\"display: table-cell;\">min_border_left&nbsp;=&nbsp;None,</div></div><div class=\"1103\" style=\"display: none;\"><div style=\"display: table-cell;\"></div><div style=\"display: table-cell;\">min_border_right&nbsp;=&nbsp;None,</div></div><div class=\"1103\" style=\"display: none;\"><div style=\"display: table-cell;\"></div><div style=\"display: table-cell;\">min_border_top&nbsp;=&nbsp;None,</div></div><div class=\"1103\" style=\"display: none;\"><div style=\"display: table-cell;\"></div><div style=\"display: table-cell;\">min_height&nbsp;=&nbsp;None,</div></div><div class=\"1103\" style=\"display: none;\"><div style=\"display: table-cell;\"></div><div style=\"display: table-cell;\">min_width&nbsp;=&nbsp;None,</div></div><div class=\"1103\" style=\"display: none;\"><div style=\"display: table-cell;\"></div><div style=\"display: table-cell;\">name&nbsp;=&nbsp;None,</div></div><div class=\"1103\" style=\"display: none;\"><div style=\"display: table-cell;\"></div><div style=\"display: table-cell;\">outline_line_alpha&nbsp;=&nbsp;1.0,</div></div><div class=\"1103\" style=\"display: none;\"><div style=\"display: table-cell;\"></div><div style=\"display: table-cell;\">outline_line_cap&nbsp;=&nbsp;'butt',</div></div><div class=\"1103\" style=\"display: none;\"><div style=\"display: table-cell;\"></div><div style=\"display: table-cell;\">outline_line_color&nbsp;=&nbsp;'#e5e5e5',</div></div><div class=\"1103\" style=\"display: none;\"><div style=\"display: table-cell;\"></div><div style=\"display: table-cell;\">outline_line_dash&nbsp;=&nbsp;[],</div></div><div class=\"1103\" style=\"display: none;\"><div style=\"display: table-cell;\"></div><div style=\"display: table-cell;\">outline_line_dash_offset&nbsp;=&nbsp;0,</div></div><div class=\"1103\" style=\"display: none;\"><div style=\"display: table-cell;\"></div><div style=\"display: table-cell;\">outline_line_join&nbsp;=&nbsp;'bevel',</div></div><div class=\"1103\" style=\"display: none;\"><div style=\"display: table-cell;\"></div><div style=\"display: table-cell;\">outline_line_width&nbsp;=&nbsp;1,</div></div><div class=\"1103\" style=\"display: none;\"><div style=\"display: table-cell;\"></div><div style=\"display: table-cell;\">output_backend&nbsp;=&nbsp;'canvas',</div></div><div class=\"1103\" style=\"display: none;\"><div style=\"display: table-cell;\"></div><div style=\"display: table-cell;\">plot_height&nbsp;=&nbsp;400,</div></div><div class=\"1103\" style=\"display: none;\"><div style=\"display: table-cell;\"></div><div style=\"display: table-cell;\">plot_width&nbsp;=&nbsp;600,</div></div><div class=\"1103\" style=\"display: none;\"><div style=\"display: table-cell;\"></div><div style=\"display: table-cell;\">renderers&nbsp;=&nbsp;[GlyphRenderer(id='1036', ...)],</div></div><div class=\"1103\" style=\"display: none;\"><div style=\"display: table-cell;\"></div><div style=\"display: table-cell;\">reset_policy&nbsp;=&nbsp;'standard',</div></div><div class=\"1103\" style=\"display: none;\"><div style=\"display: table-cell;\"></div><div style=\"display: table-cell;\">right&nbsp;=&nbsp;[],</div></div><div class=\"1103\" style=\"display: none;\"><div style=\"display: table-cell;\"></div><div style=\"display: table-cell;\">sizing_mode&nbsp;=&nbsp;None,</div></div><div class=\"1103\" style=\"display: none;\"><div style=\"display: table-cell;\"></div><div style=\"display: table-cell;\">subscribed_events&nbsp;=&nbsp;[],</div></div><div class=\"1103\" style=\"display: none;\"><div style=\"display: table-cell;\"></div><div style=\"display: table-cell;\">tags&nbsp;=&nbsp;[],</div></div><div class=\"1103\" style=\"display: none;\"><div style=\"display: table-cell;\"></div><div style=\"display: table-cell;\">title&nbsp;=&nbsp;Title(id='1041', ...),</div></div><div class=\"1103\" style=\"display: none;\"><div style=\"display: table-cell;\"></div><div style=\"display: table-cell;\">title_location&nbsp;=&nbsp;'above',</div></div><div class=\"1103\" style=\"display: none;\"><div style=\"display: table-cell;\"></div><div style=\"display: table-cell;\">toolbar&nbsp;=&nbsp;Toolbar(id='1026', ...),</div></div><div class=\"1103\" style=\"display: none;\"><div style=\"display: table-cell;\"></div><div style=\"display: table-cell;\">toolbar_location&nbsp;=&nbsp;'right',</div></div><div class=\"1103\" style=\"display: none;\"><div style=\"display: table-cell;\"></div><div style=\"display: table-cell;\">toolbar_sticky&nbsp;=&nbsp;True,</div></div><div class=\"1103\" style=\"display: none;\"><div style=\"display: table-cell;\"></div><div style=\"display: table-cell;\">visible&nbsp;=&nbsp;True,</div></div><div class=\"1103\" style=\"display: none;\"><div style=\"display: table-cell;\"></div><div style=\"display: table-cell;\">width&nbsp;=&nbsp;None,</div></div><div class=\"1103\" style=\"display: none;\"><div style=\"display: table-cell;\"></div><div style=\"display: table-cell;\">width_policy&nbsp;=&nbsp;'auto',</div></div><div class=\"1103\" style=\"display: none;\"><div style=\"display: table-cell;\"></div><div style=\"display: table-cell;\">x_range&nbsp;=&nbsp;DataRange1d(id='1003', ...),</div></div><div class=\"1103\" style=\"display: none;\"><div style=\"display: table-cell;\"></div><div style=\"display: table-cell;\">x_scale&nbsp;=&nbsp;LinearScale(id='1007', ...),</div></div><div class=\"1103\" style=\"display: none;\"><div style=\"display: table-cell;\"></div><div style=\"display: table-cell;\">y_range&nbsp;=&nbsp;DataRange1d(id='1005', ...),</div></div><div class=\"1103\" style=\"display: none;\"><div style=\"display: table-cell;\"></div><div style=\"display: table-cell;\">y_scale&nbsp;=&nbsp;LinearScale(id='1009', ...))</div></div></div>\n",
       "<script>\n",
       "(function() {\n",
       "  var expanded = false;\n",
       "  var ellipsis = document.getElementById(\"1104\");\n",
       "  ellipsis.addEventListener(\"click\", function() {\n",
       "    var rows = document.getElementsByClassName(\"1103\");\n",
       "    for (var i = 0; i < rows.length; i++) {\n",
       "      var el = rows[i];\n",
       "      el.style.display = expanded ? \"none\" : \"table-row\";\n",
       "    }\n",
       "    ellipsis.innerHTML = expanded ? \"&hellip;)\" : \"&lsaquo;&lsaquo;&lsaquo;\";\n",
       "    expanded = !expanded;\n",
       "  });\n",
       "})();\n",
       "</script>\n"
      ],
      "text/plain": [
       "Figure(id='1002', ...)"
      ]
     },
     "execution_count": 26,
     "metadata": {
      "tags": []
     },
     "output_type": "execute_result"
    },
    {
     "name": "stdout",
     "output_type": "stream",
     "text": [
      "time: 55.3 ms\n"
     ]
    }
   ],
   "source": [
    "draw_vectors(\n",
    "    examples[\"transformed_features\"][:, 0], \n",
    "    examples[\"transformed_features\"][:, 1], \n",
    "    color=[[\"red\", \"blue\"][t] for t in examples[\"targets\"]]\n",
    "    )"
   ]
  },
  {
   "cell_type": "markdown",
   "metadata": {
    "id": "0fNF6LRQ9MPI"
   },
   "source": [
    "Скорее всего, ты увидел не сильно различающиеся классы. Возможно, обычный линейный классификатор не очень хорошо справится с задачей. Надо будет делать глубокую(хотя бы два слоя) нейронную сеть.\n",
    "\n",
    "Подготовим загрузчики данных.\n",
    "Усреднее векторов будем делать в \"батчевалке\"(`collate_fn`). Она используется для того, чтобы собирать из данных `torch.Tensor` батчи, которые можно отправлять в модель.\n"
   ]
  },
  {
   "cell_type": "markdown",
   "metadata": {
    "id": "DUcCeW_zZuMj"
   },
   "source": [
    "> Да так и есть"
   ]
  },
  {
   "cell_type": "code",
   "execution_count": 30,
   "metadata": {
    "colab": {
     "base_uri": "https://localhost:8080/",
     "height": 34
    },
    "id": "y1XapsADtITv",
    "outputId": "24f1d43d-ccca-490f-f887-37f6c76c7a2a"
   },
   "outputs": [
    {
     "name": "stdout",
     "output_type": "stream",
     "text": [
      "time: 128 ms\n"
     ]
    }
   ],
   "source": [
    "batch_size = 1024\n",
    "num_workers = 4\n",
    "\n",
    "def average_emb(batch):\n",
    "    features = [np.mean(b[\"feature\"], axis=0) for b in batch]\n",
    "    targets = [b[\"target\"] for b in batch]\n",
    "\n",
    "    return {\"features\": torch.FloatTensor(features), \"targets\": torch.LongTensor(targets)}\n",
    "\n",
    "\n",
    "train_size = math.ceil(len(dev) * 0.8)\n",
    "\n",
    "train, valid = random_split(dev, [train_size, len(dev) - train_size])\n",
    "\n",
    "train_loader = DataLoader(train, batch_size=batch_size, num_workers=num_workers, shuffle=True, drop_last=True, collate_fn=average_emb)\n",
    "valid_loader = DataLoader(valid, batch_size=batch_size, num_workers=num_workers, shuffle=False, drop_last=False, collate_fn=average_emb)"
   ]
  },
  {
   "cell_type": "markdown",
   "metadata": {
    "id": "p-zs0WEK-Vkt"
   },
   "source": [
    "Для обученния и тестирования нейросетевой модели сделаем отдельные функции."
   ]
  },
  {
   "cell_type": "code",
   "execution_count": 34,
   "metadata": {
    "colab": {
     "base_uri": "https://localhost:8080/",
     "height": 34
    },
    "id": "U--T2Gjw1r27",
    "outputId": "cedd2da9-b914-4891-c782-bc87d359e1fd"
   },
   "outputs": [
    {
     "name": "stdout",
     "output_type": "stream",
     "text": [
      "time: 40.8 ms\n"
     ]
    }
   ],
   "source": [
    "def accuracy(outputs, labels):\n",
    "    predicted = torch.argmax(outputs, dim=1)\n",
    "    return torch.mean(torch.eq(predicted, labels).float()).item()\n",
    "\n",
    "def training(model, optimizer, criterion, train_loader, epoch, device=\"cpu\", scheduler=None):\n",
    "    pbar = tqdm(train_loader, desc=f\"Epoch {e + 1}. Train Loss: {0}\")\n",
    "    model.train()\n",
    "    for i, batch in enumerate(pbar):\n",
    "        features = batch[\"features\"].to(device)\n",
    "        targets = batch[\"targets\"].float().unsqueeze(1).to(device)\n",
    "\n",
    "        model.zero_grad()\n",
    "        outputs = model(features)\n",
    "        loss = criterion(outputs, targets)\n",
    "        loss.backward()\n",
    "        torch.nn.utils.clip_grad_norm_(model.parameters(), 1.0)\n",
    "        optimizer.step()\n",
    "        if scheduler is not None: scheduler.step()\n",
    "        optimizer.zero_grad()\n",
    "\n",
    "        acc = accuracy(outputs, targets)\n",
    "\n",
    "        pbar.set_description(f\"Epoch:{e + 1}.Train Loss:{loss:.4} Acc:{acc:.4}\")\n",
    "        \n",
    "        if i%100==0:gc.collect();torch.cuda.empty_cache();\n",
    "    \n",
    "\n",
    "def testing(model, criterion, test_loader, device=\"cpu\"):\n",
    "    pbar = tqdm(test_loader, desc=f\"Test Loss: {0}, Test Acc: {0}\")\n",
    "    mean_loss = 0\n",
    "    mean_acc = 0\n",
    "    model.eval()\n",
    "    with torch.no_grad():\n",
    "        for batch in pbar:\n",
    "            features = batch[\"features\"].to(device)\n",
    "            targets = batch[\"targets\"].float().to(device)\n",
    "\n",
    "            outputs = model(features)\n",
    "            loss = criterion(outputs, targets)\n",
    "            acc = accuracy(outputs, targets)\n",
    "\n",
    "            mean_loss += loss.item()\n",
    "            mean_acc += acc\n",
    "\n",
    "            pbar.set_description(f\"Test Loss: {loss:.4}, Test Acc: {acc:.4}\")\n",
    "\n",
    "    pbar.set_description(f\"Test Loss: {mean_loss / len(test_loader):.4}, Test Acc: {mean_acc / len(test_loader):.4}\")\n",
    "\n",
    "    return {\"Test Loss\": mean_loss / len(test_loader), \"Test Acc\": mean_acc / len(test_loader)}"
   ]
  },
  {
   "cell_type": "markdown",
   "metadata": {
    "id": "oVg_XBBb-YBH"
   },
   "source": [
    "Создадим модель, оптимизатор и целевую функцию. Можете создавать любую модель, с любым количеством слоев, функций активации и прочее.\n"
   ]
  },
  {
   "cell_type": "markdown",
   "metadata": {
    "id": "-AitU8AR-zBj"
   },
   "source": [
    "Обучим модель и протестируем её.\n",
    "После каждой эпохи, проверим качество модели по валидационной части датасета. Если метрика стала лучше, будем сохранять модель. Подумай, какая метрика (точность или лосс) будет лучше работать в этой задаче? \n",
    "\n",
    "Здесь и далее реализованно с помощью лосс. Если думаешь, что лучше сравнивать модель через качество, то поменяй код выбора модели."
   ]
  },
  {
   "cell_type": "markdown",
   "metadata": {
    "id": "FSti3cZHLXg4"
   },
   "source": [
    "### Linear"
   ]
  },
  {
   "cell_type": "code",
   "execution_count": 32,
   "metadata": {
    "colab": {
     "base_uri": "https://localhost:8080/",
     "height": 34
    },
    "id": "DtPWJ57E0TKw",
    "outputId": "ac36750f-d01a-415b-f3f0-a9a94910f491"
   },
   "outputs": [
    {
     "name": "stdout",
     "output_type": "stream",
     "text": [
      "time: 4.1 ms\n"
     ]
    }
   ],
   "source": [
    "class LinearModel(nn.Module):\n",
    "\n",
    "    def __init__(self, vector_size, num_classes):\n",
    "        super(LinearModel, self).__init__()\n",
    "        self.fc1 = nn.Linear(vector_size, 128)\n",
    "        self.fc2 = nn.Linear(128, num_classes)\n",
    "\n",
    "    def forward(self, X):\n",
    "        out = F.relu(self.fc1(X))\n",
    "        out = F.relu(self.fc2(out))\n",
    "        return out"
   ]
  },
  {
   "cell_type": "code",
   "execution_count": 35,
   "metadata": {
    "colab": {
     "base_uri": "https://localhost:8080/",
     "height": 264,
     "referenced_widgets": [
      "6d65fb3a107641498ec188e1ef96546d",
      "1986f9bc410e4b6daaef7d3da5fd51b9",
      "f1b0d6a2e53d432e808612475e947898",
      "2e940013e4154a4d8efe41f6ea43729c",
      "45d1d6e0951a4a6a9485baa4c2eb6e05",
      "297c693739804a70b9b4241875a88c0a",
      "c02ec6efb8224e3bb643b4c7840dc591",
      "232a4e8adc204b608f2a0db304388c04",
      "f66c8c1cf7b8476c84bdcbdac7118a03",
      "cb84c25e2cbd40e284a0046304f7d172",
      "be51bba54ec94e4d8761193df845ee56",
      "fa2e792936e54673b4227b6a07348605",
      "9f5a7908f6b04bb4a3a2a6c79da960d2",
      "acbc762d9f714c549413c7d676205f85",
      "3d5247cc1a554e13a901faf7bd78ea42",
      "98e7e7162f734c318e5977650ce8a721",
      "9056898f8f394568ad17f7deedfa3885",
      "a7efbdfae4a04ba2968aceaccf8541da",
      "f263a027ef154410be6444d642cb29f3",
      "e4c030d05f4844aea08159a942f6f82c",
      "f81804fdb7bf4f118b577f69e875f7c3",
      "3c04fbaa60584b858f4e663ec460abcb",
      "c906e82618c14a9bb757a038ad40ebec",
      "16fcab3050194b5da21d4aaa316033f5",
      "34125a4f78f14135bf1e92ddc8cdd12a",
      "bc0bb083b6e147e1ae5e74e1d4185601",
      "2736419a6b0d48758f6a79a60fb3eb25",
      "163a98f89e2743b9aa33fb0db1d469b8",
      "9f68c7a540734993854d33b0255f9f97",
      "60d64301274b4b68983f12d9df8a50dc",
      "60f97517b57448eea14bafe69b48afc4",
      "98d17a367cb646e9b2b0fecc6671e569"
     ]
    },
    "id": "X-7IdysESKb2",
    "outputId": "47636b61-402d-4aea-d420-144f3ca0c698"
   },
   "outputs": [
    {
     "data": {
      "application/vnd.jupyter.widget-view+json": {
       "model_id": "6d65fb3a107641498ec188e1ef96546d",
       "version_major": 2,
       "version_minor": 0
      },
      "text/plain": [
       "HBox(children=(FloatProgress(value=0.0, description='Epoch 1. Train Loss: 0', max=1000.0, style=ProgressStyle(…"
      ]
     },
     "metadata": {
      "tags": []
     },
     "output_type": "display_data"
    },
    {
     "name": "stdout",
     "output_type": "stream",
     "text": [
      "\n"
     ]
    },
    {
     "data": {
      "application/vnd.jupyter.widget-view+json": {
       "model_id": "f66c8c1cf7b8476c84bdcbdac7118a03",
       "version_major": 2,
       "version_minor": 0
      },
      "text/plain": [
       "HBox(children=(FloatProgress(value=0.0, description='Test Loss: 0, Test Acc: 0', max=250.0, style=ProgressStyl…"
      ]
     },
     "metadata": {
      "tags": []
     },
     "output_type": "display_data"
    },
    {
     "name": "stdout",
     "output_type": "stream",
     "text": [
      "\n",
      "{'Test Loss': 0.16390105998516083, 'Test Acc': 0.49966796875}\n"
     ]
    },
    {
     "data": {
      "application/vnd.jupyter.widget-view+json": {
       "model_id": "9056898f8f394568ad17f7deedfa3885",
       "version_major": 2,
       "version_minor": 0
      },
      "text/plain": [
       "HBox(children=(FloatProgress(value=0.0, description='Epoch 2. Train Loss: 0', max=1000.0, style=ProgressStyle(…"
      ]
     },
     "metadata": {
      "tags": []
     },
     "output_type": "display_data"
    },
    {
     "name": "stdout",
     "output_type": "stream",
     "text": [
      "\n"
     ]
    },
    {
     "data": {
      "application/vnd.jupyter.widget-view+json": {
       "model_id": "34125a4f78f14135bf1e92ddc8cdd12a",
       "version_major": 2,
       "version_minor": 0
      },
      "text/plain": [
       "HBox(children=(FloatProgress(value=0.0, description='Test Loss: 0, Test Acc: 0', max=250.0, style=ProgressStyl…"
      ]
     },
     "metadata": {
      "tags": []
     },
     "output_type": "display_data"
    },
    {
     "name": "stdout",
     "output_type": "stream",
     "text": [
      "\n",
      "{'Test Loss': 0.16726750802993776, 'Test Acc': 0.49966796875}\n",
      "time: 3min 4s\n"
     ]
    }
   ],
   "source": [
    "vector_size = dev.word2vec.vector_size\n",
    "num_classes = 1\n",
    "lr = 1e-2\n",
    "num_epochs = 2\n",
    "\n",
    "model = LinearModel(vector_size=vector_size, num_classes=num_classes)\n",
    "model = model.cuda()\n",
    "\n",
    "criterion = nn.SmoothL1Loss()\n",
    "optimizer = torch.optim.Adam(model.parameters())\n",
    "total_steps = len(train_loader) * num_epochs\n",
    "scheduler = get_linear_schedule_with_warmup(optimizer,\n",
    "                                        num_warmup_steps=0,\n",
    "                                        num_training_steps=total_steps)\n",
    "\n",
    "best_metric = np.inf\n",
    "for e in range(num_epochs):\n",
    "    training(model, optimizer, criterion, train_loader, e, device, scheduler)\n",
    "    log = testing(model, criterion, valid_loader, device)\n",
    "    print(log)\n",
    "    if log[\"Test Loss\"] < best_metric:\n",
    "        torch.save(model.state_dict(), \"model.pt\")\n",
    "        best_metric = log[\"Test Loss\"]"
   ]
  },
  {
   "cell_type": "markdown",
   "metadata": {
    "id": "yLyV7aQzLK7G"
   },
   "source": [
    "### LSTM\n"
   ]
  },
  {
   "cell_type": "code",
   "execution_count": 39,
   "metadata": {
    "colab": {
     "base_uri": "https://localhost:8080/",
     "height": 34
    },
    "id": "6kk5skduJ5Zc",
    "outputId": "def8cc21-a1e4-4619-ed20-f8093f1b58a2"
   },
   "outputs": [
    {
     "name": "stdout",
     "output_type": "stream",
     "text": [
      "time: 9.79 ms\n"
     ]
    }
   ],
   "source": [
    "class ClassifierLSTM(nn.Module):\n",
    "    \n",
    "    def __init__(self, embedding_dim, n_hidden, n_output, n_layers, drop_p = 0.1):\n",
    "        super(ClassifierLSTM, self).__init__()\n",
    "        \n",
    "        self.n_layers = n_layers   \n",
    "        self.n_hidden = n_hidden   \n",
    "        self.embedding_dim = embedding_dim\n",
    "        self.lstm = nn.LSTM(self.embedding_dim, n_hidden, n_layers, batch_first = True, dropout = drop_p)\n",
    "        self.classifier = nn.Sequential( nn.Dropout(drop_p),\n",
    "                                         nn.Linear(n_hidden, 1),\n",
    "                                         nn.Sigmoid() )\n",
    "        \n",
    "        \n",
    "    def forward (self, inputs):\n",
    "        out, _ = self.lstm(inputs.unsqueeze(1), None)\n",
    "        out = out[:, -1, :] \n",
    "        out = self.classifier(out)\n",
    "        return out"
   ]
  },
  {
   "cell_type": "code",
   "execution_count": 40,
   "metadata": {
    "colab": {
     "base_uri": "https://localhost:8080/",
     "height": 609,
     "referenced_widgets": [
      "8a71a68af73c4fd4a9e8373387dbb68b",
      "5866ff25e89347cfb0d460d716ebc139",
      "00d3c85d4b9847ca862d946969ac1179",
      "ae605cd89bdb44a8b14ac07d967f1ccc",
      "af15c2a444ce473190ea3506e448b00e",
      "223d8391ac7d4dfebbcc519796d144ee",
      "d2bbc4b8993943d3ba36423b1755fc23",
      "443644605ce145959b9fa4eca412248c",
      "01ce8a24a25a42449f08e61367411ce5",
      "9d25dbab0c9244368cd278bc4585d4c0",
      "a3b8961b95b4425aa7f84e71aecf54c8",
      "950bd9610ef94ec59d7085f1748031c0",
      "eaabaf79fff44eca8d22b1efdc1f6214",
      "e239ed3e5a944eefa5ffdb72a40aa167",
      "2f3ca3600076450db01dd2b9d58cd4f4",
      "7cc77193557a4930a178230aac68b6ae",
      "075b75fd06084e64835dc8b68124c725",
      "ad68e8b6bdc745ad89c215189a49e21c",
      "b5a4cad2b333402994e640c09a216ba1",
      "27e1585aeb2b45ac9466a18eae24c34d",
      "e19f5abacfcf4d57a51b6b4e2b1e3cc6",
      "fa5c4573088b46948285e0d344d77261",
      "27d836760c1e481a9c67c9ccd7f4d4c7",
      "5e2d6dc87bf6474e9dea13b044c23bbf",
      "a8909e3c255c4b079878bd1d642a0071",
      "43cf54418f8c47848fc0317cbe00efa9",
      "f17163989d57435c8f0fd88be0d4940e",
      "1af05d70ead345e3be76c1f37aa692a1",
      "6bde6933afe842428fe71c59cfbd150c",
      "d28925c000de4913bcfa6a4f36725a9f",
      "deff2607e47e4063820f926cfd73ad70",
      "19d66ec4cac64ecab5300a18531531ee",
      "ff9bdabce68648e3868c18008c98e156",
      "743b4f758572444887a570a5b19d7bf3",
      "e5d2ccdd08284034b2215857fad3bfa4",
      "2b32331cb9f94a7a85317093c12ce641",
      "d94e8d5f44d947e5b1899bed73f3f832",
      "79560b7f98df446fb9c32dc28201c18e",
      "370500356b284c8da92c466186a9f1cf",
      "31185cab02a24df582fbb9d61d0b0da8",
      "4c368561539b4747995c0380bddaa828",
      "018d65f1ddf64cc1ae43bd6e76112369",
      "273c429837a04d18acc8ec3736a3da1d",
      "88cfeebf2efb4ba781da44bd5e20f069",
      "d84e5e374663408b94c0dda42fe5329d",
      "8cb3f9dde1b64ecda3f1038e3dec5c08",
      "a3b770e43a9549f1a37b373e3a8d440c",
      "e98b04141d344561bd377beb579d9c4f",
      "78e96214f874441eba102b29a61f22fb",
      "e77a09fda98c443b95b1b730bce83bfa",
      "a44e27b0dcdb473991b14664190e17ca",
      "deec4dcaa8a04b4998f0e5c9eff2fcea",
      "13827ecea7434357b272e4e3dc9b5e7f",
      "3721d0404e6e4a8095071ba709546317",
      "39699517aa6d49598954ee11a31e63cb",
      "17d50e64d46f448ebc26ff8819ca5d7e",
      "898c019d4ff74ba5a97e44e9cc76383a",
      "9279dacd133f4ef183a3279de71529b1",
      "3cf1fae5e52f4ab584eedaea9ccfc401",
      "42e05330a0e14b2daf423fa1e34b52a0",
      "f27988f4a8fd41e4a31ce7360292ef07",
      "8b0b2dce37b040adaa7bc7bfe4f115b2",
      "2816c25e30c6495c977fe8f890d624a8",
      "c822d0f26e7a4c57b49fdbbfc4ee2de8",
      "58484700e6b0442793464ff7e4141ac4",
      "db3a6cdf77e74ce88ca68b3a424ad848",
      "a938376cc5bb425194811f9e17c89ab9",
      "69f6ceaad90749cdbd45c7470e47b98e",
      "d30578395e9148fb8f87d20d21b7232b",
      "7b515eeb11ca4d54a03699b63718bc9f",
      "d2e4cca4b2b046599c66d4b52ca295fa",
      "79e8ebe3f0504077a5dccaa32e2b9f1e",
      "f16688096c9e47b2b3e49372fff15c58",
      "0a163c5f2ecf4fe894c3959d3a1d751e",
      "25ec7b9721f847e88bfce8ff36a173f7",
      "dc9bcc0f5a31498a8dea1ffc2664aea0",
      "57877582f9d641c8840e554657e5f74b",
      "36476e6af9de40848ba3e50d670fbcba",
      "eba75ba69c494ee7ae5fe9ca9baaf965",
      "369e857f65c64c0395745b2b1cb5475d"
     ]
    },
    "id": "MsiQnKA5J8cG",
    "outputId": "e4fb5eb4-dac8-4555-e9bb-b4ebb0baaba6"
   },
   "outputs": [
    {
     "data": {
      "application/vnd.jupyter.widget-view+json": {
       "model_id": "8a71a68af73c4fd4a9e8373387dbb68b",
       "version_major": 2,
       "version_minor": 0
      },
      "text/plain": [
       "HBox(children=(FloatProgress(value=0.0, description='Epoch 1. Train Loss: 0', max=1000.0, style=ProgressStyle(…"
      ]
     },
     "metadata": {
      "tags": []
     },
     "output_type": "display_data"
    },
    {
     "name": "stdout",
     "output_type": "stream",
     "text": [
      "\n"
     ]
    },
    {
     "data": {
      "application/vnd.jupyter.widget-view+json": {
       "model_id": "01ce8a24a25a42449f08e61367411ce5",
       "version_major": 2,
       "version_minor": 0
      },
      "text/plain": [
       "HBox(children=(FloatProgress(value=0.0, description='Test Loss: 0, Test Acc: 0', max=250.0, style=ProgressStyl…"
      ]
     },
     "metadata": {
      "tags": []
     },
     "output_type": "display_data"
    },
    {
     "name": "stdout",
     "output_type": "stream",
     "text": [
      "\n",
      "{'Test Loss': 0.5527697100639343, 'Test Acc': 0.49966796875}\n"
     ]
    },
    {
     "data": {
      "application/vnd.jupyter.widget-view+json": {
       "model_id": "075b75fd06084e64835dc8b68124c725",
       "version_major": 2,
       "version_minor": 0
      },
      "text/plain": [
       "HBox(children=(FloatProgress(value=0.0, description='Epoch 2. Train Loss: 0', max=1000.0, style=ProgressStyle(…"
      ]
     },
     "metadata": {
      "tags": []
     },
     "output_type": "display_data"
    },
    {
     "name": "stdout",
     "output_type": "stream",
     "text": [
      "\n"
     ]
    },
    {
     "data": {
      "application/vnd.jupyter.widget-view+json": {
       "model_id": "a8909e3c255c4b079878bd1d642a0071",
       "version_major": 2,
       "version_minor": 0
      },
      "text/plain": [
       "HBox(children=(FloatProgress(value=0.0, description='Test Loss: 0, Test Acc: 0', max=250.0, style=ProgressStyl…"
      ]
     },
     "metadata": {
      "tags": []
     },
     "output_type": "display_data"
    },
    {
     "name": "stdout",
     "output_type": "stream",
     "text": [
      "\n",
      "{'Test Loss': 0.545788709640503, 'Test Acc': 0.49966796875}\n"
     ]
    },
    {
     "data": {
      "application/vnd.jupyter.widget-view+json": {
       "model_id": "ff9bdabce68648e3868c18008c98e156",
       "version_major": 2,
       "version_minor": 0
      },
      "text/plain": [
       "HBox(children=(FloatProgress(value=0.0, description='Epoch 3. Train Loss: 0', max=1000.0, style=ProgressStyle(…"
      ]
     },
     "metadata": {
      "tags": []
     },
     "output_type": "display_data"
    },
    {
     "name": "stdout",
     "output_type": "stream",
     "text": [
      "\n"
     ]
    },
    {
     "data": {
      "application/vnd.jupyter.widget-view+json": {
       "model_id": "4c368561539b4747995c0380bddaa828",
       "version_major": 2,
       "version_minor": 0
      },
      "text/plain": [
       "HBox(children=(FloatProgress(value=0.0, description='Test Loss: 0, Test Acc: 0', max=250.0, style=ProgressStyl…"
      ]
     },
     "metadata": {
      "tags": []
     },
     "output_type": "display_data"
    },
    {
     "name": "stdout",
     "output_type": "stream",
     "text": [
      "\n",
      "{'Test Loss': 0.5413245649337769, 'Test Acc': 0.49966796875}\n"
     ]
    },
    {
     "data": {
      "application/vnd.jupyter.widget-view+json": {
       "model_id": "78e96214f874441eba102b29a61f22fb",
       "version_major": 2,
       "version_minor": 0
      },
      "text/plain": [
       "HBox(children=(FloatProgress(value=0.0, description='Epoch 4. Train Loss: 0', max=1000.0, style=ProgressStyle(…"
      ]
     },
     "metadata": {
      "tags": []
     },
     "output_type": "display_data"
    },
    {
     "name": "stdout",
     "output_type": "stream",
     "text": [
      "\n"
     ]
    },
    {
     "data": {
      "application/vnd.jupyter.widget-view+json": {
       "model_id": "898c019d4ff74ba5a97e44e9cc76383a",
       "version_major": 2,
       "version_minor": 0
      },
      "text/plain": [
       "HBox(children=(FloatProgress(value=0.0, description='Test Loss: 0, Test Acc: 0', max=250.0, style=ProgressStyl…"
      ]
     },
     "metadata": {
      "tags": []
     },
     "output_type": "display_data"
    },
    {
     "name": "stdout",
     "output_type": "stream",
     "text": [
      "\n",
      "{'Test Loss': 0.5381483082771301, 'Test Acc': 0.49966796875}\n"
     ]
    },
    {
     "data": {
      "application/vnd.jupyter.widget-view+json": {
       "model_id": "58484700e6b0442793464ff7e4141ac4",
       "version_major": 2,
       "version_minor": 0
      },
      "text/plain": [
       "HBox(children=(FloatProgress(value=0.0, description='Epoch 5. Train Loss: 0', max=1000.0, style=ProgressStyle(…"
      ]
     },
     "metadata": {
      "tags": []
     },
     "output_type": "display_data"
    },
    {
     "name": "stdout",
     "output_type": "stream",
     "text": [
      "\n"
     ]
    },
    {
     "data": {
      "application/vnd.jupyter.widget-view+json": {
       "model_id": "f16688096c9e47b2b3e49372fff15c58",
       "version_major": 2,
       "version_minor": 0
      },
      "text/plain": [
       "HBox(children=(FloatProgress(value=0.0, description='Test Loss: 0, Test Acc: 0', max=250.0, style=ProgressStyl…"
      ]
     },
     "metadata": {
      "tags": []
     },
     "output_type": "display_data"
    },
    {
     "name": "stdout",
     "output_type": "stream",
     "text": [
      "\n",
      "{'Test Loss': 0.5336405010223388, 'Test Acc': 0.49966796875}\n",
      "time: 7min 55s\n"
     ]
    }
   ],
   "source": [
    "vector_size = dev.word2vec.vector_size\n",
    "num_classes = 2\n",
    "lr = 5e-5\n",
    "num_epochs = 5\n",
    "\n",
    "model = ClassifierLSTM(vector_size, n_hidden=512, n_output=1, n_layers=2)\n",
    "model = model.cuda()\n",
    "criterion = nn.BCELoss()\n",
    "total_steps = len(train_loader) * num_epochs\n",
    "optimizer = AdamW(model.parameters(),lr=5e-5,eps=1e-8)\n",
    "        \n",
    "scheduler = CosineAnnealingLR(optimizer, T_max=100)\n",
    "best_metric = np.inf\n",
    "for e in range(num_epochs):\n",
    "    training(model, optimizer, criterion, train_loader, e, device, scheduler=scheduler)\n",
    "    log = testing(model, criterion, valid_loader, device)\n",
    "    print(log)\n",
    "    if log[\"Test Loss\"] < best_metric:\n",
    "        torch.save(model.state_dict(), \"model.pt\")\n",
    "        best_metric = log[\"Test Loss\"]"
   ]
  },
  {
   "cell_type": "code",
   "execution_count": 41,
   "metadata": {
    "colab": {
     "base_uri": "https://localhost:8080/",
     "height": 100,
     "referenced_widgets": [
      "796e3a4383d94d1e9156875668cdd7bc",
      "d79c9d464fb745b48ec2b59497f9939c",
      "7c541fa0f54b46db8ae04cbac0686f89",
      "6dabbb8134ea40f18ea1dc6f9ee47f68",
      "1e240cc6eb8b466b95cca80af331b2b6",
      "2e456a7617bb42dc9e45a93853f01dfc",
      "24d53f602f5c40519ba7401c1e6f7029",
      "aabde53d0dbd406ba74629c1d7b2f13b"
     ]
    },
    "id": "0TBtfuuBLDi_",
    "outputId": "f7db4196-6e12-4f13-f983-587ac246b461"
   },
   "outputs": [
    {
     "data": {
      "application/vnd.jupyter.widget-view+json": {
       "model_id": "796e3a4383d94d1e9156875668cdd7bc",
       "version_major": 2,
       "version_minor": 0
      },
      "text/plain": [
       "HBox(children=(FloatProgress(value=0.0, description='Test Loss: 0, Test Acc: 0', max=313.0, style=ProgressStyl…"
      ]
     },
     "metadata": {
      "tags": []
     },
     "output_type": "display_data"
    },
    {
     "name": "stdout",
     "output_type": "stream",
     "text": [
      "\n",
      "{'Test Loss': 0.5325732929066728, 'Test Acc': 0.49990015974440893}\n",
      "time: 26 s\n"
     ]
    }
   ],
   "source": [
    "test_loader = DataLoader(\n",
    "    TwitterDataset(test_data, \"text\", \"emotion\", word2vec), \n",
    "    batch_size=batch_size, \n",
    "    num_workers=num_workers, \n",
    "    shuffle=False,\n",
    "    drop_last=False, \n",
    "    collate_fn=average_emb)\n",
    "\n",
    "model.load_state_dict(torch.load(\"model.pt\", map_location=device))\n",
    "\n",
    "print(testing(model, criterion, test_loader, device=device))"
   ]
  },
  {
   "cell_type": "markdown",
   "metadata": {
    "id": "TGhiep9Z-Ata"
   },
   "source": [
    "## TF-iDF\n",
    "---\n",
    "\n",
    "Вместо обычного усреднения эмбеддингов их можно дополнительно перевзвесить. Для этого воспользуемся алгоритмом `TD-iDF`. Он уже реализован в библиотеке `scikit-learn`, остается только его добавить в наш пайплайн."
   ]
  },
  {
   "cell_type": "code",
   "execution_count": 50,
   "metadata": {
    "colab": {
     "base_uri": "https://localhost:8080/",
     "height": 34
    },
    "id": "zCPPkqA_-CS9",
    "outputId": "566272de-e0f7-48b5-cf1c-e28e0f17bd5d"
   },
   "outputs": [
    {
     "name": "stdout",
     "output_type": "stream",
     "text": [
      "time: 17.2 ms\n"
     ]
    }
   ],
   "source": [
    "class TwitterDatasetTfIdf(TwitterDataset):\n",
    "    def __init__(self, data: pd.DataFrame, feature_column: str, target_column: str, word2vec: gensim.models.Word2Vec, weights: Dict[str, float] = None):\n",
    "        super().__init__(data, feature_column, target_column, word2vec)\n",
    "\n",
    "        if weights is None:\n",
    "            self.weights = self.get_tf_idf_()\n",
    "        else:\n",
    "            self.weights = weights\n",
    "\n",
    "    def get_embeddings_(self, tokens):\n",
    "        embeddings = [(self.word2vec.get_vector(token) - self.mean) / self.std  * self.weights.get(token, 1) for token in tokens if token in word2vec and len(token) > 3]\n",
    "\n",
    "        if len(embeddings) == 0:\n",
    "            embeddings = np.zeros((1, self.word2vec.vector_size))\n",
    "        else:\n",
    "            embeddings = np.array(embeddings)\n",
    "            if len(embeddings.shape) == 1:\n",
    "                embeddings = embeddings.reshape(-1, 1)\n",
    "\n",
    "        return embeddings\n",
    "\n",
    "    def get_tf_idf_(self):\n",
    "        # Надо обучить tfidf на очищенном тексте. Но он принимает только список текстов, а не список списка токенов. Надо превратить второе в первое\n",
    "        tokenized_texts = self.data[\"text\"].tolist()\n",
    "        tf_idf = TfidfVectorizer()\n",
    "        tf_idf.fit(tokenized_texts)\n",
    "        return dict(zip(tf_idf.get_feature_names(), tf_idf.idf_))\n"
   ]
  },
  {
   "cell_type": "code",
   "execution_count": 51,
   "metadata": {
    "colab": {
     "base_uri": "https://localhost:8080/",
     "height": 34
    },
    "id": "w0CtoHf_M7xY",
    "outputId": "3e023794-86e1-4d31-dd06-22187653d01a"
   },
   "outputs": [
    {
     "name": "stdout",
     "output_type": "stream",
     "text": [
      "time: 15.7 s\n"
     ]
    }
   ],
   "source": [
    "dev = TwitterDatasetTfIdf(dev_data, \"text\", \"emotion\", word2vec)"
   ]
  },
  {
   "cell_type": "markdown",
   "metadata": {
    "id": "S4WzviI8_Ofq"
   },
   "source": [
    "Посмотрим на сложность получившейся задачи используя визуализацию через `PCA`."
   ]
  },
  {
   "cell_type": "code",
   "execution_count": 52,
   "metadata": {
    "colab": {
     "base_uri": "https://localhost:8080/",
     "height": 51
    },
    "id": "eP0CgnM9M7wQ",
    "outputId": "cf587478-1d8f-4721-fd9d-5d71086c617e"
   },
   "outputs": [
    {
     "name": "stdout",
     "output_type": "stream",
     "text": [
      "1280\n",
      "time: 314 ms\n"
     ]
    }
   ],
   "source": [
    "indexes = np.arange(len(dev))\n",
    "np.random.shuffle(indexes)\n",
    "example_indexes = indexes[::1000]\n",
    "\n",
    "examples = {\"features\": [np.sum(dev[i][\"feature\"], axis=0) for i in example_indexes], \n",
    "            \"targets\": [dev[i][\"target\"] for i in example_indexes]}\n",
    "print(len(examples[\"features\"]))"
   ]
  },
  {
   "cell_type": "code",
   "execution_count": 53,
   "metadata": {
    "colab": {
     "base_uri": "https://localhost:8080/",
     "height": 34
    },
    "id": "E7wDp159TTG5",
    "outputId": "aa5fbb8a-e59c-4b8f-e0db-4f90639b367b"
   },
   "outputs": [
    {
     "name": "stdout",
     "output_type": "stream",
     "text": [
      "time: 23.5 ms\n"
     ]
    }
   ],
   "source": [
    "pca = PCA(n_components=2)\n",
    "examples[\"transformed_features\"] = pca.fit_transform(examples[\"features\"])"
   ]
  },
  {
   "cell_type": "code",
   "execution_count": 54,
   "metadata": {
    "colab": {
     "base_uri": "https://localhost:8080/",
     "height": 451
    },
    "id": "sKESl5wLTTFm",
    "outputId": "0e92d0bf-8ef8-4751-e660-193b64005bb6"
   },
   "outputs": [
    {
     "data": {
      "application/javascript": [
       "\n",
       "(function(root) {\n",
       "  function now() {\n",
       "    return new Date();\n",
       "  }\n",
       "\n",
       "  var force = true;\n",
       "\n",
       "  if (typeof root._bokeh_onload_callbacks === \"undefined\" || force === true) {\n",
       "    root._bokeh_onload_callbacks = [];\n",
       "    root._bokeh_is_loading = undefined;\n",
       "  }\n",
       "\n",
       "  var JS_MIME_TYPE = 'application/javascript';\n",
       "  var HTML_MIME_TYPE = 'text/html';\n",
       "  var EXEC_MIME_TYPE = 'application/vnd.bokehjs_exec.v0+json';\n",
       "  var CLASS_NAME = 'output_bokeh rendered_html';\n",
       "\n",
       "  /**\n",
       "   * Render data to the DOM node\n",
       "   */\n",
       "  function render(props, node) {\n",
       "    var script = document.createElement(\"script\");\n",
       "    node.appendChild(script);\n",
       "  }\n",
       "\n",
       "  /**\n",
       "   * Handle when an output is cleared or removed\n",
       "   */\n",
       "  function handleClearOutput(event, handle) {\n",
       "    var cell = handle.cell;\n",
       "\n",
       "    var id = cell.output_area._bokeh_element_id;\n",
       "    var server_id = cell.output_area._bokeh_server_id;\n",
       "    // Clean up Bokeh references\n",
       "    if (id != null && id in Bokeh.index) {\n",
       "      Bokeh.index[id].model.document.clear();\n",
       "      delete Bokeh.index[id];\n",
       "    }\n",
       "\n",
       "    if (server_id !== undefined) {\n",
       "      // Clean up Bokeh references\n",
       "      var cmd = \"from bokeh.io.state import curstate; print(curstate().uuid_to_server['\" + server_id + \"'].get_sessions()[0].document.roots[0]._id)\";\n",
       "      cell.notebook.kernel.execute(cmd, {\n",
       "        iopub: {\n",
       "          output: function(msg) {\n",
       "            var id = msg.content.text.trim();\n",
       "            if (id in Bokeh.index) {\n",
       "              Bokeh.index[id].model.document.clear();\n",
       "              delete Bokeh.index[id];\n",
       "            }\n",
       "          }\n",
       "        }\n",
       "      });\n",
       "      // Destroy server and session\n",
       "      var cmd = \"import bokeh.io.notebook as ion; ion.destroy_server('\" + server_id + \"')\";\n",
       "      cell.notebook.kernel.execute(cmd);\n",
       "    }\n",
       "  }\n",
       "\n",
       "  /**\n",
       "   * Handle when a new output is added\n",
       "   */\n",
       "  function handleAddOutput(event, handle) {\n",
       "    var output_area = handle.output_area;\n",
       "    var output = handle.output;\n",
       "\n",
       "    // limit handleAddOutput to display_data with EXEC_MIME_TYPE content only\n",
       "    if ((output.output_type != \"display_data\") || (!output.data.hasOwnProperty(EXEC_MIME_TYPE))) {\n",
       "      return\n",
       "    }\n",
       "\n",
       "    var toinsert = output_area.element.find(\".\" + CLASS_NAME.split(' ')[0]);\n",
       "\n",
       "    if (output.metadata[EXEC_MIME_TYPE][\"id\"] !== undefined) {\n",
       "      toinsert[toinsert.length - 1].firstChild.textContent = output.data[JS_MIME_TYPE];\n",
       "      // store reference to embed id on output_area\n",
       "      output_area._bokeh_element_id = output.metadata[EXEC_MIME_TYPE][\"id\"];\n",
       "    }\n",
       "    if (output.metadata[EXEC_MIME_TYPE][\"server_id\"] !== undefined) {\n",
       "      var bk_div = document.createElement(\"div\");\n",
       "      bk_div.innerHTML = output.data[HTML_MIME_TYPE];\n",
       "      var script_attrs = bk_div.children[0].attributes;\n",
       "      for (var i = 0; i < script_attrs.length; i++) {\n",
       "        toinsert[toinsert.length - 1].firstChild.setAttribute(script_attrs[i].name, script_attrs[i].value);\n",
       "        toinsert[toinsert.length - 1].firstChild.textContent = bk_div.children[0].textContent\n",
       "      }\n",
       "      // store reference to server id on output_area\n",
       "      output_area._bokeh_server_id = output.metadata[EXEC_MIME_TYPE][\"server_id\"];\n",
       "    }\n",
       "  }\n",
       "\n",
       "  function register_renderer(events, OutputArea) {\n",
       "\n",
       "    function append_mime(data, metadata, element) {\n",
       "      // create a DOM node to render to\n",
       "      var toinsert = this.create_output_subarea(\n",
       "        metadata,\n",
       "        CLASS_NAME,\n",
       "        EXEC_MIME_TYPE\n",
       "      );\n",
       "      this.keyboard_manager.register_events(toinsert);\n",
       "      // Render to node\n",
       "      var props = {data: data, metadata: metadata[EXEC_MIME_TYPE]};\n",
       "      render(props, toinsert[toinsert.length - 1]);\n",
       "      element.append(toinsert);\n",
       "      return toinsert\n",
       "    }\n",
       "\n",
       "    /* Handle when an output is cleared or removed */\n",
       "    events.on('clear_output.CodeCell', handleClearOutput);\n",
       "    events.on('delete.Cell', handleClearOutput);\n",
       "\n",
       "    /* Handle when a new output is added */\n",
       "    events.on('output_added.OutputArea', handleAddOutput);\n",
       "\n",
       "    /**\n",
       "     * Register the mime type and append_mime function with output_area\n",
       "     */\n",
       "    OutputArea.prototype.register_mime_type(EXEC_MIME_TYPE, append_mime, {\n",
       "      /* Is output safe? */\n",
       "      safe: true,\n",
       "      /* Index of renderer in `output_area.display_order` */\n",
       "      index: 0\n",
       "    });\n",
       "  }\n",
       "\n",
       "  // register the mime type if in Jupyter Notebook environment and previously unregistered\n",
       "  if (root.Jupyter !== undefined) {\n",
       "    var events = require('base/js/events');\n",
       "    var OutputArea = require('notebook/js/outputarea').OutputArea;\n",
       "\n",
       "    if (OutputArea.prototype.mime_types().indexOf(EXEC_MIME_TYPE) == -1) {\n",
       "      register_renderer(events, OutputArea);\n",
       "    }\n",
       "  }\n",
       "\n",
       "  \n",
       "  if (typeof (root._bokeh_timeout) === \"undefined\" || force === true) {\n",
       "    root._bokeh_timeout = Date.now() + 5000;\n",
       "    root._bokeh_failed_load = false;\n",
       "  }\n",
       "\n",
       "  var NB_LOAD_WARNING = {'data': {'text/html':\n",
       "     \"<div style='background-color: #fdd'>\\n\"+\n",
       "     \"<p>\\n\"+\n",
       "     \"BokehJS does not appear to have successfully loaded. If loading BokehJS from CDN, this \\n\"+\n",
       "     \"may be due to a slow or bad network connection. Possible fixes:\\n\"+\n",
       "     \"</p>\\n\"+\n",
       "     \"<ul>\\n\"+\n",
       "     \"<li>re-rerun `output_notebook()` to attempt to load from CDN again, or</li>\\n\"+\n",
       "     \"<li>use INLINE resources instead, as so:</li>\\n\"+\n",
       "     \"</ul>\\n\"+\n",
       "     \"<code>\\n\"+\n",
       "     \"from bokeh.resources import INLINE\\n\"+\n",
       "     \"output_notebook(resources=INLINE)\\n\"+\n",
       "     \"</code>\\n\"+\n",
       "     \"</div>\"}};\n",
       "\n",
       "  function display_loaded() {\n",
       "    var el = document.getElementById(null);\n",
       "    if (el != null) {\n",
       "      el.textContent = \"BokehJS is loading...\";\n",
       "    }\n",
       "    if (root.Bokeh !== undefined) {\n",
       "      if (el != null) {\n",
       "        el.textContent = \"BokehJS \" + root.Bokeh.version + \" successfully loaded.\";\n",
       "      }\n",
       "    } else if (Date.now() < root._bokeh_timeout) {\n",
       "      setTimeout(display_loaded, 100)\n",
       "    }\n",
       "  }\n",
       "\n",
       "\n",
       "  function run_callbacks() {\n",
       "    try {\n",
       "      root._bokeh_onload_callbacks.forEach(function(callback) {\n",
       "        if (callback != null)\n",
       "          callback();\n",
       "      });\n",
       "    } finally {\n",
       "      delete root._bokeh_onload_callbacks\n",
       "    }\n",
       "    console.debug(\"Bokeh: all callbacks have finished\");\n",
       "  }\n",
       "\n",
       "  function load_libs(css_urls, js_urls, callback) {\n",
       "    if (css_urls == null) css_urls = [];\n",
       "    if (js_urls == null) js_urls = [];\n",
       "\n",
       "    root._bokeh_onload_callbacks.push(callback);\n",
       "    if (root._bokeh_is_loading > 0) {\n",
       "      console.debug(\"Bokeh: BokehJS is being loaded, scheduling callback at\", now());\n",
       "      return null;\n",
       "    }\n",
       "    if (js_urls == null || js_urls.length === 0) {\n",
       "      run_callbacks();\n",
       "      return null;\n",
       "    }\n",
       "    console.debug(\"Bokeh: BokehJS not loaded, scheduling load and callback at\", now());\n",
       "    root._bokeh_is_loading = css_urls.length + js_urls.length;\n",
       "\n",
       "    function on_load() {\n",
       "      root._bokeh_is_loading--;\n",
       "      if (root._bokeh_is_loading === 0) {\n",
       "        console.debug(\"Bokeh: all BokehJS libraries/stylesheets loaded\");\n",
       "        run_callbacks()\n",
       "      }\n",
       "    }\n",
       "\n",
       "    function on_error() {\n",
       "      console.error(\"failed to load \" + url);\n",
       "    }\n",
       "\n",
       "    for (var i = 0; i < css_urls.length; i++) {\n",
       "      var url = css_urls[i];\n",
       "      const element = document.createElement(\"link\");\n",
       "      element.onload = on_load;\n",
       "      element.onerror = on_error;\n",
       "      element.rel = \"stylesheet\";\n",
       "      element.type = \"text/css\";\n",
       "      element.href = url;\n",
       "      console.debug(\"Bokeh: injecting link tag for BokehJS stylesheet: \", url);\n",
       "      document.body.appendChild(element);\n",
       "    }\n",
       "\n",
       "    const hashes = {\"https://cdn.bokeh.org/bokeh/release/bokeh-2.1.1.min.js\": \"kLr4fYcqcSpbuI95brIH3vnnYCquzzSxHPU6XGQCIkQRGJwhg0StNbj1eegrHs12\", \"https://cdn.bokeh.org/bokeh/release/bokeh-widgets-2.1.1.min.js\": \"xIGPmVtaOm+z0BqfSOMn4lOR6ciex448GIKG4eE61LsAvmGj48XcMQZtKcE/UXZe\", \"https://cdn.bokeh.org/bokeh/release/bokeh-tables-2.1.1.min.js\": \"Dc9u1wF/0zApGIWoBbH77iWEHtdmkuYWG839Uzmv8y8yBLXebjO9ZnERsde5Ln/P\", \"https://cdn.bokeh.org/bokeh/release/bokeh-gl-2.1.1.min.js\": \"cT9JaBz7GiRXdENrJLZNSC6eMNF3nh3fa5fTF51Svp+ukxPdwcU5kGXGPBgDCa2j\"};\n",
       "\n",
       "    for (var i = 0; i < js_urls.length; i++) {\n",
       "      var url = js_urls[i];\n",
       "      var element = document.createElement('script');\n",
       "      element.onload = on_load;\n",
       "      element.onerror = on_error;\n",
       "      element.async = false;\n",
       "      element.src = url;\n",
       "      if (url in hashes) {\n",
       "        element.crossOrigin = \"anonymous\";\n",
       "        element.integrity = \"sha384-\" + hashes[url];\n",
       "      }\n",
       "      console.debug(\"Bokeh: injecting script tag for BokehJS library: \", url);\n",
       "      document.head.appendChild(element);\n",
       "    }\n",
       "  };\n",
       "\n",
       "  function inject_raw_css(css) {\n",
       "    const element = document.createElement(\"style\");\n",
       "    element.appendChild(document.createTextNode(css));\n",
       "    document.body.appendChild(element);\n",
       "  }\n",
       "\n",
       "  \n",
       "  var js_urls = [\"https://cdn.bokeh.org/bokeh/release/bokeh-2.1.1.min.js\", \"https://cdn.bokeh.org/bokeh/release/bokeh-widgets-2.1.1.min.js\", \"https://cdn.bokeh.org/bokeh/release/bokeh-tables-2.1.1.min.js\", \"https://cdn.bokeh.org/bokeh/release/bokeh-gl-2.1.1.min.js\"];\n",
       "  var css_urls = [];\n",
       "  \n",
       "\n",
       "  var inline_js = [\n",
       "    function(Bokeh) {\n",
       "      Bokeh.set_log_level(\"info\");\n",
       "    },\n",
       "    function(Bokeh) {\n",
       "    \n",
       "    \n",
       "    }\n",
       "  ];\n",
       "\n",
       "  function run_inline_js() {\n",
       "    \n",
       "    if (root.Bokeh !== undefined || force === true) {\n",
       "      \n",
       "    for (var i = 0; i < inline_js.length; i++) {\n",
       "      inline_js[i].call(root, root.Bokeh);\n",
       "    }\n",
       "    } else if (Date.now() < root._bokeh_timeout) {\n",
       "      setTimeout(run_inline_js, 100);\n",
       "    } else if (!root._bokeh_failed_load) {\n",
       "      console.log(\"Bokeh: BokehJS failed to load within specified timeout.\");\n",
       "      root._bokeh_failed_load = true;\n",
       "    } else if (force !== true) {\n",
       "      var cell = $(document.getElementById(null)).parents('.cell').data().cell;\n",
       "      cell.output_area.append_execute_result(NB_LOAD_WARNING)\n",
       "    }\n",
       "\n",
       "  }\n",
       "\n",
       "  if (root._bokeh_is_loading === 0) {\n",
       "    console.debug(\"Bokeh: BokehJS loaded, going straight to plotting\");\n",
       "    run_inline_js();\n",
       "  } else {\n",
       "    load_libs(css_urls, js_urls, function() {\n",
       "      console.debug(\"Bokeh: BokehJS plotting callback run at\", now());\n",
       "      run_inline_js();\n",
       "    });\n",
       "  }\n",
       "}(window));"
      ],
      "application/vnd.bokehjs_load.v0+json": "\n(function(root) {\n  function now() {\n    return new Date();\n  }\n\n  var force = true;\n\n  if (typeof root._bokeh_onload_callbacks === \"undefined\" || force === true) {\n    root._bokeh_onload_callbacks = [];\n    root._bokeh_is_loading = undefined;\n  }\n\n  \n\n  \n  if (typeof (root._bokeh_timeout) === \"undefined\" || force === true) {\n    root._bokeh_timeout = Date.now() + 5000;\n    root._bokeh_failed_load = false;\n  }\n\n  var NB_LOAD_WARNING = {'data': {'text/html':\n     \"<div style='background-color: #fdd'>\\n\"+\n     \"<p>\\n\"+\n     \"BokehJS does not appear to have successfully loaded. If loading BokehJS from CDN, this \\n\"+\n     \"may be due to a slow or bad network connection. Possible fixes:\\n\"+\n     \"</p>\\n\"+\n     \"<ul>\\n\"+\n     \"<li>re-rerun `output_notebook()` to attempt to load from CDN again, or</li>\\n\"+\n     \"<li>use INLINE resources instead, as so:</li>\\n\"+\n     \"</ul>\\n\"+\n     \"<code>\\n\"+\n     \"from bokeh.resources import INLINE\\n\"+\n     \"output_notebook(resources=INLINE)\\n\"+\n     \"</code>\\n\"+\n     \"</div>\"}};\n\n  function display_loaded() {\n    var el = document.getElementById(null);\n    if (el != null) {\n      el.textContent = \"BokehJS is loading...\";\n    }\n    if (root.Bokeh !== undefined) {\n      if (el != null) {\n        el.textContent = \"BokehJS \" + root.Bokeh.version + \" successfully loaded.\";\n      }\n    } else if (Date.now() < root._bokeh_timeout) {\n      setTimeout(display_loaded, 100)\n    }\n  }\n\n\n  function run_callbacks() {\n    try {\n      root._bokeh_onload_callbacks.forEach(function(callback) {\n        if (callback != null)\n          callback();\n      });\n    } finally {\n      delete root._bokeh_onload_callbacks\n    }\n    console.debug(\"Bokeh: all callbacks have finished\");\n  }\n\n  function load_libs(css_urls, js_urls, callback) {\n    if (css_urls == null) css_urls = [];\n    if (js_urls == null) js_urls = [];\n\n    root._bokeh_onload_callbacks.push(callback);\n    if (root._bokeh_is_loading > 0) {\n      console.debug(\"Bokeh: BokehJS is being loaded, scheduling callback at\", now());\n      return null;\n    }\n    if (js_urls == null || js_urls.length === 0) {\n      run_callbacks();\n      return null;\n    }\n    console.debug(\"Bokeh: BokehJS not loaded, scheduling load and callback at\", now());\n    root._bokeh_is_loading = css_urls.length + js_urls.length;\n\n    function on_load() {\n      root._bokeh_is_loading--;\n      if (root._bokeh_is_loading === 0) {\n        console.debug(\"Bokeh: all BokehJS libraries/stylesheets loaded\");\n        run_callbacks()\n      }\n    }\n\n    function on_error() {\n      console.error(\"failed to load \" + url);\n    }\n\n    for (var i = 0; i < css_urls.length; i++) {\n      var url = css_urls[i];\n      const element = document.createElement(\"link\");\n      element.onload = on_load;\n      element.onerror = on_error;\n      element.rel = \"stylesheet\";\n      element.type = \"text/css\";\n      element.href = url;\n      console.debug(\"Bokeh: injecting link tag for BokehJS stylesheet: \", url);\n      document.body.appendChild(element);\n    }\n\n    const hashes = {\"https://cdn.bokeh.org/bokeh/release/bokeh-2.1.1.min.js\": \"kLr4fYcqcSpbuI95brIH3vnnYCquzzSxHPU6XGQCIkQRGJwhg0StNbj1eegrHs12\", \"https://cdn.bokeh.org/bokeh/release/bokeh-widgets-2.1.1.min.js\": \"xIGPmVtaOm+z0BqfSOMn4lOR6ciex448GIKG4eE61LsAvmGj48XcMQZtKcE/UXZe\", \"https://cdn.bokeh.org/bokeh/release/bokeh-tables-2.1.1.min.js\": \"Dc9u1wF/0zApGIWoBbH77iWEHtdmkuYWG839Uzmv8y8yBLXebjO9ZnERsde5Ln/P\", \"https://cdn.bokeh.org/bokeh/release/bokeh-gl-2.1.1.min.js\": \"cT9JaBz7GiRXdENrJLZNSC6eMNF3nh3fa5fTF51Svp+ukxPdwcU5kGXGPBgDCa2j\"};\n\n    for (var i = 0; i < js_urls.length; i++) {\n      var url = js_urls[i];\n      var element = document.createElement('script');\n      element.onload = on_load;\n      element.onerror = on_error;\n      element.async = false;\n      element.src = url;\n      if (url in hashes) {\n        element.crossOrigin = \"anonymous\";\n        element.integrity = \"sha384-\" + hashes[url];\n      }\n      console.debug(\"Bokeh: injecting script tag for BokehJS library: \", url);\n      document.head.appendChild(element);\n    }\n  };\n\n  function inject_raw_css(css) {\n    const element = document.createElement(\"style\");\n    element.appendChild(document.createTextNode(css));\n    document.body.appendChild(element);\n  }\n\n  \n  var js_urls = [\"https://cdn.bokeh.org/bokeh/release/bokeh-2.1.1.min.js\", \"https://cdn.bokeh.org/bokeh/release/bokeh-widgets-2.1.1.min.js\", \"https://cdn.bokeh.org/bokeh/release/bokeh-tables-2.1.1.min.js\", \"https://cdn.bokeh.org/bokeh/release/bokeh-gl-2.1.1.min.js\"];\n  var css_urls = [];\n  \n\n  var inline_js = [\n    function(Bokeh) {\n      Bokeh.set_log_level(\"info\");\n    },\n    function(Bokeh) {\n    \n    \n    }\n  ];\n\n  function run_inline_js() {\n    \n    if (root.Bokeh !== undefined || force === true) {\n      \n    for (var i = 0; i < inline_js.length; i++) {\n      inline_js[i].call(root, root.Bokeh);\n    }\n    } else if (Date.now() < root._bokeh_timeout) {\n      setTimeout(run_inline_js, 100);\n    } else if (!root._bokeh_failed_load) {\n      console.log(\"Bokeh: BokehJS failed to load within specified timeout.\");\n      root._bokeh_failed_load = true;\n    } else if (force !== true) {\n      var cell = $(document.getElementById(null)).parents('.cell').data().cell;\n      cell.output_area.append_execute_result(NB_LOAD_WARNING)\n    }\n\n  }\n\n  if (root._bokeh_is_loading === 0) {\n    console.debug(\"Bokeh: BokehJS loaded, going straight to plotting\");\n    run_inline_js();\n  } else {\n    load_libs(css_urls, js_urls, function() {\n      console.debug(\"Bokeh: BokehJS plotting callback run at\", now());\n      run_inline_js();\n    });\n  }\n}(window));"
     },
     "metadata": {
      "tags": []
     },
     "output_type": "display_data"
    },
    {
     "data": {
      "text/html": [
       "\n",
       "\n",
       "\n",
       "\n",
       "\n",
       "\n",
       "  <div class=\"bk-root\" id=\"dcfcffdb-184d-4ae9-8c09-7f1c08096f47\" data-root-id=\"1108\"></div>\n"
      ]
     },
     "metadata": {
      "tags": []
     },
     "output_type": "display_data"
    },
    {
     "data": {
      "application/javascript": [
       "(function(root) {\n",
       "  function embed_document(root) {\n",
       "    \n",
       "  var docs_json = {\"ef7ad904-269f-471c-888d-05764d79f364\":{\"roots\":{\"references\":[{\"attributes\":{\"below\":[{\"id\":\"1117\"}],\"center\":[{\"id\":\"1120\"},{\"id\":\"1124\"}],\"left\":[{\"id\":\"1121\"}],\"plot_height\":400,\"renderers\":[{\"id\":\"1142\"}],\"title\":{\"id\":\"1156\"},\"toolbar\":{\"id\":\"1132\"},\"x_range\":{\"id\":\"1109\"},\"x_scale\":{\"id\":\"1113\"},\"y_range\":{\"id\":\"1111\"},\"y_scale\":{\"id\":\"1115\"}},\"id\":\"1108\",\"subtype\":\"Figure\",\"type\":\"Plot\"},{\"attributes\":{},\"id\":\"1111\",\"type\":\"DataRange1d\"},{\"attributes\":{},\"id\":\"1113\",\"type\":\"LinearScale\"},{\"attributes\":{},\"id\":\"1115\",\"type\":\"LinearScale\"},{\"attributes\":{\"formatter\":{\"id\":\"1159\"},\"ticker\":{\"id\":\"1118\"}},\"id\":\"1117\",\"type\":\"LinearAxis\"},{\"attributes\":{\"bottom_units\":\"screen\",\"fill_alpha\":0.5,\"fill_color\":\"lightgrey\",\"left_units\":\"screen\",\"level\":\"overlay\",\"line_alpha\":1.0,\"line_color\":\"black\",\"line_dash\":[4,4],\"line_width\":2,\"right_units\":\"screen\",\"top_units\":\"screen\"},\"id\":\"1131\",\"type\":\"BoxAnnotation\"},{\"attributes\":{},\"id\":\"1118\",\"type\":\"BasicTicker\"},{\"attributes\":{\"callback\":null,\"tooltips\":[]},\"id\":\"1144\",\"type\":\"HoverTool\"},{\"attributes\":{\"axis\":{\"id\":\"1117\"},\"ticker\":null},\"id\":\"1120\",\"type\":\"Grid\"},{\"attributes\":{\"data_source\":{\"id\":\"1107\"},\"glyph\":{\"id\":\"1140\"},\"hover_glyph\":null,\"muted_glyph\":null,\"nonselection_glyph\":{\"id\":\"1141\"},\"selection_glyph\":null,\"view\":{\"id\":\"1143\"}},\"id\":\"1142\",\"type\":\"GlyphRenderer\"},{\"attributes\":{\"source\":{\"id\":\"1107\"}},\"id\":\"1143\",\"type\":\"CDSView\"},{\"attributes\":{\"formatter\":{\"id\":\"1157\"},\"ticker\":{\"id\":\"1122\"}},\"id\":\"1121\",\"type\":\"LinearAxis\"},{\"attributes\":{},\"id\":\"1122\",\"type\":\"BasicTicker\"},{\"attributes\":{},\"id\":\"1109\",\"type\":\"DataRange1d\"},{\"attributes\":{\"fill_alpha\":{\"value\":0.1},\"fill_color\":{\"field\":\"color\"},\"line_alpha\":{\"value\":0.1},\"line_color\":{\"field\":\"color\"},\"size\":{\"units\":\"screen\",\"value\":10},\"x\":{\"field\":\"x\"},\"y\":{\"field\":\"y\"}},\"id\":\"1141\",\"type\":\"Scatter\"},{\"attributes\":{\"axis\":{\"id\":\"1121\"},\"dimension\":1,\"ticker\":null},\"id\":\"1124\",\"type\":\"Grid\"},{\"attributes\":{},\"id\":\"1162\",\"type\":\"UnionRenderers\"},{\"attributes\":{},\"id\":\"1157\",\"type\":\"BasicTickFormatter\"},{\"attributes\":{\"fill_alpha\":{\"value\":0.25},\"fill_color\":{\"field\":\"color\"},\"line_alpha\":{\"value\":0.25},\"line_color\":{\"field\":\"color\"},\"size\":{\"units\":\"screen\",\"value\":10},\"x\":{\"field\":\"x\"},\"y\":{\"field\":\"y\"}},\"id\":\"1140\",\"type\":\"Scatter\"},{\"attributes\":{},\"id\":\"1161\",\"type\":\"Selection\"},{\"attributes\":{},\"id\":\"1159\",\"type\":\"BasicTickFormatter\"},{\"attributes\":{},\"id\":\"1125\",\"type\":\"PanTool\"},{\"attributes\":{},\"id\":\"1126\",\"type\":\"WheelZoomTool\"},{\"attributes\":{\"overlay\":{\"id\":\"1131\"}},\"id\":\"1127\",\"type\":\"BoxZoomTool\"},{\"attributes\":{},\"id\":\"1128\",\"type\":\"SaveTool\"},{\"attributes\":{},\"id\":\"1129\",\"type\":\"ResetTool\"},{\"attributes\":{\"text\":\"\"},\"id\":\"1156\",\"type\":\"Title\"},{\"attributes\":{},\"id\":\"1130\",\"type\":\"HelpTool\"},{\"attributes\":{\"data\":{\"color\":[\"red\",\"blue\",\"blue\",\"red\",\"blue\",\"red\",\"red\",\"red\",\"blue\",\"blue\",\"blue\",\"red\",\"red\",\"blue\",\"blue\",\"blue\",\"blue\",\"blue\",\"blue\",\"blue\",\"red\",\"red\",\"red\",\"red\",\"blue\",\"red\",\"blue\",\"blue\",\"blue\",\"red\",\"blue\",\"blue\",\"red\",\"red\",\"blue\",\"blue\",\"red\",\"red\",\"blue\",\"blue\",\"red\",\"blue\",\"red\",\"blue\",\"blue\",\"blue\",\"blue\",\"blue\",\"blue\",\"red\",\"blue\",\"blue\",\"red\",\"red\",\"red\",\"blue\",\"blue\",\"red\",\"red\",\"red\",\"red\",\"blue\",\"red\",\"red\",\"red\",\"blue\",\"blue\",\"red\",\"blue\",\"blue\",\"blue\",\"blue\",\"red\",\"blue\",\"red\",\"red\",\"blue\",\"red\",\"blue\",\"blue\",\"blue\",\"red\",\"blue\",\"red\",\"red\",\"blue\",\"red\",\"blue\",\"red\",\"blue\",\"red\",\"red\",\"red\",\"red\",\"blue\",\"red\",\"blue\",\"blue\",\"red\",\"blue\",\"red\",\"red\",\"red\",\"blue\",\"red\",\"red\",\"blue\",\"blue\",\"blue\",\"red\",\"red\",\"red\",\"blue\",\"red\",\"blue\",\"red\",\"blue\",\"red\",\"red\",\"blue\",\"red\",\"blue\",\"blue\",\"blue\",\"red\",\"blue\",\"blue\",\"red\",\"red\",\"red\",\"blue\",\"red\",\"red\",\"blue\",\"blue\",\"red\",\"red\",\"red\",\"blue\",\"red\",\"blue\",\"blue\",\"blue\",\"red\",\"blue\",\"blue\",\"blue\",\"blue\",\"blue\",\"blue\",\"red\",\"red\",\"blue\",\"red\",\"red\",\"red\",\"blue\",\"red\",\"blue\",\"red\",\"blue\",\"blue\",\"blue\",\"red\",\"red\",\"blue\",\"blue\",\"blue\",\"red\",\"blue\",\"blue\",\"red\",\"red\",\"red\",\"red\",\"red\",\"blue\",\"red\",\"red\",\"blue\",\"blue\",\"blue\",\"blue\",\"red\",\"blue\",\"blue\",\"red\",\"blue\",\"red\",\"red\",\"blue\",\"blue\",\"red\",\"blue\",\"blue\",\"red\",\"red\",\"blue\",\"blue\",\"blue\",\"blue\",\"red\",\"red\",\"blue\",\"red\",\"red\",\"red\",\"blue\",\"red\",\"blue\",\"red\",\"blue\",\"blue\",\"red\",\"red\",\"blue\",\"red\",\"blue\",\"red\",\"red\",\"blue\",\"blue\",\"red\",\"blue\",\"red\",\"blue\",\"red\",\"red\",\"red\",\"blue\",\"red\",\"red\",\"blue\",\"blue\",\"blue\",\"red\",\"blue\",\"red\",\"blue\",\"red\",\"blue\",\"blue\",\"blue\",\"red\",\"red\",\"red\",\"red\",\"red\",\"red\",\"blue\",\"red\",\"red\",\"red\",\"red\",\"blue\",\"blue\",\"blue\",\"blue\",\"red\",\"blue\",\"red\",\"red\",\"red\",\"red\",\"blue\",\"red\",\"blue\",\"blue\",\"blue\",\"blue\",\"blue\",\"red\",\"blue\",\"red\",\"blue\",\"red\",\"red\",\"red\",\"blue\",\"red\",\"blue\",\"blue\",\"blue\",\"blue\",\"red\",\"red\",\"blue\",\"red\",\"red\",\"red\",\"red\",\"blue\",\"red\",\"red\",\"blue\",\"blue\",\"red\",\"red\",\"red\",\"blue\",\"red\",\"blue\",\"red\",\"blue\",\"red\",\"red\",\"red\",\"red\",\"blue\",\"red\",\"blue\",\"red\",\"red\",\"red\",\"blue\",\"blue\",\"blue\",\"blue\",\"red\",\"red\",\"blue\",\"red\",\"blue\",\"red\",\"red\",\"blue\",\"red\",\"red\",\"blue\",\"red\",\"blue\",\"blue\",\"red\",\"red\",\"blue\",\"blue\",\"blue\",\"blue\",\"blue\",\"blue\",\"blue\",\"blue\",\"blue\",\"blue\",\"blue\",\"blue\",\"red\",\"blue\",\"red\",\"blue\",\"blue\",\"blue\",\"blue\",\"blue\",\"blue\",\"blue\",\"red\",\"blue\",\"blue\",\"blue\",\"red\",\"blue\",\"blue\",\"red\",\"red\",\"blue\",\"red\",\"blue\",\"red\",\"red\",\"blue\",\"red\",\"blue\",\"red\",\"blue\",\"blue\",\"blue\",\"blue\",\"red\",\"red\",\"red\",\"blue\",\"red\",\"blue\",\"blue\",\"blue\",\"red\",\"red\",\"red\",\"blue\",\"red\",\"blue\",\"red\",\"blue\",\"red\",\"red\",\"blue\",\"red\",\"red\",\"blue\",\"red\",\"red\",\"red\",\"blue\",\"blue\",\"red\",\"red\",\"blue\",\"blue\",\"red\",\"blue\",\"red\",\"blue\",\"red\",\"red\",\"red\",\"red\",\"red\",\"red\",\"red\",\"blue\",\"blue\",\"red\",\"blue\",\"red\",\"red\",\"blue\",\"blue\",\"blue\",\"blue\",\"red\",\"blue\",\"red\",\"red\",\"blue\",\"blue\",\"red\",\"blue\",\"blue\",\"blue\",\"red\",\"blue\",\"blue\",\"blue\",\"red\",\"red\",\"red\",\"red\",\"red\",\"blue\",\"blue\",\"red\",\"blue\",\"red\",\"blue\",\"red\",\"red\",\"blue\",\"red\",\"blue\",\"red\",\"blue\",\"red\",\"blue\",\"red\",\"blue\",\"blue\",\"red\",\"blue\",\"blue\",\"red\",\"blue\",\"red\",\"blue\",\"blue\",\"red\",\"blue\",\"blue\",\"red\",\"red\",\"blue\",\"red\",\"blue\",\"red\",\"blue\",\"red\",\"red\",\"blue\",\"red\",\"red\",\"red\",\"red\",\"red\",\"blue\",\"blue\",\"red\",\"blue\",\"blue\",\"red\",\"red\",\"blue\",\"blue\",\"blue\",\"red\",\"red\",\"blue\",\"red\",\"blue\",\"red\",\"blue\",\"red\",\"red\",\"blue\",\"red\",\"blue\",\"blue\",\"blue\",\"red\",\"red\",\"red\",\"blue\",\"blue\",\"red\",\"red\",\"blue\",\"blue\",\"red\",\"red\",\"blue\",\"red\",\"blue\",\"blue\",\"blue\",\"red\",\"red\",\"blue\",\"blue\",\"blue\",\"red\",\"red\",\"blue\",\"blue\",\"red\",\"red\",\"blue\",\"blue\",\"blue\",\"blue\",\"blue\",\"blue\",\"blue\",\"blue\",\"blue\",\"blue\",\"blue\",\"red\",\"blue\",\"red\",\"red\",\"blue\",\"red\",\"red\",\"blue\",\"red\",\"red\",\"blue\",\"red\",\"blue\",\"blue\",\"red\",\"blue\",\"red\",\"red\",\"blue\",\"blue\",\"red\",\"blue\",\"red\",\"red\",\"blue\",\"red\",\"red\",\"red\",\"blue\",\"blue\",\"red\",\"blue\",\"red\",\"red\",\"blue\",\"red\",\"blue\",\"blue\",\"red\",\"red\",\"blue\",\"red\",\"red\",\"red\",\"blue\",\"red\",\"red\",\"blue\",\"red\",\"blue\",\"red\",\"blue\",\"blue\",\"red\",\"red\",\"blue\",\"red\",\"red\",\"blue\",\"blue\",\"blue\",\"red\",\"red\",\"blue\",\"red\",\"red\",\"red\",\"blue\",\"red\",\"blue\",\"blue\",\"blue\",\"blue\",\"red\",\"red\",\"red\",\"red\",\"blue\",\"blue\",\"red\",\"blue\",\"red\",\"red\",\"blue\",\"red\",\"blue\",\"red\",\"red\",\"blue\",\"blue\",\"blue\",\"red\",\"blue\",\"red\",\"red\",\"red\",\"red\",\"red\",\"blue\",\"red\",\"red\",\"blue\",\"blue\",\"red\",\"red\",\"blue\",\"red\",\"blue\",\"red\",\"blue\",\"red\",\"red\",\"blue\",\"red\",\"red\",\"blue\",\"red\",\"blue\",\"blue\",\"blue\",\"blue\",\"red\",\"red\",\"red\",\"red\",\"red\",\"blue\",\"red\",\"blue\",\"red\",\"red\",\"blue\",\"red\",\"blue\",\"blue\",\"blue\",\"red\",\"blue\",\"red\",\"blue\",\"blue\",\"red\",\"blue\",\"red\",\"blue\",\"blue\",\"blue\",\"red\",\"blue\",\"red\",\"red\",\"red\",\"red\",\"blue\",\"red\",\"red\",\"blue\",\"blue\",\"red\",\"blue\",\"red\",\"blue\",\"red\",\"red\",\"blue\",\"red\",\"blue\",\"blue\",\"blue\",\"red\",\"red\",\"blue\",\"red\",\"red\",\"blue\",\"blue\",\"blue\",\"blue\",\"blue\",\"blue\",\"blue\",\"blue\",\"red\",\"blue\",\"red\",\"blue\",\"blue\",\"red\",\"red\",\"red\",\"red\",\"blue\",\"blue\",\"blue\",\"red\",\"red\",\"blue\",\"red\",\"blue\",\"blue\",\"red\",\"red\",\"red\",\"red\",\"red\",\"red\",\"red\",\"blue\",\"red\",\"red\",\"blue\",\"blue\",\"red\",\"blue\",\"red\",\"blue\",\"blue\",\"red\",\"blue\",\"blue\",\"red\",\"red\",\"red\",\"red\",\"blue\",\"blue\",\"blue\",\"blue\",\"red\",\"red\",\"blue\",\"red\",\"red\",\"red\",\"red\",\"red\",\"red\",\"blue\",\"red\",\"red\",\"blue\",\"red\",\"red\",\"blue\",\"blue\",\"blue\",\"blue\",\"blue\",\"red\",\"red\",\"blue\",\"blue\",\"blue\",\"red\",\"blue\",\"red\",\"blue\",\"red\",\"red\",\"blue\",\"red\",\"blue\",\"blue\",\"blue\",\"red\",\"blue\",\"blue\",\"red\",\"red\",\"red\",\"red\",\"red\",\"blue\",\"blue\",\"blue\",\"red\",\"red\",\"red\",\"red\",\"blue\",\"red\",\"red\",\"red\",\"red\",\"red\",\"blue\",\"blue\",\"red\",\"blue\",\"red\",\"red\",\"red\",\"red\",\"red\",\"red\",\"blue\",\"red\",\"blue\",\"red\",\"red\",\"red\",\"red\",\"blue\",\"blue\",\"red\",\"blue\",\"blue\",\"blue\",\"blue\",\"red\",\"blue\",\"red\",\"blue\",\"red\",\"blue\",\"blue\",\"red\",\"red\",\"blue\",\"red\",\"blue\",\"blue\",\"blue\",\"blue\",\"blue\",\"blue\",\"red\",\"red\",\"blue\",\"blue\",\"blue\",\"blue\",\"red\",\"blue\",\"red\",\"blue\",\"blue\",\"red\",\"blue\",\"red\",\"blue\",\"red\",\"blue\",\"blue\",\"red\",\"red\",\"red\",\"red\",\"red\",\"blue\",\"red\",\"blue\",\"blue\",\"red\",\"blue\",\"red\",\"blue\",\"red\",\"blue\",\"blue\",\"red\",\"blue\",\"red\",\"red\",\"red\",\"blue\",\"blue\",\"red\",\"red\",\"red\",\"red\",\"blue\",\"red\",\"red\",\"red\",\"red\",\"red\",\"blue\",\"red\",\"blue\",\"blue\",\"red\",\"red\",\"red\",\"blue\",\"blue\",\"blue\",\"blue\",\"red\",\"red\",\"blue\",\"blue\",\"blue\",\"red\",\"blue\",\"blue\",\"blue\",\"blue\",\"blue\",\"blue\",\"blue\",\"red\",\"red\",\"blue\",\"red\",\"red\",\"red\",\"blue\",\"red\",\"blue\",\"red\",\"red\",\"red\",\"red\",\"red\",\"blue\",\"blue\",\"blue\",\"blue\",\"blue\",\"blue\",\"red\",\"blue\",\"blue\",\"red\",\"red\",\"red\",\"red\",\"blue\",\"blue\",\"red\",\"red\",\"blue\",\"red\",\"blue\",\"red\",\"blue\",\"red\",\"red\",\"red\",\"red\",\"blue\",\"blue\",\"blue\",\"blue\",\"blue\",\"blue\",\"red\",\"blue\",\"red\",\"blue\",\"blue\",\"blue\",\"blue\",\"red\",\"blue\",\"blue\",\"red\",\"blue\",\"blue\",\"blue\",\"red\",\"blue\",\"red\",\"red\",\"blue\",\"red\",\"blue\",\"blue\",\"blue\",\"red\",\"blue\",\"blue\",\"red\",\"blue\",\"red\",\"red\",\"blue\",\"red\",\"blue\",\"blue\",\"blue\",\"blue\",\"red\",\"blue\",\"red\",\"blue\",\"red\",\"red\",\"blue\",\"red\",\"red\",\"blue\",\"blue\",\"red\",\"red\",\"red\",\"red\",\"red\",\"blue\",\"blue\",\"red\",\"blue\",\"blue\",\"red\",\"blue\",\"blue\",\"blue\",\"red\",\"red\",\"blue\",\"red\",\"blue\",\"red\",\"blue\",\"blue\",\"blue\",\"red\",\"blue\",\"blue\",\"blue\",\"blue\",\"blue\",\"blue\",\"blue\",\"red\",\"red\",\"blue\",\"red\",\"red\",\"red\",\"red\",\"blue\",\"blue\",\"blue\",\"blue\",\"red\",\"blue\",\"red\",\"red\",\"red\",\"red\",\"red\",\"red\",\"blue\",\"red\",\"red\",\"red\",\"red\",\"red\",\"blue\",\"blue\",\"red\",\"blue\",\"blue\",\"blue\",\"red\",\"blue\",\"blue\",\"blue\",\"blue\",\"blue\",\"red\",\"blue\",\"blue\",\"red\",\"red\",\"red\",\"red\",\"blue\",\"red\",\"red\",\"red\",\"blue\",\"blue\",\"red\",\"red\",\"blue\",\"red\",\"red\",\"blue\",\"blue\",\"blue\",\"blue\",\"blue\",\"blue\",\"red\",\"red\",\"red\",\"red\",\"red\",\"red\",\"blue\",\"blue\",\"red\",\"red\",\"red\",\"red\",\"red\",\"red\",\"red\",\"red\",\"blue\",\"red\",\"blue\",\"red\",\"blue\",\"blue\",\"blue\",\"blue\",\"blue\",\"red\",\"blue\",\"red\",\"blue\",\"blue\",\"blue\",\"red\",\"red\",\"red\",\"red\",\"red\",\"blue\",\"blue\",\"blue\",\"blue\",\"blue\",\"blue\",\"blue\",\"blue\",\"blue\",\"blue\",\"blue\",\"red\",\"blue\",\"blue\",\"blue\",\"blue\",\"blue\",\"red\",\"blue\",\"blue\",\"blue\",\"red\",\"red\",\"blue\",\"red\",\"blue\",\"blue\",\"blue\",\"blue\",\"red\",\"red\",\"blue\",\"blue\",\"blue\",\"blue\",\"blue\",\"red\",\"red\",\"blue\",\"blue\",\"blue\",\"red\",\"blue\",\"red\",\"red\",\"blue\",\"blue\",\"red\",\"blue\",\"red\",\"red\",\"blue\",\"blue\",\"red\",\"blue\",\"red\",\"blue\",\"red\",\"red\",\"blue\",\"blue\",\"blue\",\"red\",\"blue\",\"blue\",\"blue\",\"blue\",\"red\",\"red\",\"red\",\"blue\",\"blue\",\"red\",\"blue\",\"red\",\"red\",\"red\",\"red\",\"blue\",\"red\",\"blue\",\"red\",\"red\",\"blue\",\"blue\",\"blue\",\"blue\",\"blue\",\"blue\",\"blue\",\"blue\",\"blue\",\"blue\",\"blue\",\"red\",\"blue\",\"red\",\"blue\",\"red\",\"red\",\"blue\",\"red\",\"red\"],\"x\":{\"__ndarray__\":\"/6R0bL0raEA7bajmG6ZgwOxa++xJ5G5AwBTOom8ObMChs/2pgGN1QFz3AVxsE0lAVFYDeu9QJECMXBB5vDpRQIz1//8HRmDAfeDgkeHZYkDtQH6zu8BlQLSTX2DCm1RAnTWTVdEtOEAbROv27fFKwDJ8E/LrtGJA94Yh+o2nZUCwRzMUBgcZwF/EF4vUWmTANtAwvtz/WEC7hs5m4RxIwEjbBcpbYEpAXFq9+Fq5X8CijtY7QothQHzJu+kGEFrAZJr1C+GoWUDtTgGIkdljQNbTtxLhfzzAVL8ugcHLQkCJENEEzAJjwAOIxXaOAXlAf9+MuVvabECDkISUuC1mwFC+A7shhGVAdaH9gREBNsDmUCxEKlwyQAZVd60IuEjAFJxQOXJRbUCt9xsG3VthwHjUvUeeLVrAQORxTBxjYsAocWPh9cZkwBO8ZMc+uUrANIET7LYBY0Cl8pcLM5RDQFmxa6Z4mjtApHYhGU8zVsAek0KxedNkwHSY1tUXPU3AMt5kL0ZUP8B4Mnoa/KRgQGVG7zD/I/C/Gsf8IrPMYcC43ImTxI5WwKs+nNQ1nUBAFrj/8SzYWECKO+Fzg5JwQCl56w25gUHA2TWaK9dgU8BmEH3/RCxiwO9kdc2cymxAisWIqcY7U8CdVpK1kBtQwLAFFuAqdxDAFefdlSIIRMAabUljM9B9QLdsdIqgHFPA9MEMdWKyU8CRhd4tMWccQLOAJSQIf1VACCSaNltsWMAShfjU8MVuwNN4oJTuLVLAca54kbbCWMBG1PZvtTtwQBKF+NTwxW7AnPM10UJed0As5DtEOUplwGrQ2MTqNWHAVrXid6PvV8CynsBIsgBawKYSqqUGVmXAIgwecsCpc0C797mefCdkQLMuT6eBBShAwCXLEU4xW8DBG+NhShJwQOwoUWCX80ZA0YbW7JCAWMDp8GbJHGRBQCArlnmmB1jAo/cL87WhcEAD8Qj2vtRrwKjDCMRsuWFAVPrfIbGDYcDacH5/HBB2QPh8lHMtIWZAVnkoe/0FYMCRAMqsMPYlwIkqiktNznlAAg5v9EZBRsCb4ebczQViwOqJ9S848DxAipk7hsd8V0C4KBCXEZdnwPgwG1fnY0/AiFcnk8d7T0BvMAHhVt1awPwFK3wHxXdAxsyNIaY6Z8BusfKK5gFhwCXjL0hSvmBAxTdmPcnMNEDgyjneQslkwJD4ZeA/JkdAcwu4j2qTacCo1Qp1HTpIwI8CL8L1DmTA6utu8ZVMX8AONZNVQGdlQHo6NkaHLETAInRIMrv/ckDo37lpm040wDWlJ4K4+nFAIDi9yYaxZUABO9/HEfVfwJF0XGqcpFjAHACtNTHZZMDKJBduOeNmwFuN51JqxF7AouTEJ0feUkBZOr3JHtNYwI4xt25AQ09ATT7am+uoN8A8wKn/s21jwFtD394csuO/HcLCzwNkasCd+zLbpF5qQCY2yJ0bmmBACWvjz2sIV8DCrsHO8AREwG9TOIAWhVbAbKP01QVVI8BxXSB8mg9WQCAgHK53NW1Am0hicA+SEkCPkPH+RL9gwAyvoW1c2mDAQxFkmxPzUMDgVc3ozotLwIBTrifermXAWhqwvoi/SsCTdL1C2RVlQO/+jsDkmzLAKXumTrYuVED7j54ebZVZQCn9+R5RtmTAGYoOSluKScAHcrbYoJB0QD3YZbPvJV5Al6v13UcqNcBJqIKo6iEywCTvPjSynVXAF4Hhj4kbK8BrHfUZG54qQGJ7NR934ldAuKBPHRB4S8CxC09vSkxEQNj8yWmpc3JAASfYxaLVXsDsLFiKYdZTwCN5ApR813RABD6+AdcDREDuasYPces4QAfRM0f+0TzAXEcBLx1VcEB2gEm4nF9rQP1SVmg8K1dAxiUQvNjOYMAdbjPZO9VHwPPscitGc2RAPjhJzw/sU8B1vlCsuyBeQIg7Tk8tiV1Af4jK+4/MX0C7A0yC2XNdwGOkxxG1BVPAKO+iesWaacD6FDPlg8lgQDXz5MQ33V3ALN3B+lpracDMLaKLGUpLwJXHrI3ua2NA6BLU0/wfQMAPGMUre7pcQJyUx9bfM0jAbUmCuA6zXUCDtncUkHJWQOQDcAEWoTpAsgxr0rHtM8AShfjU8MVuwApmInseFktAHs4hOk0YYEBI4CarF3ljQHsTM778iGPAZ8h9MGemVsAS81d+ALX4P8oNDqtGz3RA56qrJhePMMCUS1MEFZxiwJJ8PVDYgVnAh4xSIFo3H0CrlDSgFORowHxn9PbabFvA9ajkfE5dZUAgNntAft9lwB9493gj03FAQsV+hWkfY0DByN3kw4BkwAeqTXSLckBA4EvY3HZ1b0DimK2rYqU1wHcgJ8+sbmhA/kbHAmsOYsBPdjE0xaRdwD6Ue/d9WzlApV372p+ldkCVttnk4pVjQMX+BKCatElAPoZVDUj5PkBwbzQOt7dnwNUgwwfxhWBAN14lwtW3OUAksbQSTopGQDfIkFHu3WbAFUNDeKsDWcD8cC290E9UwAZfTSWY9F7AGRJh7fjoGMCzoQQpb6BgwOvlGELE/2RADK1QsHdlc0CNHdn1DbZpQDaknUvMFV5AOqPEo+scW0BzIueXc19WQEf8BFm2GmdA0acsDL0NVUAGVh5uUExqwBKF+NTwxW7Ajoc8ohB4U8AFSp0bUyJBwEsnI0fG0ThAHvJfs40YZsDWFf3nUN5cwAw+06OFtWVAiABI1acXUkCBan4G+1NbQNolP96HsnNAwpYOxkUgW0BAFDGiMmhHwL/05zHMP0xAVb3IHGdKZ0CuC4Js3EViwBSnohkbdGZAkyxFw3gBX8ADn10+PVRcwHBs0Y3Ls21Azuy0svZcacCO2598/VtgwKW6AiGTjnJA4MNeDqn/Y8DX43eGueRUQLDGnZe0R2dA4dcAy9tMRcDBLdWE6ZRawMH/lZ4KBV9AjAxEXkDzScBD0CilL9hhwMJcJQUiz1XAcKW6RY5UWkAQvk2Vuo9kQI5Ay2q4RlBAOTG2uPXbRkCjxODfDyxgQOSWlvuquXBAS61Z+SypVEAJWJizl0sowFlzu//2gW1AQAnkq4UbXMCSio8buLxWQMofOBqmSWDAHKJCABiZWMC/PSAaMfArQJFbjFXOC0tAw6HtnTDPacDDF/dGft1hQISy/9hLyCNAZNGAsZzlZsA/oC4opIxHQMGdcZNE/lRA5pel06uSaUA9COxjvtxiQFnoZLTpikrAaAHlf25mPEA8+JrLNBNyQPaH0yk45XtArI2jm/eZQsC+gumC5NY6wF+NnlsApHBA8/96YBpDWMDDoe2dMM9pwJ5dab5Nl3ZAbjoq4QkiRcDWPT7qheRhwGxWETyukldAiLp1Um74TUBNdMaXV9YSQBTUUOaconVAw3tCiDxFakCv1HKVI+NRwPu/5VnZRmlAqu2cCUcSXMDzK2DS92ldQBrPPJ2tUVHASA1xjsfuRcB3OhjZg50cwPlIDzaNplHAtQTQe3k9TUBUDvEb6wg/wCas8ChvZVXA9VzyakqdXEA5XE6dlQdsQOPVcidfJ0PA7uT5khFRC8BzC7iPapNpwLshkV5Z5CLAxbInkH/zYUC+WdDfz/1qQEg+ldNmL1/AIyt/xwzVaUBhNEeWvRljwBKF+NTwxW7AzMWelJnDQMBb5VBWeahhQEJVcsvO5kPAy/eyLO03aMAShfjU8MVuwGi+34zCNURAj/H9aW+AV0DJrF5eLpc4QFMkJpfFelNAmiscpzC/YMC9Ji7/5SBFQJD6O4pE5GbAzTXGZ4MRZUCG4Mff8GFuQOp0xn9sq0bAIVXKnwq4Y0CU5yCzFlFawOFt4MHu8GDAVovJSQnjYEAgFTklvb5lwEpqpKatjTjAzraGids7X8DA6MC8uN1sQOTElRn8El1AaqSPPLPXasAJvVGTIP1gwMXV1wNTj2xANfoEbg7HacAgJDBWYrlrwC49Yetwf0XAbto50BtMYMCjRwBpYuVlwAdIm6gEtGVAR9bZ9t+qZUDBkRy9iK8rwBKF+NTwxW7Acl4/RhP6Q0Awt1yuEQJrwK72LOu6iWfAHpSA7yrNV8DrkK3+xV5TQHFcyDaSF1vAE186rfiXUsDH6a3rmyJkwIZnyVD6sWPAomiNCj0JUEDA9r7hH+JXQBKF+NTwxW7AkmOYZKp/NkDunx7nbTtZwP7gzYGaQWtA5pzhj757bkB6rSryH5kkQJ1MV1bWHy1ApDHFSr8BXsCSvMN99apGQEr8JcwSXGhAzXBNNjHxE0B5yaYKF29qwJkZbRBZ2GtADBKJtRV+OEBcobPea5dOQNn96i92wmbA9tiRA2L9YsCeLcFctTxpQAKamEa4HWHAolaCl9XTOUBXnIfmXE8dwIe68wR091tAiFzeAo4QZsDe8DaJh3haQCE6vqCLCGHAW6TEFuXRW0B3dvvDG2VjQOvhwtvfflFAecKq2YgFO0DTrG/24OdiQLjNZclX9zPAo/Z/rL0CacD8btbb0xNewJdUYvXBiVXAnbM3R0Mhxz8LbJl7t8pdwHZf9/2ZCUzA2++G4c//McAZR3sPP4NdwOUCxyem6WFA6f/SxiRvcEBp68cuju1VwG/2o+5DMlbAIR7Ko8UeZcA/2vGtkQ13QPg5yx1wBBNAw1itFZucNEC1dsy9gsZbQL2FdutXpVjA1jSV8GTKUUBx2haMBqdgwP06St6EGWLAxch9UUZVVMBQdUTpRPNbwC8mfYFJiFzAWBsblAlqUED3P2V1501qwFlmN5/LdVbAXxkqXtFoY8DYM+aEcgs2wIFK8+dgKUNAFY8ci8ZwNUCVvMFE7y9JQGHKy8PmB19A6zT4hcwkV8BhdbLNnoZAwEzAnAFqb1rAKSBrpiygZ8BN0OBFdvo9wI7Z0ggYfF1ABX0AMc20aEBytHgAfB1QwBu+f2ZytFXAZxS8qcoBTUD688Dff/I2QOtErEuYpl/ABr1x3uueYMCNL9gC/2lBwL6j/v3DUVBAcrBOpW7sZED9UBYrj8JGQHcNOCOlhlPAgLKRpZbvYcBEl5dB6YVbwJge+QFNBVhAK9Yw4di4dUDv2bBWK9dpwNYe8GypW1vAp1uGxgvLVsDxve02n1BdQKXk6E2+x0LAmAb2BxJWQsDhsPZTThJWwMaL7vfXwl9AcQgLRv1rYUBkY1IdUylgwI1O2GZvdlvAQF8GGngicUBKVl2KIEtZwAoxhkwleGfAtKpmjqmjZkBB1cs1vqhgwFZokTnldmhAnzSpIaDvVUBjIbhXSZ5qQG979wqDMVPA4+Dzpe4GZ8DsrjFn1EhkQDKmS9/JGE7ApbvNqxXiScDb+3uaTyEhQMWN3AuOZWfAh0w44cOHU8A4pQbx8OFzQG4a7UD38FfAFe7k9zlzYMC280OuLOJhwBL34gBirnNALQrdwp8qasDkpgBUTatUwOjbVRofwWNAzsgIFDGaN8BZd2PqgbpjQF4R55qaEGxAvhIgk/ZXPMDjfCjQztBeQB0WMNxQiWxAtSJxZFYhVsD6z4zt67JewOJc49No+ldAv3U//IyqM8B/zBOZIGpHwNPnbQYrEEzAEoX41PDFbsBJnLaQLIRaQBAuySTHknJAUzTi1PqPSMCi3w3jZd1hQLlpNDGRL1XAESSwa8YYZsCVm+0/VEZiwMW0PdDhm1XAC4d1eRNOZ8AShfjU8MVuwCt0nQUKeGTAjn3X4gwXbkDDOT4KAOZjwE5h3/+pcmlALMQ1ric+WMCg3G6UldNiwC7t4WGkzGNAMTN1n5AHMEAVrTRVmB5WQCfaorK4wWJAJjU7VQlFWUB5E2vD3NwxwLWbeqDTjmfA1FDYWkm5RsAybdgETEVuQGg/9RTMlGnAeD1rSJasQEAES+0mdJsgQEyM00pCxWPAUXZL1FjAeEBygGu1AhdXwPIyxE00ees/zHy4tUswUcBajT1IcWBHwKh31ucl1VzAx80OkMTwXEBWShlPTXdSwN3QZjy4+zfA3alXBSEEaUBH+SGk4VBdQAq7n2oV9S1A7jw4bxOjXMDo/5fqnbhAwHfqu+p1rDlAXCzuYuUITED2yurj7iJXwJywKmIpQ0TA8uf9fN9FWsAOg+E4SG9GwDIrJVY6PEPA4G1EKh9sWsDgP1kCZu5eQMyGzHCDu2dAjPuuaRLYeECH8ZM0i+pawBa5Waj3iDRAw0SHBBoLNsDuOVH0g0U1wDVF9wAaC21Adk3mjINmMcBQddDoWC5cwClu1JSXyllAXChtTF0PU8CAoxaDgWo8QH2uIpBx3TVAK8Cyc0ELXkDiJ2zzV9xawCvplLJh0E7AMLgvU1V4a8DvLeISNQRlwB7Ja7Fo7GrAPgh8YR/5PcAD1TCP7kVlwFx3dTjOQmnA5QI215THK0Bsxvlh73dgwKDEpFnx3WHApY1+40jQa8Av3DmYoaRTwKXU2lwxmVjAAKY16z7zXEAAiKEZTXU/wCrnbvFVcGPA3QNZ4bfGXcDox9vclepqQJZTThkb2nBAXUbaq8DXSUC2ZIc6Z2xUwEEIKp6dClzApeF+WXUoVcB9O7sHnN1LQJnqcDnmJmzABHCJEpDvacAShfjU8MVuwKuZKP9Wt17A7FjwWbrSUcCwTdJb4N1nQGQJs+C+K1tAcey51mMFRsAbnPZvNoFVwMCZi5iAHlJALslSK2BvcUAA3wngWbFVwKXFmLo6V0rA+QqvwpnaaMBzR3n4epFQQEuxPGSWHgTAuUYJFMVkXkAVAHMJzgBiwPZG4mhJADbAPYiCA7gOaMAZ3fpgCWhkwI9/o+41rGPAajt/8uEsWcCGThjb940/QOv2bFnobVJAocSQZqnjREAnliZ14s5gQA3agQyohGtAxf0m4aqPE8DogrlGPswDwLqCqaxW1mBAEoX41PDFbsDKT5kBXERSQJc198vBTnFAq7jooFEaZ8AShfjU8MVuwNhjuHqSSG5AVD9/47RTd0CJWHejFcNJwC5ulL7+X0XAig0tD/ERYMAFCpE1fnBawNooEmIz7CRAk/3rSCaddUAsr/8pB6l2QE+SS5hdJ3dAC4sOH1GtYUBl7RItndtowH/X9Lv741jA3ket/II7Y8AShfjU8MVuwAOcWX1dhVvAe9hLOAZ1ZcDuZDCgW+xSwOfbatjrHGDAbWiGlhxjQ8AUpCwcBhZZQOmadUtcl1xA55uUaFJiUcDNGPL9W1lGwLvsk2wH5S7APy8//Xsoa8BI7j1dijljwOiMPxqCt1XACh2ucLi1YcDUEHJw5whpwEXY1taCvx7AIy0IHTOQc0AG9RnmGe5HwFZ2g69S9mPARhPp8KwQZ8B+4ZbHP7N2QPOfaxtVMVTAQbG1+iaeOMAYiKdOFXJVwKXLLu9CslLAaGXCDP2SYcDOIXD+eTtTwOy0Rssv/WDA86ppqarJZkClpg9Ola1owE4ySoqsXWHA+G1/TfGRbEC84Lij8pJZwNVoBGL2mg3AfGvIfG7QZ8Bs4eY+3GslwOgrt6mHqFBAFxvsLFI8G8BN/xLWnkFQwA+Snl91wE3AFwg+gGt6ZsDtGDWw2ZBhQHBng1DhBQ/AHYMm3uJAXMDK0gS4E9xEwEf6Fka20HFAIH6JKVH5bEC5nhQwla5UQOgpuUCFVWhAvNbWpTgsWMDNKyWjc3dUwKHiRPAsLBjAlOO70FARYMB1aNJFmVxgQCqkc5s3H0HAz6k7sG1oaMC7Ri+mQIFJQI/vbicup2fAP2e90yh20T8dgwsytmc5wEmEQWoF+kLAb5aq30w2YMDFKGmIwhlcQKTTojFjQ2HArpBxZAzSVkAShfjU8MVuwGeOcadalmLA4A8HusR3YsCeS7GgoO9ZQJLv7MyIKUVAAzKGMs+/KkCOezhLUUk1wBFAfudSI1nANLrCYPHXYMDSDDfFlZRjQKgrHnxU7GVAspAWYC2OUsByX+QFScFHwHITrcPjdw5AEhosCvsee0D3nBDmOedIQEnYuAuZ82fAxP75AfYpXkBesh7mrA9TwDDvs8m4IVxAx2DU4A+yYcBnOCAjqFZwQCbfTqC4RERAJ3bLYc7sRcD9GZ0vI21ZwNezgeD1g1vARIvviaUgO8Dnll0OVOpwQBBD9fF3x2PABXi7EN1wWUCGctmp5U0uwADMh1flv2HAtSfNdihCQcBlPYBC6xkuwBHAEuQttWlAOdImNnWWXcDPfDO9WspkQBKF+NTwxW7AfVzpzr4KUcDzDR86aP8MwPq0zmtGxWPA9q0XeW3LYMAwtMoDu2dhQAi1y5Mg6U7AMa1v1F5DYkBTMLDotcVkQLlSQPLdT1/Aq/Wd0X68ckBSVlUq3R1xQL61D7TLiz7AgHmXQlW8U8Cra97YAQFlwAH0MWa+ZHxAzx1zUdzVYcAjQKVURBczwL5ZDUeasGjAlxgFUbRgXMBGQnzaVihawLomK7knjzlAmTwqjPGYZ0Ak6pgd+udSwMbxIP5NiE/AEoX41PDFbsD0B/3HdRRdwGUdRGyj7VfAEoX41PDFbsDrz17IJDB/QANT3KCOKFvAev+QMof7QECd3ZAbaWBFwKRaHYHs+2dAqBpQwvQTcED61Rkq7JdhwGXfmonSi13AAGQ4gXGGIkCKQGc/AHdnwB25PAzaNlrA/nrAqt/AXMBlj36wQ3JXwI568mdCy2XABsjH1F7oUcA6tkJEqm1UQMUZf6UwZ1HASZ/WgC8PU8Az0nUVGwM5QLaJGfpuAlfAPk14ulKKZsAb4Kbf+I5YwB9zc5Q57l3AF329wsUjX8Af9VkmaytTwADb0QoGZl1AeWBiYtKFWEA10OXN/v5kwLjsbOIl1D/AIF98mZJYZUAwZn9vnbZbwK8BJdrwiGHAutswlZghY8DAFCjXoUUhwP6sG2mWXmRAk4SAl1VzZkBM0foEm01jwJXsezGT7D3AxR0CrFd4aEBYXmlU6FRFQFWUWP5lg2HAKRm3QCP3MMDqGX80EvFRQLg1xfo49GHAkQjpSlTRZcAbSh3PbhVfQC2EOQHPDWRAfrq26nTmREBtaNeqtIxXQOOnNFRMA2fAnXxlnxSxXEDZTzoLEr9oQD3+T83xsVjA4VtdcNSrWkAkMaezz/pkwDE4sykK6GtA+l8ySZUwZUAsirkpTPFrwPcnXfqxB2NAjSWLiVccKMAmNj5el+xhQG6Mi0uUw01AYctJpNBkQcA5bZBjp51nQCv0UFc0fmTABZ4+yIpmX8C9VvHX9lBKQO07HNMl0WHAc7Cd3e9GZ0CjNAx4O4dbQFz09L1XgGLApM/1sjqdZMBcFR2KiGlCwIPhC+Hf6F/AZvbKIZ3aX8B9oUDaB7tlQMCBVAm9EV7AxcI5GZXaUcAAtO3Nf2dSwJMbrxtWvHdAirPnL1fVYMAERHQUn8VpwLZJ89gnKmfASab2faVjWMC/MOx4Qj5YwLSus0W/6UhAU193j2lwXsABzkNqlchnQFJ+/h1HfkVAHKHoEGGQWcA77W9AkGtnwA1XaoQTwErAXVDN7AImY0AA2Z97xuUEwA47Yey+nVFA9XVOYnQlZ0A436H6PLJ6QC5m1lAQwHVA4g+RHOPMYkDkaApHgDJYwECPUTZucFtA9BSxDcTPYkDmUZgk7NpgwK81hG9Uyz7AEoX41PDFbsBU25jf3IBrwAz5EeOeFGTAEVr6LJLVZcDsKljBmDhCQMDjFZvYIG9AqLs42dF1I8DaLAesvnRuQP9DKynVVydAnkW4xpzzckBX905+JwNAwBAe6ELdL0TAFbixlBzlWcCzkZFecuRwQGaaDH9r1EHAEoX41PDFbsBl35RBeB1ewApT6MRnl2xA9Ynvz+8wOkAsaI1UvTFzQEWWK5e20DdA2rZ2sLgwV8Ca+cmVkwVbwA5qCHhOrFRAKHFj4fXGZMB3ZU0ozAdpwPL3osbhbEJATIt9rQmDdkDpvmnyWuBOwI0FOj+PxGLAR3+Tc3x9SsCyNDiaHMwbQCrtXRKpr2NAVtCbdEAkM0DLepE8sxBXwOSdr7pYnFrAWLddZUCZTkCHuML427lbwEu5ISpsGHBAyBmF/ZNEJ0DaZBTj1FZSQPsJ3q7RhG1AjdyZ1TsxRcDJZlUYa41YwJB/BgvGw1fALzJT1oylZcAShfjU8MVuwCYd0BMhenJAJRxxaoIc9L8P0xmomhZWwBWOpXSbnmXAOJlpe2NRW0CSrcxXtG1CwO/ktBK6KT9AjWd2GrvxYMC8AnRmS2xpQLPQIspyYWFAyKKiP3Pfa8Bq5HIw7vtVwBUoeLpns2lA4Od3cS97T8C5cTugbQtNwB5zKP3swVZASpaBWWOTUUBdcUsYEDxVwOvFQyNwSVPA3qS6f3VOO8AFnOLAxKduQEwLQJz4pnFAyiFq/GCvKMC/naMDqZhUwNCAddY4kVjAc+sWdpLvVMChTKLA3VVAwEq0C3igK2fA7nEjhoSXOECcQUj76N0jQBOkKTCIjFXA0mvQBXVsbkDHOaPv26NmQEz8+5aaE2PAyKUibZj6cUDhF2JT68FqwO7KfvnTY2PAbcPMGNPFYcC3MS2SESQhQCqhii02YmNAoXvjrsujXsAqpOfY73tRwFp0CaPDW09AVxJGSWEJVsBJjJuPQWNjQB5AJEojb1LAW04/zVCYZMCxir0ZfZEeQDlu3lumRVLAQ1m9BX8VZECl0oa14pxjwICpX+6nfmFAbmN2EAsDZcCb4stDJpJXwInWX8Ho+j/Al2Sb2chOdEAuv35fRBhiwIiD/IL6e1xAKoOEJxf9TkAQ8omXtIdqwBlZgzybJlZAQvQn2qZCUsC3cLe9qaxnwNsNIe4TwmFAXiZKy+f1XEAiiLtlxrhiQGTwYQrip3NAUaAX5VR3YsBkklM/axAmQIKPEv/HzGHAfmHWKPlqR8Dfxar9S0FSQBiDUZFS7mXAQVv77ML+aMBpnjCKex11QPOMP6kPHEZAyMEPz3RpWMB/ONZSuQs/QBaY8PU+11nAjIP5QF68XsDbgStPW1A0wKfsV9a27U7A9CK8rtFpZsCXn98SLdltQMtQfsZT3WBAoZsc4vR7aMCUwu377PlWQFe+KkskdnFAGz+OZZ1mUUB3xI7GwxBVwEKNv6q0s1tAqmGDAg0xSUAinKKwoHVjwMuoD9RYEWLAAzjmJ2UbZ8BAksdaDfFGQLzwxSxwpnRAqakeHcb9aMCFVjrqeEpSwGgSGGmxL1pAuuvHGz2gakARwOS7OD9yQPt27ITtNF7AexLo0MK3d0AL1DpumBZlwPMLv+j2DVrAL9OSd3HBYcDmG4Y6iTxgwI1aWoiQATDADniDM9TsYUAxPO2I9G1NQEjpOiCIZUHAvPJXvE+DK0By7kSGnUxjQJzk4OLRk1lAoAQSRvJtdUBDJX5VUntNwPNT/guLQFZA/DCtNPH2RMDnvK3mTN5TwC+5cKEmfDVAE/7QKIp5YED3EdGDdlliQCIb8mSPiGLAQwXg7wTfUkBioW0HTvtUwNkO2KIB3BBAXe85mVQuZMDrf1HhJLBnQJoi+DH11mbAfcIsKDoGSsD1sOBKJZNNQKo4SpM7AgVAgREwwsQIM0CjhGcT5S1SwNQQcnDnCGnAE+UxZJsrO0Cie4cg7QX6vzETO99y0RZAcTEwBsbsRsBY2BqCcdJRwM0HSyZEkU9AAkMKuz5JZUAuG7hqZ+dbwMfubMFgDFTAykZltQphWcBU0iKVthgtwOZA8Mj6DFDA1lWRwYfuUsBZAO+MZOFawNf9kNMKmjHA9ehlGlknS0AShfjU8MVuwDX6BG4Ox2nApmXjqQBXPUB9Etz0RUZcwGFcqzrfaWfA+PKgYCIGakBPbLlk49JRwADnJgXgWzPAseT/48/5YcCdvdV+q4NZwNYGje8x80FAXSmEsHTbXMC0tun2e2hjwIenYqzKwkNAPIQ7dhf2TsBsGbfxtE51QL8CdAnFdlvAbGLxygLuZcDpLrP7q7BVQIMUUvaodmDAWfZWMRNOVkBwUosfRPZkwN4BtwMn32RAVVWpntCLaUDknGWw7mxmwHnDJkSKXmHAAbTrOTwtZ0A+bBFJRMpqQAcaOuIC+E7ATgM5MTRAakCjEZ8qK4lVQJKYJEDmVljA/vT4uTtvTcD5umLST1NqwBqA95XLUUlAE8aGfk7+V8Br3ByZRFdnwLBK2tDIl2nA+2VyeMRCT8D+D21ad65WwC/J0hlM81pAVm0clm2pXkD3avtTtqpJwLf4qQfZgk5ANyJUph65UMD/jnn0p59jwKNHAGli5WXA7Cz8L4b1VcBlKtvmovxoQAASE1ZdjWJAs1nX+MW0V8CCdp3HmRESwKPY1yRVUU9AQGX9+jRBRUA8+Yqm1Q5NwKrIyyOGknRA7hyLbfcNU8AzOJy3V11jQF2meeBB9F/Ae7JE3KBJVMCkZGYRYzBjwOEsKm691UBA7rU9koFTRsB1YwQXKq5XwFNzx/+BNlpAIg/+mRslc0AwuC9TVXhrwG3e2mKPA2xA+5SRy0v7WUAc4UmQAjI9wFpAWa3h/R1A8VXy273qakAdJJT+RQdoQNVF8X7as2rA3LS3ZvVycUDEfhO3X2xiQJBkumA2L1TAv+E6WrDkJkCTMfbWPspTwMwz0dcgDT1AkIYo+2pxPsA78C+wV/0xwKBRykKmvkHAtqNLJ5lSZsDsML2nyXlyQFjPpue/2EBA1WKtKmsiXMDRtWV+VMszQEJkvuG07V7AiEPXYkKpTUARxj6DqNtoQLEe3C/QTGtAkhwiIF+SIMC5f5XZwGRsQHS0oHgTNj7AhvKIrEaUTkCMeSPHK6pCQLUtbkLF5DBAOgAht548YsD/UtoidnRWwOOnNFRMA2fAB1BBnMYHRcC0fp7tlvdzQI4I4NbvthTAe97Q+5k8UcCf9zyfmJZHQKiHHFqEoUtAFHKWQKnHTcAM919RaYDwP+tpl637n2JAL7/I2eugW8AuK/Tfzt9ZwK3LZseLpGhAEoX41PDFbsBIXNHKtpc5wO7ZCKNsNydAVw5pqht7aMAVLh0foYRYQM1tFMLzAGrAN7jtwaXabEAlezQGQLFZwC+ctBx6y2rAKG4zIJXbZEBJebAVL+FQwI9nEp21FkjAsI8XfWTwSUDrKaLdhegswHlc3QI3DllAgRBMb5qNakDUt0nCxTtowDNRI9KoU0BASLDBm3RTZ8ALit+hMIFaQL8whLIevVLAxjXmsCeHQMCAistyfy0DwEvSbTchBGHA5lIBnfpGYUB0PsQPQkZUwPk4jRnUrlZAA2ogDX5hZ8CQuy4P6FFbwPGumYCA31DAfr8Zs5NOT0BFXRTgj9wFQE6sd7o0Q2BAkMSyBppTYUA85Vx+q74rwCrelzDRvWPAGGjgsKgGZ8D9pngku1FhwNZRzYTO4W9AHjUzcxrAa8DeT6sNmnhXQNm8lY+y/mLApRL1zHwze0DZyGTpydpDQGZg5/SQOFfA1ONv87d4aUBEl84ljRI7wC7kM8Gpde+/jFMKDY5QYUD5dbt/rxooQCxiNBJu3D5A1FG56CB1a0AlmbZgouVhwA2b1IgR5lbALIGqI6q8XMDpF4gxgrtZwG1sMCyuX2PAtPaYHpAZT8Byweg/YH5FQBWmBPUckHRA3MeHBhfaTsAJ1ABEbW9mQEd58WbKHTLA765MMx1BUcANQS0NcZ9kwMg/O/Xnph5AVyawLVnSZ8DLooyy3OxBQA==\",\"dtype\":\"float64\",\"order\":\"little\",\"shape\":[1280]},\"y\":{\"__ndarray__\":\"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\",\"dtype\":\"float64\",\"order\":\"little\",\"shape\":[1280]}},\"selected\":{\"id\":\"1161\"},\"selection_policy\":{\"id\":\"1162\"}},\"id\":\"1107\",\"type\":\"ColumnDataSource\"},{\"attributes\":{\"active_drag\":\"auto\",\"active_inspect\":\"auto\",\"active_multi\":null,\"active_scroll\":{\"id\":\"1126\"},\"active_tap\":\"auto\",\"tools\":[{\"id\":\"1125\"},{\"id\":\"1126\"},{\"id\":\"1127\"},{\"id\":\"1128\"},{\"id\":\"1129\"},{\"id\":\"1130\"},{\"id\":\"1144\"}]},\"id\":\"1132\",\"type\":\"Toolbar\"}],\"root_ids\":[\"1108\"]},\"title\":\"Bokeh Application\",\"version\":\"2.1.1\"}};\n",
       "  var render_items = [{\"docid\":\"ef7ad904-269f-471c-888d-05764d79f364\",\"root_ids\":[\"1108\"],\"roots\":{\"1108\":\"dcfcffdb-184d-4ae9-8c09-7f1c08096f47\"}}];\n",
       "  root.Bokeh.embed.embed_items_notebook(docs_json, render_items);\n",
       "\n",
       "  }\n",
       "  if (root.Bokeh !== undefined) {\n",
       "    embed_document(root);\n",
       "  } else {\n",
       "    var attempts = 0;\n",
       "    var timer = setInterval(function(root) {\n",
       "      if (root.Bokeh !== undefined) {\n",
       "        clearInterval(timer);\n",
       "        embed_document(root);\n",
       "      } else {\n",
       "        attempts++;\n",
       "        if (attempts > 100) {\n",
       "          clearInterval(timer);\n",
       "          console.log(\"Bokeh: ERROR: Unable to run BokehJS code because BokehJS library is missing\");\n",
       "        }\n",
       "      }\n",
       "    }, 10, root)\n",
       "  }\n",
       "})(window);"
      ],
      "application/vnd.bokehjs_exec.v0+json": ""
     },
     "metadata": {
      "application/vnd.bokehjs_exec.v0+json": {
       "id": "1108"
      },
      "tags": []
     },
     "output_type": "display_data"
    },
    {
     "data": {
      "text/html": [
       "<div style=\"display: table;\"><div style=\"display: table-row;\"><div style=\"display: table-cell;\"><b title=\"bokeh.plotting.figure.Figure\">Figure</b>(</div><div style=\"display: table-cell;\">id&nbsp;=&nbsp;'1108', <span id=\"1219\" style=\"cursor: pointer;\">&hellip;)</span></div></div><div class=\"1218\" style=\"display: none;\"><div style=\"display: table-cell;\"></div><div style=\"display: table-cell;\">above&nbsp;=&nbsp;[],</div></div><div class=\"1218\" style=\"display: none;\"><div style=\"display: table-cell;\"></div><div style=\"display: table-cell;\">align&nbsp;=&nbsp;'start',</div></div><div class=\"1218\" style=\"display: none;\"><div style=\"display: table-cell;\"></div><div style=\"display: table-cell;\">aspect_ratio&nbsp;=&nbsp;None,</div></div><div class=\"1218\" style=\"display: none;\"><div style=\"display: table-cell;\"></div><div style=\"display: table-cell;\">aspect_scale&nbsp;=&nbsp;1,</div></div><div class=\"1218\" style=\"display: none;\"><div style=\"display: table-cell;\"></div><div style=\"display: table-cell;\">background&nbsp;=&nbsp;None,</div></div><div class=\"1218\" style=\"display: none;\"><div style=\"display: table-cell;\"></div><div style=\"display: table-cell;\">background_fill_alpha&nbsp;=&nbsp;1.0,</div></div><div class=\"1218\" style=\"display: none;\"><div style=\"display: table-cell;\"></div><div style=\"display: table-cell;\">background_fill_color&nbsp;=&nbsp;'#ffffff',</div></div><div class=\"1218\" style=\"display: none;\"><div style=\"display: table-cell;\"></div><div style=\"display: table-cell;\">below&nbsp;=&nbsp;[LinearAxis(id='1117', ...)],</div></div><div class=\"1218\" style=\"display: none;\"><div style=\"display: table-cell;\"></div><div style=\"display: table-cell;\">border_fill_alpha&nbsp;=&nbsp;1.0,</div></div><div class=\"1218\" style=\"display: none;\"><div style=\"display: table-cell;\"></div><div style=\"display: table-cell;\">border_fill_color&nbsp;=&nbsp;'#ffffff',</div></div><div class=\"1218\" style=\"display: none;\"><div style=\"display: table-cell;\"></div><div style=\"display: table-cell;\">center&nbsp;=&nbsp;[Grid(id='1120', ...), Grid(id='1124', ...)],</div></div><div class=\"1218\" style=\"display: none;\"><div style=\"display: table-cell;\"></div><div style=\"display: table-cell;\">css_classes&nbsp;=&nbsp;[],</div></div><div class=\"1218\" style=\"display: none;\"><div style=\"display: table-cell;\"></div><div style=\"display: table-cell;\">disabled&nbsp;=&nbsp;False,</div></div><div class=\"1218\" style=\"display: none;\"><div style=\"display: table-cell;\"></div><div style=\"display: table-cell;\">extra_x_ranges&nbsp;=&nbsp;{},</div></div><div class=\"1218\" style=\"display: none;\"><div style=\"display: table-cell;\"></div><div style=\"display: table-cell;\">extra_y_ranges&nbsp;=&nbsp;{},</div></div><div class=\"1218\" style=\"display: none;\"><div style=\"display: table-cell;\"></div><div style=\"display: table-cell;\">frame_height&nbsp;=&nbsp;None,</div></div><div class=\"1218\" style=\"display: none;\"><div style=\"display: table-cell;\"></div><div style=\"display: table-cell;\">frame_width&nbsp;=&nbsp;None,</div></div><div class=\"1218\" style=\"display: none;\"><div style=\"display: table-cell;\"></div><div style=\"display: table-cell;\">height&nbsp;=&nbsp;None,</div></div><div class=\"1218\" style=\"display: none;\"><div style=\"display: table-cell;\"></div><div style=\"display: table-cell;\">height_policy&nbsp;=&nbsp;'auto',</div></div><div class=\"1218\" style=\"display: none;\"><div style=\"display: table-cell;\"></div><div style=\"display: table-cell;\">hidpi&nbsp;=&nbsp;True,</div></div><div class=\"1218\" style=\"display: none;\"><div style=\"display: table-cell;\"></div><div style=\"display: table-cell;\">js_event_callbacks&nbsp;=&nbsp;{},</div></div><div class=\"1218\" style=\"display: none;\"><div style=\"display: table-cell;\"></div><div style=\"display: table-cell;\">js_property_callbacks&nbsp;=&nbsp;{},</div></div><div class=\"1218\" style=\"display: none;\"><div style=\"display: table-cell;\"></div><div style=\"display: table-cell;\">left&nbsp;=&nbsp;[LinearAxis(id='1121', ...)],</div></div><div class=\"1218\" style=\"display: none;\"><div style=\"display: table-cell;\"></div><div style=\"display: table-cell;\">lod_factor&nbsp;=&nbsp;10,</div></div><div class=\"1218\" style=\"display: none;\"><div style=\"display: table-cell;\"></div><div style=\"display: table-cell;\">lod_interval&nbsp;=&nbsp;300,</div></div><div class=\"1218\" style=\"display: none;\"><div style=\"display: table-cell;\"></div><div style=\"display: table-cell;\">lod_threshold&nbsp;=&nbsp;2000,</div></div><div class=\"1218\" style=\"display: none;\"><div style=\"display: table-cell;\"></div><div style=\"display: table-cell;\">lod_timeout&nbsp;=&nbsp;500,</div></div><div class=\"1218\" style=\"display: none;\"><div style=\"display: table-cell;\"></div><div style=\"display: table-cell;\">margin&nbsp;=&nbsp;(0, 0, 0, 0),</div></div><div class=\"1218\" style=\"display: none;\"><div style=\"display: table-cell;\"></div><div style=\"display: table-cell;\">match_aspect&nbsp;=&nbsp;False,</div></div><div class=\"1218\" style=\"display: none;\"><div style=\"display: table-cell;\"></div><div style=\"display: table-cell;\">max_height&nbsp;=&nbsp;None,</div></div><div class=\"1218\" style=\"display: none;\"><div style=\"display: table-cell;\"></div><div style=\"display: table-cell;\">max_width&nbsp;=&nbsp;None,</div></div><div class=\"1218\" style=\"display: none;\"><div style=\"display: table-cell;\"></div><div style=\"display: table-cell;\">min_border&nbsp;=&nbsp;5,</div></div><div class=\"1218\" style=\"display: none;\"><div style=\"display: table-cell;\"></div><div style=\"display: table-cell;\">min_border_bottom&nbsp;=&nbsp;None,</div></div><div class=\"1218\" style=\"display: none;\"><div style=\"display: table-cell;\"></div><div style=\"display: table-cell;\">min_border_left&nbsp;=&nbsp;None,</div></div><div class=\"1218\" style=\"display: none;\"><div style=\"display: table-cell;\"></div><div style=\"display: table-cell;\">min_border_right&nbsp;=&nbsp;None,</div></div><div class=\"1218\" style=\"display: none;\"><div style=\"display: table-cell;\"></div><div style=\"display: table-cell;\">min_border_top&nbsp;=&nbsp;None,</div></div><div class=\"1218\" style=\"display: none;\"><div style=\"display: table-cell;\"></div><div style=\"display: table-cell;\">min_height&nbsp;=&nbsp;None,</div></div><div class=\"1218\" style=\"display: none;\"><div style=\"display: table-cell;\"></div><div style=\"display: table-cell;\">min_width&nbsp;=&nbsp;None,</div></div><div class=\"1218\" style=\"display: none;\"><div style=\"display: table-cell;\"></div><div style=\"display: table-cell;\">name&nbsp;=&nbsp;None,</div></div><div class=\"1218\" style=\"display: none;\"><div style=\"display: table-cell;\"></div><div style=\"display: table-cell;\">outline_line_alpha&nbsp;=&nbsp;1.0,</div></div><div class=\"1218\" style=\"display: none;\"><div style=\"display: table-cell;\"></div><div style=\"display: table-cell;\">outline_line_cap&nbsp;=&nbsp;'butt',</div></div><div class=\"1218\" style=\"display: none;\"><div style=\"display: table-cell;\"></div><div style=\"display: table-cell;\">outline_line_color&nbsp;=&nbsp;'#e5e5e5',</div></div><div class=\"1218\" style=\"display: none;\"><div style=\"display: table-cell;\"></div><div style=\"display: table-cell;\">outline_line_dash&nbsp;=&nbsp;[],</div></div><div class=\"1218\" style=\"display: none;\"><div style=\"display: table-cell;\"></div><div style=\"display: table-cell;\">outline_line_dash_offset&nbsp;=&nbsp;0,</div></div><div class=\"1218\" style=\"display: none;\"><div style=\"display: table-cell;\"></div><div style=\"display: table-cell;\">outline_line_join&nbsp;=&nbsp;'bevel',</div></div><div class=\"1218\" style=\"display: none;\"><div style=\"display: table-cell;\"></div><div style=\"display: table-cell;\">outline_line_width&nbsp;=&nbsp;1,</div></div><div class=\"1218\" style=\"display: none;\"><div style=\"display: table-cell;\"></div><div style=\"display: table-cell;\">output_backend&nbsp;=&nbsp;'canvas',</div></div><div class=\"1218\" style=\"display: none;\"><div style=\"display: table-cell;\"></div><div style=\"display: table-cell;\">plot_height&nbsp;=&nbsp;400,</div></div><div class=\"1218\" style=\"display: none;\"><div style=\"display: table-cell;\"></div><div style=\"display: table-cell;\">plot_width&nbsp;=&nbsp;600,</div></div><div class=\"1218\" style=\"display: none;\"><div style=\"display: table-cell;\"></div><div style=\"display: table-cell;\">renderers&nbsp;=&nbsp;[GlyphRenderer(id='1142', ...)],</div></div><div class=\"1218\" style=\"display: none;\"><div style=\"display: table-cell;\"></div><div style=\"display: table-cell;\">reset_policy&nbsp;=&nbsp;'standard',</div></div><div class=\"1218\" style=\"display: none;\"><div style=\"display: table-cell;\"></div><div style=\"display: table-cell;\">right&nbsp;=&nbsp;[],</div></div><div class=\"1218\" style=\"display: none;\"><div style=\"display: table-cell;\"></div><div style=\"display: table-cell;\">sizing_mode&nbsp;=&nbsp;None,</div></div><div class=\"1218\" style=\"display: none;\"><div style=\"display: table-cell;\"></div><div style=\"display: table-cell;\">subscribed_events&nbsp;=&nbsp;[],</div></div><div class=\"1218\" style=\"display: none;\"><div style=\"display: table-cell;\"></div><div style=\"display: table-cell;\">tags&nbsp;=&nbsp;[],</div></div><div class=\"1218\" style=\"display: none;\"><div style=\"display: table-cell;\"></div><div style=\"display: table-cell;\">title&nbsp;=&nbsp;Title(id='1156', ...),</div></div><div class=\"1218\" style=\"display: none;\"><div style=\"display: table-cell;\"></div><div style=\"display: table-cell;\">title_location&nbsp;=&nbsp;'above',</div></div><div class=\"1218\" style=\"display: none;\"><div style=\"display: table-cell;\"></div><div style=\"display: table-cell;\">toolbar&nbsp;=&nbsp;Toolbar(id='1132', ...),</div></div><div class=\"1218\" style=\"display: none;\"><div style=\"display: table-cell;\"></div><div style=\"display: table-cell;\">toolbar_location&nbsp;=&nbsp;'right',</div></div><div class=\"1218\" style=\"display: none;\"><div style=\"display: table-cell;\"></div><div style=\"display: table-cell;\">toolbar_sticky&nbsp;=&nbsp;True,</div></div><div class=\"1218\" style=\"display: none;\"><div style=\"display: table-cell;\"></div><div style=\"display: table-cell;\">visible&nbsp;=&nbsp;True,</div></div><div class=\"1218\" style=\"display: none;\"><div style=\"display: table-cell;\"></div><div style=\"display: table-cell;\">width&nbsp;=&nbsp;None,</div></div><div class=\"1218\" style=\"display: none;\"><div style=\"display: table-cell;\"></div><div style=\"display: table-cell;\">width_policy&nbsp;=&nbsp;'auto',</div></div><div class=\"1218\" style=\"display: none;\"><div style=\"display: table-cell;\"></div><div style=\"display: table-cell;\">x_range&nbsp;=&nbsp;DataRange1d(id='1109', ...),</div></div><div class=\"1218\" style=\"display: none;\"><div style=\"display: table-cell;\"></div><div style=\"display: table-cell;\">x_scale&nbsp;=&nbsp;LinearScale(id='1113', ...),</div></div><div class=\"1218\" style=\"display: none;\"><div style=\"display: table-cell;\"></div><div style=\"display: table-cell;\">y_range&nbsp;=&nbsp;DataRange1d(id='1111', ...),</div></div><div class=\"1218\" style=\"display: none;\"><div style=\"display: table-cell;\"></div><div style=\"display: table-cell;\">y_scale&nbsp;=&nbsp;LinearScale(id='1115', ...))</div></div></div>\n",
       "<script>\n",
       "(function() {\n",
       "  var expanded = false;\n",
       "  var ellipsis = document.getElementById(\"1219\");\n",
       "  ellipsis.addEventListener(\"click\", function() {\n",
       "    var rows = document.getElementsByClassName(\"1218\");\n",
       "    for (var i = 0; i < rows.length; i++) {\n",
       "      var el = rows[i];\n",
       "      el.style.display = expanded ? \"none\" : \"table-row\";\n",
       "    }\n",
       "    ellipsis.innerHTML = expanded ? \"&hellip;)\" : \"&lsaquo;&lsaquo;&lsaquo;\";\n",
       "    expanded = !expanded;\n",
       "  });\n",
       "})();\n",
       "</script>\n"
      ],
      "text/plain": [
       "Figure(id='1108', ...)"
      ]
     },
     "execution_count": 54,
     "metadata": {
      "tags": []
     },
     "output_type": "execute_result"
    },
    {
     "name": "stdout",
     "output_type": "stream",
     "text": [
      "time: 52.9 ms\n"
     ]
    }
   ],
   "source": [
    "draw_vectors(\n",
    "    examples[\"transformed_features\"][:, 0], \n",
    "    examples[\"transformed_features\"][:, 1], \n",
    "    color=[[\"red\", \"blue\"][t] for t in examples[\"targets\"]]\n",
    "    )"
   ]
  },
  {
   "cell_type": "markdown",
   "metadata": {
    "id": "RiW3d1mg_Zs7"
   },
   "source": [
    "Создать нейросетку, обучим её на этих данных."
   ]
  },
  {
   "cell_type": "code",
   "execution_count": 57,
   "metadata": {
    "colab": {
     "base_uri": "https://localhost:8080/",
     "height": 34
    },
    "id": "Nl1FSgfnTTC-",
    "outputId": "f6d0d8b9-a6e1-488e-bc35-42810380a72f"
   },
   "outputs": [
    {
     "name": "stdout",
     "output_type": "stream",
     "text": [
      "time: 112 ms\n"
     ]
    }
   ],
   "source": [
    "train_size = math.ceil(len(dev) * 0.99)\n",
    "\n",
    "train, valid = random_split(dev, [train_size, len(dev) - train_size])\n",
    "\n",
    "train_loader = DataLoader(train, batch_size=batch_size, num_workers=num_workers, shuffle=True, drop_last=True, collate_fn=average_emb)\n",
    "valid_loader = DataLoader(valid, batch_size=batch_size, num_workers=num_workers, shuffle=False, drop_last=False, collate_fn=average_emb)"
   ]
  },
  {
   "cell_type": "markdown",
   "metadata": {
    "id": "UdeFRC6YOaEl"
   },
   "source": [
    "### Linear"
   ]
  },
  {
   "cell_type": "code",
   "execution_count": 58,
   "metadata": {
    "colab": {
     "base_uri": "https://localhost:8080/",
     "height": 264,
     "referenced_widgets": [
      "0aa830f93a84489ba1d910c5d4fb264c",
      "9b0e7f367cf6428393c4d7fe140f01a3",
      "449d313fa17648f5a0add763d43156ee",
      "4b5c3bf2a87f4309ad32e8e1ab471fc4",
      "f9fb076f68db47e2a4f32068f4bb8a36",
      "7282f933de034543990209b5fd8816fe",
      "7b2b836e4fff49ed87ef441096c8397d",
      "0c3e2dd43e8c40d0838ba1ab22460538",
      "a8e1c83209414739af0a65c1db579919",
      "f271181164a24a0facc2137c95001b71",
      "9f8930b7ae684eb39b4dd96802f8043f",
      "68fdbd72c3e741a0bab4ae716c027c3a",
      "5afdde7148d14713be04c60ef91bb535",
      "1e28c482f2914e6da6a40e3cf030bf0b",
      "a9502bb67bce4b3493dd6ca8390a7c97",
      "610d3b338b894837b5e65acf8bc56517",
      "13ec197a441548509b2d84eee37aac8d",
      "0a7dee6d03de41bf9873f5fd82dd9d8d",
      "4be10a5fa67b4250bfdac72fc7e0e1d4",
      "8693524b88db44d982de20eeee383c0b",
      "41703b3fad924dc3bef4eae8d2ee4530",
      "f72ca9f70701450ca0f1541e50aed2d4",
      "27c8873ffd4440b88f4af51afbb40480",
      "06ef766117f8475faf3a655ffe7ee3e2",
      "208941655b5a411ca80cff1006c4cf4e",
      "e986bc7a530d44f8b48a7cfe24bd64a8",
      "40a23281fa22453a8dabe9de37776610",
      "09567e0e7cda463ea81483634ba13648",
      "0683c6d5c8674022ba291661521f657f",
      "8fe6fae9541a4947998a46ba5c1f1a8c",
      "185e265a524141078abfbb0683bbd19d",
      "7779fe6d7d484da2bcffb93f2afd5b23"
     ]
    },
    "id": "IpTbK_TETTBY",
    "outputId": "ab956195-9a03-43fb-9bf4-b233c864ebdb"
   },
   "outputs": [
    {
     "data": {
      "application/vnd.jupyter.widget-view+json": {
       "model_id": "0aa830f93a84489ba1d910c5d4fb264c",
       "version_major": 2,
       "version_minor": 0
      },
      "text/plain": [
       "HBox(children=(FloatProgress(value=0.0, description='Epoch 1. Train Loss: 0', max=1237.0, style=ProgressStyle(…"
      ]
     },
     "metadata": {
      "tags": []
     },
     "output_type": "display_data"
    },
    {
     "name": "stdout",
     "output_type": "stream",
     "text": [
      "\n"
     ]
    },
    {
     "data": {
      "application/vnd.jupyter.widget-view+json": {
       "model_id": "a8e1c83209414739af0a65c1db579919",
       "version_major": 2,
       "version_minor": 0
      },
      "text/plain": [
       "HBox(children=(FloatProgress(value=0.0, description='Test Loss: 0, Test Acc: 0', max=13.0, style=ProgressStyle…"
      ]
     },
     "metadata": {
      "tags": []
     },
     "output_type": "display_data"
    },
    {
     "name": "stdout",
     "output_type": "stream",
     "text": [
      "\n",
      "{'Test Loss': 0.2496310552725425, 'Test Acc': 0.4960186298076923}\n"
     ]
    },
    {
     "data": {
      "application/vnd.jupyter.widget-view+json": {
       "model_id": "13ec197a441548509b2d84eee37aac8d",
       "version_major": 2,
       "version_minor": 0
      },
      "text/plain": [
       "HBox(children=(FloatProgress(value=0.0, description='Epoch 2. Train Loss: 0', max=1237.0, style=ProgressStyle(…"
      ]
     },
     "metadata": {
      "tags": []
     },
     "output_type": "display_data"
    },
    {
     "name": "stdout",
     "output_type": "stream",
     "text": [
      "\n"
     ]
    },
    {
     "data": {
      "application/vnd.jupyter.widget-view+json": {
       "model_id": "208941655b5a411ca80cff1006c4cf4e",
       "version_major": 2,
       "version_minor": 0
      },
      "text/plain": [
       "HBox(children=(FloatProgress(value=0.0, description='Test Loss: 0, Test Acc: 0', max=13.0, style=ProgressStyle…"
      ]
     },
     "metadata": {
      "tags": []
     },
     "output_type": "display_data"
    },
    {
     "name": "stdout",
     "output_type": "stream",
     "text": [
      "\n",
      "{'Test Loss': 0.24961109230151543, 'Test Acc': 0.4960186298076923}\n",
      "time: 3min 26s\n"
     ]
    }
   ],
   "source": [
    "vector_size = dev.word2vec.vector_size\n",
    "num_classes = 1\n",
    "lr = 1e-2\n",
    "num_epochs = 2\n",
    "\n",
    "model = LinearModel(vector_size=vector_size, num_classes=num_classes)\n",
    "model = model.cuda()\n",
    "\n",
    "criterion = nn.SmoothL1Loss()\n",
    "optimizer = torch.optim.Adam(model.parameters())\n",
    "total_steps = len(train_loader) * num_epochs\n",
    "scheduler = get_linear_schedule_with_warmup(optimizer,\n",
    "                                        num_warmup_steps=0,\n",
    "                                        num_training_steps=total_steps)\n",
    "\n",
    "best_metric = np.inf\n",
    "for e in range(num_epochs):\n",
    "    training(model, optimizer, criterion, train_loader, e, device, scheduler)\n",
    "    log = testing(model, criterion, valid_loader, device)\n",
    "    print(log)\n",
    "    if log[\"Test Loss\"] < best_metric:\n",
    "        torch.save(model.state_dict(), \"model.pt\")\n",
    "        best_metric = log[\"Test Loss\"]"
   ]
  },
  {
   "cell_type": "code",
   "execution_count": 60,
   "metadata": {
    "colab": {
     "base_uri": "https://localhost:8080/",
     "height": 100,
     "referenced_widgets": [
      "01c8636b6fe14fa1b65a39604fce686b",
      "b0a72f219bc941e8912151ccc4733d75",
      "a4421591eea54529843f1cb8495afc48",
      "093739609c3543fbb465d13bc1ca627d",
      "f06d755241854dfaa8e29433337ac746",
      "9c6b0df505b9444cb301217beee1660a",
      "e2b93ee592cd4703a0a27cc652f77ed3",
      "1404b94b2e3941ed8fadff16c8cec7e0"
     ]
    },
    "id": "ekAnIC9XM7th",
    "outputId": "3b600179-911d-4210-e18d-4a0534b05da9"
   },
   "outputs": [
    {
     "data": {
      "application/vnd.jupyter.widget-view+json": {
       "model_id": "01c8636b6fe14fa1b65a39604fce686b",
       "version_major": 2,
       "version_minor": 0
      },
      "text/plain": [
       "HBox(children=(FloatProgress(value=0.0, description='Test Loss: 0, Test Acc: 0', max=313.0, style=ProgressStyl…"
      ]
     },
     "metadata": {
      "tags": []
     },
     "output_type": "display_data"
    },
    {
     "name": "stdout",
     "output_type": "stream",
     "text": [
      "\n",
      "{'Test Loss': 0.24758679698260067, 'Test Acc': 0.49990015974440893}\n",
      "time: 28.3 s\n"
     ]
    }
   ],
   "source": [
    "test = TwitterDatasetTfIdf(test_data, \"text\", \"emotion\", word2vec, weights=dev.weights)\n",
    "\n",
    "test_loader = DataLoader(\n",
    "    test, \n",
    "    batch_size=batch_size, \n",
    "    num_workers=num_workers, \n",
    "    shuffle=False,\n",
    "    drop_last=False, \n",
    "    collate_fn=average_emb)\n",
    "\n",
    "model.load_state_dict(torch.load(\"model.pt\", map_location=device))\n",
    "\n",
    "print(testing(model, criterion, test_loader, device=device))"
   ]
  },
  {
   "cell_type": "markdown",
   "metadata": {
    "id": "n64UiP7hOP6e"
   },
   "source": [
    "### LSTM"
   ]
  },
  {
   "cell_type": "code",
   "execution_count": 61,
   "metadata": {
    "colab": {
     "base_uri": "https://localhost:8080/",
     "height": 609,
     "referenced_widgets": [
      "497aef53041e4cba827986d5acb68f85",
      "721b5520a54840f9bd7856df5355a0bf",
      "ea4491ab0f064af48ca3733e5c3ffe1f",
      "d1e4e4106e894927a00bc37286967547",
      "610990445c6f43649a46a52a8697e80a",
      "b11d0826e1af428caf0336819dbbf06b",
      "98b599225a494bdfb035869b5e4fe585",
      "9fdcf33dbe554c369bbc6fcf378f866e",
      "1db37dca931d4518851d0f2aea84cd91",
      "7c1304cf8b4a46a0a39189aec3877959",
      "0a7e897ab2954bdab2fb1a342de043c0",
      "0943cb7ff3cb45819ea52e28ebc48479",
      "79df20797c6b4ecc8937a3976ba35550",
      "e4e8198985ac40b3857440129485cad5",
      "aa51acbab0344f06a65dcc43a4894f70",
      "e55ffb350fe741bc89ac5ead22632168",
      "9390d130f1b44e6faeef1466bc3c26a0",
      "43f20e52c2c443f4aec35900409793e0",
      "9488b273627f432887495918597de7f1",
      "cfd68787df7c468e9f2b383e3c66457f",
      "8ea79876b71f4acbbfe02a6f082a3228",
      "3f14aba355ae449490d8eca50f4f00b8",
      "5281edd8f15a4a058fcccf1060ad1475",
      "1c353b5dacfa4a4bb15fa22a75604e5b",
      "641bc23b313f4239ba9780fd82265a87",
      "90fd056eb9644847922e4bd0c9afaf30",
      "613b5c875c8f483faae0b64dfc277557",
      "be858959c1b24bfb80a1ef12ce8c357d",
      "8affe86d62414a1b85c8278aca5971bd",
      "6fb174ca15cb4731ba1e6c1153c56771",
      "3fbb624dc6ba471099d4962207d1c183",
      "bd81e24754614d7382d1c4ea95c95f1d",
      "b815ad07dbc6422197828df344e2a806",
      "2fe9cedecc584403963031dc61455949",
      "3b6d67596cc84eb2b2e47b10e61ff878",
      "ecb65bdec6914cacb1a56e6cf0811fa1",
      "277bc1513bf74fdc832b709c7a503ce8",
      "e624bc30094d4305b2a44504fbbfe7c7",
      "8b073db4f7274a189d57190cdb60d80a",
      "19030d3ce6de4b60a84ff70bb1a387fa",
      "eae86887634048bda218d632a62b5eca",
      "f052515ef30844d7b48ad0ec84fd8113",
      "534c6884bbe9422a853aa908bec3bf78",
      "bd4f9454ccfa49e6a8442d986b239f62",
      "feb95a64a25a485ebe422c929c13b677",
      "89088175b0644623bf81aa54b0d5e424",
      "a1cd9541972245e7abd19e55ec4a70d8",
      "8e756c23c0084288a3e46c7b8898a173",
      "45e541c9de65482699c56d1bd32beb6a",
      "1c6d08457ccc41449d2c6e12a1a90a79",
      "204d68ba5fb14d909d591d0d7c32d981",
      "7f2adafddb174b31a61210fb872ed12f",
      "1fae7dff6243453cbd7e7631887de55a",
      "6229d1d173804159b19b03aa8052316c",
      "b0b6e6a0956b4f83ad6cb951699593eb",
      "764816809aea46e98e2527d04bed83d2",
      "366ca8d43ddf4f4da5d65ec444c2e5a9",
      "07044abd781e468d8ff1cd3323ab9ac1",
      "b872f35ebfac431bb2dfd5d41b6dbd36",
      "35745fae9ed446a5832cc1c12493ff6d",
      "4e1ee3a9e13740dcb9078d4a0b35b8cb",
      "c34dfd3fac9c4e65924e08a970b70757",
      "4b82f6d80f004915a41f5286d62a3931",
      "837fb116f3c64f01a63826194a6d3122",
      "7ec36a1cd2a24ed48544fb6425f94089",
      "a86d9e8a07aa470383aa22567432c111",
      "5453f59dd1da489d9abec7556b518338",
      "3e1f05ef1eeb44d5b4a696648501fb7b",
      "77e62d8a7be34c66b652c843a3727b2e",
      "ba16890d66b14619b2e7355de46e6109",
      "d039d338253245489c7636394235547c",
      "ac8296613b804516b502749399133547",
      "6997517055134f598b6e9f28e7c285f9",
      "4e9d1b42ec2244b890e25081aa58db9a",
      "eb47b344350748088a9cf2b38718cffa",
      "58e694b3e6dc44618e59070af097b2cc",
      "9ef7e59667134d04bfa64ac87b13aa86",
      "7add464f6e9f4be78a100a3eba2a0f36",
      "b82623f356d54b09a75a1fec29ec5b48",
      "df10267da0854e3fa30b06b7022c0d47"
     ]
    },
    "id": "DPOLtrsBOOwK",
    "outputId": "4c295215-5ffd-493b-9feb-5316ef066ede"
   },
   "outputs": [
    {
     "data": {
      "application/vnd.jupyter.widget-view+json": {
       "model_id": "497aef53041e4cba827986d5acb68f85",
       "version_major": 2,
       "version_minor": 0
      },
      "text/plain": [
       "HBox(children=(FloatProgress(value=0.0, description='Epoch 1. Train Loss: 0', max=1237.0, style=ProgressStyle(…"
      ]
     },
     "metadata": {
      "tags": []
     },
     "output_type": "display_data"
    },
    {
     "name": "stdout",
     "output_type": "stream",
     "text": [
      "\n"
     ]
    },
    {
     "data": {
      "application/vnd.jupyter.widget-view+json": {
       "model_id": "1db37dca931d4518851d0f2aea84cd91",
       "version_major": 2,
       "version_minor": 0
      },
      "text/plain": [
       "HBox(children=(FloatProgress(value=0.0, description='Test Loss: 0, Test Acc: 0', max=13.0, style=ProgressStyle…"
      ]
     },
     "metadata": {
      "tags": []
     },
     "output_type": "display_data"
    },
    {
     "name": "stdout",
     "output_type": "stream",
     "text": [
      "\n",
      "{'Test Loss': 0.546238151880411, 'Test Acc': 0.4960186298076923}\n"
     ]
    },
    {
     "data": {
      "application/vnd.jupyter.widget-view+json": {
       "model_id": "9390d130f1b44e6faeef1466bc3c26a0",
       "version_major": 2,
       "version_minor": 0
      },
      "text/plain": [
       "HBox(children=(FloatProgress(value=0.0, description='Epoch 2. Train Loss: 0', max=1237.0, style=ProgressStyle(…"
      ]
     },
     "metadata": {
      "tags": []
     },
     "output_type": "display_data"
    },
    {
     "name": "stdout",
     "output_type": "stream",
     "text": [
      "\n"
     ]
    },
    {
     "data": {
      "application/vnd.jupyter.widget-view+json": {
       "model_id": "641bc23b313f4239ba9780fd82265a87",
       "version_major": 2,
       "version_minor": 0
      },
      "text/plain": [
       "HBox(children=(FloatProgress(value=0.0, description='Test Loss: 0, Test Acc: 0', max=13.0, style=ProgressStyle…"
      ]
     },
     "metadata": {
      "tags": []
     },
     "output_type": "display_data"
    },
    {
     "name": "stdout",
     "output_type": "stream",
     "text": [
      "\n",
      "{'Test Loss': 0.5349873441916245, 'Test Acc': 0.4960186298076923}\n"
     ]
    },
    {
     "data": {
      "application/vnd.jupyter.widget-view+json": {
       "model_id": "b815ad07dbc6422197828df344e2a806",
       "version_major": 2,
       "version_minor": 0
      },
      "text/plain": [
       "HBox(children=(FloatProgress(value=0.0, description='Epoch 3. Train Loss: 0', max=1237.0, style=ProgressStyle(…"
      ]
     },
     "metadata": {
      "tags": []
     },
     "output_type": "display_data"
    },
    {
     "name": "stdout",
     "output_type": "stream",
     "text": [
      "\n"
     ]
    },
    {
     "data": {
      "application/vnd.jupyter.widget-view+json": {
       "model_id": "eae86887634048bda218d632a62b5eca",
       "version_major": 2,
       "version_minor": 0
      },
      "text/plain": [
       "HBox(children=(FloatProgress(value=0.0, description='Test Loss: 0, Test Acc: 0', max=13.0, style=ProgressStyle…"
      ]
     },
     "metadata": {
      "tags": []
     },
     "output_type": "display_data"
    },
    {
     "name": "stdout",
     "output_type": "stream",
     "text": [
      "\n",
      "{'Test Loss': 0.5290381266520574, 'Test Acc': 0.4960186298076923}\n"
     ]
    },
    {
     "data": {
      "application/vnd.jupyter.widget-view+json": {
       "model_id": "45e541c9de65482699c56d1bd32beb6a",
       "version_major": 2,
       "version_minor": 0
      },
      "text/plain": [
       "HBox(children=(FloatProgress(value=0.0, description='Epoch 4. Train Loss: 0', max=1237.0, style=ProgressStyle(…"
      ]
     },
     "metadata": {
      "tags": []
     },
     "output_type": "display_data"
    },
    {
     "name": "stdout",
     "output_type": "stream",
     "text": [
      "\n"
     ]
    },
    {
     "data": {
      "application/vnd.jupyter.widget-view+json": {
       "model_id": "366ca8d43ddf4f4da5d65ec444c2e5a9",
       "version_major": 2,
       "version_minor": 0
      },
      "text/plain": [
       "HBox(children=(FloatProgress(value=0.0, description='Test Loss: 0, Test Acc: 0', max=13.0, style=ProgressStyle…"
      ]
     },
     "metadata": {
      "tags": []
     },
     "output_type": "display_data"
    },
    {
     "name": "stdout",
     "output_type": "stream",
     "text": [
      "\n",
      "{'Test Loss': 0.5251111319431891, 'Test Acc': 0.4960186298076923}\n"
     ]
    },
    {
     "data": {
      "application/vnd.jupyter.widget-view+json": {
       "model_id": "7ec36a1cd2a24ed48544fb6425f94089",
       "version_major": 2,
       "version_minor": 0
      },
      "text/plain": [
       "HBox(children=(FloatProgress(value=0.0, description='Epoch 5. Train Loss: 0', max=1237.0, style=ProgressStyle(…"
      ]
     },
     "metadata": {
      "tags": []
     },
     "output_type": "display_data"
    },
    {
     "name": "stdout",
     "output_type": "stream",
     "text": [
      "\n"
     ]
    },
    {
     "data": {
      "application/vnd.jupyter.widget-view+json": {
       "model_id": "6997517055134f598b6e9f28e7c285f9",
       "version_major": 2,
       "version_minor": 0
      },
      "text/plain": [
       "HBox(children=(FloatProgress(value=0.0, description='Test Loss: 0, Test Acc: 0', max=13.0, style=ProgressStyle…"
      ]
     },
     "metadata": {
      "tags": []
     },
     "output_type": "display_data"
    },
    {
     "name": "stdout",
     "output_type": "stream",
     "text": [
      "\n",
      "{'Test Loss': 0.5244966080555549, 'Test Acc': 0.4960186298076923}\n",
      "time: 8min 41s\n"
     ]
    }
   ],
   "source": [
    "vector_size = dev.word2vec.vector_size\n",
    "num_classes = 2\n",
    "lr = 5e-5\n",
    "num_epochs = 5\n",
    "\n",
    "model = ClassifierLSTM(vector_size, n_hidden=512, n_output=1, n_layers=2)\n",
    "model = model.cuda()\n",
    "criterion = nn.BCELoss()\n",
    "total_steps = len(train_loader) * num_epochs\n",
    "optimizer = AdamW(model.parameters(),lr=5e-5,eps=1e-8)\n",
    "        \n",
    "scheduler = CosineAnnealingLR(optimizer, T_max=100)\n",
    "best_metric = np.inf\n",
    "for e in range(num_epochs):\n",
    "    training(model, optimizer, criterion, train_loader, e, device, scheduler=scheduler)\n",
    "    log = testing(model, criterion, valid_loader, device)\n",
    "    print(log)\n",
    "    if log[\"Test Loss\"] < best_metric:\n",
    "        torch.save(model.state_dict(), \"model.pt\")\n",
    "        best_metric = log[\"Test Loss\"]"
   ]
  },
  {
   "cell_type": "code",
   "execution_count": 62,
   "metadata": {
    "colab": {
     "base_uri": "https://localhost:8080/",
     "height": 100,
     "referenced_widgets": [
      "3cc6e0a072c046b98ad755fd2e36bef2",
      "84d363b5cb684fa2ace5ed9b476422e0",
      "f57fd6ed7cd24827aaec6225d158ae3e",
      "4ef6da13b2b940649a5f45415a0828d1",
      "077e520e55c644e58166e08bd065b318",
      "655355ca1e66432e8a3014ef35be6071",
      "016736cb59a14314924de63d56fbac1b",
      "cebef6d4759c4e019a3ec213e67f67b7"
     ]
    },
    "id": "JFxqKd3rOWvX",
    "outputId": "bd824ae3-efa6-4afd-88ba-5b6f3f02311a"
   },
   "outputs": [
    {
     "data": {
      "application/vnd.jupyter.widget-view+json": {
       "model_id": "3cc6e0a072c046b98ad755fd2e36bef2",
       "version_major": 2,
       "version_minor": 0
      },
      "text/plain": [
       "HBox(children=(FloatProgress(value=0.0, description='Test Loss: 0, Test Acc: 0', max=313.0, style=ProgressStyl…"
      ]
     },
     "metadata": {
      "tags": []
     },
     "output_type": "display_data"
    },
    {
     "name": "stdout",
     "output_type": "stream",
     "text": [
      "\n",
      "{'Test Loss': 0.5202271925946014, 'Test Acc': 0.49990015974440893}\n",
      "time: 28.2 s\n"
     ]
    }
   ],
   "source": [
    "test = TwitterDatasetTfIdf(test_data, \"text\", \"emotion\", word2vec, weights=dev.weights)\n",
    "\n",
    "test_loader = DataLoader(\n",
    "    test, \n",
    "    batch_size=batch_size, \n",
    "    num_workers=num_workers, \n",
    "    shuffle=False,\n",
    "    drop_last=False, \n",
    "    collate_fn=average_emb)\n",
    "\n",
    "model.load_state_dict(torch.load(\"model.pt\", map_location=device))\n",
    "\n",
    "print(testing(model, criterion, test_loader, device=device))"
   ]
  },
  {
   "cell_type": "markdown",
   "metadata": {
    "id": "07pomK_qAcN4"
   },
   "source": [
    "Есть ли разница в качестве между способами? Получилось ли улучшить качество модели?\n",
    "\n",
    "\n",
    "----\n",
    "\n",
    "----\n"
   ]
  },
  {
   "cell_type": "markdown",
   "metadata": {
    "id": "9MKwteWLSDHJ"
   },
   "source": [
    "<div id=\"markdownResult\" style=\"background-color: rgb(255, 255, 255); margin: auto; width: 477px;\"><table><tbody><tr><th align=\"center\"></th><th align=\"center\"><b>Train Acc</b></th><th align=\"center\"><b>Train Loss</b></th><th align=\"center\"><b>Test Acc</b></th><th align=\"center\"><b>Test Loss</b></th></tr><tr><td align=\"center\">Linear + Avg</td><td align=\"center\">0.506</td><td align=\"center\">0.088</td><td align=\"center\">0.499</td><td align=\"center\">0.167</td></tr>\n",
    "<tr><td align=\"center\">LSTM + Avg</td><td align=\"center\">0.502</td><td align=\"center\">0.495</td><td align=\"center\">0.499</td><td align=\"center\">0.533</td></tr>\n",
    "<tr><td align=\"center\">Linear + TfIdf</td><td align=\"center\">0.472</td><td align=\"center\">0.26</td><td align=\"center\">0.499</td><td align=\"center\">0.247</td></tr>\n",
    "<tr><td align=\"center\">LSTM + TfIdf</td><td align=\"center\">0.497</td><td align=\"center\">0.555</td><td align=\"center\">0.499</td><td align=\"center\">0.52</td></tr>\n",
    "</tbody></table></div>"
   ]
  },
  {
   "cell_type": "markdown",
   "metadata": {
    "id": "OwQ5qIvPSFgg"
   },
   "source": [
    "как видим результаты не очень( что подозрительно accuracy везде одинаковый на тест сете(валид сет результаты в таблице не указаны)"
   ]
  },
  {
   "cell_type": "markdown",
   "metadata": {
    "id": "ui77mFtvR7pE"
   },
   "source": []
  },
  {
   "cell_type": "markdown",
   "metadata": {
    "id": "wnspgAp1RX2t"
   },
   "source": [
    "ну разница как видим не большая. собсственно и по PCA также было видно  ,что классы сложно различимы. дальнейшие мысли - поменять эмбеддинги и попробовать CNN и finetuning Bert модели"
   ]
  },
  {
   "cell_type": "markdown",
   "metadata": {
    "id": "mdBiO_BL_j8z"
   },
   "source": [
    "Сделай небольшое исследование:\n",
    "- Попробуй сделать несколько нейросеток в качестве классификатора\n",
    "- Попробуй другие предобученные эмбеддинги\n",
    "- Попробуй очистить текст от ников (\"@username\"), url-ов и других символов\n",
    "\n",
    "Для реализации последнего тебе могут помочь регулярные выражения (`import re`). Напише ниже отчет, что ты попробовал и что получилось.\n",
    "\n",
    "---\n",
    "были использованы обычная линейная модель , LSTM (также сделал CNN, но результат был плохой, удалил)\n",
    "тексты были почищены - от урлов, от ников, стоп слов, эмотиконы преобразованы в соответствующие слова по смыслу, были преобразованы contractions\n",
    "что технологически не совсем верно было сделано , сравнение под разными параметрами и эпохами, но как видим примерно один везде и тот же результат\n",
    "что касается метрик, я бы смотрел по лоссу и взвешенную метрику f1-score. по лоссу можно было вероятно посмотреть сами данные (отсортировать от большего лосса к меньшему) и посмотреть где происходит падение(большой лосс)\n",
    "\n",
    "---"
   ]
  },
  {
   "cell_type": "code",
   "execution_count": null,
   "metadata": {
    "id": "b3azHINnM7qi"
   },
   "outputs": [],
   "source": []
  }
 ],
 "metadata": {
  "accelerator": "GPU",
  "colab": {
   "collapsed_sections": [],
   "machine_shape": "hm",
   "name": "homework_embeddings.ipynb",
   "provenance": [],
   "toc_visible": true
  },
  "kernelspec": {
   "display_name": "Python 3",
   "language": "python",
   "name": "python3"
  },
  "widgets": {
   "application/vnd.jupyter.widget-state+json": {
    "00d3c85d4b9847ca862d946969ac1179": {
     "model_module": "@jupyter-widgets/controls",
     "model_name": "FloatProgressModel",
     "state": {
      "_dom_classes": [],
      "_model_module": "@jupyter-widgets/controls",
      "_model_module_version": "1.5.0",
      "_model_name": "FloatProgressModel",
      "_view_count": null,
      "_view_module": "@jupyter-widgets/controls",
      "_view_module_version": "1.5.0",
      "_view_name": "ProgressView",
      "bar_style": "success",
      "description": "Epoch:1.Train Loss:0.5422 Acc:0.5146: 100%",
      "description_tooltip": null,
      "layout": "IPY_MODEL_223d8391ac7d4dfebbcc519796d144ee",
      "max": 1000,
      "min": 0,
      "orientation": "horizontal",
      "style": "IPY_MODEL_af15c2a444ce473190ea3506e448b00e",
      "value": 1000
     }
    },
    "016736cb59a14314924de63d56fbac1b": {
     "model_module": "@jupyter-widgets/controls",
     "model_name": "DescriptionStyleModel",
     "state": {
      "_model_module": "@jupyter-widgets/controls",
      "_model_module_version": "1.5.0",
      "_model_name": "DescriptionStyleModel",
      "_view_count": null,
      "_view_module": "@jupyter-widgets/base",
      "_view_module_version": "1.2.0",
      "_view_name": "StyleView",
      "description_width": ""
     }
    },
    "018d65f1ddf64cc1ae43bd6e76112369": {
     "model_module": "@jupyter-widgets/base",
     "model_name": "LayoutModel",
     "state": {
      "_model_module": "@jupyter-widgets/base",
      "_model_module_version": "1.2.0",
      "_model_name": "LayoutModel",
      "_view_count": null,
      "_view_module": "@jupyter-widgets/base",
      "_view_module_version": "1.2.0",
      "_view_name": "LayoutView",
      "align_content": null,
      "align_items": null,
      "align_self": null,
      "border": null,
      "bottom": null,
      "display": null,
      "flex": null,
      "flex_flow": null,
      "grid_area": null,
      "grid_auto_columns": null,
      "grid_auto_flow": null,
      "grid_auto_rows": null,
      "grid_column": null,
      "grid_gap": null,
      "grid_row": null,
      "grid_template_areas": null,
      "grid_template_columns": null,
      "grid_template_rows": null,
      "height": null,
      "justify_content": null,
      "justify_items": null,
      "left": null,
      "margin": null,
      "max_height": null,
      "max_width": null,
      "min_height": null,
      "min_width": null,
      "object_fit": null,
      "object_position": null,
      "order": null,
      "overflow": null,
      "overflow_x": null,
      "overflow_y": null,
      "padding": null,
      "right": null,
      "top": null,
      "visibility": null,
      "width": null
     }
    },
    "01c8636b6fe14fa1b65a39604fce686b": {
     "model_module": "@jupyter-widgets/controls",
     "model_name": "HBoxModel",
     "state": {
      "_dom_classes": [],
      "_model_module": "@jupyter-widgets/controls",
      "_model_module_version": "1.5.0",
      "_model_name": "HBoxModel",
      "_view_count": null,
      "_view_module": "@jupyter-widgets/controls",
      "_view_module_version": "1.5.0",
      "_view_name": "HBoxView",
      "box_style": "",
      "children": [
       "IPY_MODEL_a4421591eea54529843f1cb8495afc48",
       "IPY_MODEL_093739609c3543fbb465d13bc1ca627d"
      ],
      "layout": "IPY_MODEL_b0a72f219bc941e8912151ccc4733d75"
     }
    },
    "01ce8a24a25a42449f08e61367411ce5": {
     "model_module": "@jupyter-widgets/controls",
     "model_name": "HBoxModel",
     "state": {
      "_dom_classes": [],
      "_model_module": "@jupyter-widgets/controls",
      "_model_module_version": "1.5.0",
      "_model_name": "HBoxModel",
      "_view_count": null,
      "_view_module": "@jupyter-widgets/controls",
      "_view_module_version": "1.5.0",
      "_view_name": "HBoxView",
      "box_style": "",
      "children": [
       "IPY_MODEL_a3b8961b95b4425aa7f84e71aecf54c8",
       "IPY_MODEL_950bd9610ef94ec59d7085f1748031c0"
      ],
      "layout": "IPY_MODEL_9d25dbab0c9244368cd278bc4585d4c0"
     }
    },
    "0683c6d5c8674022ba291661521f657f": {
     "model_module": "@jupyter-widgets/controls",
     "model_name": "ProgressStyleModel",
     "state": {
      "_model_module": "@jupyter-widgets/controls",
      "_model_module_version": "1.5.0",
      "_model_name": "ProgressStyleModel",
      "_view_count": null,
      "_view_module": "@jupyter-widgets/base",
      "_view_module_version": "1.2.0",
      "_view_name": "StyleView",
      "bar_color": null,
      "description_width": "initial"
     }
    },
    "06ef766117f8475faf3a655ffe7ee3e2": {
     "model_module": "@jupyter-widgets/base",
     "model_name": "LayoutModel",
     "state": {
      "_model_module": "@jupyter-widgets/base",
      "_model_module_version": "1.2.0",
      "_model_name": "LayoutModel",
      "_view_count": null,
      "_view_module": "@jupyter-widgets/base",
      "_view_module_version": "1.2.0",
      "_view_name": "LayoutView",
      "align_content": null,
      "align_items": null,
      "align_self": null,
      "border": null,
      "bottom": null,
      "display": null,
      "flex": null,
      "flex_flow": null,
      "grid_area": null,
      "grid_auto_columns": null,
      "grid_auto_flow": null,
      "grid_auto_rows": null,
      "grid_column": null,
      "grid_gap": null,
      "grid_row": null,
      "grid_template_areas": null,
      "grid_template_columns": null,
      "grid_template_rows": null,
      "height": null,
      "justify_content": null,
      "justify_items": null,
      "left": null,
      "margin": null,
      "max_height": null,
      "max_width": null,
      "min_height": null,
      "min_width": null,
      "object_fit": null,
      "object_position": null,
      "order": null,
      "overflow": null,
      "overflow_x": null,
      "overflow_y": null,
      "padding": null,
      "right": null,
      "top": null,
      "visibility": null,
      "width": null
     }
    },
    "07044abd781e468d8ff1cd3323ab9ac1": {
     "model_module": "@jupyter-widgets/base",
     "model_name": "LayoutModel",
     "state": {
      "_model_module": "@jupyter-widgets/base",
      "_model_module_version": "1.2.0",
      "_model_name": "LayoutModel",
      "_view_count": null,
      "_view_module": "@jupyter-widgets/base",
      "_view_module_version": "1.2.0",
      "_view_name": "LayoutView",
      "align_content": null,
      "align_items": null,
      "align_self": null,
      "border": null,
      "bottom": null,
      "display": null,
      "flex": null,
      "flex_flow": null,
      "grid_area": null,
      "grid_auto_columns": null,
      "grid_auto_flow": null,
      "grid_auto_rows": null,
      "grid_column": null,
      "grid_gap": null,
      "grid_row": null,
      "grid_template_areas": null,
      "grid_template_columns": null,
      "grid_template_rows": null,
      "height": null,
      "justify_content": null,
      "justify_items": null,
      "left": null,
      "margin": null,
      "max_height": null,
      "max_width": null,
      "min_height": null,
      "min_width": null,
      "object_fit": null,
      "object_position": null,
      "order": null,
      "overflow": null,
      "overflow_x": null,
      "overflow_y": null,
      "padding": null,
      "right": null,
      "top": null,
      "visibility": null,
      "width": null
     }
    },
    "075b75fd06084e64835dc8b68124c725": {
     "model_module": "@jupyter-widgets/controls",
     "model_name": "HBoxModel",
     "state": {
      "_dom_classes": [],
      "_model_module": "@jupyter-widgets/controls",
      "_model_module_version": "1.5.0",
      "_model_name": "HBoxModel",
      "_view_count": null,
      "_view_module": "@jupyter-widgets/controls",
      "_view_module_version": "1.5.0",
      "_view_name": "HBoxView",
      "box_style": "",
      "children": [
       "IPY_MODEL_b5a4cad2b333402994e640c09a216ba1",
       "IPY_MODEL_27e1585aeb2b45ac9466a18eae24c34d"
      ],
      "layout": "IPY_MODEL_ad68e8b6bdc745ad89c215189a49e21c"
     }
    },
    "077e520e55c644e58166e08bd065b318": {
     "model_module": "@jupyter-widgets/controls",
     "model_name": "ProgressStyleModel",
     "state": {
      "_model_module": "@jupyter-widgets/controls",
      "_model_module_version": "1.5.0",
      "_model_name": "ProgressStyleModel",
      "_view_count": null,
      "_view_module": "@jupyter-widgets/base",
      "_view_module_version": "1.2.0",
      "_view_name": "StyleView",
      "bar_color": null,
      "description_width": "initial"
     }
    },
    "093739609c3543fbb465d13bc1ca627d": {
     "model_module": "@jupyter-widgets/controls",
     "model_name": "HTMLModel",
     "state": {
      "_dom_classes": [],
      "_model_module": "@jupyter-widgets/controls",
      "_model_module_version": "1.5.0",
      "_model_name": "HTMLModel",
      "_view_count": null,
      "_view_module": "@jupyter-widgets/controls",
      "_view_module_version": "1.5.0",
      "_view_name": "HTMLView",
      "description": "",
      "description_tooltip": null,
      "layout": "IPY_MODEL_1404b94b2e3941ed8fadff16c8cec7e0",
      "placeholder": "​",
      "style": "IPY_MODEL_e2b93ee592cd4703a0a27cc652f77ed3",
      "value": " 313/313 [00:37&lt;00:00,  8.38it/s]"
     }
    },
    "0943cb7ff3cb45819ea52e28ebc48479": {
     "model_module": "@jupyter-widgets/controls",
     "model_name": "HTMLModel",
     "state": {
      "_dom_classes": [],
      "_model_module": "@jupyter-widgets/controls",
      "_model_module_version": "1.5.0",
      "_model_name": "HTMLModel",
      "_view_count": null,
      "_view_module": "@jupyter-widgets/controls",
      "_view_module_version": "1.5.0",
      "_view_name": "HTMLView",
      "description": "",
      "description_tooltip": null,
      "layout": "IPY_MODEL_e55ffb350fe741bc89ac5ead22632168",
      "placeholder": "​",
      "style": "IPY_MODEL_aa51acbab0344f06a65dcc43a4894f70",
      "value": " 13/13 [00:03&lt;00:00,  3.38it/s]"
     }
    },
    "09567e0e7cda463ea81483634ba13648": {
     "model_module": "@jupyter-widgets/controls",
     "model_name": "HTMLModel",
     "state": {
      "_dom_classes": [],
      "_model_module": "@jupyter-widgets/controls",
      "_model_module_version": "1.5.0",
      "_model_name": "HTMLModel",
      "_view_count": null,
      "_view_module": "@jupyter-widgets/controls",
      "_view_module_version": "1.5.0",
      "_view_name": "HTMLView",
      "description": "",
      "description_tooltip": null,
      "layout": "IPY_MODEL_7779fe6d7d484da2bcffb93f2afd5b23",
      "placeholder": "​",
      "style": "IPY_MODEL_185e265a524141078abfbb0683bbd19d",
      "value": " 13/13 [00:03&lt;00:00,  3.36it/s]"
     }
    },
    "0a163c5f2ecf4fe894c3959d3a1d751e": {
     "model_module": "@jupyter-widgets/base",
     "model_name": "LayoutModel",
     "state": {
      "_model_module": "@jupyter-widgets/base",
      "_model_module_version": "1.2.0",
      "_model_name": "LayoutModel",
      "_view_count": null,
      "_view_module": "@jupyter-widgets/base",
      "_view_module_version": "1.2.0",
      "_view_name": "LayoutView",
      "align_content": null,
      "align_items": null,
      "align_self": null,
      "border": null,
      "bottom": null,
      "display": null,
      "flex": null,
      "flex_flow": null,
      "grid_area": null,
      "grid_auto_columns": null,
      "grid_auto_flow": null,
      "grid_auto_rows": null,
      "grid_column": null,
      "grid_gap": null,
      "grid_row": null,
      "grid_template_areas": null,
      "grid_template_columns": null,
      "grid_template_rows": null,
      "height": null,
      "justify_content": null,
      "justify_items": null,
      "left": null,
      "margin": null,
      "max_height": null,
      "max_width": null,
      "min_height": null,
      "min_width": null,
      "object_fit": null,
      "object_position": null,
      "order": null,
      "overflow": null,
      "overflow_x": null,
      "overflow_y": null,
      "padding": null,
      "right": null,
      "top": null,
      "visibility": null,
      "width": null
     }
    },
    "0a7dee6d03de41bf9873f5fd82dd9d8d": {
     "model_module": "@jupyter-widgets/base",
     "model_name": "LayoutModel",
     "state": {
      "_model_module": "@jupyter-widgets/base",
      "_model_module_version": "1.2.0",
      "_model_name": "LayoutModel",
      "_view_count": null,
      "_view_module": "@jupyter-widgets/base",
      "_view_module_version": "1.2.0",
      "_view_name": "LayoutView",
      "align_content": null,
      "align_items": null,
      "align_self": null,
      "border": null,
      "bottom": null,
      "display": null,
      "flex": null,
      "flex_flow": null,
      "grid_area": null,
      "grid_auto_columns": null,
      "grid_auto_flow": null,
      "grid_auto_rows": null,
      "grid_column": null,
      "grid_gap": null,
      "grid_row": null,
      "grid_template_areas": null,
      "grid_template_columns": null,
      "grid_template_rows": null,
      "height": null,
      "justify_content": null,
      "justify_items": null,
      "left": null,
      "margin": null,
      "max_height": null,
      "max_width": null,
      "min_height": null,
      "min_width": null,
      "object_fit": null,
      "object_position": null,
      "order": null,
      "overflow": null,
      "overflow_x": null,
      "overflow_y": null,
      "padding": null,
      "right": null,
      "top": null,
      "visibility": null,
      "width": null
     }
    },
    "0a7e897ab2954bdab2fb1a342de043c0": {
     "model_module": "@jupyter-widgets/controls",
     "model_name": "FloatProgressModel",
     "state": {
      "_dom_classes": [],
      "_model_module": "@jupyter-widgets/controls",
      "_model_module_version": "1.5.0",
      "_model_name": "FloatProgressModel",
      "_view_count": null,
      "_view_module": "@jupyter-widgets/controls",
      "_view_module_version": "1.5.0",
      "_view_name": "ProgressView",
      "bar_style": "success",
      "description": "Test Loss: 0.5462, Test Acc: 0.496: 100%",
      "description_tooltip": null,
      "layout": "IPY_MODEL_e4e8198985ac40b3857440129485cad5",
      "max": 13,
      "min": 0,
      "orientation": "horizontal",
      "style": "IPY_MODEL_79df20797c6b4ecc8937a3976ba35550",
      "value": 13
     }
    },
    "0aa830f93a84489ba1d910c5d4fb264c": {
     "model_module": "@jupyter-widgets/controls",
     "model_name": "HBoxModel",
     "state": {
      "_dom_classes": [],
      "_model_module": "@jupyter-widgets/controls",
      "_model_module_version": "1.5.0",
      "_model_name": "HBoxModel",
      "_view_count": null,
      "_view_module": "@jupyter-widgets/controls",
      "_view_module_version": "1.5.0",
      "_view_name": "HBoxView",
      "box_style": "",
      "children": [
       "IPY_MODEL_449d313fa17648f5a0add763d43156ee",
       "IPY_MODEL_4b5c3bf2a87f4309ad32e8e1ab471fc4"
      ],
      "layout": "IPY_MODEL_9b0e7f367cf6428393c4d7fe140f01a3"
     }
    },
    "0c3e2dd43e8c40d0838ba1ab22460538": {
     "model_module": "@jupyter-widgets/base",
     "model_name": "LayoutModel",
     "state": {
      "_model_module": "@jupyter-widgets/base",
      "_model_module_version": "1.2.0",
      "_model_name": "LayoutModel",
      "_view_count": null,
      "_view_module": "@jupyter-widgets/base",
      "_view_module_version": "1.2.0",
      "_view_name": "LayoutView",
      "align_content": null,
      "align_items": null,
      "align_self": null,
      "border": null,
      "bottom": null,
      "display": null,
      "flex": null,
      "flex_flow": null,
      "grid_area": null,
      "grid_auto_columns": null,
      "grid_auto_flow": null,
      "grid_auto_rows": null,
      "grid_column": null,
      "grid_gap": null,
      "grid_row": null,
      "grid_template_areas": null,
      "grid_template_columns": null,
      "grid_template_rows": null,
      "height": null,
      "justify_content": null,
      "justify_items": null,
      "left": null,
      "margin": null,
      "max_height": null,
      "max_width": null,
      "min_height": null,
      "min_width": null,
      "object_fit": null,
      "object_position": null,
      "order": null,
      "overflow": null,
      "overflow_x": null,
      "overflow_y": null,
      "padding": null,
      "right": null,
      "top": null,
      "visibility": null,
      "width": null
     }
    },
    "13827ecea7434357b272e4e3dc9b5e7f": {
     "model_module": "@jupyter-widgets/controls",
     "model_name": "ProgressStyleModel",
     "state": {
      "_model_module": "@jupyter-widgets/controls",
      "_model_module_version": "1.5.0",
      "_model_name": "ProgressStyleModel",
      "_view_count": null,
      "_view_module": "@jupyter-widgets/base",
      "_view_module_version": "1.2.0",
      "_view_name": "StyleView",
      "bar_color": null,
      "description_width": "initial"
     }
    },
    "13ec197a441548509b2d84eee37aac8d": {
     "model_module": "@jupyter-widgets/controls",
     "model_name": "HBoxModel",
     "state": {
      "_dom_classes": [],
      "_model_module": "@jupyter-widgets/controls",
      "_model_module_version": "1.5.0",
      "_model_name": "HBoxModel",
      "_view_count": null,
      "_view_module": "@jupyter-widgets/controls",
      "_view_module_version": "1.5.0",
      "_view_name": "HBoxView",
      "box_style": "",
      "children": [
       "IPY_MODEL_4be10a5fa67b4250bfdac72fc7e0e1d4",
       "IPY_MODEL_8693524b88db44d982de20eeee383c0b"
      ],
      "layout": "IPY_MODEL_0a7dee6d03de41bf9873f5fd82dd9d8d"
     }
    },
    "1404b94b2e3941ed8fadff16c8cec7e0": {
     "model_module": "@jupyter-widgets/base",
     "model_name": "LayoutModel",
     "state": {
      "_model_module": "@jupyter-widgets/base",
      "_model_module_version": "1.2.0",
      "_model_name": "LayoutModel",
      "_view_count": null,
      "_view_module": "@jupyter-widgets/base",
      "_view_module_version": "1.2.0",
      "_view_name": "LayoutView",
      "align_content": null,
      "align_items": null,
      "align_self": null,
      "border": null,
      "bottom": null,
      "display": null,
      "flex": null,
      "flex_flow": null,
      "grid_area": null,
      "grid_auto_columns": null,
      "grid_auto_flow": null,
      "grid_auto_rows": null,
      "grid_column": null,
      "grid_gap": null,
      "grid_row": null,
      "grid_template_areas": null,
      "grid_template_columns": null,
      "grid_template_rows": null,
      "height": null,
      "justify_content": null,
      "justify_items": null,
      "left": null,
      "margin": null,
      "max_height": null,
      "max_width": null,
      "min_height": null,
      "min_width": null,
      "object_fit": null,
      "object_position": null,
      "order": null,
      "overflow": null,
      "overflow_x": null,
      "overflow_y": null,
      "padding": null,
      "right": null,
      "top": null,
      "visibility": null,
      "width": null
     }
    },
    "163a98f89e2743b9aa33fb0db1d469b8": {
     "model_module": "@jupyter-widgets/controls",
     "model_name": "HTMLModel",
     "state": {
      "_dom_classes": [],
      "_model_module": "@jupyter-widgets/controls",
      "_model_module_version": "1.5.0",
      "_model_name": "HTMLModel",
      "_view_count": null,
      "_view_module": "@jupyter-widgets/controls",
      "_view_module_version": "1.5.0",
      "_view_name": "HTMLView",
      "description": "",
      "description_tooltip": null,
      "layout": "IPY_MODEL_98d17a367cb646e9b2b0fecc6671e569",
      "placeholder": "​",
      "style": "IPY_MODEL_60f97517b57448eea14bafe69b48afc4",
      "value": " 250/250 [03:05&lt;00:00,  1.35it/s]"
     }
    },
    "16fcab3050194b5da21d4aaa316033f5": {
     "model_module": "@jupyter-widgets/base",
     "model_name": "LayoutModel",
     "state": {
      "_model_module": "@jupyter-widgets/base",
      "_model_module_version": "1.2.0",
      "_model_name": "LayoutModel",
      "_view_count": null,
      "_view_module": "@jupyter-widgets/base",
      "_view_module_version": "1.2.0",
      "_view_name": "LayoutView",
      "align_content": null,
      "align_items": null,
      "align_self": null,
      "border": null,
      "bottom": null,
      "display": null,
      "flex": null,
      "flex_flow": null,
      "grid_area": null,
      "grid_auto_columns": null,
      "grid_auto_flow": null,
      "grid_auto_rows": null,
      "grid_column": null,
      "grid_gap": null,
      "grid_row": null,
      "grid_template_areas": null,
      "grid_template_columns": null,
      "grid_template_rows": null,
      "height": null,
      "justify_content": null,
      "justify_items": null,
      "left": null,
      "margin": null,
      "max_height": null,
      "max_width": null,
      "min_height": null,
      "min_width": null,
      "object_fit": null,
      "object_position": null,
      "order": null,
      "overflow": null,
      "overflow_x": null,
      "overflow_y": null,
      "padding": null,
      "right": null,
      "top": null,
      "visibility": null,
      "width": null
     }
    },
    "17d50e64d46f448ebc26ff8819ca5d7e": {
     "model_module": "@jupyter-widgets/base",
     "model_name": "LayoutModel",
     "state": {
      "_model_module": "@jupyter-widgets/base",
      "_model_module_version": "1.2.0",
      "_model_name": "LayoutModel",
      "_view_count": null,
      "_view_module": "@jupyter-widgets/base",
      "_view_module_version": "1.2.0",
      "_view_name": "LayoutView",
      "align_content": null,
      "align_items": null,
      "align_self": null,
      "border": null,
      "bottom": null,
      "display": null,
      "flex": null,
      "flex_flow": null,
      "grid_area": null,
      "grid_auto_columns": null,
      "grid_auto_flow": null,
      "grid_auto_rows": null,
      "grid_column": null,
      "grid_gap": null,
      "grid_row": null,
      "grid_template_areas": null,
      "grid_template_columns": null,
      "grid_template_rows": null,
      "height": null,
      "justify_content": null,
      "justify_items": null,
      "left": null,
      "margin": null,
      "max_height": null,
      "max_width": null,
      "min_height": null,
      "min_width": null,
      "object_fit": null,
      "object_position": null,
      "order": null,
      "overflow": null,
      "overflow_x": null,
      "overflow_y": null,
      "padding": null,
      "right": null,
      "top": null,
      "visibility": null,
      "width": null
     }
    },
    "185e265a524141078abfbb0683bbd19d": {
     "model_module": "@jupyter-widgets/controls",
     "model_name": "DescriptionStyleModel",
     "state": {
      "_model_module": "@jupyter-widgets/controls",
      "_model_module_version": "1.5.0",
      "_model_name": "DescriptionStyleModel",
      "_view_count": null,
      "_view_module": "@jupyter-widgets/base",
      "_view_module_version": "1.2.0",
      "_view_name": "StyleView",
      "description_width": ""
     }
    },
    "19030d3ce6de4b60a84ff70bb1a387fa": {
     "model_module": "@jupyter-widgets/base",
     "model_name": "LayoutModel",
     "state": {
      "_model_module": "@jupyter-widgets/base",
      "_model_module_version": "1.2.0",
      "_model_name": "LayoutModel",
      "_view_count": null,
      "_view_module": "@jupyter-widgets/base",
      "_view_module_version": "1.2.0",
      "_view_name": "LayoutView",
      "align_content": null,
      "align_items": null,
      "align_self": null,
      "border": null,
      "bottom": null,
      "display": null,
      "flex": null,
      "flex_flow": null,
      "grid_area": null,
      "grid_auto_columns": null,
      "grid_auto_flow": null,
      "grid_auto_rows": null,
      "grid_column": null,
      "grid_gap": null,
      "grid_row": null,
      "grid_template_areas": null,
      "grid_template_columns": null,
      "grid_template_rows": null,
      "height": null,
      "justify_content": null,
      "justify_items": null,
      "left": null,
      "margin": null,
      "max_height": null,
      "max_width": null,
      "min_height": null,
      "min_width": null,
      "object_fit": null,
      "object_position": null,
      "order": null,
      "overflow": null,
      "overflow_x": null,
      "overflow_y": null,
      "padding": null,
      "right": null,
      "top": null,
      "visibility": null,
      "width": null
     }
    },
    "1986f9bc410e4b6daaef7d3da5fd51b9": {
     "model_module": "@jupyter-widgets/base",
     "model_name": "LayoutModel",
     "state": {
      "_model_module": "@jupyter-widgets/base",
      "_model_module_version": "1.2.0",
      "_model_name": "LayoutModel",
      "_view_count": null,
      "_view_module": "@jupyter-widgets/base",
      "_view_module_version": "1.2.0",
      "_view_name": "LayoutView",
      "align_content": null,
      "align_items": null,
      "align_self": null,
      "border": null,
      "bottom": null,
      "display": null,
      "flex": null,
      "flex_flow": null,
      "grid_area": null,
      "grid_auto_columns": null,
      "grid_auto_flow": null,
      "grid_auto_rows": null,
      "grid_column": null,
      "grid_gap": null,
      "grid_row": null,
      "grid_template_areas": null,
      "grid_template_columns": null,
      "grid_template_rows": null,
      "height": null,
      "justify_content": null,
      "justify_items": null,
      "left": null,
      "margin": null,
      "max_height": null,
      "max_width": null,
      "min_height": null,
      "min_width": null,
      "object_fit": null,
      "object_position": null,
      "order": null,
      "overflow": null,
      "overflow_x": null,
      "overflow_y": null,
      "padding": null,
      "right": null,
      "top": null,
      "visibility": null,
      "width": null
     }
    },
    "19d66ec4cac64ecab5300a18531531ee": {
     "model_module": "@jupyter-widgets/base",
     "model_name": "LayoutModel",
     "state": {
      "_model_module": "@jupyter-widgets/base",
      "_model_module_version": "1.2.0",
      "_model_name": "LayoutModel",
      "_view_count": null,
      "_view_module": "@jupyter-widgets/base",
      "_view_module_version": "1.2.0",
      "_view_name": "LayoutView",
      "align_content": null,
      "align_items": null,
      "align_self": null,
      "border": null,
      "bottom": null,
      "display": null,
      "flex": null,
      "flex_flow": null,
      "grid_area": null,
      "grid_auto_columns": null,
      "grid_auto_flow": null,
      "grid_auto_rows": null,
      "grid_column": null,
      "grid_gap": null,
      "grid_row": null,
      "grid_template_areas": null,
      "grid_template_columns": null,
      "grid_template_rows": null,
      "height": null,
      "justify_content": null,
      "justify_items": null,
      "left": null,
      "margin": null,
      "max_height": null,
      "max_width": null,
      "min_height": null,
      "min_width": null,
      "object_fit": null,
      "object_position": null,
      "order": null,
      "overflow": null,
      "overflow_x": null,
      "overflow_y": null,
      "padding": null,
      "right": null,
      "top": null,
      "visibility": null,
      "width": null
     }
    },
    "1af05d70ead345e3be76c1f37aa692a1": {
     "model_module": "@jupyter-widgets/controls",
     "model_name": "HTMLModel",
     "state": {
      "_dom_classes": [],
      "_model_module": "@jupyter-widgets/controls",
      "_model_module_version": "1.5.0",
      "_model_name": "HTMLModel",
      "_view_count": null,
      "_view_module": "@jupyter-widgets/controls",
      "_view_module_version": "1.5.0",
      "_view_name": "HTMLView",
      "description": "",
      "description_tooltip": null,
      "layout": "IPY_MODEL_19d66ec4cac64ecab5300a18531531ee",
      "placeholder": "​",
      "style": "IPY_MODEL_deff2607e47e4063820f926cfd73ad70",
      "value": " 250/250 [00:28&lt;00:00,  8.69it/s]"
     }
    },
    "1c353b5dacfa4a4bb15fa22a75604e5b": {
     "model_module": "@jupyter-widgets/base",
     "model_name": "LayoutModel",
     "state": {
      "_model_module": "@jupyter-widgets/base",
      "_model_module_version": "1.2.0",
      "_model_name": "LayoutModel",
      "_view_count": null,
      "_view_module": "@jupyter-widgets/base",
      "_view_module_version": "1.2.0",
      "_view_name": "LayoutView",
      "align_content": null,
      "align_items": null,
      "align_self": null,
      "border": null,
      "bottom": null,
      "display": null,
      "flex": null,
      "flex_flow": null,
      "grid_area": null,
      "grid_auto_columns": null,
      "grid_auto_flow": null,
      "grid_auto_rows": null,
      "grid_column": null,
      "grid_gap": null,
      "grid_row": null,
      "grid_template_areas": null,
      "grid_template_columns": null,
      "grid_template_rows": null,
      "height": null,
      "justify_content": null,
      "justify_items": null,
      "left": null,
      "margin": null,
      "max_height": null,
      "max_width": null,
      "min_height": null,
      "min_width": null,
      "object_fit": null,
      "object_position": null,
      "order": null,
      "overflow": null,
      "overflow_x": null,
      "overflow_y": null,
      "padding": null,
      "right": null,
      "top": null,
      "visibility": null,
      "width": null
     }
    },
    "1c6d08457ccc41449d2c6e12a1a90a79": {
     "model_module": "@jupyter-widgets/base",
     "model_name": "LayoutModel",
     "state": {
      "_model_module": "@jupyter-widgets/base",
      "_model_module_version": "1.2.0",
      "_model_name": "LayoutModel",
      "_view_count": null,
      "_view_module": "@jupyter-widgets/base",
      "_view_module_version": "1.2.0",
      "_view_name": "LayoutView",
      "align_content": null,
      "align_items": null,
      "align_self": null,
      "border": null,
      "bottom": null,
      "display": null,
      "flex": null,
      "flex_flow": null,
      "grid_area": null,
      "grid_auto_columns": null,
      "grid_auto_flow": null,
      "grid_auto_rows": null,
      "grid_column": null,
      "grid_gap": null,
      "grid_row": null,
      "grid_template_areas": null,
      "grid_template_columns": null,
      "grid_template_rows": null,
      "height": null,
      "justify_content": null,
      "justify_items": null,
      "left": null,
      "margin": null,
      "max_height": null,
      "max_width": null,
      "min_height": null,
      "min_width": null,
      "object_fit": null,
      "object_position": null,
      "order": null,
      "overflow": null,
      "overflow_x": null,
      "overflow_y": null,
      "padding": null,
      "right": null,
      "top": null,
      "visibility": null,
      "width": null
     }
    },
    "1db37dca931d4518851d0f2aea84cd91": {
     "model_module": "@jupyter-widgets/controls",
     "model_name": "HBoxModel",
     "state": {
      "_dom_classes": [],
      "_model_module": "@jupyter-widgets/controls",
      "_model_module_version": "1.5.0",
      "_model_name": "HBoxModel",
      "_view_count": null,
      "_view_module": "@jupyter-widgets/controls",
      "_view_module_version": "1.5.0",
      "_view_name": "HBoxView",
      "box_style": "",
      "children": [
       "IPY_MODEL_0a7e897ab2954bdab2fb1a342de043c0",
       "IPY_MODEL_0943cb7ff3cb45819ea52e28ebc48479"
      ],
      "layout": "IPY_MODEL_7c1304cf8b4a46a0a39189aec3877959"
     }
    },
    "1e240cc6eb8b466b95cca80af331b2b6": {
     "model_module": "@jupyter-widgets/controls",
     "model_name": "ProgressStyleModel",
     "state": {
      "_model_module": "@jupyter-widgets/controls",
      "_model_module_version": "1.5.0",
      "_model_name": "ProgressStyleModel",
      "_view_count": null,
      "_view_module": "@jupyter-widgets/base",
      "_view_module_version": "1.2.0",
      "_view_name": "StyleView",
      "bar_color": null,
      "description_width": "initial"
     }
    },
    "1e28c482f2914e6da6a40e3cf030bf0b": {
     "model_module": "@jupyter-widgets/base",
     "model_name": "LayoutModel",
     "state": {
      "_model_module": "@jupyter-widgets/base",
      "_model_module_version": "1.2.0",
      "_model_name": "LayoutModel",
      "_view_count": null,
      "_view_module": "@jupyter-widgets/base",
      "_view_module_version": "1.2.0",
      "_view_name": "LayoutView",
      "align_content": null,
      "align_items": null,
      "align_self": null,
      "border": null,
      "bottom": null,
      "display": null,
      "flex": null,
      "flex_flow": null,
      "grid_area": null,
      "grid_auto_columns": null,
      "grid_auto_flow": null,
      "grid_auto_rows": null,
      "grid_column": null,
      "grid_gap": null,
      "grid_row": null,
      "grid_template_areas": null,
      "grid_template_columns": null,
      "grid_template_rows": null,
      "height": null,
      "justify_content": null,
      "justify_items": null,
      "left": null,
      "margin": null,
      "max_height": null,
      "max_width": null,
      "min_height": null,
      "min_width": null,
      "object_fit": null,
      "object_position": null,
      "order": null,
      "overflow": null,
      "overflow_x": null,
      "overflow_y": null,
      "padding": null,
      "right": null,
      "top": null,
      "visibility": null,
      "width": null
     }
    },
    "1fae7dff6243453cbd7e7631887de55a": {
     "model_module": "@jupyter-widgets/controls",
     "model_name": "ProgressStyleModel",
     "state": {
      "_model_module": "@jupyter-widgets/controls",
      "_model_module_version": "1.5.0",
      "_model_name": "ProgressStyleModel",
      "_view_count": null,
      "_view_module": "@jupyter-widgets/base",
      "_view_module_version": "1.2.0",
      "_view_name": "StyleView",
      "bar_color": null,
      "description_width": "initial"
     }
    },
    "204d68ba5fb14d909d591d0d7c32d981": {
     "model_module": "@jupyter-widgets/controls",
     "model_name": "FloatProgressModel",
     "state": {
      "_dom_classes": [],
      "_model_module": "@jupyter-widgets/controls",
      "_model_module_version": "1.5.0",
      "_model_name": "FloatProgressModel",
      "_view_count": null,
      "_view_module": "@jupyter-widgets/controls",
      "_view_module_version": "1.5.0",
      "_view_name": "ProgressView",
      "bar_style": "success",
      "description": "Epoch:4.Train Loss:0.4996 Acc:0.4961: 100%",
      "description_tooltip": null,
      "layout": "IPY_MODEL_6229d1d173804159b19b03aa8052316c",
      "max": 1237,
      "min": 0,
      "orientation": "horizontal",
      "style": "IPY_MODEL_1fae7dff6243453cbd7e7631887de55a",
      "value": 1237
     }
    },
    "208941655b5a411ca80cff1006c4cf4e": {
     "model_module": "@jupyter-widgets/controls",
     "model_name": "HBoxModel",
     "state": {
      "_dom_classes": [],
      "_model_module": "@jupyter-widgets/controls",
      "_model_module_version": "1.5.0",
      "_model_name": "HBoxModel",
      "_view_count": null,
      "_view_module": "@jupyter-widgets/controls",
      "_view_module_version": "1.5.0",
      "_view_name": "HBoxView",
      "box_style": "",
      "children": [
       "IPY_MODEL_40a23281fa22453a8dabe9de37776610",
       "IPY_MODEL_09567e0e7cda463ea81483634ba13648"
      ],
      "layout": "IPY_MODEL_e986bc7a530d44f8b48a7cfe24bd64a8"
     }
    },
    "223d8391ac7d4dfebbcc519796d144ee": {
     "model_module": "@jupyter-widgets/base",
     "model_name": "LayoutModel",
     "state": {
      "_model_module": "@jupyter-widgets/base",
      "_model_module_version": "1.2.0",
      "_model_name": "LayoutModel",
      "_view_count": null,
      "_view_module": "@jupyter-widgets/base",
      "_view_module_version": "1.2.0",
      "_view_name": "LayoutView",
      "align_content": null,
      "align_items": null,
      "align_self": null,
      "border": null,
      "bottom": null,
      "display": null,
      "flex": null,
      "flex_flow": null,
      "grid_area": null,
      "grid_auto_columns": null,
      "grid_auto_flow": null,
      "grid_auto_rows": null,
      "grid_column": null,
      "grid_gap": null,
      "grid_row": null,
      "grid_template_areas": null,
      "grid_template_columns": null,
      "grid_template_rows": null,
      "height": null,
      "justify_content": null,
      "justify_items": null,
      "left": null,
      "margin": null,
      "max_height": null,
      "max_width": null,
      "min_height": null,
      "min_width": null,
      "object_fit": null,
      "object_position": null,
      "order": null,
      "overflow": null,
      "overflow_x": null,
      "overflow_y": null,
      "padding": null,
      "right": null,
      "top": null,
      "visibility": null,
      "width": null
     }
    },
    "232a4e8adc204b608f2a0db304388c04": {
     "model_module": "@jupyter-widgets/base",
     "model_name": "LayoutModel",
     "state": {
      "_model_module": "@jupyter-widgets/base",
      "_model_module_version": "1.2.0",
      "_model_name": "LayoutModel",
      "_view_count": null,
      "_view_module": "@jupyter-widgets/base",
      "_view_module_version": "1.2.0",
      "_view_name": "LayoutView",
      "align_content": null,
      "align_items": null,
      "align_self": null,
      "border": null,
      "bottom": null,
      "display": null,
      "flex": null,
      "flex_flow": null,
      "grid_area": null,
      "grid_auto_columns": null,
      "grid_auto_flow": null,
      "grid_auto_rows": null,
      "grid_column": null,
      "grid_gap": null,
      "grid_row": null,
      "grid_template_areas": null,
      "grid_template_columns": null,
      "grid_template_rows": null,
      "height": null,
      "justify_content": null,
      "justify_items": null,
      "left": null,
      "margin": null,
      "max_height": null,
      "max_width": null,
      "min_height": null,
      "min_width": null,
      "object_fit": null,
      "object_position": null,
      "order": null,
      "overflow": null,
      "overflow_x": null,
      "overflow_y": null,
      "padding": null,
      "right": null,
      "top": null,
      "visibility": null,
      "width": null
     }
    },
    "24d53f602f5c40519ba7401c1e6f7029": {
     "model_module": "@jupyter-widgets/controls",
     "model_name": "DescriptionStyleModel",
     "state": {
      "_model_module": "@jupyter-widgets/controls",
      "_model_module_version": "1.5.0",
      "_model_name": "DescriptionStyleModel",
      "_view_count": null,
      "_view_module": "@jupyter-widgets/base",
      "_view_module_version": "1.2.0",
      "_view_name": "StyleView",
      "description_width": ""
     }
    },
    "25ec7b9721f847e88bfce8ff36a173f7": {
     "model_module": "@jupyter-widgets/controls",
     "model_name": "FloatProgressModel",
     "state": {
      "_dom_classes": [],
      "_model_module": "@jupyter-widgets/controls",
      "_model_module_version": "1.5.0",
      "_model_name": "FloatProgressModel",
      "_view_count": null,
      "_view_module": "@jupyter-widgets/controls",
      "_view_module_version": "1.5.0",
      "_view_name": "ProgressView",
      "bar_style": "success",
      "description": "Test Loss: 0.5336, Test Acc: 0.4997: 100%",
      "description_tooltip": null,
      "layout": "IPY_MODEL_36476e6af9de40848ba3e50d670fbcba",
      "max": 250,
      "min": 0,
      "orientation": "horizontal",
      "style": "IPY_MODEL_57877582f9d641c8840e554657e5f74b",
      "value": 250
     }
    },
    "2736419a6b0d48758f6a79a60fb3eb25": {
     "model_module": "@jupyter-widgets/controls",
     "model_name": "FloatProgressModel",
     "state": {
      "_dom_classes": [],
      "_model_module": "@jupyter-widgets/controls",
      "_model_module_version": "1.5.0",
      "_model_name": "FloatProgressModel",
      "_view_count": null,
      "_view_module": "@jupyter-widgets/controls",
      "_view_module_version": "1.5.0",
      "_view_name": "ProgressView",
      "bar_style": "success",
      "description": "Test Loss: 0.1673, Test Acc: 0.4997: 100%",
      "description_tooltip": null,
      "layout": "IPY_MODEL_60d64301274b4b68983f12d9df8a50dc",
      "max": 250,
      "min": 0,
      "orientation": "horizontal",
      "style": "IPY_MODEL_9f68c7a540734993854d33b0255f9f97",
      "value": 250
     }
    },
    "273c429837a04d18acc8ec3736a3da1d": {
     "model_module": "@jupyter-widgets/controls",
     "model_name": "FloatProgressModel",
     "state": {
      "_dom_classes": [],
      "_model_module": "@jupyter-widgets/controls",
      "_model_module_version": "1.5.0",
      "_model_name": "FloatProgressModel",
      "_view_count": null,
      "_view_module": "@jupyter-widgets/controls",
      "_view_module_version": "1.5.0",
      "_view_name": "ProgressView",
      "bar_style": "success",
      "description": "Test Loss: 0.5413, Test Acc: 0.4997: 100%",
      "description_tooltip": null,
      "layout": "IPY_MODEL_8cb3f9dde1b64ecda3f1038e3dec5c08",
      "max": 250,
      "min": 0,
      "orientation": "horizontal",
      "style": "IPY_MODEL_d84e5e374663408b94c0dda42fe5329d",
      "value": 250
     }
    },
    "277bc1513bf74fdc832b709c7a503ce8": {
     "model_module": "@jupyter-widgets/controls",
     "model_name": "ProgressStyleModel",
     "state": {
      "_model_module": "@jupyter-widgets/controls",
      "_model_module_version": "1.5.0",
      "_model_name": "ProgressStyleModel",
      "_view_count": null,
      "_view_module": "@jupyter-widgets/base",
      "_view_module_version": "1.2.0",
      "_view_name": "StyleView",
      "bar_color": null,
      "description_width": "initial"
     }
    },
    "27c8873ffd4440b88f4af51afbb40480": {
     "model_module": "@jupyter-widgets/controls",
     "model_name": "DescriptionStyleModel",
     "state": {
      "_model_module": "@jupyter-widgets/controls",
      "_model_module_version": "1.5.0",
      "_model_name": "DescriptionStyleModel",
      "_view_count": null,
      "_view_module": "@jupyter-widgets/base",
      "_view_module_version": "1.2.0",
      "_view_name": "StyleView",
      "description_width": ""
     }
    },
    "27d836760c1e481a9c67c9ccd7f4d4c7": {
     "model_module": "@jupyter-widgets/controls",
     "model_name": "DescriptionStyleModel",
     "state": {
      "_model_module": "@jupyter-widgets/controls",
      "_model_module_version": "1.5.0",
      "_model_name": "DescriptionStyleModel",
      "_view_count": null,
      "_view_module": "@jupyter-widgets/base",
      "_view_module_version": "1.2.0",
      "_view_name": "StyleView",
      "description_width": ""
     }
    },
    "27e1585aeb2b45ac9466a18eae24c34d": {
     "model_module": "@jupyter-widgets/controls",
     "model_name": "HTMLModel",
     "state": {
      "_dom_classes": [],
      "_model_module": "@jupyter-widgets/controls",
      "_model_module_version": "1.5.0",
      "_model_name": "HTMLModel",
      "_view_count": null,
      "_view_module": "@jupyter-widgets/controls",
      "_view_module_version": "1.5.0",
      "_view_name": "HTMLView",
      "description": "",
      "description_tooltip": null,
      "layout": "IPY_MODEL_5e2d6dc87bf6474e9dea13b044c23bbf",
      "placeholder": "​",
      "style": "IPY_MODEL_27d836760c1e481a9c67c9ccd7f4d4c7",
      "value": " 1000/1000 [01:36&lt;00:00, 10.32it/s]"
     }
    },
    "2816c25e30c6495c977fe8f890d624a8": {
     "model_module": "@jupyter-widgets/controls",
     "model_name": "DescriptionStyleModel",
     "state": {
      "_model_module": "@jupyter-widgets/controls",
      "_model_module_version": "1.5.0",
      "_model_name": "DescriptionStyleModel",
      "_view_count": null,
      "_view_module": "@jupyter-widgets/base",
      "_view_module_version": "1.2.0",
      "_view_name": "StyleView",
      "description_width": ""
     }
    },
    "297c693739804a70b9b4241875a88c0a": {
     "model_module": "@jupyter-widgets/base",
     "model_name": "LayoutModel",
     "state": {
      "_model_module": "@jupyter-widgets/base",
      "_model_module_version": "1.2.0",
      "_model_name": "LayoutModel",
      "_view_count": null,
      "_view_module": "@jupyter-widgets/base",
      "_view_module_version": "1.2.0",
      "_view_name": "LayoutView",
      "align_content": null,
      "align_items": null,
      "align_self": null,
      "border": null,
      "bottom": null,
      "display": null,
      "flex": null,
      "flex_flow": null,
      "grid_area": null,
      "grid_auto_columns": null,
      "grid_auto_flow": null,
      "grid_auto_rows": null,
      "grid_column": null,
      "grid_gap": null,
      "grid_row": null,
      "grid_template_areas": null,
      "grid_template_columns": null,
      "grid_template_rows": null,
      "height": null,
      "justify_content": null,
      "justify_items": null,
      "left": null,
      "margin": null,
      "max_height": null,
      "max_width": null,
      "min_height": null,
      "min_width": null,
      "object_fit": null,
      "object_position": null,
      "order": null,
      "overflow": null,
      "overflow_x": null,
      "overflow_y": null,
      "padding": null,
      "right": null,
      "top": null,
      "visibility": null,
      "width": null
     }
    },
    "2b32331cb9f94a7a85317093c12ce641": {
     "model_module": "@jupyter-widgets/controls",
     "model_name": "HTMLModel",
     "state": {
      "_dom_classes": [],
      "_model_module": "@jupyter-widgets/controls",
      "_model_module_version": "1.5.0",
      "_model_name": "HTMLModel",
      "_view_count": null,
      "_view_module": "@jupyter-widgets/controls",
      "_view_module_version": "1.5.0",
      "_view_name": "HTMLView",
      "description": "",
      "description_tooltip": null,
      "layout": "IPY_MODEL_31185cab02a24df582fbb9d61d0b0da8",
      "placeholder": "​",
      "style": "IPY_MODEL_370500356b284c8da92c466186a9f1cf",
      "value": " 1000/1000 [01:36&lt;00:00, 10.32it/s]"
     }
    },
    "2e456a7617bb42dc9e45a93853f01dfc": {
     "model_module": "@jupyter-widgets/base",
     "model_name": "LayoutModel",
     "state": {
      "_model_module": "@jupyter-widgets/base",
      "_model_module_version": "1.2.0",
      "_model_name": "LayoutModel",
      "_view_count": null,
      "_view_module": "@jupyter-widgets/base",
      "_view_module_version": "1.2.0",
      "_view_name": "LayoutView",
      "align_content": null,
      "align_items": null,
      "align_self": null,
      "border": null,
      "bottom": null,
      "display": null,
      "flex": null,
      "flex_flow": null,
      "grid_area": null,
      "grid_auto_columns": null,
      "grid_auto_flow": null,
      "grid_auto_rows": null,
      "grid_column": null,
      "grid_gap": null,
      "grid_row": null,
      "grid_template_areas": null,
      "grid_template_columns": null,
      "grid_template_rows": null,
      "height": null,
      "justify_content": null,
      "justify_items": null,
      "left": null,
      "margin": null,
      "max_height": null,
      "max_width": null,
      "min_height": null,
      "min_width": null,
      "object_fit": null,
      "object_position": null,
      "order": null,
      "overflow": null,
      "overflow_x": null,
      "overflow_y": null,
      "padding": null,
      "right": null,
      "top": null,
      "visibility": null,
      "width": null
     }
    },
    "2e940013e4154a4d8efe41f6ea43729c": {
     "model_module": "@jupyter-widgets/controls",
     "model_name": "HTMLModel",
     "state": {
      "_dom_classes": [],
      "_model_module": "@jupyter-widgets/controls",
      "_model_module_version": "1.5.0",
      "_model_name": "HTMLModel",
      "_view_count": null,
      "_view_module": "@jupyter-widgets/controls",
      "_view_module_version": "1.5.0",
      "_view_name": "HTMLView",
      "description": "",
      "description_tooltip": null,
      "layout": "IPY_MODEL_232a4e8adc204b608f2a0db304388c04",
      "placeholder": "​",
      "style": "IPY_MODEL_c02ec6efb8224e3bb643b4c7840dc591",
      "value": " 1000/1000 [01:33&lt;00:00, 10.66it/s]"
     }
    },
    "2f3ca3600076450db01dd2b9d58cd4f4": {
     "model_module": "@jupyter-widgets/controls",
     "model_name": "DescriptionStyleModel",
     "state": {
      "_model_module": "@jupyter-widgets/controls",
      "_model_module_version": "1.5.0",
      "_model_name": "DescriptionStyleModel",
      "_view_count": null,
      "_view_module": "@jupyter-widgets/base",
      "_view_module_version": "1.2.0",
      "_view_name": "StyleView",
      "description_width": ""
     }
    },
    "2fe9cedecc584403963031dc61455949": {
     "model_module": "@jupyter-widgets/base",
     "model_name": "LayoutModel",
     "state": {
      "_model_module": "@jupyter-widgets/base",
      "_model_module_version": "1.2.0",
      "_model_name": "LayoutModel",
      "_view_count": null,
      "_view_module": "@jupyter-widgets/base",
      "_view_module_version": "1.2.0",
      "_view_name": "LayoutView",
      "align_content": null,
      "align_items": null,
      "align_self": null,
      "border": null,
      "bottom": null,
      "display": null,
      "flex": null,
      "flex_flow": null,
      "grid_area": null,
      "grid_auto_columns": null,
      "grid_auto_flow": null,
      "grid_auto_rows": null,
      "grid_column": null,
      "grid_gap": null,
      "grid_row": null,
      "grid_template_areas": null,
      "grid_template_columns": null,
      "grid_template_rows": null,
      "height": null,
      "justify_content": null,
      "justify_items": null,
      "left": null,
      "margin": null,
      "max_height": null,
      "max_width": null,
      "min_height": null,
      "min_width": null,
      "object_fit": null,
      "object_position": null,
      "order": null,
      "overflow": null,
      "overflow_x": null,
      "overflow_y": null,
      "padding": null,
      "right": null,
      "top": null,
      "visibility": null,
      "width": null
     }
    },
    "31185cab02a24df582fbb9d61d0b0da8": {
     "model_module": "@jupyter-widgets/base",
     "model_name": "LayoutModel",
     "state": {
      "_model_module": "@jupyter-widgets/base",
      "_model_module_version": "1.2.0",
      "_model_name": "LayoutModel",
      "_view_count": null,
      "_view_module": "@jupyter-widgets/base",
      "_view_module_version": "1.2.0",
      "_view_name": "LayoutView",
      "align_content": null,
      "align_items": null,
      "align_self": null,
      "border": null,
      "bottom": null,
      "display": null,
      "flex": null,
      "flex_flow": null,
      "grid_area": null,
      "grid_auto_columns": null,
      "grid_auto_flow": null,
      "grid_auto_rows": null,
      "grid_column": null,
      "grid_gap": null,
      "grid_row": null,
      "grid_template_areas": null,
      "grid_template_columns": null,
      "grid_template_rows": null,
      "height": null,
      "justify_content": null,
      "justify_items": null,
      "left": null,
      "margin": null,
      "max_height": null,
      "max_width": null,
      "min_height": null,
      "min_width": null,
      "object_fit": null,
      "object_position": null,
      "order": null,
      "overflow": null,
      "overflow_x": null,
      "overflow_y": null,
      "padding": null,
      "right": null,
      "top": null,
      "visibility": null,
      "width": null
     }
    },
    "34125a4f78f14135bf1e92ddc8cdd12a": {
     "model_module": "@jupyter-widgets/controls",
     "model_name": "HBoxModel",
     "state": {
      "_dom_classes": [],
      "_model_module": "@jupyter-widgets/controls",
      "_model_module_version": "1.5.0",
      "_model_name": "HBoxModel",
      "_view_count": null,
      "_view_module": "@jupyter-widgets/controls",
      "_view_module_version": "1.5.0",
      "_view_name": "HBoxView",
      "box_style": "",
      "children": [
       "IPY_MODEL_2736419a6b0d48758f6a79a60fb3eb25",
       "IPY_MODEL_163a98f89e2743b9aa33fb0db1d469b8"
      ],
      "layout": "IPY_MODEL_bc0bb083b6e147e1ae5e74e1d4185601"
     }
    },
    "35745fae9ed446a5832cc1c12493ff6d": {
     "model_module": "@jupyter-widgets/controls",
     "model_name": "HTMLModel",
     "state": {
      "_dom_classes": [],
      "_model_module": "@jupyter-widgets/controls",
      "_model_module_version": "1.5.0",
      "_model_name": "HTMLModel",
      "_view_count": null,
      "_view_module": "@jupyter-widgets/controls",
      "_view_module_version": "1.5.0",
      "_view_name": "HTMLView",
      "description": "",
      "description_tooltip": null,
      "layout": "IPY_MODEL_837fb116f3c64f01a63826194a6d3122",
      "placeholder": "​",
      "style": "IPY_MODEL_4b82f6d80f004915a41f5286d62a3931",
      "value": " 13/13 [00:03&lt;00:00,  3.33it/s]"
     }
    },
    "36476e6af9de40848ba3e50d670fbcba": {
     "model_module": "@jupyter-widgets/base",
     "model_name": "LayoutModel",
     "state": {
      "_model_module": "@jupyter-widgets/base",
      "_model_module_version": "1.2.0",
      "_model_name": "LayoutModel",
      "_view_count": null,
      "_view_module": "@jupyter-widgets/base",
      "_view_module_version": "1.2.0",
      "_view_name": "LayoutView",
      "align_content": null,
      "align_items": null,
      "align_self": null,
      "border": null,
      "bottom": null,
      "display": null,
      "flex": null,
      "flex_flow": null,
      "grid_area": null,
      "grid_auto_columns": null,
      "grid_auto_flow": null,
      "grid_auto_rows": null,
      "grid_column": null,
      "grid_gap": null,
      "grid_row": null,
      "grid_template_areas": null,
      "grid_template_columns": null,
      "grid_template_rows": null,
      "height": null,
      "justify_content": null,
      "justify_items": null,
      "left": null,
      "margin": null,
      "max_height": null,
      "max_width": null,
      "min_height": null,
      "min_width": null,
      "object_fit": null,
      "object_position": null,
      "order": null,
      "overflow": null,
      "overflow_x": null,
      "overflow_y": null,
      "padding": null,
      "right": null,
      "top": null,
      "visibility": null,
      "width": null
     }
    },
    "366ca8d43ddf4f4da5d65ec444c2e5a9": {
     "model_module": "@jupyter-widgets/controls",
     "model_name": "HBoxModel",
     "state": {
      "_dom_classes": [],
      "_model_module": "@jupyter-widgets/controls",
      "_model_module_version": "1.5.0",
      "_model_name": "HBoxModel",
      "_view_count": null,
      "_view_module": "@jupyter-widgets/controls",
      "_view_module_version": "1.5.0",
      "_view_name": "HBoxView",
      "box_style": "",
      "children": [
       "IPY_MODEL_b872f35ebfac431bb2dfd5d41b6dbd36",
       "IPY_MODEL_35745fae9ed446a5832cc1c12493ff6d"
      ],
      "layout": "IPY_MODEL_07044abd781e468d8ff1cd3323ab9ac1"
     }
    },
    "369e857f65c64c0395745b2b1cb5475d": {
     "model_module": "@jupyter-widgets/base",
     "model_name": "LayoutModel",
     "state": {
      "_model_module": "@jupyter-widgets/base",
      "_model_module_version": "1.2.0",
      "_model_name": "LayoutModel",
      "_view_count": null,
      "_view_module": "@jupyter-widgets/base",
      "_view_module_version": "1.2.0",
      "_view_name": "LayoutView",
      "align_content": null,
      "align_items": null,
      "align_self": null,
      "border": null,
      "bottom": null,
      "display": null,
      "flex": null,
      "flex_flow": null,
      "grid_area": null,
      "grid_auto_columns": null,
      "grid_auto_flow": null,
      "grid_auto_rows": null,
      "grid_column": null,
      "grid_gap": null,
      "grid_row": null,
      "grid_template_areas": null,
      "grid_template_columns": null,
      "grid_template_rows": null,
      "height": null,
      "justify_content": null,
      "justify_items": null,
      "left": null,
      "margin": null,
      "max_height": null,
      "max_width": null,
      "min_height": null,
      "min_width": null,
      "object_fit": null,
      "object_position": null,
      "order": null,
      "overflow": null,
      "overflow_x": null,
      "overflow_y": null,
      "padding": null,
      "right": null,
      "top": null,
      "visibility": null,
      "width": null
     }
    },
    "370500356b284c8da92c466186a9f1cf": {
     "model_module": "@jupyter-widgets/controls",
     "model_name": "DescriptionStyleModel",
     "state": {
      "_model_module": "@jupyter-widgets/controls",
      "_model_module_version": "1.5.0",
      "_model_name": "DescriptionStyleModel",
      "_view_count": null,
      "_view_module": "@jupyter-widgets/base",
      "_view_module_version": "1.2.0",
      "_view_name": "StyleView",
      "description_width": ""
     }
    },
    "3721d0404e6e4a8095071ba709546317": {
     "model_module": "@jupyter-widgets/base",
     "model_name": "LayoutModel",
     "state": {
      "_model_module": "@jupyter-widgets/base",
      "_model_module_version": "1.2.0",
      "_model_name": "LayoutModel",
      "_view_count": null,
      "_view_module": "@jupyter-widgets/base",
      "_view_module_version": "1.2.0",
      "_view_name": "LayoutView",
      "align_content": null,
      "align_items": null,
      "align_self": null,
      "border": null,
      "bottom": null,
      "display": null,
      "flex": null,
      "flex_flow": null,
      "grid_area": null,
      "grid_auto_columns": null,
      "grid_auto_flow": null,
      "grid_auto_rows": null,
      "grid_column": null,
      "grid_gap": null,
      "grid_row": null,
      "grid_template_areas": null,
      "grid_template_columns": null,
      "grid_template_rows": null,
      "height": null,
      "justify_content": null,
      "justify_items": null,
      "left": null,
      "margin": null,
      "max_height": null,
      "max_width": null,
      "min_height": null,
      "min_width": null,
      "object_fit": null,
      "object_position": null,
      "order": null,
      "overflow": null,
      "overflow_x": null,
      "overflow_y": null,
      "padding": null,
      "right": null,
      "top": null,
      "visibility": null,
      "width": null
     }
    },
    "39699517aa6d49598954ee11a31e63cb": {
     "model_module": "@jupyter-widgets/controls",
     "model_name": "DescriptionStyleModel",
     "state": {
      "_model_module": "@jupyter-widgets/controls",
      "_model_module_version": "1.5.0",
      "_model_name": "DescriptionStyleModel",
      "_view_count": null,
      "_view_module": "@jupyter-widgets/base",
      "_view_module_version": "1.2.0",
      "_view_name": "StyleView",
      "description_width": ""
     }
    },
    "3b6d67596cc84eb2b2e47b10e61ff878": {
     "model_module": "@jupyter-widgets/controls",
     "model_name": "FloatProgressModel",
     "state": {
      "_dom_classes": [],
      "_model_module": "@jupyter-widgets/controls",
      "_model_module_version": "1.5.0",
      "_model_name": "FloatProgressModel",
      "_view_count": null,
      "_view_module": "@jupyter-widgets/controls",
      "_view_module_version": "1.5.0",
      "_view_name": "ProgressView",
      "bar_style": "success",
      "description": "Epoch:3.Train Loss:0.5173 Acc:0.4648: 100%",
      "description_tooltip": null,
      "layout": "IPY_MODEL_e624bc30094d4305b2a44504fbbfe7c7",
      "max": 1237,
      "min": 0,
      "orientation": "horizontal",
      "style": "IPY_MODEL_277bc1513bf74fdc832b709c7a503ce8",
      "value": 1237
     }
    },
    "3c04fbaa60584b858f4e663ec460abcb": {
     "model_module": "@jupyter-widgets/base",
     "model_name": "LayoutModel",
     "state": {
      "_model_module": "@jupyter-widgets/base",
      "_model_module_version": "1.2.0",
      "_model_name": "LayoutModel",
      "_view_count": null,
      "_view_module": "@jupyter-widgets/base",
      "_view_module_version": "1.2.0",
      "_view_name": "LayoutView",
      "align_content": null,
      "align_items": null,
      "align_self": null,
      "border": null,
      "bottom": null,
      "display": null,
      "flex": null,
      "flex_flow": null,
      "grid_area": null,
      "grid_auto_columns": null,
      "grid_auto_flow": null,
      "grid_auto_rows": null,
      "grid_column": null,
      "grid_gap": null,
      "grid_row": null,
      "grid_template_areas": null,
      "grid_template_columns": null,
      "grid_template_rows": null,
      "height": null,
      "justify_content": null,
      "justify_items": null,
      "left": null,
      "margin": null,
      "max_height": null,
      "max_width": null,
      "min_height": null,
      "min_width": null,
      "object_fit": null,
      "object_position": null,
      "order": null,
      "overflow": null,
      "overflow_x": null,
      "overflow_y": null,
      "padding": null,
      "right": null,
      "top": null,
      "visibility": null,
      "width": null
     }
    },
    "3cc6e0a072c046b98ad755fd2e36bef2": {
     "model_module": "@jupyter-widgets/controls",
     "model_name": "HBoxModel",
     "state": {
      "_dom_classes": [],
      "_model_module": "@jupyter-widgets/controls",
      "_model_module_version": "1.5.0",
      "_model_name": "HBoxModel",
      "_view_count": null,
      "_view_module": "@jupyter-widgets/controls",
      "_view_module_version": "1.5.0",
      "_view_name": "HBoxView",
      "box_style": "",
      "children": [
       "IPY_MODEL_f57fd6ed7cd24827aaec6225d158ae3e",
       "IPY_MODEL_4ef6da13b2b940649a5f45415a0828d1"
      ],
      "layout": "IPY_MODEL_84d363b5cb684fa2ace5ed9b476422e0"
     }
    },
    "3cf1fae5e52f4ab584eedaea9ccfc401": {
     "model_module": "@jupyter-widgets/controls",
     "model_name": "FloatProgressModel",
     "state": {
      "_dom_classes": [],
      "_model_module": "@jupyter-widgets/controls",
      "_model_module_version": "1.5.0",
      "_model_name": "FloatProgressModel",
      "_view_count": null,
      "_view_module": "@jupyter-widgets/controls",
      "_view_module_version": "1.5.0",
      "_view_name": "ProgressView",
      "bar_style": "success",
      "description": "Test Loss: 0.5381, Test Acc: 0.4997: 100%",
      "description_tooltip": null,
      "layout": "IPY_MODEL_8b0b2dce37b040adaa7bc7bfe4f115b2",
      "max": 250,
      "min": 0,
      "orientation": "horizontal",
      "style": "IPY_MODEL_f27988f4a8fd41e4a31ce7360292ef07",
      "value": 250
     }
    },
    "3d5247cc1a554e13a901faf7bd78ea42": {
     "model_module": "@jupyter-widgets/controls",
     "model_name": "DescriptionStyleModel",
     "state": {
      "_model_module": "@jupyter-widgets/controls",
      "_model_module_version": "1.5.0",
      "_model_name": "DescriptionStyleModel",
      "_view_count": null,
      "_view_module": "@jupyter-widgets/base",
      "_view_module_version": "1.2.0",
      "_view_name": "StyleView",
      "description_width": ""
     }
    },
    "3e1f05ef1eeb44d5b4a696648501fb7b": {
     "model_module": "@jupyter-widgets/controls",
     "model_name": "HTMLModel",
     "state": {
      "_dom_classes": [],
      "_model_module": "@jupyter-widgets/controls",
      "_model_module_version": "1.5.0",
      "_model_name": "HTMLModel",
      "_view_count": null,
      "_view_module": "@jupyter-widgets/controls",
      "_view_module_version": "1.5.0",
      "_view_name": "HTMLView",
      "description": "",
      "description_tooltip": null,
      "layout": "IPY_MODEL_ac8296613b804516b502749399133547",
      "placeholder": "​",
      "style": "IPY_MODEL_d039d338253245489c7636394235547c",
      "value": " 1237/1237 [01:42&lt;00:00, 12.06it/s]"
     }
    },
    "3f14aba355ae449490d8eca50f4f00b8": {
     "model_module": "@jupyter-widgets/base",
     "model_name": "LayoutModel",
     "state": {
      "_model_module": "@jupyter-widgets/base",
      "_model_module_version": "1.2.0",
      "_model_name": "LayoutModel",
      "_view_count": null,
      "_view_module": "@jupyter-widgets/base",
      "_view_module_version": "1.2.0",
      "_view_name": "LayoutView",
      "align_content": null,
      "align_items": null,
      "align_self": null,
      "border": null,
      "bottom": null,
      "display": null,
      "flex": null,
      "flex_flow": null,
      "grid_area": null,
      "grid_auto_columns": null,
      "grid_auto_flow": null,
      "grid_auto_rows": null,
      "grid_column": null,
      "grid_gap": null,
      "grid_row": null,
      "grid_template_areas": null,
      "grid_template_columns": null,
      "grid_template_rows": null,
      "height": null,
      "justify_content": null,
      "justify_items": null,
      "left": null,
      "margin": null,
      "max_height": null,
      "max_width": null,
      "min_height": null,
      "min_width": null,
      "object_fit": null,
      "object_position": null,
      "order": null,
      "overflow": null,
      "overflow_x": null,
      "overflow_y": null,
      "padding": null,
      "right": null,
      "top": null,
      "visibility": null,
      "width": null
     }
    },
    "3fbb624dc6ba471099d4962207d1c183": {
     "model_module": "@jupyter-widgets/controls",
     "model_name": "DescriptionStyleModel",
     "state": {
      "_model_module": "@jupyter-widgets/controls",
      "_model_module_version": "1.5.0",
      "_model_name": "DescriptionStyleModel",
      "_view_count": null,
      "_view_module": "@jupyter-widgets/base",
      "_view_module_version": "1.2.0",
      "_view_name": "StyleView",
      "description_width": ""
     }
    },
    "40a23281fa22453a8dabe9de37776610": {
     "model_module": "@jupyter-widgets/controls",
     "model_name": "FloatProgressModel",
     "state": {
      "_dom_classes": [],
      "_model_module": "@jupyter-widgets/controls",
      "_model_module_version": "1.5.0",
      "_model_name": "FloatProgressModel",
      "_view_count": null,
      "_view_module": "@jupyter-widgets/controls",
      "_view_module_version": "1.5.0",
      "_view_name": "ProgressView",
      "bar_style": "success",
      "description": "Test Loss: 0.2496, Test Acc: 0.496: 100%",
      "description_tooltip": null,
      "layout": "IPY_MODEL_8fe6fae9541a4947998a46ba5c1f1a8c",
      "max": 13,
      "min": 0,
      "orientation": "horizontal",
      "style": "IPY_MODEL_0683c6d5c8674022ba291661521f657f",
      "value": 13
     }
    },
    "41703b3fad924dc3bef4eae8d2ee4530": {
     "model_module": "@jupyter-widgets/controls",
     "model_name": "ProgressStyleModel",
     "state": {
      "_model_module": "@jupyter-widgets/controls",
      "_model_module_version": "1.5.0",
      "_model_name": "ProgressStyleModel",
      "_view_count": null,
      "_view_module": "@jupyter-widgets/base",
      "_view_module_version": "1.2.0",
      "_view_name": "StyleView",
      "bar_color": null,
      "description_width": "initial"
     }
    },
    "42e05330a0e14b2daf423fa1e34b52a0": {
     "model_module": "@jupyter-widgets/controls",
     "model_name": "HTMLModel",
     "state": {
      "_dom_classes": [],
      "_model_module": "@jupyter-widgets/controls",
      "_model_module_version": "1.5.0",
      "_model_name": "HTMLModel",
      "_view_count": null,
      "_view_module": "@jupyter-widgets/controls",
      "_view_module_version": "1.5.0",
      "_view_name": "HTMLView",
      "description": "",
      "description_tooltip": null,
      "layout": "IPY_MODEL_c822d0f26e7a4c57b49fdbbfc4ee2de8",
      "placeholder": "​",
      "style": "IPY_MODEL_2816c25e30c6495c977fe8f890d624a8",
      "value": " 250/250 [00:28&lt;00:00,  8.65it/s]"
     }
    },
    "43cf54418f8c47848fc0317cbe00efa9": {
     "model_module": "@jupyter-widgets/base",
     "model_name": "LayoutModel",
     "state": {
      "_model_module": "@jupyter-widgets/base",
      "_model_module_version": "1.2.0",
      "_model_name": "LayoutModel",
      "_view_count": null,
      "_view_module": "@jupyter-widgets/base",
      "_view_module_version": "1.2.0",
      "_view_name": "LayoutView",
      "align_content": null,
      "align_items": null,
      "align_self": null,
      "border": null,
      "bottom": null,
      "display": null,
      "flex": null,
      "flex_flow": null,
      "grid_area": null,
      "grid_auto_columns": null,
      "grid_auto_flow": null,
      "grid_auto_rows": null,
      "grid_column": null,
      "grid_gap": null,
      "grid_row": null,
      "grid_template_areas": null,
      "grid_template_columns": null,
      "grid_template_rows": null,
      "height": null,
      "justify_content": null,
      "justify_items": null,
      "left": null,
      "margin": null,
      "max_height": null,
      "max_width": null,
      "min_height": null,
      "min_width": null,
      "object_fit": null,
      "object_position": null,
      "order": null,
      "overflow": null,
      "overflow_x": null,
      "overflow_y": null,
      "padding": null,
      "right": null,
      "top": null,
      "visibility": null,
      "width": null
     }
    },
    "43f20e52c2c443f4aec35900409793e0": {
     "model_module": "@jupyter-widgets/base",
     "model_name": "LayoutModel",
     "state": {
      "_model_module": "@jupyter-widgets/base",
      "_model_module_version": "1.2.0",
      "_model_name": "LayoutModel",
      "_view_count": null,
      "_view_module": "@jupyter-widgets/base",
      "_view_module_version": "1.2.0",
      "_view_name": "LayoutView",
      "align_content": null,
      "align_items": null,
      "align_self": null,
      "border": null,
      "bottom": null,
      "display": null,
      "flex": null,
      "flex_flow": null,
      "grid_area": null,
      "grid_auto_columns": null,
      "grid_auto_flow": null,
      "grid_auto_rows": null,
      "grid_column": null,
      "grid_gap": null,
      "grid_row": null,
      "grid_template_areas": null,
      "grid_template_columns": null,
      "grid_template_rows": null,
      "height": null,
      "justify_content": null,
      "justify_items": null,
      "left": null,
      "margin": null,
      "max_height": null,
      "max_width": null,
      "min_height": null,
      "min_width": null,
      "object_fit": null,
      "object_position": null,
      "order": null,
      "overflow": null,
      "overflow_x": null,
      "overflow_y": null,
      "padding": null,
      "right": null,
      "top": null,
      "visibility": null,
      "width": null
     }
    },
    "443644605ce145959b9fa4eca412248c": {
     "model_module": "@jupyter-widgets/base",
     "model_name": "LayoutModel",
     "state": {
      "_model_module": "@jupyter-widgets/base",
      "_model_module_version": "1.2.0",
      "_model_name": "LayoutModel",
      "_view_count": null,
      "_view_module": "@jupyter-widgets/base",
      "_view_module_version": "1.2.0",
      "_view_name": "LayoutView",
      "align_content": null,
      "align_items": null,
      "align_self": null,
      "border": null,
      "bottom": null,
      "display": null,
      "flex": null,
      "flex_flow": null,
      "grid_area": null,
      "grid_auto_columns": null,
      "grid_auto_flow": null,
      "grid_auto_rows": null,
      "grid_column": null,
      "grid_gap": null,
      "grid_row": null,
      "grid_template_areas": null,
      "grid_template_columns": null,
      "grid_template_rows": null,
      "height": null,
      "justify_content": null,
      "justify_items": null,
      "left": null,
      "margin": null,
      "max_height": null,
      "max_width": null,
      "min_height": null,
      "min_width": null,
      "object_fit": null,
      "object_position": null,
      "order": null,
      "overflow": null,
      "overflow_x": null,
      "overflow_y": null,
      "padding": null,
      "right": null,
      "top": null,
      "visibility": null,
      "width": null
     }
    },
    "449d313fa17648f5a0add763d43156ee": {
     "model_module": "@jupyter-widgets/controls",
     "model_name": "FloatProgressModel",
     "state": {
      "_dom_classes": [],
      "_model_module": "@jupyter-widgets/controls",
      "_model_module_version": "1.5.0",
      "_model_name": "FloatProgressModel",
      "_view_count": null,
      "_view_module": "@jupyter-widgets/controls",
      "_view_module_version": "1.5.0",
      "_view_name": "ProgressView",
      "bar_style": "success",
      "description": "Epoch:1.Train Loss:0.2429 Acc:0.5059: 100%",
      "description_tooltip": null,
      "layout": "IPY_MODEL_7282f933de034543990209b5fd8816fe",
      "max": 1237,
      "min": 0,
      "orientation": "horizontal",
      "style": "IPY_MODEL_f9fb076f68db47e2a4f32068f4bb8a36",
      "value": 1237
     }
    },
    "45d1d6e0951a4a6a9485baa4c2eb6e05": {
     "model_module": "@jupyter-widgets/controls",
     "model_name": "ProgressStyleModel",
     "state": {
      "_model_module": "@jupyter-widgets/controls",
      "_model_module_version": "1.5.0",
      "_model_name": "ProgressStyleModel",
      "_view_count": null,
      "_view_module": "@jupyter-widgets/base",
      "_view_module_version": "1.2.0",
      "_view_name": "StyleView",
      "bar_color": null,
      "description_width": "initial"
     }
    },
    "45e541c9de65482699c56d1bd32beb6a": {
     "model_module": "@jupyter-widgets/controls",
     "model_name": "HBoxModel",
     "state": {
      "_dom_classes": [],
      "_model_module": "@jupyter-widgets/controls",
      "_model_module_version": "1.5.0",
      "_model_name": "HBoxModel",
      "_view_count": null,
      "_view_module": "@jupyter-widgets/controls",
      "_view_module_version": "1.5.0",
      "_view_name": "HBoxView",
      "box_style": "",
      "children": [
       "IPY_MODEL_204d68ba5fb14d909d591d0d7c32d981",
       "IPY_MODEL_7f2adafddb174b31a61210fb872ed12f"
      ],
      "layout": "IPY_MODEL_1c6d08457ccc41449d2c6e12a1a90a79"
     }
    },
    "497aef53041e4cba827986d5acb68f85": {
     "model_module": "@jupyter-widgets/controls",
     "model_name": "HBoxModel",
     "state": {
      "_dom_classes": [],
      "_model_module": "@jupyter-widgets/controls",
      "_model_module_version": "1.5.0",
      "_model_name": "HBoxModel",
      "_view_count": null,
      "_view_module": "@jupyter-widgets/controls",
      "_view_module_version": "1.5.0",
      "_view_name": "HBoxView",
      "box_style": "",
      "children": [
       "IPY_MODEL_ea4491ab0f064af48ca3733e5c3ffe1f",
       "IPY_MODEL_d1e4e4106e894927a00bc37286967547"
      ],
      "layout": "IPY_MODEL_721b5520a54840f9bd7856df5355a0bf"
     }
    },
    "4b5c3bf2a87f4309ad32e8e1ab471fc4": {
     "model_module": "@jupyter-widgets/controls",
     "model_name": "HTMLModel",
     "state": {
      "_dom_classes": [],
      "_model_module": "@jupyter-widgets/controls",
      "_model_module_version": "1.5.0",
      "_model_name": "HTMLModel",
      "_view_count": null,
      "_view_module": "@jupyter-widgets/controls",
      "_view_module_version": "1.5.0",
      "_view_name": "HTMLView",
      "description": "",
      "description_tooltip": null,
      "layout": "IPY_MODEL_0c3e2dd43e8c40d0838ba1ab22460538",
      "placeholder": "​",
      "style": "IPY_MODEL_7b2b836e4fff49ed87ef441096c8397d",
      "value": " 1237/1237 [01:44&lt;00:00, 11.82it/s]"
     }
    },
    "4b82f6d80f004915a41f5286d62a3931": {
     "model_module": "@jupyter-widgets/controls",
     "model_name": "DescriptionStyleModel",
     "state": {
      "_model_module": "@jupyter-widgets/controls",
      "_model_module_version": "1.5.0",
      "_model_name": "DescriptionStyleModel",
      "_view_count": null,
      "_view_module": "@jupyter-widgets/base",
      "_view_module_version": "1.2.0",
      "_view_name": "StyleView",
      "description_width": ""
     }
    },
    "4be10a5fa67b4250bfdac72fc7e0e1d4": {
     "model_module": "@jupyter-widgets/controls",
     "model_name": "FloatProgressModel",
     "state": {
      "_dom_classes": [],
      "_model_module": "@jupyter-widgets/controls",
      "_model_module_version": "1.5.0",
      "_model_name": "FloatProgressModel",
      "_view_count": null,
      "_view_module": "@jupyter-widgets/controls",
      "_view_module_version": "1.5.0",
      "_view_name": "ProgressView",
      "bar_style": "success",
      "description": "Epoch:2.Train Loss:0.2609 Acc:0.4727: 100%",
      "description_tooltip": null,
      "layout": "IPY_MODEL_f72ca9f70701450ca0f1541e50aed2d4",
      "max": 1237,
      "min": 0,
      "orientation": "horizontal",
      "style": "IPY_MODEL_41703b3fad924dc3bef4eae8d2ee4530",
      "value": 1237
     }
    },
    "4c368561539b4747995c0380bddaa828": {
     "model_module": "@jupyter-widgets/controls",
     "model_name": "HBoxModel",
     "state": {
      "_dom_classes": [],
      "_model_module": "@jupyter-widgets/controls",
      "_model_module_version": "1.5.0",
      "_model_name": "HBoxModel",
      "_view_count": null,
      "_view_module": "@jupyter-widgets/controls",
      "_view_module_version": "1.5.0",
      "_view_name": "HBoxView",
      "box_style": "",
      "children": [
       "IPY_MODEL_273c429837a04d18acc8ec3736a3da1d",
       "IPY_MODEL_88cfeebf2efb4ba781da44bd5e20f069"
      ],
      "layout": "IPY_MODEL_018d65f1ddf64cc1ae43bd6e76112369"
     }
    },
    "4e1ee3a9e13740dcb9078d4a0b35b8cb": {
     "model_module": "@jupyter-widgets/controls",
     "model_name": "ProgressStyleModel",
     "state": {
      "_model_module": "@jupyter-widgets/controls",
      "_model_module_version": "1.5.0",
      "_model_name": "ProgressStyleModel",
      "_view_count": null,
      "_view_module": "@jupyter-widgets/base",
      "_view_module_version": "1.2.0",
      "_view_name": "StyleView",
      "bar_color": null,
      "description_width": "initial"
     }
    },
    "4e9d1b42ec2244b890e25081aa58db9a": {
     "model_module": "@jupyter-widgets/base",
     "model_name": "LayoutModel",
     "state": {
      "_model_module": "@jupyter-widgets/base",
      "_model_module_version": "1.2.0",
      "_model_name": "LayoutModel",
      "_view_count": null,
      "_view_module": "@jupyter-widgets/base",
      "_view_module_version": "1.2.0",
      "_view_name": "LayoutView",
      "align_content": null,
      "align_items": null,
      "align_self": null,
      "border": null,
      "bottom": null,
      "display": null,
      "flex": null,
      "flex_flow": null,
      "grid_area": null,
      "grid_auto_columns": null,
      "grid_auto_flow": null,
      "grid_auto_rows": null,
      "grid_column": null,
      "grid_gap": null,
      "grid_row": null,
      "grid_template_areas": null,
      "grid_template_columns": null,
      "grid_template_rows": null,
      "height": null,
      "justify_content": null,
      "justify_items": null,
      "left": null,
      "margin": null,
      "max_height": null,
      "max_width": null,
      "min_height": null,
      "min_width": null,
      "object_fit": null,
      "object_position": null,
      "order": null,
      "overflow": null,
      "overflow_x": null,
      "overflow_y": null,
      "padding": null,
      "right": null,
      "top": null,
      "visibility": null,
      "width": null
     }
    },
    "4ef6da13b2b940649a5f45415a0828d1": {
     "model_module": "@jupyter-widgets/controls",
     "model_name": "HTMLModel",
     "state": {
      "_dom_classes": [],
      "_model_module": "@jupyter-widgets/controls",
      "_model_module_version": "1.5.0",
      "_model_name": "HTMLModel",
      "_view_count": null,
      "_view_module": "@jupyter-widgets/controls",
      "_view_module_version": "1.5.0",
      "_view_name": "HTMLView",
      "description": "",
      "description_tooltip": null,
      "layout": "IPY_MODEL_cebef6d4759c4e019a3ec213e67f67b7",
      "placeholder": "​",
      "style": "IPY_MODEL_016736cb59a14314924de63d56fbac1b",
      "value": " 313/313 [00:25&lt;00:00, 12.45it/s]"
     }
    },
    "5281edd8f15a4a058fcccf1060ad1475": {
     "model_module": "@jupyter-widgets/controls",
     "model_name": "DescriptionStyleModel",
     "state": {
      "_model_module": "@jupyter-widgets/controls",
      "_model_module_version": "1.5.0",
      "_model_name": "DescriptionStyleModel",
      "_view_count": null,
      "_view_module": "@jupyter-widgets/base",
      "_view_module_version": "1.2.0",
      "_view_name": "StyleView",
      "description_width": ""
     }
    },
    "534c6884bbe9422a853aa908bec3bf78": {
     "model_module": "@jupyter-widgets/controls",
     "model_name": "FloatProgressModel",
     "state": {
      "_dom_classes": [],
      "_model_module": "@jupyter-widgets/controls",
      "_model_module_version": "1.5.0",
      "_model_name": "FloatProgressModel",
      "_view_count": null,
      "_view_module": "@jupyter-widgets/controls",
      "_view_module_version": "1.5.0",
      "_view_name": "ProgressView",
      "bar_style": "success",
      "description": "Test Loss: 0.529, Test Acc: 0.496: 100%",
      "description_tooltip": null,
      "layout": "IPY_MODEL_89088175b0644623bf81aa54b0d5e424",
      "max": 13,
      "min": 0,
      "orientation": "horizontal",
      "style": "IPY_MODEL_feb95a64a25a485ebe422c929c13b677",
      "value": 13
     }
    },
    "5453f59dd1da489d9abec7556b518338": {
     "model_module": "@jupyter-widgets/controls",
     "model_name": "FloatProgressModel",
     "state": {
      "_dom_classes": [],
      "_model_module": "@jupyter-widgets/controls",
      "_model_module_version": "1.5.0",
      "_model_name": "FloatProgressModel",
      "_view_count": null,
      "_view_module": "@jupyter-widgets/controls",
      "_view_module_version": "1.5.0",
      "_view_name": "ProgressView",
      "bar_style": "success",
      "description": "Epoch:5.Train Loss:0.5555 Acc:0.4971: 100%",
      "description_tooltip": null,
      "layout": "IPY_MODEL_ba16890d66b14619b2e7355de46e6109",
      "max": 1237,
      "min": 0,
      "orientation": "horizontal",
      "style": "IPY_MODEL_77e62d8a7be34c66b652c843a3727b2e",
      "value": 1237
     }
    },
    "57877582f9d641c8840e554657e5f74b": {
     "model_module": "@jupyter-widgets/controls",
     "model_name": "ProgressStyleModel",
     "state": {
      "_model_module": "@jupyter-widgets/controls",
      "_model_module_version": "1.5.0",
      "_model_name": "ProgressStyleModel",
      "_view_count": null,
      "_view_module": "@jupyter-widgets/base",
      "_view_module_version": "1.2.0",
      "_view_name": "StyleView",
      "bar_color": null,
      "description_width": "initial"
     }
    },
    "58484700e6b0442793464ff7e4141ac4": {
     "model_module": "@jupyter-widgets/controls",
     "model_name": "HBoxModel",
     "state": {
      "_dom_classes": [],
      "_model_module": "@jupyter-widgets/controls",
      "_model_module_version": "1.5.0",
      "_model_name": "HBoxModel",
      "_view_count": null,
      "_view_module": "@jupyter-widgets/controls",
      "_view_module_version": "1.5.0",
      "_view_name": "HBoxView",
      "box_style": "",
      "children": [
       "IPY_MODEL_a938376cc5bb425194811f9e17c89ab9",
       "IPY_MODEL_69f6ceaad90749cdbd45c7470e47b98e"
      ],
      "layout": "IPY_MODEL_db3a6cdf77e74ce88ca68b3a424ad848"
     }
    },
    "5866ff25e89347cfb0d460d716ebc139": {
     "model_module": "@jupyter-widgets/base",
     "model_name": "LayoutModel",
     "state": {
      "_model_module": "@jupyter-widgets/base",
      "_model_module_version": "1.2.0",
      "_model_name": "LayoutModel",
      "_view_count": null,
      "_view_module": "@jupyter-widgets/base",
      "_view_module_version": "1.2.0",
      "_view_name": "LayoutView",
      "align_content": null,
      "align_items": null,
      "align_self": null,
      "border": null,
      "bottom": null,
      "display": null,
      "flex": null,
      "flex_flow": null,
      "grid_area": null,
      "grid_auto_columns": null,
      "grid_auto_flow": null,
      "grid_auto_rows": null,
      "grid_column": null,
      "grid_gap": null,
      "grid_row": null,
      "grid_template_areas": null,
      "grid_template_columns": null,
      "grid_template_rows": null,
      "height": null,
      "justify_content": null,
      "justify_items": null,
      "left": null,
      "margin": null,
      "max_height": null,
      "max_width": null,
      "min_height": null,
      "min_width": null,
      "object_fit": null,
      "object_position": null,
      "order": null,
      "overflow": null,
      "overflow_x": null,
      "overflow_y": null,
      "padding": null,
      "right": null,
      "top": null,
      "visibility": null,
      "width": null
     }
    },
    "58e694b3e6dc44618e59070af097b2cc": {
     "model_module": "@jupyter-widgets/controls",
     "model_name": "HTMLModel",
     "state": {
      "_dom_classes": [],
      "_model_module": "@jupyter-widgets/controls",
      "_model_module_version": "1.5.0",
      "_model_name": "HTMLModel",
      "_view_count": null,
      "_view_module": "@jupyter-widgets/controls",
      "_view_module_version": "1.5.0",
      "_view_name": "HTMLView",
      "description": "",
      "description_tooltip": null,
      "layout": "IPY_MODEL_df10267da0854e3fa30b06b7022c0d47",
      "placeholder": "​",
      "style": "IPY_MODEL_b82623f356d54b09a75a1fec29ec5b48",
      "value": " 13/13 [00:01&lt;00:00,  7.35it/s]"
     }
    },
    "5afdde7148d14713be04c60ef91bb535": {
     "model_module": "@jupyter-widgets/controls",
     "model_name": "ProgressStyleModel",
     "state": {
      "_model_module": "@jupyter-widgets/controls",
      "_model_module_version": "1.5.0",
      "_model_name": "ProgressStyleModel",
      "_view_count": null,
      "_view_module": "@jupyter-widgets/base",
      "_view_module_version": "1.2.0",
      "_view_name": "StyleView",
      "bar_color": null,
      "description_width": "initial"
     }
    },
    "5e2d6dc87bf6474e9dea13b044c23bbf": {
     "model_module": "@jupyter-widgets/base",
     "model_name": "LayoutModel",
     "state": {
      "_model_module": "@jupyter-widgets/base",
      "_model_module_version": "1.2.0",
      "_model_name": "LayoutModel",
      "_view_count": null,
      "_view_module": "@jupyter-widgets/base",
      "_view_module_version": "1.2.0",
      "_view_name": "LayoutView",
      "align_content": null,
      "align_items": null,
      "align_self": null,
      "border": null,
      "bottom": null,
      "display": null,
      "flex": null,
      "flex_flow": null,
      "grid_area": null,
      "grid_auto_columns": null,
      "grid_auto_flow": null,
      "grid_auto_rows": null,
      "grid_column": null,
      "grid_gap": null,
      "grid_row": null,
      "grid_template_areas": null,
      "grid_template_columns": null,
      "grid_template_rows": null,
      "height": null,
      "justify_content": null,
      "justify_items": null,
      "left": null,
      "margin": null,
      "max_height": null,
      "max_width": null,
      "min_height": null,
      "min_width": null,
      "object_fit": null,
      "object_position": null,
      "order": null,
      "overflow": null,
      "overflow_x": null,
      "overflow_y": null,
      "padding": null,
      "right": null,
      "top": null,
      "visibility": null,
      "width": null
     }
    },
    "60d64301274b4b68983f12d9df8a50dc": {
     "model_module": "@jupyter-widgets/base",
     "model_name": "LayoutModel",
     "state": {
      "_model_module": "@jupyter-widgets/base",
      "_model_module_version": "1.2.0",
      "_model_name": "LayoutModel",
      "_view_count": null,
      "_view_module": "@jupyter-widgets/base",
      "_view_module_version": "1.2.0",
      "_view_name": "LayoutView",
      "align_content": null,
      "align_items": null,
      "align_self": null,
      "border": null,
      "bottom": null,
      "display": null,
      "flex": null,
      "flex_flow": null,
      "grid_area": null,
      "grid_auto_columns": null,
      "grid_auto_flow": null,
      "grid_auto_rows": null,
      "grid_column": null,
      "grid_gap": null,
      "grid_row": null,
      "grid_template_areas": null,
      "grid_template_columns": null,
      "grid_template_rows": null,
      "height": null,
      "justify_content": null,
      "justify_items": null,
      "left": null,
      "margin": null,
      "max_height": null,
      "max_width": null,
      "min_height": null,
      "min_width": null,
      "object_fit": null,
      "object_position": null,
      "order": null,
      "overflow": null,
      "overflow_x": null,
      "overflow_y": null,
      "padding": null,
      "right": null,
      "top": null,
      "visibility": null,
      "width": null
     }
    },
    "60f97517b57448eea14bafe69b48afc4": {
     "model_module": "@jupyter-widgets/controls",
     "model_name": "DescriptionStyleModel",
     "state": {
      "_model_module": "@jupyter-widgets/controls",
      "_model_module_version": "1.5.0",
      "_model_name": "DescriptionStyleModel",
      "_view_count": null,
      "_view_module": "@jupyter-widgets/base",
      "_view_module_version": "1.2.0",
      "_view_name": "StyleView",
      "description_width": ""
     }
    },
    "610990445c6f43649a46a52a8697e80a": {
     "model_module": "@jupyter-widgets/controls",
     "model_name": "ProgressStyleModel",
     "state": {
      "_model_module": "@jupyter-widgets/controls",
      "_model_module_version": "1.5.0",
      "_model_name": "ProgressStyleModel",
      "_view_count": null,
      "_view_module": "@jupyter-widgets/base",
      "_view_module_version": "1.2.0",
      "_view_name": "StyleView",
      "bar_color": null,
      "description_width": "initial"
     }
    },
    "610d3b338b894837b5e65acf8bc56517": {
     "model_module": "@jupyter-widgets/base",
     "model_name": "LayoutModel",
     "state": {
      "_model_module": "@jupyter-widgets/base",
      "_model_module_version": "1.2.0",
      "_model_name": "LayoutModel",
      "_view_count": null,
      "_view_module": "@jupyter-widgets/base",
      "_view_module_version": "1.2.0",
      "_view_name": "LayoutView",
      "align_content": null,
      "align_items": null,
      "align_self": null,
      "border": null,
      "bottom": null,
      "display": null,
      "flex": null,
      "flex_flow": null,
      "grid_area": null,
      "grid_auto_columns": null,
      "grid_auto_flow": null,
      "grid_auto_rows": null,
      "grid_column": null,
      "grid_gap": null,
      "grid_row": null,
      "grid_template_areas": null,
      "grid_template_columns": null,
      "grid_template_rows": null,
      "height": null,
      "justify_content": null,
      "justify_items": null,
      "left": null,
      "margin": null,
      "max_height": null,
      "max_width": null,
      "min_height": null,
      "min_width": null,
      "object_fit": null,
      "object_position": null,
      "order": null,
      "overflow": null,
      "overflow_x": null,
      "overflow_y": null,
      "padding": null,
      "right": null,
      "top": null,
      "visibility": null,
      "width": null
     }
    },
    "613b5c875c8f483faae0b64dfc277557": {
     "model_module": "@jupyter-widgets/controls",
     "model_name": "FloatProgressModel",
     "state": {
      "_dom_classes": [],
      "_model_module": "@jupyter-widgets/controls",
      "_model_module_version": "1.5.0",
      "_model_name": "FloatProgressModel",
      "_view_count": null,
      "_view_module": "@jupyter-widgets/controls",
      "_view_module_version": "1.5.0",
      "_view_name": "ProgressView",
      "bar_style": "success",
      "description": "Test Loss: 0.535, Test Acc: 0.496: 100%",
      "description_tooltip": null,
      "layout": "IPY_MODEL_6fb174ca15cb4731ba1e6c1153c56771",
      "max": 13,
      "min": 0,
      "orientation": "horizontal",
      "style": "IPY_MODEL_8affe86d62414a1b85c8278aca5971bd",
      "value": 13
     }
    },
    "6229d1d173804159b19b03aa8052316c": {
     "model_module": "@jupyter-widgets/base",
     "model_name": "LayoutModel",
     "state": {
      "_model_module": "@jupyter-widgets/base",
      "_model_module_version": "1.2.0",
      "_model_name": "LayoutModel",
      "_view_count": null,
      "_view_module": "@jupyter-widgets/base",
      "_view_module_version": "1.2.0",
      "_view_name": "LayoutView",
      "align_content": null,
      "align_items": null,
      "align_self": null,
      "border": null,
      "bottom": null,
      "display": null,
      "flex": null,
      "flex_flow": null,
      "grid_area": null,
      "grid_auto_columns": null,
      "grid_auto_flow": null,
      "grid_auto_rows": null,
      "grid_column": null,
      "grid_gap": null,
      "grid_row": null,
      "grid_template_areas": null,
      "grid_template_columns": null,
      "grid_template_rows": null,
      "height": null,
      "justify_content": null,
      "justify_items": null,
      "left": null,
      "margin": null,
      "max_height": null,
      "max_width": null,
      "min_height": null,
      "min_width": null,
      "object_fit": null,
      "object_position": null,
      "order": null,
      "overflow": null,
      "overflow_x": null,
      "overflow_y": null,
      "padding": null,
      "right": null,
      "top": null,
      "visibility": null,
      "width": null
     }
    },
    "641bc23b313f4239ba9780fd82265a87": {
     "model_module": "@jupyter-widgets/controls",
     "model_name": "HBoxModel",
     "state": {
      "_dom_classes": [],
      "_model_module": "@jupyter-widgets/controls",
      "_model_module_version": "1.5.0",
      "_model_name": "HBoxModel",
      "_view_count": null,
      "_view_module": "@jupyter-widgets/controls",
      "_view_module_version": "1.5.0",
      "_view_name": "HBoxView",
      "box_style": "",
      "children": [
       "IPY_MODEL_613b5c875c8f483faae0b64dfc277557",
       "IPY_MODEL_be858959c1b24bfb80a1ef12ce8c357d"
      ],
      "layout": "IPY_MODEL_90fd056eb9644847922e4bd0c9afaf30"
     }
    },
    "655355ca1e66432e8a3014ef35be6071": {
     "model_module": "@jupyter-widgets/base",
     "model_name": "LayoutModel",
     "state": {
      "_model_module": "@jupyter-widgets/base",
      "_model_module_version": "1.2.0",
      "_model_name": "LayoutModel",
      "_view_count": null,
      "_view_module": "@jupyter-widgets/base",
      "_view_module_version": "1.2.0",
      "_view_name": "LayoutView",
      "align_content": null,
      "align_items": null,
      "align_self": null,
      "border": null,
      "bottom": null,
      "display": null,
      "flex": null,
      "flex_flow": null,
      "grid_area": null,
      "grid_auto_columns": null,
      "grid_auto_flow": null,
      "grid_auto_rows": null,
      "grid_column": null,
      "grid_gap": null,
      "grid_row": null,
      "grid_template_areas": null,
      "grid_template_columns": null,
      "grid_template_rows": null,
      "height": null,
      "justify_content": null,
      "justify_items": null,
      "left": null,
      "margin": null,
      "max_height": null,
      "max_width": null,
      "min_height": null,
      "min_width": null,
      "object_fit": null,
      "object_position": null,
      "order": null,
      "overflow": null,
      "overflow_x": null,
      "overflow_y": null,
      "padding": null,
      "right": null,
      "top": null,
      "visibility": null,
      "width": null
     }
    },
    "68fdbd72c3e741a0bab4ae716c027c3a": {
     "model_module": "@jupyter-widgets/controls",
     "model_name": "HTMLModel",
     "state": {
      "_dom_classes": [],
      "_model_module": "@jupyter-widgets/controls",
      "_model_module_version": "1.5.0",
      "_model_name": "HTMLModel",
      "_view_count": null,
      "_view_module": "@jupyter-widgets/controls",
      "_view_module_version": "1.5.0",
      "_view_name": "HTMLView",
      "description": "",
      "description_tooltip": null,
      "layout": "IPY_MODEL_610d3b338b894837b5e65acf8bc56517",
      "placeholder": "​",
      "style": "IPY_MODEL_a9502bb67bce4b3493dd6ca8390a7c97",
      "value": " 13/13 [00:20&lt;00:00,  1.61s/it]"
     }
    },
    "6997517055134f598b6e9f28e7c285f9": {
     "model_module": "@jupyter-widgets/controls",
     "model_name": "HBoxModel",
     "state": {
      "_dom_classes": [],
      "_model_module": "@jupyter-widgets/controls",
      "_model_module_version": "1.5.0",
      "_model_name": "HBoxModel",
      "_view_count": null,
      "_view_module": "@jupyter-widgets/controls",
      "_view_module_version": "1.5.0",
      "_view_name": "HBoxView",
      "box_style": "",
      "children": [
       "IPY_MODEL_eb47b344350748088a9cf2b38718cffa",
       "IPY_MODEL_58e694b3e6dc44618e59070af097b2cc"
      ],
      "layout": "IPY_MODEL_4e9d1b42ec2244b890e25081aa58db9a"
     }
    },
    "69f6ceaad90749cdbd45c7470e47b98e": {
     "model_module": "@jupyter-widgets/controls",
     "model_name": "HTMLModel",
     "state": {
      "_dom_classes": [],
      "_model_module": "@jupyter-widgets/controls",
      "_model_module_version": "1.5.0",
      "_model_name": "HTMLModel",
      "_view_count": null,
      "_view_module": "@jupyter-widgets/controls",
      "_view_module_version": "1.5.0",
      "_view_name": "HTMLView",
      "description": "",
      "description_tooltip": null,
      "layout": "IPY_MODEL_79e8ebe3f0504077a5dccaa32e2b9f1e",
      "placeholder": "​",
      "style": "IPY_MODEL_d2e4cca4b2b046599c66d4b52ca295fa",
      "value": " 1000/1000 [09:22&lt;00:00,  1.78it/s]"
     }
    },
    "6bde6933afe842428fe71c59cfbd150c": {
     "model_module": "@jupyter-widgets/controls",
     "model_name": "ProgressStyleModel",
     "state": {
      "_model_module": "@jupyter-widgets/controls",
      "_model_module_version": "1.5.0",
      "_model_name": "ProgressStyleModel",
      "_view_count": null,
      "_view_module": "@jupyter-widgets/base",
      "_view_module_version": "1.2.0",
      "_view_name": "StyleView",
      "bar_color": null,
      "description_width": "initial"
     }
    },
    "6d65fb3a107641498ec188e1ef96546d": {
     "model_module": "@jupyter-widgets/controls",
     "model_name": "HBoxModel",
     "state": {
      "_dom_classes": [],
      "_model_module": "@jupyter-widgets/controls",
      "_model_module_version": "1.5.0",
      "_model_name": "HBoxModel",
      "_view_count": null,
      "_view_module": "@jupyter-widgets/controls",
      "_view_module_version": "1.5.0",
      "_view_name": "HBoxView",
      "box_style": "",
      "children": [
       "IPY_MODEL_f1b0d6a2e53d432e808612475e947898",
       "IPY_MODEL_2e940013e4154a4d8efe41f6ea43729c"
      ],
      "layout": "IPY_MODEL_1986f9bc410e4b6daaef7d3da5fd51b9"
     }
    },
    "6dabbb8134ea40f18ea1dc6f9ee47f68": {
     "model_module": "@jupyter-widgets/controls",
     "model_name": "HTMLModel",
     "state": {
      "_dom_classes": [],
      "_model_module": "@jupyter-widgets/controls",
      "_model_module_version": "1.5.0",
      "_model_name": "HTMLModel",
      "_view_count": null,
      "_view_module": "@jupyter-widgets/controls",
      "_view_module_version": "1.5.0",
      "_view_name": "HTMLView",
      "description": "",
      "description_tooltip": null,
      "layout": "IPY_MODEL_aabde53d0dbd406ba74629c1d7b2f13b",
      "placeholder": "​",
      "style": "IPY_MODEL_24d53f602f5c40519ba7401c1e6f7029",
      "value": " 313/313 [01:49&lt;00:00,  2.87it/s]"
     }
    },
    "6fb174ca15cb4731ba1e6c1153c56771": {
     "model_module": "@jupyter-widgets/base",
     "model_name": "LayoutModel",
     "state": {
      "_model_module": "@jupyter-widgets/base",
      "_model_module_version": "1.2.0",
      "_model_name": "LayoutModel",
      "_view_count": null,
      "_view_module": "@jupyter-widgets/base",
      "_view_module_version": "1.2.0",
      "_view_name": "LayoutView",
      "align_content": null,
      "align_items": null,
      "align_self": null,
      "border": null,
      "bottom": null,
      "display": null,
      "flex": null,
      "flex_flow": null,
      "grid_area": null,
      "grid_auto_columns": null,
      "grid_auto_flow": null,
      "grid_auto_rows": null,
      "grid_column": null,
      "grid_gap": null,
      "grid_row": null,
      "grid_template_areas": null,
      "grid_template_columns": null,
      "grid_template_rows": null,
      "height": null,
      "justify_content": null,
      "justify_items": null,
      "left": null,
      "margin": null,
      "max_height": null,
      "max_width": null,
      "min_height": null,
      "min_width": null,
      "object_fit": null,
      "object_position": null,
      "order": null,
      "overflow": null,
      "overflow_x": null,
      "overflow_y": null,
      "padding": null,
      "right": null,
      "top": null,
      "visibility": null,
      "width": null
     }
    },
    "721b5520a54840f9bd7856df5355a0bf": {
     "model_module": "@jupyter-widgets/base",
     "model_name": "LayoutModel",
     "state": {
      "_model_module": "@jupyter-widgets/base",
      "_model_module_version": "1.2.0",
      "_model_name": "LayoutModel",
      "_view_count": null,
      "_view_module": "@jupyter-widgets/base",
      "_view_module_version": "1.2.0",
      "_view_name": "LayoutView",
      "align_content": null,
      "align_items": null,
      "align_self": null,
      "border": null,
      "bottom": null,
      "display": null,
      "flex": null,
      "flex_flow": null,
      "grid_area": null,
      "grid_auto_columns": null,
      "grid_auto_flow": null,
      "grid_auto_rows": null,
      "grid_column": null,
      "grid_gap": null,
      "grid_row": null,
      "grid_template_areas": null,
      "grid_template_columns": null,
      "grid_template_rows": null,
      "height": null,
      "justify_content": null,
      "justify_items": null,
      "left": null,
      "margin": null,
      "max_height": null,
      "max_width": null,
      "min_height": null,
      "min_width": null,
      "object_fit": null,
      "object_position": null,
      "order": null,
      "overflow": null,
      "overflow_x": null,
      "overflow_y": null,
      "padding": null,
      "right": null,
      "top": null,
      "visibility": null,
      "width": null
     }
    },
    "7282f933de034543990209b5fd8816fe": {
     "model_module": "@jupyter-widgets/base",
     "model_name": "LayoutModel",
     "state": {
      "_model_module": "@jupyter-widgets/base",
      "_model_module_version": "1.2.0",
      "_model_name": "LayoutModel",
      "_view_count": null,
      "_view_module": "@jupyter-widgets/base",
      "_view_module_version": "1.2.0",
      "_view_name": "LayoutView",
      "align_content": null,
      "align_items": null,
      "align_self": null,
      "border": null,
      "bottom": null,
      "display": null,
      "flex": null,
      "flex_flow": null,
      "grid_area": null,
      "grid_auto_columns": null,
      "grid_auto_flow": null,
      "grid_auto_rows": null,
      "grid_column": null,
      "grid_gap": null,
      "grid_row": null,
      "grid_template_areas": null,
      "grid_template_columns": null,
      "grid_template_rows": null,
      "height": null,
      "justify_content": null,
      "justify_items": null,
      "left": null,
      "margin": null,
      "max_height": null,
      "max_width": null,
      "min_height": null,
      "min_width": null,
      "object_fit": null,
      "object_position": null,
      "order": null,
      "overflow": null,
      "overflow_x": null,
      "overflow_y": null,
      "padding": null,
      "right": null,
      "top": null,
      "visibility": null,
      "width": null
     }
    },
    "743b4f758572444887a570a5b19d7bf3": {
     "model_module": "@jupyter-widgets/base",
     "model_name": "LayoutModel",
     "state": {
      "_model_module": "@jupyter-widgets/base",
      "_model_module_version": "1.2.0",
      "_model_name": "LayoutModel",
      "_view_count": null,
      "_view_module": "@jupyter-widgets/base",
      "_view_module_version": "1.2.0",
      "_view_name": "LayoutView",
      "align_content": null,
      "align_items": null,
      "align_self": null,
      "border": null,
      "bottom": null,
      "display": null,
      "flex": null,
      "flex_flow": null,
      "grid_area": null,
      "grid_auto_columns": null,
      "grid_auto_flow": null,
      "grid_auto_rows": null,
      "grid_column": null,
      "grid_gap": null,
      "grid_row": null,
      "grid_template_areas": null,
      "grid_template_columns": null,
      "grid_template_rows": null,
      "height": null,
      "justify_content": null,
      "justify_items": null,
      "left": null,
      "margin": null,
      "max_height": null,
      "max_width": null,
      "min_height": null,
      "min_width": null,
      "object_fit": null,
      "object_position": null,
      "order": null,
      "overflow": null,
      "overflow_x": null,
      "overflow_y": null,
      "padding": null,
      "right": null,
      "top": null,
      "visibility": null,
      "width": null
     }
    },
    "764816809aea46e98e2527d04bed83d2": {
     "model_module": "@jupyter-widgets/base",
     "model_name": "LayoutModel",
     "state": {
      "_model_module": "@jupyter-widgets/base",
      "_model_module_version": "1.2.0",
      "_model_name": "LayoutModel",
      "_view_count": null,
      "_view_module": "@jupyter-widgets/base",
      "_view_module_version": "1.2.0",
      "_view_name": "LayoutView",
      "align_content": null,
      "align_items": null,
      "align_self": null,
      "border": null,
      "bottom": null,
      "display": null,
      "flex": null,
      "flex_flow": null,
      "grid_area": null,
      "grid_auto_columns": null,
      "grid_auto_flow": null,
      "grid_auto_rows": null,
      "grid_column": null,
      "grid_gap": null,
      "grid_row": null,
      "grid_template_areas": null,
      "grid_template_columns": null,
      "grid_template_rows": null,
      "height": null,
      "justify_content": null,
      "justify_items": null,
      "left": null,
      "margin": null,
      "max_height": null,
      "max_width": null,
      "min_height": null,
      "min_width": null,
      "object_fit": null,
      "object_position": null,
      "order": null,
      "overflow": null,
      "overflow_x": null,
      "overflow_y": null,
      "padding": null,
      "right": null,
      "top": null,
      "visibility": null,
      "width": null
     }
    },
    "7779fe6d7d484da2bcffb93f2afd5b23": {
     "model_module": "@jupyter-widgets/base",
     "model_name": "LayoutModel",
     "state": {
      "_model_module": "@jupyter-widgets/base",
      "_model_module_version": "1.2.0",
      "_model_name": "LayoutModel",
      "_view_count": null,
      "_view_module": "@jupyter-widgets/base",
      "_view_module_version": "1.2.0",
      "_view_name": "LayoutView",
      "align_content": null,
      "align_items": null,
      "align_self": null,
      "border": null,
      "bottom": null,
      "display": null,
      "flex": null,
      "flex_flow": null,
      "grid_area": null,
      "grid_auto_columns": null,
      "grid_auto_flow": null,
      "grid_auto_rows": null,
      "grid_column": null,
      "grid_gap": null,
      "grid_row": null,
      "grid_template_areas": null,
      "grid_template_columns": null,
      "grid_template_rows": null,
      "height": null,
      "justify_content": null,
      "justify_items": null,
      "left": null,
      "margin": null,
      "max_height": null,
      "max_width": null,
      "min_height": null,
      "min_width": null,
      "object_fit": null,
      "object_position": null,
      "order": null,
      "overflow": null,
      "overflow_x": null,
      "overflow_y": null,
      "padding": null,
      "right": null,
      "top": null,
      "visibility": null,
      "width": null
     }
    },
    "77e62d8a7be34c66b652c843a3727b2e": {
     "model_module": "@jupyter-widgets/controls",
     "model_name": "ProgressStyleModel",
     "state": {
      "_model_module": "@jupyter-widgets/controls",
      "_model_module_version": "1.5.0",
      "_model_name": "ProgressStyleModel",
      "_view_count": null,
      "_view_module": "@jupyter-widgets/base",
      "_view_module_version": "1.2.0",
      "_view_name": "StyleView",
      "bar_color": null,
      "description_width": "initial"
     }
    },
    "78e96214f874441eba102b29a61f22fb": {
     "model_module": "@jupyter-widgets/controls",
     "model_name": "HBoxModel",
     "state": {
      "_dom_classes": [],
      "_model_module": "@jupyter-widgets/controls",
      "_model_module_version": "1.5.0",
      "_model_name": "HBoxModel",
      "_view_count": null,
      "_view_module": "@jupyter-widgets/controls",
      "_view_module_version": "1.5.0",
      "_view_name": "HBoxView",
      "box_style": "",
      "children": [
       "IPY_MODEL_a44e27b0dcdb473991b14664190e17ca",
       "IPY_MODEL_deec4dcaa8a04b4998f0e5c9eff2fcea"
      ],
      "layout": "IPY_MODEL_e77a09fda98c443b95b1b730bce83bfa"
     }
    },
    "79560b7f98df446fb9c32dc28201c18e": {
     "model_module": "@jupyter-widgets/base",
     "model_name": "LayoutModel",
     "state": {
      "_model_module": "@jupyter-widgets/base",
      "_model_module_version": "1.2.0",
      "_model_name": "LayoutModel",
      "_view_count": null,
      "_view_module": "@jupyter-widgets/base",
      "_view_module_version": "1.2.0",
      "_view_name": "LayoutView",
      "align_content": null,
      "align_items": null,
      "align_self": null,
      "border": null,
      "bottom": null,
      "display": null,
      "flex": null,
      "flex_flow": null,
      "grid_area": null,
      "grid_auto_columns": null,
      "grid_auto_flow": null,
      "grid_auto_rows": null,
      "grid_column": null,
      "grid_gap": null,
      "grid_row": null,
      "grid_template_areas": null,
      "grid_template_columns": null,
      "grid_template_rows": null,
      "height": null,
      "justify_content": null,
      "justify_items": null,
      "left": null,
      "margin": null,
      "max_height": null,
      "max_width": null,
      "min_height": null,
      "min_width": null,
      "object_fit": null,
      "object_position": null,
      "order": null,
      "overflow": null,
      "overflow_x": null,
      "overflow_y": null,
      "padding": null,
      "right": null,
      "top": null,
      "visibility": null,
      "width": null
     }
    },
    "796e3a4383d94d1e9156875668cdd7bc": {
     "model_module": "@jupyter-widgets/controls",
     "model_name": "HBoxModel",
     "state": {
      "_dom_classes": [],
      "_model_module": "@jupyter-widgets/controls",
      "_model_module_version": "1.5.0",
      "_model_name": "HBoxModel",
      "_view_count": null,
      "_view_module": "@jupyter-widgets/controls",
      "_view_module_version": "1.5.0",
      "_view_name": "HBoxView",
      "box_style": "",
      "children": [
       "IPY_MODEL_7c541fa0f54b46db8ae04cbac0686f89",
       "IPY_MODEL_6dabbb8134ea40f18ea1dc6f9ee47f68"
      ],
      "layout": "IPY_MODEL_d79c9d464fb745b48ec2b59497f9939c"
     }
    },
    "79df20797c6b4ecc8937a3976ba35550": {
     "model_module": "@jupyter-widgets/controls",
     "model_name": "ProgressStyleModel",
     "state": {
      "_model_module": "@jupyter-widgets/controls",
      "_model_module_version": "1.5.0",
      "_model_name": "ProgressStyleModel",
      "_view_count": null,
      "_view_module": "@jupyter-widgets/base",
      "_view_module_version": "1.2.0",
      "_view_name": "StyleView",
      "bar_color": null,
      "description_width": "initial"
     }
    },
    "79e8ebe3f0504077a5dccaa32e2b9f1e": {
     "model_module": "@jupyter-widgets/base",
     "model_name": "LayoutModel",
     "state": {
      "_model_module": "@jupyter-widgets/base",
      "_model_module_version": "1.2.0",
      "_model_name": "LayoutModel",
      "_view_count": null,
      "_view_module": "@jupyter-widgets/base",
      "_view_module_version": "1.2.0",
      "_view_name": "LayoutView",
      "align_content": null,
      "align_items": null,
      "align_self": null,
      "border": null,
      "bottom": null,
      "display": null,
      "flex": null,
      "flex_flow": null,
      "grid_area": null,
      "grid_auto_columns": null,
      "grid_auto_flow": null,
      "grid_auto_rows": null,
      "grid_column": null,
      "grid_gap": null,
      "grid_row": null,
      "grid_template_areas": null,
      "grid_template_columns": null,
      "grid_template_rows": null,
      "height": null,
      "justify_content": null,
      "justify_items": null,
      "left": null,
      "margin": null,
      "max_height": null,
      "max_width": null,
      "min_height": null,
      "min_width": null,
      "object_fit": null,
      "object_position": null,
      "order": null,
      "overflow": null,
      "overflow_x": null,
      "overflow_y": null,
      "padding": null,
      "right": null,
      "top": null,
      "visibility": null,
      "width": null
     }
    },
    "7add464f6e9f4be78a100a3eba2a0f36": {
     "model_module": "@jupyter-widgets/base",
     "model_name": "LayoutModel",
     "state": {
      "_model_module": "@jupyter-widgets/base",
      "_model_module_version": "1.2.0",
      "_model_name": "LayoutModel",
      "_view_count": null,
      "_view_module": "@jupyter-widgets/base",
      "_view_module_version": "1.2.0",
      "_view_name": "LayoutView",
      "align_content": null,
      "align_items": null,
      "align_self": null,
      "border": null,
      "bottom": null,
      "display": null,
      "flex": null,
      "flex_flow": null,
      "grid_area": null,
      "grid_auto_columns": null,
      "grid_auto_flow": null,
      "grid_auto_rows": null,
      "grid_column": null,
      "grid_gap": null,
      "grid_row": null,
      "grid_template_areas": null,
      "grid_template_columns": null,
      "grid_template_rows": null,
      "height": null,
      "justify_content": null,
      "justify_items": null,
      "left": null,
      "margin": null,
      "max_height": null,
      "max_width": null,
      "min_height": null,
      "min_width": null,
      "object_fit": null,
      "object_position": null,
      "order": null,
      "overflow": null,
      "overflow_x": null,
      "overflow_y": null,
      "padding": null,
      "right": null,
      "top": null,
      "visibility": null,
      "width": null
     }
    },
    "7b2b836e4fff49ed87ef441096c8397d": {
     "model_module": "@jupyter-widgets/controls",
     "model_name": "DescriptionStyleModel",
     "state": {
      "_model_module": "@jupyter-widgets/controls",
      "_model_module_version": "1.5.0",
      "_model_name": "DescriptionStyleModel",
      "_view_count": null,
      "_view_module": "@jupyter-widgets/base",
      "_view_module_version": "1.2.0",
      "_view_name": "StyleView",
      "description_width": ""
     }
    },
    "7b515eeb11ca4d54a03699b63718bc9f": {
     "model_module": "@jupyter-widgets/base",
     "model_name": "LayoutModel",
     "state": {
      "_model_module": "@jupyter-widgets/base",
      "_model_module_version": "1.2.0",
      "_model_name": "LayoutModel",
      "_view_count": null,
      "_view_module": "@jupyter-widgets/base",
      "_view_module_version": "1.2.0",
      "_view_name": "LayoutView",
      "align_content": null,
      "align_items": null,
      "align_self": null,
      "border": null,
      "bottom": null,
      "display": null,
      "flex": null,
      "flex_flow": null,
      "grid_area": null,
      "grid_auto_columns": null,
      "grid_auto_flow": null,
      "grid_auto_rows": null,
      "grid_column": null,
      "grid_gap": null,
      "grid_row": null,
      "grid_template_areas": null,
      "grid_template_columns": null,
      "grid_template_rows": null,
      "height": null,
      "justify_content": null,
      "justify_items": null,
      "left": null,
      "margin": null,
      "max_height": null,
      "max_width": null,
      "min_height": null,
      "min_width": null,
      "object_fit": null,
      "object_position": null,
      "order": null,
      "overflow": null,
      "overflow_x": null,
      "overflow_y": null,
      "padding": null,
      "right": null,
      "top": null,
      "visibility": null,
      "width": null
     }
    },
    "7c1304cf8b4a46a0a39189aec3877959": {
     "model_module": "@jupyter-widgets/base",
     "model_name": "LayoutModel",
     "state": {
      "_model_module": "@jupyter-widgets/base",
      "_model_module_version": "1.2.0",
      "_model_name": "LayoutModel",
      "_view_count": null,
      "_view_module": "@jupyter-widgets/base",
      "_view_module_version": "1.2.0",
      "_view_name": "LayoutView",
      "align_content": null,
      "align_items": null,
      "align_self": null,
      "border": null,
      "bottom": null,
      "display": null,
      "flex": null,
      "flex_flow": null,
      "grid_area": null,
      "grid_auto_columns": null,
      "grid_auto_flow": null,
      "grid_auto_rows": null,
      "grid_column": null,
      "grid_gap": null,
      "grid_row": null,
      "grid_template_areas": null,
      "grid_template_columns": null,
      "grid_template_rows": null,
      "height": null,
      "justify_content": null,
      "justify_items": null,
      "left": null,
      "margin": null,
      "max_height": null,
      "max_width": null,
      "min_height": null,
      "min_width": null,
      "object_fit": null,
      "object_position": null,
      "order": null,
      "overflow": null,
      "overflow_x": null,
      "overflow_y": null,
      "padding": null,
      "right": null,
      "top": null,
      "visibility": null,
      "width": null
     }
    },
    "7c541fa0f54b46db8ae04cbac0686f89": {
     "model_module": "@jupyter-widgets/controls",
     "model_name": "FloatProgressModel",
     "state": {
      "_dom_classes": [],
      "_model_module": "@jupyter-widgets/controls",
      "_model_module_version": "1.5.0",
      "_model_name": "FloatProgressModel",
      "_view_count": null,
      "_view_module": "@jupyter-widgets/controls",
      "_view_module_version": "1.5.0",
      "_view_name": "ProgressView",
      "bar_style": "success",
      "description": "Test Loss: 0.5326, Test Acc: 0.4999: 100%",
      "description_tooltip": null,
      "layout": "IPY_MODEL_2e456a7617bb42dc9e45a93853f01dfc",
      "max": 313,
      "min": 0,
      "orientation": "horizontal",
      "style": "IPY_MODEL_1e240cc6eb8b466b95cca80af331b2b6",
      "value": 313
     }
    },
    "7cc77193557a4930a178230aac68b6ae": {
     "model_module": "@jupyter-widgets/base",
     "model_name": "LayoutModel",
     "state": {
      "_model_module": "@jupyter-widgets/base",
      "_model_module_version": "1.2.0",
      "_model_name": "LayoutModel",
      "_view_count": null,
      "_view_module": "@jupyter-widgets/base",
      "_view_module_version": "1.2.0",
      "_view_name": "LayoutView",
      "align_content": null,
      "align_items": null,
      "align_self": null,
      "border": null,
      "bottom": null,
      "display": null,
      "flex": null,
      "flex_flow": null,
      "grid_area": null,
      "grid_auto_columns": null,
      "grid_auto_flow": null,
      "grid_auto_rows": null,
      "grid_column": null,
      "grid_gap": null,
      "grid_row": null,
      "grid_template_areas": null,
      "grid_template_columns": null,
      "grid_template_rows": null,
      "height": null,
      "justify_content": null,
      "justify_items": null,
      "left": null,
      "margin": null,
      "max_height": null,
      "max_width": null,
      "min_height": null,
      "min_width": null,
      "object_fit": null,
      "object_position": null,
      "order": null,
      "overflow": null,
      "overflow_x": null,
      "overflow_y": null,
      "padding": null,
      "right": null,
      "top": null,
      "visibility": null,
      "width": null
     }
    },
    "7ec36a1cd2a24ed48544fb6425f94089": {
     "model_module": "@jupyter-widgets/controls",
     "model_name": "HBoxModel",
     "state": {
      "_dom_classes": [],
      "_model_module": "@jupyter-widgets/controls",
      "_model_module_version": "1.5.0",
      "_model_name": "HBoxModel",
      "_view_count": null,
      "_view_module": "@jupyter-widgets/controls",
      "_view_module_version": "1.5.0",
      "_view_name": "HBoxView",
      "box_style": "",
      "children": [
       "IPY_MODEL_5453f59dd1da489d9abec7556b518338",
       "IPY_MODEL_3e1f05ef1eeb44d5b4a696648501fb7b"
      ],
      "layout": "IPY_MODEL_a86d9e8a07aa470383aa22567432c111"
     }
    },
    "7f2adafddb174b31a61210fb872ed12f": {
     "model_module": "@jupyter-widgets/controls",
     "model_name": "HTMLModel",
     "state": {
      "_dom_classes": [],
      "_model_module": "@jupyter-widgets/controls",
      "_model_module_version": "1.5.0",
      "_model_name": "HTMLModel",
      "_view_count": null,
      "_view_module": "@jupyter-widgets/controls",
      "_view_module_version": "1.5.0",
      "_view_name": "HTMLView",
      "description": "",
      "description_tooltip": null,
      "layout": "IPY_MODEL_764816809aea46e98e2527d04bed83d2",
      "placeholder": "​",
      "style": "IPY_MODEL_b0b6e6a0956b4f83ad6cb951699593eb",
      "value": " 1237/1237 [01:54&lt;00:00, 10.80it/s]"
     }
    },
    "837fb116f3c64f01a63826194a6d3122": {
     "model_module": "@jupyter-widgets/base",
     "model_name": "LayoutModel",
     "state": {
      "_model_module": "@jupyter-widgets/base",
      "_model_module_version": "1.2.0",
      "_model_name": "LayoutModel",
      "_view_count": null,
      "_view_module": "@jupyter-widgets/base",
      "_view_module_version": "1.2.0",
      "_view_name": "LayoutView",
      "align_content": null,
      "align_items": null,
      "align_self": null,
      "border": null,
      "bottom": null,
      "display": null,
      "flex": null,
      "flex_flow": null,
      "grid_area": null,
      "grid_auto_columns": null,
      "grid_auto_flow": null,
      "grid_auto_rows": null,
      "grid_column": null,
      "grid_gap": null,
      "grid_row": null,
      "grid_template_areas": null,
      "grid_template_columns": null,
      "grid_template_rows": null,
      "height": null,
      "justify_content": null,
      "justify_items": null,
      "left": null,
      "margin": null,
      "max_height": null,
      "max_width": null,
      "min_height": null,
      "min_width": null,
      "object_fit": null,
      "object_position": null,
      "order": null,
      "overflow": null,
      "overflow_x": null,
      "overflow_y": null,
      "padding": null,
      "right": null,
      "top": null,
      "visibility": null,
      "width": null
     }
    },
    "84d363b5cb684fa2ace5ed9b476422e0": {
     "model_module": "@jupyter-widgets/base",
     "model_name": "LayoutModel",
     "state": {
      "_model_module": "@jupyter-widgets/base",
      "_model_module_version": "1.2.0",
      "_model_name": "LayoutModel",
      "_view_count": null,
      "_view_module": "@jupyter-widgets/base",
      "_view_module_version": "1.2.0",
      "_view_name": "LayoutView",
      "align_content": null,
      "align_items": null,
      "align_self": null,
      "border": null,
      "bottom": null,
      "display": null,
      "flex": null,
      "flex_flow": null,
      "grid_area": null,
      "grid_auto_columns": null,
      "grid_auto_flow": null,
      "grid_auto_rows": null,
      "grid_column": null,
      "grid_gap": null,
      "grid_row": null,
      "grid_template_areas": null,
      "grid_template_columns": null,
      "grid_template_rows": null,
      "height": null,
      "justify_content": null,
      "justify_items": null,
      "left": null,
      "margin": null,
      "max_height": null,
      "max_width": null,
      "min_height": null,
      "min_width": null,
      "object_fit": null,
      "object_position": null,
      "order": null,
      "overflow": null,
      "overflow_x": null,
      "overflow_y": null,
      "padding": null,
      "right": null,
      "top": null,
      "visibility": null,
      "width": null
     }
    },
    "8693524b88db44d982de20eeee383c0b": {
     "model_module": "@jupyter-widgets/controls",
     "model_name": "HTMLModel",
     "state": {
      "_dom_classes": [],
      "_model_module": "@jupyter-widgets/controls",
      "_model_module_version": "1.5.0",
      "_model_name": "HTMLModel",
      "_view_count": null,
      "_view_module": "@jupyter-widgets/controls",
      "_view_module_version": "1.5.0",
      "_view_name": "HTMLView",
      "description": "",
      "description_tooltip": null,
      "layout": "IPY_MODEL_06ef766117f8475faf3a655ffe7ee3e2",
      "placeholder": "​",
      "style": "IPY_MODEL_27c8873ffd4440b88f4af51afbb40480",
      "value": " 1237/1237 [01:54&lt;00:00, 10.80it/s]"
     }
    },
    "88cfeebf2efb4ba781da44bd5e20f069": {
     "model_module": "@jupyter-widgets/controls",
     "model_name": "HTMLModel",
     "state": {
      "_dom_classes": [],
      "_model_module": "@jupyter-widgets/controls",
      "_model_module_version": "1.5.0",
      "_model_name": "HTMLModel",
      "_view_count": null,
      "_view_module": "@jupyter-widgets/controls",
      "_view_module_version": "1.5.0",
      "_view_name": "HTMLView",
      "description": "",
      "description_tooltip": null,
      "layout": "IPY_MODEL_e98b04141d344561bd377beb579d9c4f",
      "placeholder": "​",
      "style": "IPY_MODEL_a3b770e43a9549f1a37b373e3a8d440c",
      "value": " 250/250 [00:28&lt;00:00,  8.74it/s]"
     }
    },
    "89088175b0644623bf81aa54b0d5e424": {
     "model_module": "@jupyter-widgets/base",
     "model_name": "LayoutModel",
     "state": {
      "_model_module": "@jupyter-widgets/base",
      "_model_module_version": "1.2.0",
      "_model_name": "LayoutModel",
      "_view_count": null,
      "_view_module": "@jupyter-widgets/base",
      "_view_module_version": "1.2.0",
      "_view_name": "LayoutView",
      "align_content": null,
      "align_items": null,
      "align_self": null,
      "border": null,
      "bottom": null,
      "display": null,
      "flex": null,
      "flex_flow": null,
      "grid_area": null,
      "grid_auto_columns": null,
      "grid_auto_flow": null,
      "grid_auto_rows": null,
      "grid_column": null,
      "grid_gap": null,
      "grid_row": null,
      "grid_template_areas": null,
      "grid_template_columns": null,
      "grid_template_rows": null,
      "height": null,
      "justify_content": null,
      "justify_items": null,
      "left": null,
      "margin": null,
      "max_height": null,
      "max_width": null,
      "min_height": null,
      "min_width": null,
      "object_fit": null,
      "object_position": null,
      "order": null,
      "overflow": null,
      "overflow_x": null,
      "overflow_y": null,
      "padding": null,
      "right": null,
      "top": null,
      "visibility": null,
      "width": null
     }
    },
    "898c019d4ff74ba5a97e44e9cc76383a": {
     "model_module": "@jupyter-widgets/controls",
     "model_name": "HBoxModel",
     "state": {
      "_dom_classes": [],
      "_model_module": "@jupyter-widgets/controls",
      "_model_module_version": "1.5.0",
      "_model_name": "HBoxModel",
      "_view_count": null,
      "_view_module": "@jupyter-widgets/controls",
      "_view_module_version": "1.5.0",
      "_view_name": "HBoxView",
      "box_style": "",
      "children": [
       "IPY_MODEL_3cf1fae5e52f4ab584eedaea9ccfc401",
       "IPY_MODEL_42e05330a0e14b2daf423fa1e34b52a0"
      ],
      "layout": "IPY_MODEL_9279dacd133f4ef183a3279de71529b1"
     }
    },
    "8a71a68af73c4fd4a9e8373387dbb68b": {
     "model_module": "@jupyter-widgets/controls",
     "model_name": "HBoxModel",
     "state": {
      "_dom_classes": [],
      "_model_module": "@jupyter-widgets/controls",
      "_model_module_version": "1.5.0",
      "_model_name": "HBoxModel",
      "_view_count": null,
      "_view_module": "@jupyter-widgets/controls",
      "_view_module_version": "1.5.0",
      "_view_name": "HBoxView",
      "box_style": "",
      "children": [
       "IPY_MODEL_00d3c85d4b9847ca862d946969ac1179",
       "IPY_MODEL_ae605cd89bdb44a8b14ac07d967f1ccc"
      ],
      "layout": "IPY_MODEL_5866ff25e89347cfb0d460d716ebc139"
     }
    },
    "8affe86d62414a1b85c8278aca5971bd": {
     "model_module": "@jupyter-widgets/controls",
     "model_name": "ProgressStyleModel",
     "state": {
      "_model_module": "@jupyter-widgets/controls",
      "_model_module_version": "1.5.0",
      "_model_name": "ProgressStyleModel",
      "_view_count": null,
      "_view_module": "@jupyter-widgets/base",
      "_view_module_version": "1.2.0",
      "_view_name": "StyleView",
      "bar_color": null,
      "description_width": "initial"
     }
    },
    "8b073db4f7274a189d57190cdb60d80a": {
     "model_module": "@jupyter-widgets/controls",
     "model_name": "DescriptionStyleModel",
     "state": {
      "_model_module": "@jupyter-widgets/controls",
      "_model_module_version": "1.5.0",
      "_model_name": "DescriptionStyleModel",
      "_view_count": null,
      "_view_module": "@jupyter-widgets/base",
      "_view_module_version": "1.2.0",
      "_view_name": "StyleView",
      "description_width": ""
     }
    },
    "8b0b2dce37b040adaa7bc7bfe4f115b2": {
     "model_module": "@jupyter-widgets/base",
     "model_name": "LayoutModel",
     "state": {
      "_model_module": "@jupyter-widgets/base",
      "_model_module_version": "1.2.0",
      "_model_name": "LayoutModel",
      "_view_count": null,
      "_view_module": "@jupyter-widgets/base",
      "_view_module_version": "1.2.0",
      "_view_name": "LayoutView",
      "align_content": null,
      "align_items": null,
      "align_self": null,
      "border": null,
      "bottom": null,
      "display": null,
      "flex": null,
      "flex_flow": null,
      "grid_area": null,
      "grid_auto_columns": null,
      "grid_auto_flow": null,
      "grid_auto_rows": null,
      "grid_column": null,
      "grid_gap": null,
      "grid_row": null,
      "grid_template_areas": null,
      "grid_template_columns": null,
      "grid_template_rows": null,
      "height": null,
      "justify_content": null,
      "justify_items": null,
      "left": null,
      "margin": null,
      "max_height": null,
      "max_width": null,
      "min_height": null,
      "min_width": null,
      "object_fit": null,
      "object_position": null,
      "order": null,
      "overflow": null,
      "overflow_x": null,
      "overflow_y": null,
      "padding": null,
      "right": null,
      "top": null,
      "visibility": null,
      "width": null
     }
    },
    "8cb3f9dde1b64ecda3f1038e3dec5c08": {
     "model_module": "@jupyter-widgets/base",
     "model_name": "LayoutModel",
     "state": {
      "_model_module": "@jupyter-widgets/base",
      "_model_module_version": "1.2.0",
      "_model_name": "LayoutModel",
      "_view_count": null,
      "_view_module": "@jupyter-widgets/base",
      "_view_module_version": "1.2.0",
      "_view_name": "LayoutView",
      "align_content": null,
      "align_items": null,
      "align_self": null,
      "border": null,
      "bottom": null,
      "display": null,
      "flex": null,
      "flex_flow": null,
      "grid_area": null,
      "grid_auto_columns": null,
      "grid_auto_flow": null,
      "grid_auto_rows": null,
      "grid_column": null,
      "grid_gap": null,
      "grid_row": null,
      "grid_template_areas": null,
      "grid_template_columns": null,
      "grid_template_rows": null,
      "height": null,
      "justify_content": null,
      "justify_items": null,
      "left": null,
      "margin": null,
      "max_height": null,
      "max_width": null,
      "min_height": null,
      "min_width": null,
      "object_fit": null,
      "object_position": null,
      "order": null,
      "overflow": null,
      "overflow_x": null,
      "overflow_y": null,
      "padding": null,
      "right": null,
      "top": null,
      "visibility": null,
      "width": null
     }
    },
    "8e756c23c0084288a3e46c7b8898a173": {
     "model_module": "@jupyter-widgets/base",
     "model_name": "LayoutModel",
     "state": {
      "_model_module": "@jupyter-widgets/base",
      "_model_module_version": "1.2.0",
      "_model_name": "LayoutModel",
      "_view_count": null,
      "_view_module": "@jupyter-widgets/base",
      "_view_module_version": "1.2.0",
      "_view_name": "LayoutView",
      "align_content": null,
      "align_items": null,
      "align_self": null,
      "border": null,
      "bottom": null,
      "display": null,
      "flex": null,
      "flex_flow": null,
      "grid_area": null,
      "grid_auto_columns": null,
      "grid_auto_flow": null,
      "grid_auto_rows": null,
      "grid_column": null,
      "grid_gap": null,
      "grid_row": null,
      "grid_template_areas": null,
      "grid_template_columns": null,
      "grid_template_rows": null,
      "height": null,
      "justify_content": null,
      "justify_items": null,
      "left": null,
      "margin": null,
      "max_height": null,
      "max_width": null,
      "min_height": null,
      "min_width": null,
      "object_fit": null,
      "object_position": null,
      "order": null,
      "overflow": null,
      "overflow_x": null,
      "overflow_y": null,
      "padding": null,
      "right": null,
      "top": null,
      "visibility": null,
      "width": null
     }
    },
    "8ea79876b71f4acbbfe02a6f082a3228": {
     "model_module": "@jupyter-widgets/controls",
     "model_name": "ProgressStyleModel",
     "state": {
      "_model_module": "@jupyter-widgets/controls",
      "_model_module_version": "1.5.0",
      "_model_name": "ProgressStyleModel",
      "_view_count": null,
      "_view_module": "@jupyter-widgets/base",
      "_view_module_version": "1.2.0",
      "_view_name": "StyleView",
      "bar_color": null,
      "description_width": "initial"
     }
    },
    "8fe6fae9541a4947998a46ba5c1f1a8c": {
     "model_module": "@jupyter-widgets/base",
     "model_name": "LayoutModel",
     "state": {
      "_model_module": "@jupyter-widgets/base",
      "_model_module_version": "1.2.0",
      "_model_name": "LayoutModel",
      "_view_count": null,
      "_view_module": "@jupyter-widgets/base",
      "_view_module_version": "1.2.0",
      "_view_name": "LayoutView",
      "align_content": null,
      "align_items": null,
      "align_self": null,
      "border": null,
      "bottom": null,
      "display": null,
      "flex": null,
      "flex_flow": null,
      "grid_area": null,
      "grid_auto_columns": null,
      "grid_auto_flow": null,
      "grid_auto_rows": null,
      "grid_column": null,
      "grid_gap": null,
      "grid_row": null,
      "grid_template_areas": null,
      "grid_template_columns": null,
      "grid_template_rows": null,
      "height": null,
      "justify_content": null,
      "justify_items": null,
      "left": null,
      "margin": null,
      "max_height": null,
      "max_width": null,
      "min_height": null,
      "min_width": null,
      "object_fit": null,
      "object_position": null,
      "order": null,
      "overflow": null,
      "overflow_x": null,
      "overflow_y": null,
      "padding": null,
      "right": null,
      "top": null,
      "visibility": null,
      "width": null
     }
    },
    "9056898f8f394568ad17f7deedfa3885": {
     "model_module": "@jupyter-widgets/controls",
     "model_name": "HBoxModel",
     "state": {
      "_dom_classes": [],
      "_model_module": "@jupyter-widgets/controls",
      "_model_module_version": "1.5.0",
      "_model_name": "HBoxModel",
      "_view_count": null,
      "_view_module": "@jupyter-widgets/controls",
      "_view_module_version": "1.5.0",
      "_view_name": "HBoxView",
      "box_style": "",
      "children": [
       "IPY_MODEL_f263a027ef154410be6444d642cb29f3",
       "IPY_MODEL_e4c030d05f4844aea08159a942f6f82c"
      ],
      "layout": "IPY_MODEL_a7efbdfae4a04ba2968aceaccf8541da"
     }
    },
    "90fd056eb9644847922e4bd0c9afaf30": {
     "model_module": "@jupyter-widgets/base",
     "model_name": "LayoutModel",
     "state": {
      "_model_module": "@jupyter-widgets/base",
      "_model_module_version": "1.2.0",
      "_model_name": "LayoutModel",
      "_view_count": null,
      "_view_module": "@jupyter-widgets/base",
      "_view_module_version": "1.2.0",
      "_view_name": "LayoutView",
      "align_content": null,
      "align_items": null,
      "align_self": null,
      "border": null,
      "bottom": null,
      "display": null,
      "flex": null,
      "flex_flow": null,
      "grid_area": null,
      "grid_auto_columns": null,
      "grid_auto_flow": null,
      "grid_auto_rows": null,
      "grid_column": null,
      "grid_gap": null,
      "grid_row": null,
      "grid_template_areas": null,
      "grid_template_columns": null,
      "grid_template_rows": null,
      "height": null,
      "justify_content": null,
      "justify_items": null,
      "left": null,
      "margin": null,
      "max_height": null,
      "max_width": null,
      "min_height": null,
      "min_width": null,
      "object_fit": null,
      "object_position": null,
      "order": null,
      "overflow": null,
      "overflow_x": null,
      "overflow_y": null,
      "padding": null,
      "right": null,
      "top": null,
      "visibility": null,
      "width": null
     }
    },
    "9279dacd133f4ef183a3279de71529b1": {
     "model_module": "@jupyter-widgets/base",
     "model_name": "LayoutModel",
     "state": {
      "_model_module": "@jupyter-widgets/base",
      "_model_module_version": "1.2.0",
      "_model_name": "LayoutModel",
      "_view_count": null,
      "_view_module": "@jupyter-widgets/base",
      "_view_module_version": "1.2.0",
      "_view_name": "LayoutView",
      "align_content": null,
      "align_items": null,
      "align_self": null,
      "border": null,
      "bottom": null,
      "display": null,
      "flex": null,
      "flex_flow": null,
      "grid_area": null,
      "grid_auto_columns": null,
      "grid_auto_flow": null,
      "grid_auto_rows": null,
      "grid_column": null,
      "grid_gap": null,
      "grid_row": null,
      "grid_template_areas": null,
      "grid_template_columns": null,
      "grid_template_rows": null,
      "height": null,
      "justify_content": null,
      "justify_items": null,
      "left": null,
      "margin": null,
      "max_height": null,
      "max_width": null,
      "min_height": null,
      "min_width": null,
      "object_fit": null,
      "object_position": null,
      "order": null,
      "overflow": null,
      "overflow_x": null,
      "overflow_y": null,
      "padding": null,
      "right": null,
      "top": null,
      "visibility": null,
      "width": null
     }
    },
    "9390d130f1b44e6faeef1466bc3c26a0": {
     "model_module": "@jupyter-widgets/controls",
     "model_name": "HBoxModel",
     "state": {
      "_dom_classes": [],
      "_model_module": "@jupyter-widgets/controls",
      "_model_module_version": "1.5.0",
      "_model_name": "HBoxModel",
      "_view_count": null,
      "_view_module": "@jupyter-widgets/controls",
      "_view_module_version": "1.5.0",
      "_view_name": "HBoxView",
      "box_style": "",
      "children": [
       "IPY_MODEL_9488b273627f432887495918597de7f1",
       "IPY_MODEL_cfd68787df7c468e9f2b383e3c66457f"
      ],
      "layout": "IPY_MODEL_43f20e52c2c443f4aec35900409793e0"
     }
    },
    "9488b273627f432887495918597de7f1": {
     "model_module": "@jupyter-widgets/controls",
     "model_name": "FloatProgressModel",
     "state": {
      "_dom_classes": [],
      "_model_module": "@jupyter-widgets/controls",
      "_model_module_version": "1.5.0",
      "_model_name": "FloatProgressModel",
      "_view_count": null,
      "_view_module": "@jupyter-widgets/controls",
      "_view_module_version": "1.5.0",
      "_view_name": "ProgressView",
      "bar_style": "success",
      "description": "Epoch:2.Train Loss:0.5406 Acc:0.4766: 100%",
      "description_tooltip": null,
      "layout": "IPY_MODEL_3f14aba355ae449490d8eca50f4f00b8",
      "max": 1237,
      "min": 0,
      "orientation": "horizontal",
      "style": "IPY_MODEL_8ea79876b71f4acbbfe02a6f082a3228",
      "value": 1237
     }
    },
    "950bd9610ef94ec59d7085f1748031c0": {
     "model_module": "@jupyter-widgets/controls",
     "model_name": "HTMLModel",
     "state": {
      "_dom_classes": [],
      "_model_module": "@jupyter-widgets/controls",
      "_model_module_version": "1.5.0",
      "_model_name": "HTMLModel",
      "_view_count": null,
      "_view_module": "@jupyter-widgets/controls",
      "_view_module_version": "1.5.0",
      "_view_name": "HTMLView",
      "description": "",
      "description_tooltip": null,
      "layout": "IPY_MODEL_7cc77193557a4930a178230aac68b6ae",
      "placeholder": "​",
      "style": "IPY_MODEL_2f3ca3600076450db01dd2b9d58cd4f4",
      "value": " 250/250 [00:28&lt;00:00,  8.79it/s]"
     }
    },
    "98b599225a494bdfb035869b5e4fe585": {
     "model_module": "@jupyter-widgets/controls",
     "model_name": "DescriptionStyleModel",
     "state": {
      "_model_module": "@jupyter-widgets/controls",
      "_model_module_version": "1.5.0",
      "_model_name": "DescriptionStyleModel",
      "_view_count": null,
      "_view_module": "@jupyter-widgets/base",
      "_view_module_version": "1.2.0",
      "_view_name": "StyleView",
      "description_width": ""
     }
    },
    "98d17a367cb646e9b2b0fecc6671e569": {
     "model_module": "@jupyter-widgets/base",
     "model_name": "LayoutModel",
     "state": {
      "_model_module": "@jupyter-widgets/base",
      "_model_module_version": "1.2.0",
      "_model_name": "LayoutModel",
      "_view_count": null,
      "_view_module": "@jupyter-widgets/base",
      "_view_module_version": "1.2.0",
      "_view_name": "LayoutView",
      "align_content": null,
      "align_items": null,
      "align_self": null,
      "border": null,
      "bottom": null,
      "display": null,
      "flex": null,
      "flex_flow": null,
      "grid_area": null,
      "grid_auto_columns": null,
      "grid_auto_flow": null,
      "grid_auto_rows": null,
      "grid_column": null,
      "grid_gap": null,
      "grid_row": null,
      "grid_template_areas": null,
      "grid_template_columns": null,
      "grid_template_rows": null,
      "height": null,
      "justify_content": null,
      "justify_items": null,
      "left": null,
      "margin": null,
      "max_height": null,
      "max_width": null,
      "min_height": null,
      "min_width": null,
      "object_fit": null,
      "object_position": null,
      "order": null,
      "overflow": null,
      "overflow_x": null,
      "overflow_y": null,
      "padding": null,
      "right": null,
      "top": null,
      "visibility": null,
      "width": null
     }
    },
    "98e7e7162f734c318e5977650ce8a721": {
     "model_module": "@jupyter-widgets/base",
     "model_name": "LayoutModel",
     "state": {
      "_model_module": "@jupyter-widgets/base",
      "_model_module_version": "1.2.0",
      "_model_name": "LayoutModel",
      "_view_count": null,
      "_view_module": "@jupyter-widgets/base",
      "_view_module_version": "1.2.0",
      "_view_name": "LayoutView",
      "align_content": null,
      "align_items": null,
      "align_self": null,
      "border": null,
      "bottom": null,
      "display": null,
      "flex": null,
      "flex_flow": null,
      "grid_area": null,
      "grid_auto_columns": null,
      "grid_auto_flow": null,
      "grid_auto_rows": null,
      "grid_column": null,
      "grid_gap": null,
      "grid_row": null,
      "grid_template_areas": null,
      "grid_template_columns": null,
      "grid_template_rows": null,
      "height": null,
      "justify_content": null,
      "justify_items": null,
      "left": null,
      "margin": null,
      "max_height": null,
      "max_width": null,
      "min_height": null,
      "min_width": null,
      "object_fit": null,
      "object_position": null,
      "order": null,
      "overflow": null,
      "overflow_x": null,
      "overflow_y": null,
      "padding": null,
      "right": null,
      "top": null,
      "visibility": null,
      "width": null
     }
    },
    "9b0e7f367cf6428393c4d7fe140f01a3": {
     "model_module": "@jupyter-widgets/base",
     "model_name": "LayoutModel",
     "state": {
      "_model_module": "@jupyter-widgets/base",
      "_model_module_version": "1.2.0",
      "_model_name": "LayoutModel",
      "_view_count": null,
      "_view_module": "@jupyter-widgets/base",
      "_view_module_version": "1.2.0",
      "_view_name": "LayoutView",
      "align_content": null,
      "align_items": null,
      "align_self": null,
      "border": null,
      "bottom": null,
      "display": null,
      "flex": null,
      "flex_flow": null,
      "grid_area": null,
      "grid_auto_columns": null,
      "grid_auto_flow": null,
      "grid_auto_rows": null,
      "grid_column": null,
      "grid_gap": null,
      "grid_row": null,
      "grid_template_areas": null,
      "grid_template_columns": null,
      "grid_template_rows": null,
      "height": null,
      "justify_content": null,
      "justify_items": null,
      "left": null,
      "margin": null,
      "max_height": null,
      "max_width": null,
      "min_height": null,
      "min_width": null,
      "object_fit": null,
      "object_position": null,
      "order": null,
      "overflow": null,
      "overflow_x": null,
      "overflow_y": null,
      "padding": null,
      "right": null,
      "top": null,
      "visibility": null,
      "width": null
     }
    },
    "9c6b0df505b9444cb301217beee1660a": {
     "model_module": "@jupyter-widgets/base",
     "model_name": "LayoutModel",
     "state": {
      "_model_module": "@jupyter-widgets/base",
      "_model_module_version": "1.2.0",
      "_model_name": "LayoutModel",
      "_view_count": null,
      "_view_module": "@jupyter-widgets/base",
      "_view_module_version": "1.2.0",
      "_view_name": "LayoutView",
      "align_content": null,
      "align_items": null,
      "align_self": null,
      "border": null,
      "bottom": null,
      "display": null,
      "flex": null,
      "flex_flow": null,
      "grid_area": null,
      "grid_auto_columns": null,
      "grid_auto_flow": null,
      "grid_auto_rows": null,
      "grid_column": null,
      "grid_gap": null,
      "grid_row": null,
      "grid_template_areas": null,
      "grid_template_columns": null,
      "grid_template_rows": null,
      "height": null,
      "justify_content": null,
      "justify_items": null,
      "left": null,
      "margin": null,
      "max_height": null,
      "max_width": null,
      "min_height": null,
      "min_width": null,
      "object_fit": null,
      "object_position": null,
      "order": null,
      "overflow": null,
      "overflow_x": null,
      "overflow_y": null,
      "padding": null,
      "right": null,
      "top": null,
      "visibility": null,
      "width": null
     }
    },
    "9d25dbab0c9244368cd278bc4585d4c0": {
     "model_module": "@jupyter-widgets/base",
     "model_name": "LayoutModel",
     "state": {
      "_model_module": "@jupyter-widgets/base",
      "_model_module_version": "1.2.0",
      "_model_name": "LayoutModel",
      "_view_count": null,
      "_view_module": "@jupyter-widgets/base",
      "_view_module_version": "1.2.0",
      "_view_name": "LayoutView",
      "align_content": null,
      "align_items": null,
      "align_self": null,
      "border": null,
      "bottom": null,
      "display": null,
      "flex": null,
      "flex_flow": null,
      "grid_area": null,
      "grid_auto_columns": null,
      "grid_auto_flow": null,
      "grid_auto_rows": null,
      "grid_column": null,
      "grid_gap": null,
      "grid_row": null,
      "grid_template_areas": null,
      "grid_template_columns": null,
      "grid_template_rows": null,
      "height": null,
      "justify_content": null,
      "justify_items": null,
      "left": null,
      "margin": null,
      "max_height": null,
      "max_width": null,
      "min_height": null,
      "min_width": null,
      "object_fit": null,
      "object_position": null,
      "order": null,
      "overflow": null,
      "overflow_x": null,
      "overflow_y": null,
      "padding": null,
      "right": null,
      "top": null,
      "visibility": null,
      "width": null
     }
    },
    "9ef7e59667134d04bfa64ac87b13aa86": {
     "model_module": "@jupyter-widgets/controls",
     "model_name": "ProgressStyleModel",
     "state": {
      "_model_module": "@jupyter-widgets/controls",
      "_model_module_version": "1.5.0",
      "_model_name": "ProgressStyleModel",
      "_view_count": null,
      "_view_module": "@jupyter-widgets/base",
      "_view_module_version": "1.2.0",
      "_view_name": "StyleView",
      "bar_color": null,
      "description_width": "initial"
     }
    },
    "9f5a7908f6b04bb4a3a2a6c79da960d2": {
     "model_module": "@jupyter-widgets/controls",
     "model_name": "ProgressStyleModel",
     "state": {
      "_model_module": "@jupyter-widgets/controls",
      "_model_module_version": "1.5.0",
      "_model_name": "ProgressStyleModel",
      "_view_count": null,
      "_view_module": "@jupyter-widgets/base",
      "_view_module_version": "1.2.0",
      "_view_name": "StyleView",
      "bar_color": null,
      "description_width": "initial"
     }
    },
    "9f68c7a540734993854d33b0255f9f97": {
     "model_module": "@jupyter-widgets/controls",
     "model_name": "ProgressStyleModel",
     "state": {
      "_model_module": "@jupyter-widgets/controls",
      "_model_module_version": "1.5.0",
      "_model_name": "ProgressStyleModel",
      "_view_count": null,
      "_view_module": "@jupyter-widgets/base",
      "_view_module_version": "1.2.0",
      "_view_name": "StyleView",
      "bar_color": null,
      "description_width": "initial"
     }
    },
    "9f8930b7ae684eb39b4dd96802f8043f": {
     "model_module": "@jupyter-widgets/controls",
     "model_name": "FloatProgressModel",
     "state": {
      "_dom_classes": [],
      "_model_module": "@jupyter-widgets/controls",
      "_model_module_version": "1.5.0",
      "_model_name": "FloatProgressModel",
      "_view_count": null,
      "_view_module": "@jupyter-widgets/controls",
      "_view_module_version": "1.5.0",
      "_view_name": "ProgressView",
      "bar_style": "success",
      "description": "Test Loss: 0.2496, Test Acc: 0.496: 100%",
      "description_tooltip": null,
      "layout": "IPY_MODEL_1e28c482f2914e6da6a40e3cf030bf0b",
      "max": 13,
      "min": 0,
      "orientation": "horizontal",
      "style": "IPY_MODEL_5afdde7148d14713be04c60ef91bb535",
      "value": 13
     }
    },
    "9fdcf33dbe554c369bbc6fcf378f866e": {
     "model_module": "@jupyter-widgets/base",
     "model_name": "LayoutModel",
     "state": {
      "_model_module": "@jupyter-widgets/base",
      "_model_module_version": "1.2.0",
      "_model_name": "LayoutModel",
      "_view_count": null,
      "_view_module": "@jupyter-widgets/base",
      "_view_module_version": "1.2.0",
      "_view_name": "LayoutView",
      "align_content": null,
      "align_items": null,
      "align_self": null,
      "border": null,
      "bottom": null,
      "display": null,
      "flex": null,
      "flex_flow": null,
      "grid_area": null,
      "grid_auto_columns": null,
      "grid_auto_flow": null,
      "grid_auto_rows": null,
      "grid_column": null,
      "grid_gap": null,
      "grid_row": null,
      "grid_template_areas": null,
      "grid_template_columns": null,
      "grid_template_rows": null,
      "height": null,
      "justify_content": null,
      "justify_items": null,
      "left": null,
      "margin": null,
      "max_height": null,
      "max_width": null,
      "min_height": null,
      "min_width": null,
      "object_fit": null,
      "object_position": null,
      "order": null,
      "overflow": null,
      "overflow_x": null,
      "overflow_y": null,
      "padding": null,
      "right": null,
      "top": null,
      "visibility": null,
      "width": null
     }
    },
    "a1cd9541972245e7abd19e55ec4a70d8": {
     "model_module": "@jupyter-widgets/controls",
     "model_name": "DescriptionStyleModel",
     "state": {
      "_model_module": "@jupyter-widgets/controls",
      "_model_module_version": "1.5.0",
      "_model_name": "DescriptionStyleModel",
      "_view_count": null,
      "_view_module": "@jupyter-widgets/base",
      "_view_module_version": "1.2.0",
      "_view_name": "StyleView",
      "description_width": ""
     }
    },
    "a3b770e43a9549f1a37b373e3a8d440c": {
     "model_module": "@jupyter-widgets/controls",
     "model_name": "DescriptionStyleModel",
     "state": {
      "_model_module": "@jupyter-widgets/controls",
      "_model_module_version": "1.5.0",
      "_model_name": "DescriptionStyleModel",
      "_view_count": null,
      "_view_module": "@jupyter-widgets/base",
      "_view_module_version": "1.2.0",
      "_view_name": "StyleView",
      "description_width": ""
     }
    },
    "a3b8961b95b4425aa7f84e71aecf54c8": {
     "model_module": "@jupyter-widgets/controls",
     "model_name": "FloatProgressModel",
     "state": {
      "_dom_classes": [],
      "_model_module": "@jupyter-widgets/controls",
      "_model_module_version": "1.5.0",
      "_model_name": "FloatProgressModel",
      "_view_count": null,
      "_view_module": "@jupyter-widgets/controls",
      "_view_module_version": "1.5.0",
      "_view_name": "ProgressView",
      "bar_style": "success",
      "description": "Test Loss: 0.5528, Test Acc: 0.4997: 100%",
      "description_tooltip": null,
      "layout": "IPY_MODEL_e239ed3e5a944eefa5ffdb72a40aa167",
      "max": 250,
      "min": 0,
      "orientation": "horizontal",
      "style": "IPY_MODEL_eaabaf79fff44eca8d22b1efdc1f6214",
      "value": 250
     }
    },
    "a4421591eea54529843f1cb8495afc48": {
     "model_module": "@jupyter-widgets/controls",
     "model_name": "FloatProgressModel",
     "state": {
      "_dom_classes": [],
      "_model_module": "@jupyter-widgets/controls",
      "_model_module_version": "1.5.0",
      "_model_name": "FloatProgressModel",
      "_view_count": null,
      "_view_module": "@jupyter-widgets/controls",
      "_view_module_version": "1.5.0",
      "_view_name": "ProgressView",
      "bar_style": "success",
      "description": "Test Loss: 0.2476, Test Acc: 0.4999: 100%",
      "description_tooltip": null,
      "layout": "IPY_MODEL_9c6b0df505b9444cb301217beee1660a",
      "max": 313,
      "min": 0,
      "orientation": "horizontal",
      "style": "IPY_MODEL_f06d755241854dfaa8e29433337ac746",
      "value": 313
     }
    },
    "a44e27b0dcdb473991b14664190e17ca": {
     "model_module": "@jupyter-widgets/controls",
     "model_name": "FloatProgressModel",
     "state": {
      "_dom_classes": [],
      "_model_module": "@jupyter-widgets/controls",
      "_model_module_version": "1.5.0",
      "_model_name": "FloatProgressModel",
      "_view_count": null,
      "_view_module": "@jupyter-widgets/controls",
      "_view_module_version": "1.5.0",
      "_view_name": "ProgressView",
      "bar_style": "success",
      "description": "Epoch:4.Train Loss:0.5291 Acc:0.4785: 100%",
      "description_tooltip": null,
      "layout": "IPY_MODEL_3721d0404e6e4a8095071ba709546317",
      "max": 1000,
      "min": 0,
      "orientation": "horizontal",
      "style": "IPY_MODEL_13827ecea7434357b272e4e3dc9b5e7f",
      "value": 1000
     }
    },
    "a7efbdfae4a04ba2968aceaccf8541da": {
     "model_module": "@jupyter-widgets/base",
     "model_name": "LayoutModel",
     "state": {
      "_model_module": "@jupyter-widgets/base",
      "_model_module_version": "1.2.0",
      "_model_name": "LayoutModel",
      "_view_count": null,
      "_view_module": "@jupyter-widgets/base",
      "_view_module_version": "1.2.0",
      "_view_name": "LayoutView",
      "align_content": null,
      "align_items": null,
      "align_self": null,
      "border": null,
      "bottom": null,
      "display": null,
      "flex": null,
      "flex_flow": null,
      "grid_area": null,
      "grid_auto_columns": null,
      "grid_auto_flow": null,
      "grid_auto_rows": null,
      "grid_column": null,
      "grid_gap": null,
      "grid_row": null,
      "grid_template_areas": null,
      "grid_template_columns": null,
      "grid_template_rows": null,
      "height": null,
      "justify_content": null,
      "justify_items": null,
      "left": null,
      "margin": null,
      "max_height": null,
      "max_width": null,
      "min_height": null,
      "min_width": null,
      "object_fit": null,
      "object_position": null,
      "order": null,
      "overflow": null,
      "overflow_x": null,
      "overflow_y": null,
      "padding": null,
      "right": null,
      "top": null,
      "visibility": null,
      "width": null
     }
    },
    "a86d9e8a07aa470383aa22567432c111": {
     "model_module": "@jupyter-widgets/base",
     "model_name": "LayoutModel",
     "state": {
      "_model_module": "@jupyter-widgets/base",
      "_model_module_version": "1.2.0",
      "_model_name": "LayoutModel",
      "_view_count": null,
      "_view_module": "@jupyter-widgets/base",
      "_view_module_version": "1.2.0",
      "_view_name": "LayoutView",
      "align_content": null,
      "align_items": null,
      "align_self": null,
      "border": null,
      "bottom": null,
      "display": null,
      "flex": null,
      "flex_flow": null,
      "grid_area": null,
      "grid_auto_columns": null,
      "grid_auto_flow": null,
      "grid_auto_rows": null,
      "grid_column": null,
      "grid_gap": null,
      "grid_row": null,
      "grid_template_areas": null,
      "grid_template_columns": null,
      "grid_template_rows": null,
      "height": null,
      "justify_content": null,
      "justify_items": null,
      "left": null,
      "margin": null,
      "max_height": null,
      "max_width": null,
      "min_height": null,
      "min_width": null,
      "object_fit": null,
      "object_position": null,
      "order": null,
      "overflow": null,
      "overflow_x": null,
      "overflow_y": null,
      "padding": null,
      "right": null,
      "top": null,
      "visibility": null,
      "width": null
     }
    },
    "a8909e3c255c4b079878bd1d642a0071": {
     "model_module": "@jupyter-widgets/controls",
     "model_name": "HBoxModel",
     "state": {
      "_dom_classes": [],
      "_model_module": "@jupyter-widgets/controls",
      "_model_module_version": "1.5.0",
      "_model_name": "HBoxModel",
      "_view_count": null,
      "_view_module": "@jupyter-widgets/controls",
      "_view_module_version": "1.5.0",
      "_view_name": "HBoxView",
      "box_style": "",
      "children": [
       "IPY_MODEL_f17163989d57435c8f0fd88be0d4940e",
       "IPY_MODEL_1af05d70ead345e3be76c1f37aa692a1"
      ],
      "layout": "IPY_MODEL_43cf54418f8c47848fc0317cbe00efa9"
     }
    },
    "a8e1c83209414739af0a65c1db579919": {
     "model_module": "@jupyter-widgets/controls",
     "model_name": "HBoxModel",
     "state": {
      "_dom_classes": [],
      "_model_module": "@jupyter-widgets/controls",
      "_model_module_version": "1.5.0",
      "_model_name": "HBoxModel",
      "_view_count": null,
      "_view_module": "@jupyter-widgets/controls",
      "_view_module_version": "1.5.0",
      "_view_name": "HBoxView",
      "box_style": "",
      "children": [
       "IPY_MODEL_9f8930b7ae684eb39b4dd96802f8043f",
       "IPY_MODEL_68fdbd72c3e741a0bab4ae716c027c3a"
      ],
      "layout": "IPY_MODEL_f271181164a24a0facc2137c95001b71"
     }
    },
    "a938376cc5bb425194811f9e17c89ab9": {
     "model_module": "@jupyter-widgets/controls",
     "model_name": "FloatProgressModel",
     "state": {
      "_dom_classes": [],
      "_model_module": "@jupyter-widgets/controls",
      "_model_module_version": "1.5.0",
      "_model_name": "FloatProgressModel",
      "_view_count": null,
      "_view_module": "@jupyter-widgets/controls",
      "_view_module_version": "1.5.0",
      "_view_name": "ProgressView",
      "bar_style": "success",
      "description": "Epoch:5.Train Loss:0.5025 Acc:0.4951: 100%",
      "description_tooltip": null,
      "layout": "IPY_MODEL_7b515eeb11ca4d54a03699b63718bc9f",
      "max": 1000,
      "min": 0,
      "orientation": "horizontal",
      "style": "IPY_MODEL_d30578395e9148fb8f87d20d21b7232b",
      "value": 1000
     }
    },
    "a9502bb67bce4b3493dd6ca8390a7c97": {
     "model_module": "@jupyter-widgets/controls",
     "model_name": "DescriptionStyleModel",
     "state": {
      "_model_module": "@jupyter-widgets/controls",
      "_model_module_version": "1.5.0",
      "_model_name": "DescriptionStyleModel",
      "_view_count": null,
      "_view_module": "@jupyter-widgets/base",
      "_view_module_version": "1.2.0",
      "_view_name": "StyleView",
      "description_width": ""
     }
    },
    "aa51acbab0344f06a65dcc43a4894f70": {
     "model_module": "@jupyter-widgets/controls",
     "model_name": "DescriptionStyleModel",
     "state": {
      "_model_module": "@jupyter-widgets/controls",
      "_model_module_version": "1.5.0",
      "_model_name": "DescriptionStyleModel",
      "_view_count": null,
      "_view_module": "@jupyter-widgets/base",
      "_view_module_version": "1.2.0",
      "_view_name": "StyleView",
      "description_width": ""
     }
    },
    "aabde53d0dbd406ba74629c1d7b2f13b": {
     "model_module": "@jupyter-widgets/base",
     "model_name": "LayoutModel",
     "state": {
      "_model_module": "@jupyter-widgets/base",
      "_model_module_version": "1.2.0",
      "_model_name": "LayoutModel",
      "_view_count": null,
      "_view_module": "@jupyter-widgets/base",
      "_view_module_version": "1.2.0",
      "_view_name": "LayoutView",
      "align_content": null,
      "align_items": null,
      "align_self": null,
      "border": null,
      "bottom": null,
      "display": null,
      "flex": null,
      "flex_flow": null,
      "grid_area": null,
      "grid_auto_columns": null,
      "grid_auto_flow": null,
      "grid_auto_rows": null,
      "grid_column": null,
      "grid_gap": null,
      "grid_row": null,
      "grid_template_areas": null,
      "grid_template_columns": null,
      "grid_template_rows": null,
      "height": null,
      "justify_content": null,
      "justify_items": null,
      "left": null,
      "margin": null,
      "max_height": null,
      "max_width": null,
      "min_height": null,
      "min_width": null,
      "object_fit": null,
      "object_position": null,
      "order": null,
      "overflow": null,
      "overflow_x": null,
      "overflow_y": null,
      "padding": null,
      "right": null,
      "top": null,
      "visibility": null,
      "width": null
     }
    },
    "ac8296613b804516b502749399133547": {
     "model_module": "@jupyter-widgets/base",
     "model_name": "LayoutModel",
     "state": {
      "_model_module": "@jupyter-widgets/base",
      "_model_module_version": "1.2.0",
      "_model_name": "LayoutModel",
      "_view_count": null,
      "_view_module": "@jupyter-widgets/base",
      "_view_module_version": "1.2.0",
      "_view_name": "LayoutView",
      "align_content": null,
      "align_items": null,
      "align_self": null,
      "border": null,
      "bottom": null,
      "display": null,
      "flex": null,
      "flex_flow": null,
      "grid_area": null,
      "grid_auto_columns": null,
      "grid_auto_flow": null,
      "grid_auto_rows": null,
      "grid_column": null,
      "grid_gap": null,
      "grid_row": null,
      "grid_template_areas": null,
      "grid_template_columns": null,
      "grid_template_rows": null,
      "height": null,
      "justify_content": null,
      "justify_items": null,
      "left": null,
      "margin": null,
      "max_height": null,
      "max_width": null,
      "min_height": null,
      "min_width": null,
      "object_fit": null,
      "object_position": null,
      "order": null,
      "overflow": null,
      "overflow_x": null,
      "overflow_y": null,
      "padding": null,
      "right": null,
      "top": null,
      "visibility": null,
      "width": null
     }
    },
    "acbc762d9f714c549413c7d676205f85": {
     "model_module": "@jupyter-widgets/base",
     "model_name": "LayoutModel",
     "state": {
      "_model_module": "@jupyter-widgets/base",
      "_model_module_version": "1.2.0",
      "_model_name": "LayoutModel",
      "_view_count": null,
      "_view_module": "@jupyter-widgets/base",
      "_view_module_version": "1.2.0",
      "_view_name": "LayoutView",
      "align_content": null,
      "align_items": null,
      "align_self": null,
      "border": null,
      "bottom": null,
      "display": null,
      "flex": null,
      "flex_flow": null,
      "grid_area": null,
      "grid_auto_columns": null,
      "grid_auto_flow": null,
      "grid_auto_rows": null,
      "grid_column": null,
      "grid_gap": null,
      "grid_row": null,
      "grid_template_areas": null,
      "grid_template_columns": null,
      "grid_template_rows": null,
      "height": null,
      "justify_content": null,
      "justify_items": null,
      "left": null,
      "margin": null,
      "max_height": null,
      "max_width": null,
      "min_height": null,
      "min_width": null,
      "object_fit": null,
      "object_position": null,
      "order": null,
      "overflow": null,
      "overflow_x": null,
      "overflow_y": null,
      "padding": null,
      "right": null,
      "top": null,
      "visibility": null,
      "width": null
     }
    },
    "ad68e8b6bdc745ad89c215189a49e21c": {
     "model_module": "@jupyter-widgets/base",
     "model_name": "LayoutModel",
     "state": {
      "_model_module": "@jupyter-widgets/base",
      "_model_module_version": "1.2.0",
      "_model_name": "LayoutModel",
      "_view_count": null,
      "_view_module": "@jupyter-widgets/base",
      "_view_module_version": "1.2.0",
      "_view_name": "LayoutView",
      "align_content": null,
      "align_items": null,
      "align_self": null,
      "border": null,
      "bottom": null,
      "display": null,
      "flex": null,
      "flex_flow": null,
      "grid_area": null,
      "grid_auto_columns": null,
      "grid_auto_flow": null,
      "grid_auto_rows": null,
      "grid_column": null,
      "grid_gap": null,
      "grid_row": null,
      "grid_template_areas": null,
      "grid_template_columns": null,
      "grid_template_rows": null,
      "height": null,
      "justify_content": null,
      "justify_items": null,
      "left": null,
      "margin": null,
      "max_height": null,
      "max_width": null,
      "min_height": null,
      "min_width": null,
      "object_fit": null,
      "object_position": null,
      "order": null,
      "overflow": null,
      "overflow_x": null,
      "overflow_y": null,
      "padding": null,
      "right": null,
      "top": null,
      "visibility": null,
      "width": null
     }
    },
    "ae605cd89bdb44a8b14ac07d967f1ccc": {
     "model_module": "@jupyter-widgets/controls",
     "model_name": "HTMLModel",
     "state": {
      "_dom_classes": [],
      "_model_module": "@jupyter-widgets/controls",
      "_model_module_version": "1.5.0",
      "_model_name": "HTMLModel",
      "_view_count": null,
      "_view_module": "@jupyter-widgets/controls",
      "_view_module_version": "1.5.0",
      "_view_name": "HTMLView",
      "description": "",
      "description_tooltip": null,
      "layout": "IPY_MODEL_443644605ce145959b9fa4eca412248c",
      "placeholder": "​",
      "style": "IPY_MODEL_d2bbc4b8993943d3ba36423b1755fc23",
      "value": " 1000/1000 [01:36&lt;00:00, 10.34it/s]"
     }
    },
    "af15c2a444ce473190ea3506e448b00e": {
     "model_module": "@jupyter-widgets/controls",
     "model_name": "ProgressStyleModel",
     "state": {
      "_model_module": "@jupyter-widgets/controls",
      "_model_module_version": "1.5.0",
      "_model_name": "ProgressStyleModel",
      "_view_count": null,
      "_view_module": "@jupyter-widgets/base",
      "_view_module_version": "1.2.0",
      "_view_name": "StyleView",
      "bar_color": null,
      "description_width": "initial"
     }
    },
    "b0a72f219bc941e8912151ccc4733d75": {
     "model_module": "@jupyter-widgets/base",
     "model_name": "LayoutModel",
     "state": {
      "_model_module": "@jupyter-widgets/base",
      "_model_module_version": "1.2.0",
      "_model_name": "LayoutModel",
      "_view_count": null,
      "_view_module": "@jupyter-widgets/base",
      "_view_module_version": "1.2.0",
      "_view_name": "LayoutView",
      "align_content": null,
      "align_items": null,
      "align_self": null,
      "border": null,
      "bottom": null,
      "display": null,
      "flex": null,
      "flex_flow": null,
      "grid_area": null,
      "grid_auto_columns": null,
      "grid_auto_flow": null,
      "grid_auto_rows": null,
      "grid_column": null,
      "grid_gap": null,
      "grid_row": null,
      "grid_template_areas": null,
      "grid_template_columns": null,
      "grid_template_rows": null,
      "height": null,
      "justify_content": null,
      "justify_items": null,
      "left": null,
      "margin": null,
      "max_height": null,
      "max_width": null,
      "min_height": null,
      "min_width": null,
      "object_fit": null,
      "object_position": null,
      "order": null,
      "overflow": null,
      "overflow_x": null,
      "overflow_y": null,
      "padding": null,
      "right": null,
      "top": null,
      "visibility": null,
      "width": null
     }
    },
    "b0b6e6a0956b4f83ad6cb951699593eb": {
     "model_module": "@jupyter-widgets/controls",
     "model_name": "DescriptionStyleModel",
     "state": {
      "_model_module": "@jupyter-widgets/controls",
      "_model_module_version": "1.5.0",
      "_model_name": "DescriptionStyleModel",
      "_view_count": null,
      "_view_module": "@jupyter-widgets/base",
      "_view_module_version": "1.2.0",
      "_view_name": "StyleView",
      "description_width": ""
     }
    },
    "b11d0826e1af428caf0336819dbbf06b": {
     "model_module": "@jupyter-widgets/base",
     "model_name": "LayoutModel",
     "state": {
      "_model_module": "@jupyter-widgets/base",
      "_model_module_version": "1.2.0",
      "_model_name": "LayoutModel",
      "_view_count": null,
      "_view_module": "@jupyter-widgets/base",
      "_view_module_version": "1.2.0",
      "_view_name": "LayoutView",
      "align_content": null,
      "align_items": null,
      "align_self": null,
      "border": null,
      "bottom": null,
      "display": null,
      "flex": null,
      "flex_flow": null,
      "grid_area": null,
      "grid_auto_columns": null,
      "grid_auto_flow": null,
      "grid_auto_rows": null,
      "grid_column": null,
      "grid_gap": null,
      "grid_row": null,
      "grid_template_areas": null,
      "grid_template_columns": null,
      "grid_template_rows": null,
      "height": null,
      "justify_content": null,
      "justify_items": null,
      "left": null,
      "margin": null,
      "max_height": null,
      "max_width": null,
      "min_height": null,
      "min_width": null,
      "object_fit": null,
      "object_position": null,
      "order": null,
      "overflow": null,
      "overflow_x": null,
      "overflow_y": null,
      "padding": null,
      "right": null,
      "top": null,
      "visibility": null,
      "width": null
     }
    },
    "b5a4cad2b333402994e640c09a216ba1": {
     "model_module": "@jupyter-widgets/controls",
     "model_name": "FloatProgressModel",
     "state": {
      "_dom_classes": [],
      "_model_module": "@jupyter-widgets/controls",
      "_model_module_version": "1.5.0",
      "_model_name": "FloatProgressModel",
      "_view_count": null,
      "_view_module": "@jupyter-widgets/controls",
      "_view_module_version": "1.5.0",
      "_view_name": "ProgressView",
      "bar_style": "success",
      "description": "Epoch:2.Train Loss:0.5172 Acc:0.4668: 100%",
      "description_tooltip": null,
      "layout": "IPY_MODEL_fa5c4573088b46948285e0d344d77261",
      "max": 1000,
      "min": 0,
      "orientation": "horizontal",
      "style": "IPY_MODEL_e19f5abacfcf4d57a51b6b4e2b1e3cc6",
      "value": 1000
     }
    },
    "b815ad07dbc6422197828df344e2a806": {
     "model_module": "@jupyter-widgets/controls",
     "model_name": "HBoxModel",
     "state": {
      "_dom_classes": [],
      "_model_module": "@jupyter-widgets/controls",
      "_model_module_version": "1.5.0",
      "_model_name": "HBoxModel",
      "_view_count": null,
      "_view_module": "@jupyter-widgets/controls",
      "_view_module_version": "1.5.0",
      "_view_name": "HBoxView",
      "box_style": "",
      "children": [
       "IPY_MODEL_3b6d67596cc84eb2b2e47b10e61ff878",
       "IPY_MODEL_ecb65bdec6914cacb1a56e6cf0811fa1"
      ],
      "layout": "IPY_MODEL_2fe9cedecc584403963031dc61455949"
     }
    },
    "b82623f356d54b09a75a1fec29ec5b48": {
     "model_module": "@jupyter-widgets/controls",
     "model_name": "DescriptionStyleModel",
     "state": {
      "_model_module": "@jupyter-widgets/controls",
      "_model_module_version": "1.5.0",
      "_model_name": "DescriptionStyleModel",
      "_view_count": null,
      "_view_module": "@jupyter-widgets/base",
      "_view_module_version": "1.2.0",
      "_view_name": "StyleView",
      "description_width": ""
     }
    },
    "b872f35ebfac431bb2dfd5d41b6dbd36": {
     "model_module": "@jupyter-widgets/controls",
     "model_name": "FloatProgressModel",
     "state": {
      "_dom_classes": [],
      "_model_module": "@jupyter-widgets/controls",
      "_model_module_version": "1.5.0",
      "_model_name": "FloatProgressModel",
      "_view_count": null,
      "_view_module": "@jupyter-widgets/controls",
      "_view_module_version": "1.5.0",
      "_view_name": "ProgressView",
      "bar_style": "success",
      "description": "Test Loss: 0.5251, Test Acc: 0.496: 100%",
      "description_tooltip": null,
      "layout": "IPY_MODEL_c34dfd3fac9c4e65924e08a970b70757",
      "max": 13,
      "min": 0,
      "orientation": "horizontal",
      "style": "IPY_MODEL_4e1ee3a9e13740dcb9078d4a0b35b8cb",
      "value": 13
     }
    },
    "ba16890d66b14619b2e7355de46e6109": {
     "model_module": "@jupyter-widgets/base",
     "model_name": "LayoutModel",
     "state": {
      "_model_module": "@jupyter-widgets/base",
      "_model_module_version": "1.2.0",
      "_model_name": "LayoutModel",
      "_view_count": null,
      "_view_module": "@jupyter-widgets/base",
      "_view_module_version": "1.2.0",
      "_view_name": "LayoutView",
      "align_content": null,
      "align_items": null,
      "align_self": null,
      "border": null,
      "bottom": null,
      "display": null,
      "flex": null,
      "flex_flow": null,
      "grid_area": null,
      "grid_auto_columns": null,
      "grid_auto_flow": null,
      "grid_auto_rows": null,
      "grid_column": null,
      "grid_gap": null,
      "grid_row": null,
      "grid_template_areas": null,
      "grid_template_columns": null,
      "grid_template_rows": null,
      "height": null,
      "justify_content": null,
      "justify_items": null,
      "left": null,
      "margin": null,
      "max_height": null,
      "max_width": null,
      "min_height": null,
      "min_width": null,
      "object_fit": null,
      "object_position": null,
      "order": null,
      "overflow": null,
      "overflow_x": null,
      "overflow_y": null,
      "padding": null,
      "right": null,
      "top": null,
      "visibility": null,
      "width": null
     }
    },
    "bc0bb083b6e147e1ae5e74e1d4185601": {
     "model_module": "@jupyter-widgets/base",
     "model_name": "LayoutModel",
     "state": {
      "_model_module": "@jupyter-widgets/base",
      "_model_module_version": "1.2.0",
      "_model_name": "LayoutModel",
      "_view_count": null,
      "_view_module": "@jupyter-widgets/base",
      "_view_module_version": "1.2.0",
      "_view_name": "LayoutView",
      "align_content": null,
      "align_items": null,
      "align_self": null,
      "border": null,
      "bottom": null,
      "display": null,
      "flex": null,
      "flex_flow": null,
      "grid_area": null,
      "grid_auto_columns": null,
      "grid_auto_flow": null,
      "grid_auto_rows": null,
      "grid_column": null,
      "grid_gap": null,
      "grid_row": null,
      "grid_template_areas": null,
      "grid_template_columns": null,
      "grid_template_rows": null,
      "height": null,
      "justify_content": null,
      "justify_items": null,
      "left": null,
      "margin": null,
      "max_height": null,
      "max_width": null,
      "min_height": null,
      "min_width": null,
      "object_fit": null,
      "object_position": null,
      "order": null,
      "overflow": null,
      "overflow_x": null,
      "overflow_y": null,
      "padding": null,
      "right": null,
      "top": null,
      "visibility": null,
      "width": null
     }
    },
    "bd4f9454ccfa49e6a8442d986b239f62": {
     "model_module": "@jupyter-widgets/controls",
     "model_name": "HTMLModel",
     "state": {
      "_dom_classes": [],
      "_model_module": "@jupyter-widgets/controls",
      "_model_module_version": "1.5.0",
      "_model_name": "HTMLModel",
      "_view_count": null,
      "_view_module": "@jupyter-widgets/controls",
      "_view_module_version": "1.5.0",
      "_view_name": "HTMLView",
      "description": "",
      "description_tooltip": null,
      "layout": "IPY_MODEL_8e756c23c0084288a3e46c7b8898a173",
      "placeholder": "​",
      "style": "IPY_MODEL_a1cd9541972245e7abd19e55ec4a70d8",
      "value": " 13/13 [00:20&lt;00:00,  1.61s/it]"
     }
    },
    "bd81e24754614d7382d1c4ea95c95f1d": {
     "model_module": "@jupyter-widgets/base",
     "model_name": "LayoutModel",
     "state": {
      "_model_module": "@jupyter-widgets/base",
      "_model_module_version": "1.2.0",
      "_model_name": "LayoutModel",
      "_view_count": null,
      "_view_module": "@jupyter-widgets/base",
      "_view_module_version": "1.2.0",
      "_view_name": "LayoutView",
      "align_content": null,
      "align_items": null,
      "align_self": null,
      "border": null,
      "bottom": null,
      "display": null,
      "flex": null,
      "flex_flow": null,
      "grid_area": null,
      "grid_auto_columns": null,
      "grid_auto_flow": null,
      "grid_auto_rows": null,
      "grid_column": null,
      "grid_gap": null,
      "grid_row": null,
      "grid_template_areas": null,
      "grid_template_columns": null,
      "grid_template_rows": null,
      "height": null,
      "justify_content": null,
      "justify_items": null,
      "left": null,
      "margin": null,
      "max_height": null,
      "max_width": null,
      "min_height": null,
      "min_width": null,
      "object_fit": null,
      "object_position": null,
      "order": null,
      "overflow": null,
      "overflow_x": null,
      "overflow_y": null,
      "padding": null,
      "right": null,
      "top": null,
      "visibility": null,
      "width": null
     }
    },
    "be51bba54ec94e4d8761193df845ee56": {
     "model_module": "@jupyter-widgets/controls",
     "model_name": "FloatProgressModel",
     "state": {
      "_dom_classes": [],
      "_model_module": "@jupyter-widgets/controls",
      "_model_module_version": "1.5.0",
      "_model_name": "FloatProgressModel",
      "_view_count": null,
      "_view_module": "@jupyter-widgets/controls",
      "_view_module_version": "1.5.0",
      "_view_name": "ProgressView",
      "bar_style": "success",
      "description": "Test Loss: 0.1639, Test Acc: 0.4997: 100%",
      "description_tooltip": null,
      "layout": "IPY_MODEL_acbc762d9f714c549413c7d676205f85",
      "max": 250,
      "min": 0,
      "orientation": "horizontal",
      "style": "IPY_MODEL_9f5a7908f6b04bb4a3a2a6c79da960d2",
      "value": 250
     }
    },
    "be858959c1b24bfb80a1ef12ce8c357d": {
     "model_module": "@jupyter-widgets/controls",
     "model_name": "HTMLModel",
     "state": {
      "_dom_classes": [],
      "_model_module": "@jupyter-widgets/controls",
      "_model_module_version": "1.5.0",
      "_model_name": "HTMLModel",
      "_view_count": null,
      "_view_module": "@jupyter-widgets/controls",
      "_view_module_version": "1.5.0",
      "_view_name": "HTMLView",
      "description": "",
      "description_tooltip": null,
      "layout": "IPY_MODEL_bd81e24754614d7382d1c4ea95c95f1d",
      "placeholder": "​",
      "style": "IPY_MODEL_3fbb624dc6ba471099d4962207d1c183",
      "value": " 13/13 [00:03&lt;00:00,  3.43it/s]"
     }
    },
    "c02ec6efb8224e3bb643b4c7840dc591": {
     "model_module": "@jupyter-widgets/controls",
     "model_name": "DescriptionStyleModel",
     "state": {
      "_model_module": "@jupyter-widgets/controls",
      "_model_module_version": "1.5.0",
      "_model_name": "DescriptionStyleModel",
      "_view_count": null,
      "_view_module": "@jupyter-widgets/base",
      "_view_module_version": "1.2.0",
      "_view_name": "StyleView",
      "description_width": ""
     }
    },
    "c34dfd3fac9c4e65924e08a970b70757": {
     "model_module": "@jupyter-widgets/base",
     "model_name": "LayoutModel",
     "state": {
      "_model_module": "@jupyter-widgets/base",
      "_model_module_version": "1.2.0",
      "_model_name": "LayoutModel",
      "_view_count": null,
      "_view_module": "@jupyter-widgets/base",
      "_view_module_version": "1.2.0",
      "_view_name": "LayoutView",
      "align_content": null,
      "align_items": null,
      "align_self": null,
      "border": null,
      "bottom": null,
      "display": null,
      "flex": null,
      "flex_flow": null,
      "grid_area": null,
      "grid_auto_columns": null,
      "grid_auto_flow": null,
      "grid_auto_rows": null,
      "grid_column": null,
      "grid_gap": null,
      "grid_row": null,
      "grid_template_areas": null,
      "grid_template_columns": null,
      "grid_template_rows": null,
      "height": null,
      "justify_content": null,
      "justify_items": null,
      "left": null,
      "margin": null,
      "max_height": null,
      "max_width": null,
      "min_height": null,
      "min_width": null,
      "object_fit": null,
      "object_position": null,
      "order": null,
      "overflow": null,
      "overflow_x": null,
      "overflow_y": null,
      "padding": null,
      "right": null,
      "top": null,
      "visibility": null,
      "width": null
     }
    },
    "c822d0f26e7a4c57b49fdbbfc4ee2de8": {
     "model_module": "@jupyter-widgets/base",
     "model_name": "LayoutModel",
     "state": {
      "_model_module": "@jupyter-widgets/base",
      "_model_module_version": "1.2.0",
      "_model_name": "LayoutModel",
      "_view_count": null,
      "_view_module": "@jupyter-widgets/base",
      "_view_module_version": "1.2.0",
      "_view_name": "LayoutView",
      "align_content": null,
      "align_items": null,
      "align_self": null,
      "border": null,
      "bottom": null,
      "display": null,
      "flex": null,
      "flex_flow": null,
      "grid_area": null,
      "grid_auto_columns": null,
      "grid_auto_flow": null,
      "grid_auto_rows": null,
      "grid_column": null,
      "grid_gap": null,
      "grid_row": null,
      "grid_template_areas": null,
      "grid_template_columns": null,
      "grid_template_rows": null,
      "height": null,
      "justify_content": null,
      "justify_items": null,
      "left": null,
      "margin": null,
      "max_height": null,
      "max_width": null,
      "min_height": null,
      "min_width": null,
      "object_fit": null,
      "object_position": null,
      "order": null,
      "overflow": null,
      "overflow_x": null,
      "overflow_y": null,
      "padding": null,
      "right": null,
      "top": null,
      "visibility": null,
      "width": null
     }
    },
    "c906e82618c14a9bb757a038ad40ebec": {
     "model_module": "@jupyter-widgets/controls",
     "model_name": "DescriptionStyleModel",
     "state": {
      "_model_module": "@jupyter-widgets/controls",
      "_model_module_version": "1.5.0",
      "_model_name": "DescriptionStyleModel",
      "_view_count": null,
      "_view_module": "@jupyter-widgets/base",
      "_view_module_version": "1.2.0",
      "_view_name": "StyleView",
      "description_width": ""
     }
    },
    "cb84c25e2cbd40e284a0046304f7d172": {
     "model_module": "@jupyter-widgets/base",
     "model_name": "LayoutModel",
     "state": {
      "_model_module": "@jupyter-widgets/base",
      "_model_module_version": "1.2.0",
      "_model_name": "LayoutModel",
      "_view_count": null,
      "_view_module": "@jupyter-widgets/base",
      "_view_module_version": "1.2.0",
      "_view_name": "LayoutView",
      "align_content": null,
      "align_items": null,
      "align_self": null,
      "border": null,
      "bottom": null,
      "display": null,
      "flex": null,
      "flex_flow": null,
      "grid_area": null,
      "grid_auto_columns": null,
      "grid_auto_flow": null,
      "grid_auto_rows": null,
      "grid_column": null,
      "grid_gap": null,
      "grid_row": null,
      "grid_template_areas": null,
      "grid_template_columns": null,
      "grid_template_rows": null,
      "height": null,
      "justify_content": null,
      "justify_items": null,
      "left": null,
      "margin": null,
      "max_height": null,
      "max_width": null,
      "min_height": null,
      "min_width": null,
      "object_fit": null,
      "object_position": null,
      "order": null,
      "overflow": null,
      "overflow_x": null,
      "overflow_y": null,
      "padding": null,
      "right": null,
      "top": null,
      "visibility": null,
      "width": null
     }
    },
    "cebef6d4759c4e019a3ec213e67f67b7": {
     "model_module": "@jupyter-widgets/base",
     "model_name": "LayoutModel",
     "state": {
      "_model_module": "@jupyter-widgets/base",
      "_model_module_version": "1.2.0",
      "_model_name": "LayoutModel",
      "_view_count": null,
      "_view_module": "@jupyter-widgets/base",
      "_view_module_version": "1.2.0",
      "_view_name": "LayoutView",
      "align_content": null,
      "align_items": null,
      "align_self": null,
      "border": null,
      "bottom": null,
      "display": null,
      "flex": null,
      "flex_flow": null,
      "grid_area": null,
      "grid_auto_columns": null,
      "grid_auto_flow": null,
      "grid_auto_rows": null,
      "grid_column": null,
      "grid_gap": null,
      "grid_row": null,
      "grid_template_areas": null,
      "grid_template_columns": null,
      "grid_template_rows": null,
      "height": null,
      "justify_content": null,
      "justify_items": null,
      "left": null,
      "margin": null,
      "max_height": null,
      "max_width": null,
      "min_height": null,
      "min_width": null,
      "object_fit": null,
      "object_position": null,
      "order": null,
      "overflow": null,
      "overflow_x": null,
      "overflow_y": null,
      "padding": null,
      "right": null,
      "top": null,
      "visibility": null,
      "width": null
     }
    },
    "cfd68787df7c468e9f2b383e3c66457f": {
     "model_module": "@jupyter-widgets/controls",
     "model_name": "HTMLModel",
     "state": {
      "_dom_classes": [],
      "_model_module": "@jupyter-widgets/controls",
      "_model_module_version": "1.5.0",
      "_model_name": "HTMLModel",
      "_view_count": null,
      "_view_module": "@jupyter-widgets/controls",
      "_view_module_version": "1.5.0",
      "_view_name": "HTMLView",
      "description": "",
      "description_tooltip": null,
      "layout": "IPY_MODEL_1c353b5dacfa4a4bb15fa22a75604e5b",
      "placeholder": "​",
      "style": "IPY_MODEL_5281edd8f15a4a058fcccf1060ad1475",
      "value": " 1237/1237 [01:55&lt;00:00, 10.70it/s]"
     }
    },
    "d039d338253245489c7636394235547c": {
     "model_module": "@jupyter-widgets/controls",
     "model_name": "DescriptionStyleModel",
     "state": {
      "_model_module": "@jupyter-widgets/controls",
      "_model_module_version": "1.5.0",
      "_model_name": "DescriptionStyleModel",
      "_view_count": null,
      "_view_module": "@jupyter-widgets/base",
      "_view_module_version": "1.2.0",
      "_view_name": "StyleView",
      "description_width": ""
     }
    },
    "d1e4e4106e894927a00bc37286967547": {
     "model_module": "@jupyter-widgets/controls",
     "model_name": "HTMLModel",
     "state": {
      "_dom_classes": [],
      "_model_module": "@jupyter-widgets/controls",
      "_model_module_version": "1.5.0",
      "_model_name": "HTMLModel",
      "_view_count": null,
      "_view_module": "@jupyter-widgets/controls",
      "_view_module_version": "1.5.0",
      "_view_name": "HTMLView",
      "description": "",
      "description_tooltip": null,
      "layout": "IPY_MODEL_9fdcf33dbe554c369bbc6fcf378f866e",
      "placeholder": "​",
      "style": "IPY_MODEL_98b599225a494bdfb035869b5e4fe585",
      "value": " 1237/1237 [01:55&lt;00:00, 10.70it/s]"
     }
    },
    "d28925c000de4913bcfa6a4f36725a9f": {
     "model_module": "@jupyter-widgets/base",
     "model_name": "LayoutModel",
     "state": {
      "_model_module": "@jupyter-widgets/base",
      "_model_module_version": "1.2.0",
      "_model_name": "LayoutModel",
      "_view_count": null,
      "_view_module": "@jupyter-widgets/base",
      "_view_module_version": "1.2.0",
      "_view_name": "LayoutView",
      "align_content": null,
      "align_items": null,
      "align_self": null,
      "border": null,
      "bottom": null,
      "display": null,
      "flex": null,
      "flex_flow": null,
      "grid_area": null,
      "grid_auto_columns": null,
      "grid_auto_flow": null,
      "grid_auto_rows": null,
      "grid_column": null,
      "grid_gap": null,
      "grid_row": null,
      "grid_template_areas": null,
      "grid_template_columns": null,
      "grid_template_rows": null,
      "height": null,
      "justify_content": null,
      "justify_items": null,
      "left": null,
      "margin": null,
      "max_height": null,
      "max_width": null,
      "min_height": null,
      "min_width": null,
      "object_fit": null,
      "object_position": null,
      "order": null,
      "overflow": null,
      "overflow_x": null,
      "overflow_y": null,
      "padding": null,
      "right": null,
      "top": null,
      "visibility": null,
      "width": null
     }
    },
    "d2bbc4b8993943d3ba36423b1755fc23": {
     "model_module": "@jupyter-widgets/controls",
     "model_name": "DescriptionStyleModel",
     "state": {
      "_model_module": "@jupyter-widgets/controls",
      "_model_module_version": "1.5.0",
      "_model_name": "DescriptionStyleModel",
      "_view_count": null,
      "_view_module": "@jupyter-widgets/base",
      "_view_module_version": "1.2.0",
      "_view_name": "StyleView",
      "description_width": ""
     }
    },
    "d2e4cca4b2b046599c66d4b52ca295fa": {
     "model_module": "@jupyter-widgets/controls",
     "model_name": "DescriptionStyleModel",
     "state": {
      "_model_module": "@jupyter-widgets/controls",
      "_model_module_version": "1.5.0",
      "_model_name": "DescriptionStyleModel",
      "_view_count": null,
      "_view_module": "@jupyter-widgets/base",
      "_view_module_version": "1.2.0",
      "_view_name": "StyleView",
      "description_width": ""
     }
    },
    "d30578395e9148fb8f87d20d21b7232b": {
     "model_module": "@jupyter-widgets/controls",
     "model_name": "ProgressStyleModel",
     "state": {
      "_model_module": "@jupyter-widgets/controls",
      "_model_module_version": "1.5.0",
      "_model_name": "ProgressStyleModel",
      "_view_count": null,
      "_view_module": "@jupyter-widgets/base",
      "_view_module_version": "1.2.0",
      "_view_name": "StyleView",
      "bar_color": null,
      "description_width": "initial"
     }
    },
    "d79c9d464fb745b48ec2b59497f9939c": {
     "model_module": "@jupyter-widgets/base",
     "model_name": "LayoutModel",
     "state": {
      "_model_module": "@jupyter-widgets/base",
      "_model_module_version": "1.2.0",
      "_model_name": "LayoutModel",
      "_view_count": null,
      "_view_module": "@jupyter-widgets/base",
      "_view_module_version": "1.2.0",
      "_view_name": "LayoutView",
      "align_content": null,
      "align_items": null,
      "align_self": null,
      "border": null,
      "bottom": null,
      "display": null,
      "flex": null,
      "flex_flow": null,
      "grid_area": null,
      "grid_auto_columns": null,
      "grid_auto_flow": null,
      "grid_auto_rows": null,
      "grid_column": null,
      "grid_gap": null,
      "grid_row": null,
      "grid_template_areas": null,
      "grid_template_columns": null,
      "grid_template_rows": null,
      "height": null,
      "justify_content": null,
      "justify_items": null,
      "left": null,
      "margin": null,
      "max_height": null,
      "max_width": null,
      "min_height": null,
      "min_width": null,
      "object_fit": null,
      "object_position": null,
      "order": null,
      "overflow": null,
      "overflow_x": null,
      "overflow_y": null,
      "padding": null,
      "right": null,
      "top": null,
      "visibility": null,
      "width": null
     }
    },
    "d84e5e374663408b94c0dda42fe5329d": {
     "model_module": "@jupyter-widgets/controls",
     "model_name": "ProgressStyleModel",
     "state": {
      "_model_module": "@jupyter-widgets/controls",
      "_model_module_version": "1.5.0",
      "_model_name": "ProgressStyleModel",
      "_view_count": null,
      "_view_module": "@jupyter-widgets/base",
      "_view_module_version": "1.2.0",
      "_view_name": "StyleView",
      "bar_color": null,
      "description_width": "initial"
     }
    },
    "d94e8d5f44d947e5b1899bed73f3f832": {
     "model_module": "@jupyter-widgets/controls",
     "model_name": "ProgressStyleModel",
     "state": {
      "_model_module": "@jupyter-widgets/controls",
      "_model_module_version": "1.5.0",
      "_model_name": "ProgressStyleModel",
      "_view_count": null,
      "_view_module": "@jupyter-widgets/base",
      "_view_module_version": "1.2.0",
      "_view_name": "StyleView",
      "bar_color": null,
      "description_width": "initial"
     }
    },
    "db3a6cdf77e74ce88ca68b3a424ad848": {
     "model_module": "@jupyter-widgets/base",
     "model_name": "LayoutModel",
     "state": {
      "_model_module": "@jupyter-widgets/base",
      "_model_module_version": "1.2.0",
      "_model_name": "LayoutModel",
      "_view_count": null,
      "_view_module": "@jupyter-widgets/base",
      "_view_module_version": "1.2.0",
      "_view_name": "LayoutView",
      "align_content": null,
      "align_items": null,
      "align_self": null,
      "border": null,
      "bottom": null,
      "display": null,
      "flex": null,
      "flex_flow": null,
      "grid_area": null,
      "grid_auto_columns": null,
      "grid_auto_flow": null,
      "grid_auto_rows": null,
      "grid_column": null,
      "grid_gap": null,
      "grid_row": null,
      "grid_template_areas": null,
      "grid_template_columns": null,
      "grid_template_rows": null,
      "height": null,
      "justify_content": null,
      "justify_items": null,
      "left": null,
      "margin": null,
      "max_height": null,
      "max_width": null,
      "min_height": null,
      "min_width": null,
      "object_fit": null,
      "object_position": null,
      "order": null,
      "overflow": null,
      "overflow_x": null,
      "overflow_y": null,
      "padding": null,
      "right": null,
      "top": null,
      "visibility": null,
      "width": null
     }
    },
    "dc9bcc0f5a31498a8dea1ffc2664aea0": {
     "model_module": "@jupyter-widgets/controls",
     "model_name": "HTMLModel",
     "state": {
      "_dom_classes": [],
      "_model_module": "@jupyter-widgets/controls",
      "_model_module_version": "1.5.0",
      "_model_name": "HTMLModel",
      "_view_count": null,
      "_view_module": "@jupyter-widgets/controls",
      "_view_module_version": "1.5.0",
      "_view_name": "HTMLView",
      "description": "",
      "description_tooltip": null,
      "layout": "IPY_MODEL_369e857f65c64c0395745b2b1cb5475d",
      "placeholder": "​",
      "style": "IPY_MODEL_eba75ba69c494ee7ae5fe9ca9baaf965",
      "value": " 250/250 [00:24&lt;00:00, 10.23it/s]"
     }
    },
    "deec4dcaa8a04b4998f0e5c9eff2fcea": {
     "model_module": "@jupyter-widgets/controls",
     "model_name": "HTMLModel",
     "state": {
      "_dom_classes": [],
      "_model_module": "@jupyter-widgets/controls",
      "_model_module_version": "1.5.0",
      "_model_name": "HTMLModel",
      "_view_count": null,
      "_view_module": "@jupyter-widgets/controls",
      "_view_module_version": "1.5.0",
      "_view_name": "HTMLView",
      "description": "",
      "description_tooltip": null,
      "layout": "IPY_MODEL_17d50e64d46f448ebc26ff8819ca5d7e",
      "placeholder": "​",
      "style": "IPY_MODEL_39699517aa6d49598954ee11a31e63cb",
      "value": " 1000/1000 [01:37&lt;00:00, 10.30it/s]"
     }
    },
    "deff2607e47e4063820f926cfd73ad70": {
     "model_module": "@jupyter-widgets/controls",
     "model_name": "DescriptionStyleModel",
     "state": {
      "_model_module": "@jupyter-widgets/controls",
      "_model_module_version": "1.5.0",
      "_model_name": "DescriptionStyleModel",
      "_view_count": null,
      "_view_module": "@jupyter-widgets/base",
      "_view_module_version": "1.2.0",
      "_view_name": "StyleView",
      "description_width": ""
     }
    },
    "df10267da0854e3fa30b06b7022c0d47": {
     "model_module": "@jupyter-widgets/base",
     "model_name": "LayoutModel",
     "state": {
      "_model_module": "@jupyter-widgets/base",
      "_model_module_version": "1.2.0",
      "_model_name": "LayoutModel",
      "_view_count": null,
      "_view_module": "@jupyter-widgets/base",
      "_view_module_version": "1.2.0",
      "_view_name": "LayoutView",
      "align_content": null,
      "align_items": null,
      "align_self": null,
      "border": null,
      "bottom": null,
      "display": null,
      "flex": null,
      "flex_flow": null,
      "grid_area": null,
      "grid_auto_columns": null,
      "grid_auto_flow": null,
      "grid_auto_rows": null,
      "grid_column": null,
      "grid_gap": null,
      "grid_row": null,
      "grid_template_areas": null,
      "grid_template_columns": null,
      "grid_template_rows": null,
      "height": null,
      "justify_content": null,
      "justify_items": null,
      "left": null,
      "margin": null,
      "max_height": null,
      "max_width": null,
      "min_height": null,
      "min_width": null,
      "object_fit": null,
      "object_position": null,
      "order": null,
      "overflow": null,
      "overflow_x": null,
      "overflow_y": null,
      "padding": null,
      "right": null,
      "top": null,
      "visibility": null,
      "width": null
     }
    },
    "e19f5abacfcf4d57a51b6b4e2b1e3cc6": {
     "model_module": "@jupyter-widgets/controls",
     "model_name": "ProgressStyleModel",
     "state": {
      "_model_module": "@jupyter-widgets/controls",
      "_model_module_version": "1.5.0",
      "_model_name": "ProgressStyleModel",
      "_view_count": null,
      "_view_module": "@jupyter-widgets/base",
      "_view_module_version": "1.2.0",
      "_view_name": "StyleView",
      "bar_color": null,
      "description_width": "initial"
     }
    },
    "e239ed3e5a944eefa5ffdb72a40aa167": {
     "model_module": "@jupyter-widgets/base",
     "model_name": "LayoutModel",
     "state": {
      "_model_module": "@jupyter-widgets/base",
      "_model_module_version": "1.2.0",
      "_model_name": "LayoutModel",
      "_view_count": null,
      "_view_module": "@jupyter-widgets/base",
      "_view_module_version": "1.2.0",
      "_view_name": "LayoutView",
      "align_content": null,
      "align_items": null,
      "align_self": null,
      "border": null,
      "bottom": null,
      "display": null,
      "flex": null,
      "flex_flow": null,
      "grid_area": null,
      "grid_auto_columns": null,
      "grid_auto_flow": null,
      "grid_auto_rows": null,
      "grid_column": null,
      "grid_gap": null,
      "grid_row": null,
      "grid_template_areas": null,
      "grid_template_columns": null,
      "grid_template_rows": null,
      "height": null,
      "justify_content": null,
      "justify_items": null,
      "left": null,
      "margin": null,
      "max_height": null,
      "max_width": null,
      "min_height": null,
      "min_width": null,
      "object_fit": null,
      "object_position": null,
      "order": null,
      "overflow": null,
      "overflow_x": null,
      "overflow_y": null,
      "padding": null,
      "right": null,
      "top": null,
      "visibility": null,
      "width": null
     }
    },
    "e2b93ee592cd4703a0a27cc652f77ed3": {
     "model_module": "@jupyter-widgets/controls",
     "model_name": "DescriptionStyleModel",
     "state": {
      "_model_module": "@jupyter-widgets/controls",
      "_model_module_version": "1.5.0",
      "_model_name": "DescriptionStyleModel",
      "_view_count": null,
      "_view_module": "@jupyter-widgets/base",
      "_view_module_version": "1.2.0",
      "_view_name": "StyleView",
      "description_width": ""
     }
    },
    "e4c030d05f4844aea08159a942f6f82c": {
     "model_module": "@jupyter-widgets/controls",
     "model_name": "HTMLModel",
     "state": {
      "_dom_classes": [],
      "_model_module": "@jupyter-widgets/controls",
      "_model_module_version": "1.5.0",
      "_model_name": "HTMLModel",
      "_view_count": null,
      "_view_module": "@jupyter-widgets/controls",
      "_view_module_version": "1.5.0",
      "_view_name": "HTMLView",
      "description": "",
      "description_tooltip": null,
      "layout": "IPY_MODEL_16fcab3050194b5da21d4aaa316033f5",
      "placeholder": "​",
      "style": "IPY_MODEL_c906e82618c14a9bb757a038ad40ebec",
      "value": " 1000/1000 [04:34&lt;00:00,  3.64it/s]"
     }
    },
    "e4e8198985ac40b3857440129485cad5": {
     "model_module": "@jupyter-widgets/base",
     "model_name": "LayoutModel",
     "state": {
      "_model_module": "@jupyter-widgets/base",
      "_model_module_version": "1.2.0",
      "_model_name": "LayoutModel",
      "_view_count": null,
      "_view_module": "@jupyter-widgets/base",
      "_view_module_version": "1.2.0",
      "_view_name": "LayoutView",
      "align_content": null,
      "align_items": null,
      "align_self": null,
      "border": null,
      "bottom": null,
      "display": null,
      "flex": null,
      "flex_flow": null,
      "grid_area": null,
      "grid_auto_columns": null,
      "grid_auto_flow": null,
      "grid_auto_rows": null,
      "grid_column": null,
      "grid_gap": null,
      "grid_row": null,
      "grid_template_areas": null,
      "grid_template_columns": null,
      "grid_template_rows": null,
      "height": null,
      "justify_content": null,
      "justify_items": null,
      "left": null,
      "margin": null,
      "max_height": null,
      "max_width": null,
      "min_height": null,
      "min_width": null,
      "object_fit": null,
      "object_position": null,
      "order": null,
      "overflow": null,
      "overflow_x": null,
      "overflow_y": null,
      "padding": null,
      "right": null,
      "top": null,
      "visibility": null,
      "width": null
     }
    },
    "e55ffb350fe741bc89ac5ead22632168": {
     "model_module": "@jupyter-widgets/base",
     "model_name": "LayoutModel",
     "state": {
      "_model_module": "@jupyter-widgets/base",
      "_model_module_version": "1.2.0",
      "_model_name": "LayoutModel",
      "_view_count": null,
      "_view_module": "@jupyter-widgets/base",
      "_view_module_version": "1.2.0",
      "_view_name": "LayoutView",
      "align_content": null,
      "align_items": null,
      "align_self": null,
      "border": null,
      "bottom": null,
      "display": null,
      "flex": null,
      "flex_flow": null,
      "grid_area": null,
      "grid_auto_columns": null,
      "grid_auto_flow": null,
      "grid_auto_rows": null,
      "grid_column": null,
      "grid_gap": null,
      "grid_row": null,
      "grid_template_areas": null,
      "grid_template_columns": null,
      "grid_template_rows": null,
      "height": null,
      "justify_content": null,
      "justify_items": null,
      "left": null,
      "margin": null,
      "max_height": null,
      "max_width": null,
      "min_height": null,
      "min_width": null,
      "object_fit": null,
      "object_position": null,
      "order": null,
      "overflow": null,
      "overflow_x": null,
      "overflow_y": null,
      "padding": null,
      "right": null,
      "top": null,
      "visibility": null,
      "width": null
     }
    },
    "e5d2ccdd08284034b2215857fad3bfa4": {
     "model_module": "@jupyter-widgets/controls",
     "model_name": "FloatProgressModel",
     "state": {
      "_dom_classes": [],
      "_model_module": "@jupyter-widgets/controls",
      "_model_module_version": "1.5.0",
      "_model_name": "FloatProgressModel",
      "_view_count": null,
      "_view_module": "@jupyter-widgets/controls",
      "_view_module_version": "1.5.0",
      "_view_name": "ProgressView",
      "bar_style": "success",
      "description": "Epoch:3.Train Loss:0.5364 Acc:0.5293: 100%",
      "description_tooltip": null,
      "layout": "IPY_MODEL_79560b7f98df446fb9c32dc28201c18e",
      "max": 1000,
      "min": 0,
      "orientation": "horizontal",
      "style": "IPY_MODEL_d94e8d5f44d947e5b1899bed73f3f832",
      "value": 1000
     }
    },
    "e624bc30094d4305b2a44504fbbfe7c7": {
     "model_module": "@jupyter-widgets/base",
     "model_name": "LayoutModel",
     "state": {
      "_model_module": "@jupyter-widgets/base",
      "_model_module_version": "1.2.0",
      "_model_name": "LayoutModel",
      "_view_count": null,
      "_view_module": "@jupyter-widgets/base",
      "_view_module_version": "1.2.0",
      "_view_name": "LayoutView",
      "align_content": null,
      "align_items": null,
      "align_self": null,
      "border": null,
      "bottom": null,
      "display": null,
      "flex": null,
      "flex_flow": null,
      "grid_area": null,
      "grid_auto_columns": null,
      "grid_auto_flow": null,
      "grid_auto_rows": null,
      "grid_column": null,
      "grid_gap": null,
      "grid_row": null,
      "grid_template_areas": null,
      "grid_template_columns": null,
      "grid_template_rows": null,
      "height": null,
      "justify_content": null,
      "justify_items": null,
      "left": null,
      "margin": null,
      "max_height": null,
      "max_width": null,
      "min_height": null,
      "min_width": null,
      "object_fit": null,
      "object_position": null,
      "order": null,
      "overflow": null,
      "overflow_x": null,
      "overflow_y": null,
      "padding": null,
      "right": null,
      "top": null,
      "visibility": null,
      "width": null
     }
    },
    "e77a09fda98c443b95b1b730bce83bfa": {
     "model_module": "@jupyter-widgets/base",
     "model_name": "LayoutModel",
     "state": {
      "_model_module": "@jupyter-widgets/base",
      "_model_module_version": "1.2.0",
      "_model_name": "LayoutModel",
      "_view_count": null,
      "_view_module": "@jupyter-widgets/base",
      "_view_module_version": "1.2.0",
      "_view_name": "LayoutView",
      "align_content": null,
      "align_items": null,
      "align_self": null,
      "border": null,
      "bottom": null,
      "display": null,
      "flex": null,
      "flex_flow": null,
      "grid_area": null,
      "grid_auto_columns": null,
      "grid_auto_flow": null,
      "grid_auto_rows": null,
      "grid_column": null,
      "grid_gap": null,
      "grid_row": null,
      "grid_template_areas": null,
      "grid_template_columns": null,
      "grid_template_rows": null,
      "height": null,
      "justify_content": null,
      "justify_items": null,
      "left": null,
      "margin": null,
      "max_height": null,
      "max_width": null,
      "min_height": null,
      "min_width": null,
      "object_fit": null,
      "object_position": null,
      "order": null,
      "overflow": null,
      "overflow_x": null,
      "overflow_y": null,
      "padding": null,
      "right": null,
      "top": null,
      "visibility": null,
      "width": null
     }
    },
    "e986bc7a530d44f8b48a7cfe24bd64a8": {
     "model_module": "@jupyter-widgets/base",
     "model_name": "LayoutModel",
     "state": {
      "_model_module": "@jupyter-widgets/base",
      "_model_module_version": "1.2.0",
      "_model_name": "LayoutModel",
      "_view_count": null,
      "_view_module": "@jupyter-widgets/base",
      "_view_module_version": "1.2.0",
      "_view_name": "LayoutView",
      "align_content": null,
      "align_items": null,
      "align_self": null,
      "border": null,
      "bottom": null,
      "display": null,
      "flex": null,
      "flex_flow": null,
      "grid_area": null,
      "grid_auto_columns": null,
      "grid_auto_flow": null,
      "grid_auto_rows": null,
      "grid_column": null,
      "grid_gap": null,
      "grid_row": null,
      "grid_template_areas": null,
      "grid_template_columns": null,
      "grid_template_rows": null,
      "height": null,
      "justify_content": null,
      "justify_items": null,
      "left": null,
      "margin": null,
      "max_height": null,
      "max_width": null,
      "min_height": null,
      "min_width": null,
      "object_fit": null,
      "object_position": null,
      "order": null,
      "overflow": null,
      "overflow_x": null,
      "overflow_y": null,
      "padding": null,
      "right": null,
      "top": null,
      "visibility": null,
      "width": null
     }
    },
    "e98b04141d344561bd377beb579d9c4f": {
     "model_module": "@jupyter-widgets/base",
     "model_name": "LayoutModel",
     "state": {
      "_model_module": "@jupyter-widgets/base",
      "_model_module_version": "1.2.0",
      "_model_name": "LayoutModel",
      "_view_count": null,
      "_view_module": "@jupyter-widgets/base",
      "_view_module_version": "1.2.0",
      "_view_name": "LayoutView",
      "align_content": null,
      "align_items": null,
      "align_self": null,
      "border": null,
      "bottom": null,
      "display": null,
      "flex": null,
      "flex_flow": null,
      "grid_area": null,
      "grid_auto_columns": null,
      "grid_auto_flow": null,
      "grid_auto_rows": null,
      "grid_column": null,
      "grid_gap": null,
      "grid_row": null,
      "grid_template_areas": null,
      "grid_template_columns": null,
      "grid_template_rows": null,
      "height": null,
      "justify_content": null,
      "justify_items": null,
      "left": null,
      "margin": null,
      "max_height": null,
      "max_width": null,
      "min_height": null,
      "min_width": null,
      "object_fit": null,
      "object_position": null,
      "order": null,
      "overflow": null,
      "overflow_x": null,
      "overflow_y": null,
      "padding": null,
      "right": null,
      "top": null,
      "visibility": null,
      "width": null
     }
    },
    "ea4491ab0f064af48ca3733e5c3ffe1f": {
     "model_module": "@jupyter-widgets/controls",
     "model_name": "FloatProgressModel",
     "state": {
      "_dom_classes": [],
      "_model_module": "@jupyter-widgets/controls",
      "_model_module_version": "1.5.0",
      "_model_name": "FloatProgressModel",
      "_view_count": null,
      "_view_module": "@jupyter-widgets/controls",
      "_view_module_version": "1.5.0",
      "_view_name": "ProgressView",
      "bar_style": "success",
      "description": "Epoch:1.Train Loss:0.5378 Acc:0.5049: 100%",
      "description_tooltip": null,
      "layout": "IPY_MODEL_b11d0826e1af428caf0336819dbbf06b",
      "max": 1237,
      "min": 0,
      "orientation": "horizontal",
      "style": "IPY_MODEL_610990445c6f43649a46a52a8697e80a",
      "value": 1237
     }
    },
    "eaabaf79fff44eca8d22b1efdc1f6214": {
     "model_module": "@jupyter-widgets/controls",
     "model_name": "ProgressStyleModel",
     "state": {
      "_model_module": "@jupyter-widgets/controls",
      "_model_module_version": "1.5.0",
      "_model_name": "ProgressStyleModel",
      "_view_count": null,
      "_view_module": "@jupyter-widgets/base",
      "_view_module_version": "1.2.0",
      "_view_name": "StyleView",
      "bar_color": null,
      "description_width": "initial"
     }
    },
    "eae86887634048bda218d632a62b5eca": {
     "model_module": "@jupyter-widgets/controls",
     "model_name": "HBoxModel",
     "state": {
      "_dom_classes": [],
      "_model_module": "@jupyter-widgets/controls",
      "_model_module_version": "1.5.0",
      "_model_name": "HBoxModel",
      "_view_count": null,
      "_view_module": "@jupyter-widgets/controls",
      "_view_module_version": "1.5.0",
      "_view_name": "HBoxView",
      "box_style": "",
      "children": [
       "IPY_MODEL_534c6884bbe9422a853aa908bec3bf78",
       "IPY_MODEL_bd4f9454ccfa49e6a8442d986b239f62"
      ],
      "layout": "IPY_MODEL_f052515ef30844d7b48ad0ec84fd8113"
     }
    },
    "eb47b344350748088a9cf2b38718cffa": {
     "model_module": "@jupyter-widgets/controls",
     "model_name": "FloatProgressModel",
     "state": {
      "_dom_classes": [],
      "_model_module": "@jupyter-widgets/controls",
      "_model_module_version": "1.5.0",
      "_model_name": "FloatProgressModel",
      "_view_count": null,
      "_view_module": "@jupyter-widgets/controls",
      "_view_module_version": "1.5.0",
      "_view_name": "ProgressView",
      "bar_style": "success",
      "description": "Test Loss: 0.5364, Test Acc: 0.5195: 100%",
      "description_tooltip": null,
      "layout": "IPY_MODEL_7add464f6e9f4be78a100a3eba2a0f36",
      "max": 13,
      "min": 0,
      "orientation": "horizontal",
      "style": "IPY_MODEL_9ef7e59667134d04bfa64ac87b13aa86",
      "value": 13
     }
    },
    "eba75ba69c494ee7ae5fe9ca9baaf965": {
     "model_module": "@jupyter-widgets/controls",
     "model_name": "DescriptionStyleModel",
     "state": {
      "_model_module": "@jupyter-widgets/controls",
      "_model_module_version": "1.5.0",
      "_model_name": "DescriptionStyleModel",
      "_view_count": null,
      "_view_module": "@jupyter-widgets/base",
      "_view_module_version": "1.2.0",
      "_view_name": "StyleView",
      "description_width": ""
     }
    },
    "ecb65bdec6914cacb1a56e6cf0811fa1": {
     "model_module": "@jupyter-widgets/controls",
     "model_name": "HTMLModel",
     "state": {
      "_dom_classes": [],
      "_model_module": "@jupyter-widgets/controls",
      "_model_module_version": "1.5.0",
      "_model_name": "HTMLModel",
      "_view_count": null,
      "_view_module": "@jupyter-widgets/controls",
      "_view_module_version": "1.5.0",
      "_view_name": "HTMLView",
      "description": "",
      "description_tooltip": null,
      "layout": "IPY_MODEL_19030d3ce6de4b60a84ff70bb1a387fa",
      "placeholder": "​",
      "style": "IPY_MODEL_8b073db4f7274a189d57190cdb60d80a",
      "value": " 1237/1237 [01:46&lt;00:00, 11.64it/s]"
     }
    },
    "f052515ef30844d7b48ad0ec84fd8113": {
     "model_module": "@jupyter-widgets/base",
     "model_name": "LayoutModel",
     "state": {
      "_model_module": "@jupyter-widgets/base",
      "_model_module_version": "1.2.0",
      "_model_name": "LayoutModel",
      "_view_count": null,
      "_view_module": "@jupyter-widgets/base",
      "_view_module_version": "1.2.0",
      "_view_name": "LayoutView",
      "align_content": null,
      "align_items": null,
      "align_self": null,
      "border": null,
      "bottom": null,
      "display": null,
      "flex": null,
      "flex_flow": null,
      "grid_area": null,
      "grid_auto_columns": null,
      "grid_auto_flow": null,
      "grid_auto_rows": null,
      "grid_column": null,
      "grid_gap": null,
      "grid_row": null,
      "grid_template_areas": null,
      "grid_template_columns": null,
      "grid_template_rows": null,
      "height": null,
      "justify_content": null,
      "justify_items": null,
      "left": null,
      "margin": null,
      "max_height": null,
      "max_width": null,
      "min_height": null,
      "min_width": null,
      "object_fit": null,
      "object_position": null,
      "order": null,
      "overflow": null,
      "overflow_x": null,
      "overflow_y": null,
      "padding": null,
      "right": null,
      "top": null,
      "visibility": null,
      "width": null
     }
    },
    "f06d755241854dfaa8e29433337ac746": {
     "model_module": "@jupyter-widgets/controls",
     "model_name": "ProgressStyleModel",
     "state": {
      "_model_module": "@jupyter-widgets/controls",
      "_model_module_version": "1.5.0",
      "_model_name": "ProgressStyleModel",
      "_view_count": null,
      "_view_module": "@jupyter-widgets/base",
      "_view_module_version": "1.2.0",
      "_view_name": "StyleView",
      "bar_color": null,
      "description_width": "initial"
     }
    },
    "f16688096c9e47b2b3e49372fff15c58": {
     "model_module": "@jupyter-widgets/controls",
     "model_name": "HBoxModel",
     "state": {
      "_dom_classes": [],
      "_model_module": "@jupyter-widgets/controls",
      "_model_module_version": "1.5.0",
      "_model_name": "HBoxModel",
      "_view_count": null,
      "_view_module": "@jupyter-widgets/controls",
      "_view_module_version": "1.5.0",
      "_view_name": "HBoxView",
      "box_style": "",
      "children": [
       "IPY_MODEL_25ec7b9721f847e88bfce8ff36a173f7",
       "IPY_MODEL_dc9bcc0f5a31498a8dea1ffc2664aea0"
      ],
      "layout": "IPY_MODEL_0a163c5f2ecf4fe894c3959d3a1d751e"
     }
    },
    "f17163989d57435c8f0fd88be0d4940e": {
     "model_module": "@jupyter-widgets/controls",
     "model_name": "FloatProgressModel",
     "state": {
      "_dom_classes": [],
      "_model_module": "@jupyter-widgets/controls",
      "_model_module_version": "1.5.0",
      "_model_name": "FloatProgressModel",
      "_view_count": null,
      "_view_module": "@jupyter-widgets/controls",
      "_view_module_version": "1.5.0",
      "_view_name": "ProgressView",
      "bar_style": "success",
      "description": "Test Loss: 0.5458, Test Acc: 0.4997: 100%",
      "description_tooltip": null,
      "layout": "IPY_MODEL_d28925c000de4913bcfa6a4f36725a9f",
      "max": 250,
      "min": 0,
      "orientation": "horizontal",
      "style": "IPY_MODEL_6bde6933afe842428fe71c59cfbd150c",
      "value": 250
     }
    },
    "f1b0d6a2e53d432e808612475e947898": {
     "model_module": "@jupyter-widgets/controls",
     "model_name": "FloatProgressModel",
     "state": {
      "_dom_classes": [],
      "_model_module": "@jupyter-widgets/controls",
      "_model_module_version": "1.5.0",
      "_model_name": "FloatProgressModel",
      "_view_count": null,
      "_view_module": "@jupyter-widgets/controls",
      "_view_module_version": "1.5.0",
      "_view_name": "ProgressView",
      "bar_style": "success",
      "description": "Epoch:1.Train Loss:0.085 Acc:0.499: 100%",
      "description_tooltip": null,
      "layout": "IPY_MODEL_297c693739804a70b9b4241875a88c0a",
      "max": 1000,
      "min": 0,
      "orientation": "horizontal",
      "style": "IPY_MODEL_45d1d6e0951a4a6a9485baa4c2eb6e05",
      "value": 1000
     }
    },
    "f263a027ef154410be6444d642cb29f3": {
     "model_module": "@jupyter-widgets/controls",
     "model_name": "FloatProgressModel",
     "state": {
      "_dom_classes": [],
      "_model_module": "@jupyter-widgets/controls",
      "_model_module_version": "1.5.0",
      "_model_name": "FloatProgressModel",
      "_view_count": null,
      "_view_module": "@jupyter-widgets/controls",
      "_view_module_version": "1.5.0",
      "_view_name": "ProgressView",
      "bar_style": "success",
      "description": "Epoch:2.Train Loss:0.08885 Acc:0.5068: 100%",
      "description_tooltip": null,
      "layout": "IPY_MODEL_3c04fbaa60584b858f4e663ec460abcb",
      "max": 1000,
      "min": 0,
      "orientation": "horizontal",
      "style": "IPY_MODEL_f81804fdb7bf4f118b577f69e875f7c3",
      "value": 1000
     }
    },
    "f271181164a24a0facc2137c95001b71": {
     "model_module": "@jupyter-widgets/base",
     "model_name": "LayoutModel",
     "state": {
      "_model_module": "@jupyter-widgets/base",
      "_model_module_version": "1.2.0",
      "_model_name": "LayoutModel",
      "_view_count": null,
      "_view_module": "@jupyter-widgets/base",
      "_view_module_version": "1.2.0",
      "_view_name": "LayoutView",
      "align_content": null,
      "align_items": null,
      "align_self": null,
      "border": null,
      "bottom": null,
      "display": null,
      "flex": null,
      "flex_flow": null,
      "grid_area": null,
      "grid_auto_columns": null,
      "grid_auto_flow": null,
      "grid_auto_rows": null,
      "grid_column": null,
      "grid_gap": null,
      "grid_row": null,
      "grid_template_areas": null,
      "grid_template_columns": null,
      "grid_template_rows": null,
      "height": null,
      "justify_content": null,
      "justify_items": null,
      "left": null,
      "margin": null,
      "max_height": null,
      "max_width": null,
      "min_height": null,
      "min_width": null,
      "object_fit": null,
      "object_position": null,
      "order": null,
      "overflow": null,
      "overflow_x": null,
      "overflow_y": null,
      "padding": null,
      "right": null,
      "top": null,
      "visibility": null,
      "width": null
     }
    },
    "f27988f4a8fd41e4a31ce7360292ef07": {
     "model_module": "@jupyter-widgets/controls",
     "model_name": "ProgressStyleModel",
     "state": {
      "_model_module": "@jupyter-widgets/controls",
      "_model_module_version": "1.5.0",
      "_model_name": "ProgressStyleModel",
      "_view_count": null,
      "_view_module": "@jupyter-widgets/base",
      "_view_module_version": "1.2.0",
      "_view_name": "StyleView",
      "bar_color": null,
      "description_width": "initial"
     }
    },
    "f57fd6ed7cd24827aaec6225d158ae3e": {
     "model_module": "@jupyter-widgets/controls",
     "model_name": "FloatProgressModel",
     "state": {
      "_dom_classes": [],
      "_model_module": "@jupyter-widgets/controls",
      "_model_module_version": "1.5.0",
      "_model_name": "FloatProgressModel",
      "_view_count": null,
      "_view_module": "@jupyter-widgets/controls",
      "_view_module_version": "1.5.0",
      "_view_name": "ProgressView",
      "bar_style": "success",
      "description": "Test Loss: 0.5544, Test Acc: 0.4922: 100%",
      "description_tooltip": null,
      "layout": "IPY_MODEL_655355ca1e66432e8a3014ef35be6071",
      "max": 313,
      "min": 0,
      "orientation": "horizontal",
      "style": "IPY_MODEL_077e520e55c644e58166e08bd065b318",
      "value": 313
     }
    },
    "f66c8c1cf7b8476c84bdcbdac7118a03": {
     "model_module": "@jupyter-widgets/controls",
     "model_name": "HBoxModel",
     "state": {
      "_dom_classes": [],
      "_model_module": "@jupyter-widgets/controls",
      "_model_module_version": "1.5.0",
      "_model_name": "HBoxModel",
      "_view_count": null,
      "_view_module": "@jupyter-widgets/controls",
      "_view_module_version": "1.5.0",
      "_view_name": "HBoxView",
      "box_style": "",
      "children": [
       "IPY_MODEL_be51bba54ec94e4d8761193df845ee56",
       "IPY_MODEL_fa2e792936e54673b4227b6a07348605"
      ],
      "layout": "IPY_MODEL_cb84c25e2cbd40e284a0046304f7d172"
     }
    },
    "f72ca9f70701450ca0f1541e50aed2d4": {
     "model_module": "@jupyter-widgets/base",
     "model_name": "LayoutModel",
     "state": {
      "_model_module": "@jupyter-widgets/base",
      "_model_module_version": "1.2.0",
      "_model_name": "LayoutModel",
      "_view_count": null,
      "_view_module": "@jupyter-widgets/base",
      "_view_module_version": "1.2.0",
      "_view_name": "LayoutView",
      "align_content": null,
      "align_items": null,
      "align_self": null,
      "border": null,
      "bottom": null,
      "display": null,
      "flex": null,
      "flex_flow": null,
      "grid_area": null,
      "grid_auto_columns": null,
      "grid_auto_flow": null,
      "grid_auto_rows": null,
      "grid_column": null,
      "grid_gap": null,
      "grid_row": null,
      "grid_template_areas": null,
      "grid_template_columns": null,
      "grid_template_rows": null,
      "height": null,
      "justify_content": null,
      "justify_items": null,
      "left": null,
      "margin": null,
      "max_height": null,
      "max_width": null,
      "min_height": null,
      "min_width": null,
      "object_fit": null,
      "object_position": null,
      "order": null,
      "overflow": null,
      "overflow_x": null,
      "overflow_y": null,
      "padding": null,
      "right": null,
      "top": null,
      "visibility": null,
      "width": null
     }
    },
    "f81804fdb7bf4f118b577f69e875f7c3": {
     "model_module": "@jupyter-widgets/controls",
     "model_name": "ProgressStyleModel",
     "state": {
      "_model_module": "@jupyter-widgets/controls",
      "_model_module_version": "1.5.0",
      "_model_name": "ProgressStyleModel",
      "_view_count": null,
      "_view_module": "@jupyter-widgets/base",
      "_view_module_version": "1.2.0",
      "_view_name": "StyleView",
      "bar_color": null,
      "description_width": "initial"
     }
    },
    "f9fb076f68db47e2a4f32068f4bb8a36": {
     "model_module": "@jupyter-widgets/controls",
     "model_name": "ProgressStyleModel",
     "state": {
      "_model_module": "@jupyter-widgets/controls",
      "_model_module_version": "1.5.0",
      "_model_name": "ProgressStyleModel",
      "_view_count": null,
      "_view_module": "@jupyter-widgets/base",
      "_view_module_version": "1.2.0",
      "_view_name": "StyleView",
      "bar_color": null,
      "description_width": "initial"
     }
    },
    "fa2e792936e54673b4227b6a07348605": {
     "model_module": "@jupyter-widgets/controls",
     "model_name": "HTMLModel",
     "state": {
      "_dom_classes": [],
      "_model_module": "@jupyter-widgets/controls",
      "_model_module_version": "1.5.0",
      "_model_name": "HTMLModel",
      "_view_count": null,
      "_view_module": "@jupyter-widgets/controls",
      "_view_module_version": "1.5.0",
      "_view_name": "HTMLView",
      "description": "",
      "description_tooltip": null,
      "layout": "IPY_MODEL_98e7e7162f734c318e5977650ce8a721",
      "placeholder": "​",
      "style": "IPY_MODEL_3d5247cc1a554e13a901faf7bd78ea42",
      "value": " 250/250 [00:35&lt;00:00,  7.03it/s]"
     }
    },
    "fa5c4573088b46948285e0d344d77261": {
     "model_module": "@jupyter-widgets/base",
     "model_name": "LayoutModel",
     "state": {
      "_model_module": "@jupyter-widgets/base",
      "_model_module_version": "1.2.0",
      "_model_name": "LayoutModel",
      "_view_count": null,
      "_view_module": "@jupyter-widgets/base",
      "_view_module_version": "1.2.0",
      "_view_name": "LayoutView",
      "align_content": null,
      "align_items": null,
      "align_self": null,
      "border": null,
      "bottom": null,
      "display": null,
      "flex": null,
      "flex_flow": null,
      "grid_area": null,
      "grid_auto_columns": null,
      "grid_auto_flow": null,
      "grid_auto_rows": null,
      "grid_column": null,
      "grid_gap": null,
      "grid_row": null,
      "grid_template_areas": null,
      "grid_template_columns": null,
      "grid_template_rows": null,
      "height": null,
      "justify_content": null,
      "justify_items": null,
      "left": null,
      "margin": null,
      "max_height": null,
      "max_width": null,
      "min_height": null,
      "min_width": null,
      "object_fit": null,
      "object_position": null,
      "order": null,
      "overflow": null,
      "overflow_x": null,
      "overflow_y": null,
      "padding": null,
      "right": null,
      "top": null,
      "visibility": null,
      "width": null
     }
    },
    "feb95a64a25a485ebe422c929c13b677": {
     "model_module": "@jupyter-widgets/controls",
     "model_name": "ProgressStyleModel",
     "state": {
      "_model_module": "@jupyter-widgets/controls",
      "_model_module_version": "1.5.0",
      "_model_name": "ProgressStyleModel",
      "_view_count": null,
      "_view_module": "@jupyter-widgets/base",
      "_view_module_version": "1.2.0",
      "_view_name": "StyleView",
      "bar_color": null,
      "description_width": "initial"
     }
    },
    "ff9bdabce68648e3868c18008c98e156": {
     "model_module": "@jupyter-widgets/controls",
     "model_name": "HBoxModel",
     "state": {
      "_dom_classes": [],
      "_model_module": "@jupyter-widgets/controls",
      "_model_module_version": "1.5.0",
      "_model_name": "HBoxModel",
      "_view_count": null,
      "_view_module": "@jupyter-widgets/controls",
      "_view_module_version": "1.5.0",
      "_view_name": "HBoxView",
      "box_style": "",
      "children": [
       "IPY_MODEL_e5d2ccdd08284034b2215857fad3bfa4",
       "IPY_MODEL_2b32331cb9f94a7a85317093c12ce641"
      ],
      "layout": "IPY_MODEL_743b4f758572444887a570a5b19d7bf3"
     }
    }
   }
  }
 },
 "nbformat": 4,
 "nbformat_minor": 1
}
