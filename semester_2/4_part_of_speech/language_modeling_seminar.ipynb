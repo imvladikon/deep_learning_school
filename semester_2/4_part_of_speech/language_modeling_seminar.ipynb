{
  "nbformat": 4,
  "nbformat_minor": 0,
  "metadata": {
    "colab": {
      "name": "Language modeling seminar",
      "provenance": [],
      "collapsed_sections": []
    },
    "kernelspec": {
      "name": "python3",
      "display_name": "Python 3"
    },
    "accelerator": "GPU",
    "widgets": {
      "application/vnd.jupyter.widget-state+json": {
        "db47c9b757ae4f8993c57fe7398d054e": {
          "model_module": "@jupyter-widgets/controls",
          "model_name": "HBoxModel",
          "state": {
            "_view_name": "HBoxView",
            "_dom_classes": [],
            "_model_name": "HBoxModel",
            "_view_module": "@jupyter-widgets/controls",
            "_model_module_version": "1.5.0",
            "_view_count": null,
            "_view_module_version": "1.5.0",
            "box_style": "",
            "layout": "IPY_MODEL_07c5c0f40ccb4d5496e870453388d4ff",
            "_model_module": "@jupyter-widgets/controls",
            "children": [
              "IPY_MODEL_f01095ee39a54a69a0581651db689a4c",
              "IPY_MODEL_7e42523b52044af582ce880c10918dc8"
            ]
          }
        },
        "07c5c0f40ccb4d5496e870453388d4ff": {
          "model_module": "@jupyter-widgets/base",
          "model_name": "LayoutModel",
          "state": {
            "_view_name": "LayoutView",
            "grid_template_rows": null,
            "right": null,
            "justify_content": null,
            "_view_module": "@jupyter-widgets/base",
            "overflow": null,
            "_model_module_version": "1.2.0",
            "_view_count": null,
            "flex_flow": null,
            "width": null,
            "min_width": null,
            "border": null,
            "align_items": null,
            "bottom": null,
            "_model_module": "@jupyter-widgets/base",
            "top": null,
            "grid_column": null,
            "overflow_y": null,
            "overflow_x": null,
            "grid_auto_flow": null,
            "grid_area": null,
            "grid_template_columns": null,
            "flex": null,
            "_model_name": "LayoutModel",
            "justify_items": null,
            "grid_row": null,
            "max_height": null,
            "align_content": null,
            "visibility": null,
            "align_self": null,
            "height": null,
            "min_height": null,
            "padding": null,
            "grid_auto_rows": null,
            "grid_gap": null,
            "max_width": null,
            "order": null,
            "_view_module_version": "1.2.0",
            "grid_template_areas": null,
            "object_position": null,
            "object_fit": null,
            "grid_auto_columns": null,
            "margin": null,
            "display": null,
            "left": null
          }
        },
        "f01095ee39a54a69a0581651db689a4c": {
          "model_module": "@jupyter-widgets/controls",
          "model_name": "FloatProgressModel",
          "state": {
            "_view_name": "ProgressView",
            "style": "IPY_MODEL_34e495856afa43fa929cb9ba72d48838",
            "_dom_classes": [],
            "description": "",
            "_model_name": "FloatProgressModel",
            "bar_style": "info",
            "max": 1,
            "_view_module": "@jupyter-widgets/controls",
            "_model_module_version": "1.5.0",
            "value": 1,
            "_view_count": null,
            "_view_module_version": "1.5.0",
            "orientation": "horizontal",
            "min": 0,
            "description_tooltip": null,
            "_model_module": "@jupyter-widgets/controls",
            "layout": "IPY_MODEL_30ee74669b2a40c2832a759a53ff49e4"
          }
        },
        "7e42523b52044af582ce880c10918dc8": {
          "model_module": "@jupyter-widgets/controls",
          "model_name": "HTMLModel",
          "state": {
            "_view_name": "HTMLView",
            "style": "IPY_MODEL_e66ea1ea8c264070bfced85e1d4e2a5b",
            "_dom_classes": [],
            "description": "",
            "_model_name": "HTMLModel",
            "placeholder": "​",
            "_view_module": "@jupyter-widgets/controls",
            "_model_module_version": "1.5.0",
            "value": " 1/? [00:00&lt;00:00,  1.07 tables/s]",
            "_view_count": null,
            "_view_module_version": "1.5.0",
            "description_tooltip": null,
            "_model_module": "@jupyter-widgets/controls",
            "layout": "IPY_MODEL_a2e0af5979b943bf9ff75920df1ab995"
          }
        },
        "34e495856afa43fa929cb9ba72d48838": {
          "model_module": "@jupyter-widgets/controls",
          "model_name": "ProgressStyleModel",
          "state": {
            "_view_name": "StyleView",
            "_model_name": "ProgressStyleModel",
            "description_width": "initial",
            "_view_module": "@jupyter-widgets/base",
            "_model_module_version": "1.5.0",
            "_view_count": null,
            "_view_module_version": "1.2.0",
            "bar_color": null,
            "_model_module": "@jupyter-widgets/controls"
          }
        },
        "30ee74669b2a40c2832a759a53ff49e4": {
          "model_module": "@jupyter-widgets/base",
          "model_name": "LayoutModel",
          "state": {
            "_view_name": "LayoutView",
            "grid_template_rows": null,
            "right": null,
            "justify_content": null,
            "_view_module": "@jupyter-widgets/base",
            "overflow": null,
            "_model_module_version": "1.2.0",
            "_view_count": null,
            "flex_flow": null,
            "width": null,
            "min_width": null,
            "border": null,
            "align_items": null,
            "bottom": null,
            "_model_module": "@jupyter-widgets/base",
            "top": null,
            "grid_column": null,
            "overflow_y": null,
            "overflow_x": null,
            "grid_auto_flow": null,
            "grid_area": null,
            "grid_template_columns": null,
            "flex": null,
            "_model_name": "LayoutModel",
            "justify_items": null,
            "grid_row": null,
            "max_height": null,
            "align_content": null,
            "visibility": null,
            "align_self": null,
            "height": null,
            "min_height": null,
            "padding": null,
            "grid_auto_rows": null,
            "grid_gap": null,
            "max_width": null,
            "order": null,
            "_view_module_version": "1.2.0",
            "grid_template_areas": null,
            "object_position": null,
            "object_fit": null,
            "grid_auto_columns": null,
            "margin": null,
            "display": null,
            "left": null
          }
        },
        "e66ea1ea8c264070bfced85e1d4e2a5b": {
          "model_module": "@jupyter-widgets/controls",
          "model_name": "DescriptionStyleModel",
          "state": {
            "_view_name": "StyleView",
            "_model_name": "DescriptionStyleModel",
            "description_width": "",
            "_view_module": "@jupyter-widgets/base",
            "_model_module_version": "1.5.0",
            "_view_count": null,
            "_view_module_version": "1.2.0",
            "_model_module": "@jupyter-widgets/controls"
          }
        },
        "a2e0af5979b943bf9ff75920df1ab995": {
          "model_module": "@jupyter-widgets/base",
          "model_name": "LayoutModel",
          "state": {
            "_view_name": "LayoutView",
            "grid_template_rows": null,
            "right": null,
            "justify_content": null,
            "_view_module": "@jupyter-widgets/base",
            "overflow": null,
            "_model_module_version": "1.2.0",
            "_view_count": null,
            "flex_flow": null,
            "width": null,
            "min_width": null,
            "border": null,
            "align_items": null,
            "bottom": null,
            "_model_module": "@jupyter-widgets/base",
            "top": null,
            "grid_column": null,
            "overflow_y": null,
            "overflow_x": null,
            "grid_auto_flow": null,
            "grid_area": null,
            "grid_template_columns": null,
            "flex": null,
            "_model_name": "LayoutModel",
            "justify_items": null,
            "grid_row": null,
            "max_height": null,
            "align_content": null,
            "visibility": null,
            "align_self": null,
            "height": null,
            "min_height": null,
            "padding": null,
            "grid_auto_rows": null,
            "grid_gap": null,
            "max_width": null,
            "order": null,
            "_view_module_version": "1.2.0",
            "grid_template_areas": null,
            "object_position": null,
            "object_fit": null,
            "grid_auto_columns": null,
            "margin": null,
            "display": null,
            "left": null
          }
        },
        "87ce259e87d94148bceb1e76b433aa09": {
          "model_module": "@jupyter-widgets/controls",
          "model_name": "HBoxModel",
          "state": {
            "_view_name": "HBoxView",
            "_dom_classes": [],
            "_model_name": "HBoxModel",
            "_view_module": "@jupyter-widgets/controls",
            "_model_module_version": "1.5.0",
            "_view_count": null,
            "_view_module_version": "1.5.0",
            "box_style": "",
            "layout": "IPY_MODEL_0b013a2faf7d41b39625148e8594ab83",
            "_model_module": "@jupyter-widgets/controls",
            "children": [
              "IPY_MODEL_b8b7ca8bea204e90b9db146901ac497e",
              "IPY_MODEL_19caa508c3864729847494b985fa3537"
            ]
          }
        },
        "0b013a2faf7d41b39625148e8594ab83": {
          "model_module": "@jupyter-widgets/base",
          "model_name": "LayoutModel",
          "state": {
            "_view_name": "LayoutView",
            "grid_template_rows": null,
            "right": null,
            "justify_content": null,
            "_view_module": "@jupyter-widgets/base",
            "overflow": null,
            "_model_module_version": "1.2.0",
            "_view_count": null,
            "flex_flow": null,
            "width": null,
            "min_width": null,
            "border": null,
            "align_items": null,
            "bottom": null,
            "_model_module": "@jupyter-widgets/base",
            "top": null,
            "grid_column": null,
            "overflow_y": null,
            "overflow_x": null,
            "grid_auto_flow": null,
            "grid_area": null,
            "grid_template_columns": null,
            "flex": null,
            "_model_name": "LayoutModel",
            "justify_items": null,
            "grid_row": null,
            "max_height": null,
            "align_content": null,
            "visibility": null,
            "align_self": null,
            "height": null,
            "min_height": null,
            "padding": null,
            "grid_auto_rows": null,
            "grid_gap": null,
            "max_width": null,
            "order": null,
            "_view_module_version": "1.2.0",
            "grid_template_areas": null,
            "object_position": null,
            "object_fit": null,
            "grid_auto_columns": null,
            "margin": null,
            "display": null,
            "left": null
          }
        },
        "b8b7ca8bea204e90b9db146901ac497e": {
          "model_module": "@jupyter-widgets/controls",
          "model_name": "FloatProgressModel",
          "state": {
            "_view_name": "ProgressView",
            "style": "IPY_MODEL_273ca61ff9e84e91bcd5d6b98fde801d",
            "_dom_classes": [],
            "description": "100%",
            "_model_name": "FloatProgressModel",
            "bar_style": "success",
            "max": 30000,
            "_view_module": "@jupyter-widgets/controls",
            "_model_module_version": "1.5.0",
            "value": 30000,
            "_view_count": null,
            "_view_module_version": "1.5.0",
            "orientation": "horizontal",
            "min": 0,
            "description_tooltip": null,
            "_model_module": "@jupyter-widgets/controls",
            "layout": "IPY_MODEL_60815840fb434b0a9297f977916c5ba7"
          }
        },
        "19caa508c3864729847494b985fa3537": {
          "model_module": "@jupyter-widgets/controls",
          "model_name": "HTMLModel",
          "state": {
            "_view_name": "HTMLView",
            "style": "IPY_MODEL_6b8172f3c9b24d7a98dce2f360454001",
            "_dom_classes": [],
            "description": "",
            "_model_name": "HTMLModel",
            "placeholder": "​",
            "_view_module": "@jupyter-widgets/controls",
            "_model_module_version": "1.5.0",
            "value": " 30000/30000 [04:22&lt;00:00, 114.08ex/s]",
            "_view_count": null,
            "_view_module_version": "1.5.0",
            "description_tooltip": null,
            "_model_module": "@jupyter-widgets/controls",
            "layout": "IPY_MODEL_5c57a4a2df244662960ca057d2405127"
          }
        },
        "273ca61ff9e84e91bcd5d6b98fde801d": {
          "model_module": "@jupyter-widgets/controls",
          "model_name": "ProgressStyleModel",
          "state": {
            "_view_name": "StyleView",
            "_model_name": "ProgressStyleModel",
            "description_width": "initial",
            "_view_module": "@jupyter-widgets/base",
            "_model_module_version": "1.5.0",
            "_view_count": null,
            "_view_module_version": "1.2.0",
            "bar_color": null,
            "_model_module": "@jupyter-widgets/controls"
          }
        },
        "60815840fb434b0a9297f977916c5ba7": {
          "model_module": "@jupyter-widgets/base",
          "model_name": "LayoutModel",
          "state": {
            "_view_name": "LayoutView",
            "grid_template_rows": null,
            "right": null,
            "justify_content": null,
            "_view_module": "@jupyter-widgets/base",
            "overflow": null,
            "_model_module_version": "1.2.0",
            "_view_count": null,
            "flex_flow": null,
            "width": null,
            "min_width": null,
            "border": null,
            "align_items": null,
            "bottom": null,
            "_model_module": "@jupyter-widgets/base",
            "top": null,
            "grid_column": null,
            "overflow_y": null,
            "overflow_x": null,
            "grid_auto_flow": null,
            "grid_area": null,
            "grid_template_columns": null,
            "flex": null,
            "_model_name": "LayoutModel",
            "justify_items": null,
            "grid_row": null,
            "max_height": null,
            "align_content": null,
            "visibility": null,
            "align_self": null,
            "height": null,
            "min_height": null,
            "padding": null,
            "grid_auto_rows": null,
            "grid_gap": null,
            "max_width": null,
            "order": null,
            "_view_module_version": "1.2.0",
            "grid_template_areas": null,
            "object_position": null,
            "object_fit": null,
            "grid_auto_columns": null,
            "margin": null,
            "display": null,
            "left": null
          }
        },
        "6b8172f3c9b24d7a98dce2f360454001": {
          "model_module": "@jupyter-widgets/controls",
          "model_name": "DescriptionStyleModel",
          "state": {
            "_view_name": "StyleView",
            "_model_name": "DescriptionStyleModel",
            "description_width": "",
            "_view_module": "@jupyter-widgets/base",
            "_model_module_version": "1.5.0",
            "_view_count": null,
            "_view_module_version": "1.2.0",
            "_model_module": "@jupyter-widgets/controls"
          }
        },
        "5c57a4a2df244662960ca057d2405127": {
          "model_module": "@jupyter-widgets/base",
          "model_name": "LayoutModel",
          "state": {
            "_view_name": "LayoutView",
            "grid_template_rows": null,
            "right": null,
            "justify_content": null,
            "_view_module": "@jupyter-widgets/base",
            "overflow": null,
            "_model_module_version": "1.2.0",
            "_view_count": null,
            "flex_flow": null,
            "width": null,
            "min_width": null,
            "border": null,
            "align_items": null,
            "bottom": null,
            "_model_module": "@jupyter-widgets/base",
            "top": null,
            "grid_column": null,
            "overflow_y": null,
            "overflow_x": null,
            "grid_auto_flow": null,
            "grid_area": null,
            "grid_template_columns": null,
            "flex": null,
            "_model_name": "LayoutModel",
            "justify_items": null,
            "grid_row": null,
            "max_height": null,
            "align_content": null,
            "visibility": null,
            "align_self": null,
            "height": null,
            "min_height": null,
            "padding": null,
            "grid_auto_rows": null,
            "grid_gap": null,
            "max_width": null,
            "order": null,
            "_view_module_version": "1.2.0",
            "grid_template_areas": null,
            "object_position": null,
            "object_fit": null,
            "grid_auto_columns": null,
            "margin": null,
            "display": null,
            "left": null
          }
        },
        "afc0d106a6cc4673b6238b9d55f6b2c7": {
          "model_module": "@jupyter-widgets/controls",
          "model_name": "HBoxModel",
          "state": {
            "_view_name": "HBoxView",
            "_dom_classes": [],
            "_model_name": "HBoxModel",
            "_view_module": "@jupyter-widgets/controls",
            "_model_module_version": "1.5.0",
            "_view_count": null,
            "_view_module_version": "1.5.0",
            "box_style": "",
            "layout": "IPY_MODEL_cb77689f16d64dd4b96945c23d439f0e",
            "_model_module": "@jupyter-widgets/controls",
            "children": [
              "IPY_MODEL_37c184c2f18d4937a9bb108c89a9ca3d",
              "IPY_MODEL_f11f25c6a50b4449bdd6a1a884ea4158"
            ]
          }
        },
        "cb77689f16d64dd4b96945c23d439f0e": {
          "model_module": "@jupyter-widgets/base",
          "model_name": "LayoutModel",
          "state": {
            "_view_name": "LayoutView",
            "grid_template_rows": null,
            "right": null,
            "justify_content": null,
            "_view_module": "@jupyter-widgets/base",
            "overflow": null,
            "_model_module_version": "1.2.0",
            "_view_count": null,
            "flex_flow": null,
            "width": null,
            "min_width": null,
            "border": null,
            "align_items": null,
            "bottom": null,
            "_model_module": "@jupyter-widgets/base",
            "top": null,
            "grid_column": null,
            "overflow_y": null,
            "overflow_x": null,
            "grid_auto_flow": null,
            "grid_area": null,
            "grid_template_columns": null,
            "flex": null,
            "_model_name": "LayoutModel",
            "justify_items": null,
            "grid_row": null,
            "max_height": null,
            "align_content": null,
            "visibility": null,
            "align_self": null,
            "height": null,
            "min_height": null,
            "padding": null,
            "grid_auto_rows": null,
            "grid_gap": null,
            "max_width": null,
            "order": null,
            "_view_module_version": "1.2.0",
            "grid_template_areas": null,
            "object_position": null,
            "object_fit": null,
            "grid_auto_columns": null,
            "margin": null,
            "display": null,
            "left": null
          }
        },
        "37c184c2f18d4937a9bb108c89a9ca3d": {
          "model_module": "@jupyter-widgets/controls",
          "model_name": "FloatProgressModel",
          "state": {
            "_view_name": "ProgressView",
            "style": "IPY_MODEL_c18de6fcb23f4fc28aa7115ba9019d84",
            "_dom_classes": [],
            "description": "100%",
            "_model_name": "FloatProgressModel",
            "bar_style": "success",
            "max": 30000,
            "_view_module": "@jupyter-widgets/controls",
            "_model_module_version": "1.5.0",
            "value": 30000,
            "_view_count": null,
            "_view_module_version": "1.5.0",
            "orientation": "horizontal",
            "min": 0,
            "description_tooltip": null,
            "_model_module": "@jupyter-widgets/controls",
            "layout": "IPY_MODEL_56bede7e68cf4928a0d2c58782687e86"
          }
        },
        "f11f25c6a50b4449bdd6a1a884ea4158": {
          "model_module": "@jupyter-widgets/controls",
          "model_name": "HTMLModel",
          "state": {
            "_view_name": "HTMLView",
            "style": "IPY_MODEL_83c589766e3246fbaee3d73acec5a795",
            "_dom_classes": [],
            "description": "",
            "_model_name": "HTMLModel",
            "placeholder": "​",
            "_view_module": "@jupyter-widgets/controls",
            "_model_module_version": "1.5.0",
            "value": " 30000/30000 [35:08&lt;00:00, 14.23it/s]",
            "_view_count": null,
            "_view_module_version": "1.5.0",
            "description_tooltip": null,
            "_model_module": "@jupyter-widgets/controls",
            "layout": "IPY_MODEL_e35b401936904619a740b8350393bff4"
          }
        },
        "c18de6fcb23f4fc28aa7115ba9019d84": {
          "model_module": "@jupyter-widgets/controls",
          "model_name": "ProgressStyleModel",
          "state": {
            "_view_name": "StyleView",
            "_model_name": "ProgressStyleModel",
            "description_width": "initial",
            "_view_module": "@jupyter-widgets/base",
            "_model_module_version": "1.5.0",
            "_view_count": null,
            "_view_module_version": "1.2.0",
            "bar_color": null,
            "_model_module": "@jupyter-widgets/controls"
          }
        },
        "56bede7e68cf4928a0d2c58782687e86": {
          "model_module": "@jupyter-widgets/base",
          "model_name": "LayoutModel",
          "state": {
            "_view_name": "LayoutView",
            "grid_template_rows": null,
            "right": null,
            "justify_content": null,
            "_view_module": "@jupyter-widgets/base",
            "overflow": null,
            "_model_module_version": "1.2.0",
            "_view_count": null,
            "flex_flow": null,
            "width": null,
            "min_width": null,
            "border": null,
            "align_items": null,
            "bottom": null,
            "_model_module": "@jupyter-widgets/base",
            "top": null,
            "grid_column": null,
            "overflow_y": null,
            "overflow_x": null,
            "grid_auto_flow": null,
            "grid_area": null,
            "grid_template_columns": null,
            "flex": null,
            "_model_name": "LayoutModel",
            "justify_items": null,
            "grid_row": null,
            "max_height": null,
            "align_content": null,
            "visibility": null,
            "align_self": null,
            "height": null,
            "min_height": null,
            "padding": null,
            "grid_auto_rows": null,
            "grid_gap": null,
            "max_width": null,
            "order": null,
            "_view_module_version": "1.2.0",
            "grid_template_areas": null,
            "object_position": null,
            "object_fit": null,
            "grid_auto_columns": null,
            "margin": null,
            "display": null,
            "left": null
          }
        },
        "83c589766e3246fbaee3d73acec5a795": {
          "model_module": "@jupyter-widgets/controls",
          "model_name": "DescriptionStyleModel",
          "state": {
            "_view_name": "StyleView",
            "_model_name": "DescriptionStyleModel",
            "description_width": "",
            "_view_module": "@jupyter-widgets/base",
            "_model_module_version": "1.5.0",
            "_view_count": null,
            "_view_module_version": "1.2.0",
            "_model_module": "@jupyter-widgets/controls"
          }
        },
        "e35b401936904619a740b8350393bff4": {
          "model_module": "@jupyter-widgets/base",
          "model_name": "LayoutModel",
          "state": {
            "_view_name": "LayoutView",
            "grid_template_rows": null,
            "right": null,
            "justify_content": null,
            "_view_module": "@jupyter-widgets/base",
            "overflow": null,
            "_model_module_version": "1.2.0",
            "_view_count": null,
            "flex_flow": null,
            "width": null,
            "min_width": null,
            "border": null,
            "align_items": null,
            "bottom": null,
            "_model_module": "@jupyter-widgets/base",
            "top": null,
            "grid_column": null,
            "overflow_y": null,
            "overflow_x": null,
            "grid_auto_flow": null,
            "grid_area": null,
            "grid_template_columns": null,
            "flex": null,
            "_model_name": "LayoutModel",
            "justify_items": null,
            "grid_row": null,
            "max_height": null,
            "align_content": null,
            "visibility": null,
            "align_self": null,
            "height": null,
            "min_height": null,
            "padding": null,
            "grid_auto_rows": null,
            "grid_gap": null,
            "max_width": null,
            "order": null,
            "_view_module_version": "1.2.0",
            "grid_template_areas": null,
            "object_position": null,
            "object_fit": null,
            "grid_auto_columns": null,
            "margin": null,
            "display": null,
            "left": null
          }
        },
        "9d3a7fd52fe248038ef898c0b9acd602": {
          "model_module": "@jupyter-widgets/controls",
          "model_name": "HBoxModel",
          "state": {
            "_view_name": "HBoxView",
            "_dom_classes": [],
            "_model_name": "HBoxModel",
            "_view_module": "@jupyter-widgets/controls",
            "_model_module_version": "1.5.0",
            "_view_count": null,
            "_view_module_version": "1.5.0",
            "box_style": "",
            "layout": "IPY_MODEL_7c1dbd431b1440b992692effdd0b9ac8",
            "_model_module": "@jupyter-widgets/controls",
            "children": [
              "IPY_MODEL_fc53fe081c5d423aaad87ddbe49a15ac",
              "IPY_MODEL_7ef34b7f1a47427aba3e792951b09959"
            ]
          }
        },
        "7c1dbd431b1440b992692effdd0b9ac8": {
          "model_module": "@jupyter-widgets/base",
          "model_name": "LayoutModel",
          "state": {
            "_view_name": "LayoutView",
            "grid_template_rows": null,
            "right": null,
            "justify_content": null,
            "_view_module": "@jupyter-widgets/base",
            "overflow": null,
            "_model_module_version": "1.2.0",
            "_view_count": null,
            "flex_flow": null,
            "width": null,
            "min_width": null,
            "border": null,
            "align_items": null,
            "bottom": null,
            "_model_module": "@jupyter-widgets/base",
            "top": null,
            "grid_column": null,
            "overflow_y": null,
            "overflow_x": null,
            "grid_auto_flow": null,
            "grid_area": null,
            "grid_template_columns": null,
            "flex": null,
            "_model_name": "LayoutModel",
            "justify_items": null,
            "grid_row": null,
            "max_height": null,
            "align_content": null,
            "visibility": null,
            "align_self": null,
            "height": null,
            "min_height": null,
            "padding": null,
            "grid_auto_rows": null,
            "grid_gap": null,
            "max_width": null,
            "order": null,
            "_view_module_version": "1.2.0",
            "grid_template_areas": null,
            "object_position": null,
            "object_fit": null,
            "grid_auto_columns": null,
            "margin": null,
            "display": null,
            "left": null
          }
        },
        "fc53fe081c5d423aaad87ddbe49a15ac": {
          "model_module": "@jupyter-widgets/controls",
          "model_name": "FloatProgressModel",
          "state": {
            "_view_name": "ProgressView",
            "style": "IPY_MODEL_53e48a43d5d44390813e70497c652633",
            "_dom_classes": [],
            "description": "",
            "_model_name": "FloatProgressModel",
            "bar_style": "info",
            "max": 1,
            "_view_module": "@jupyter-widgets/controls",
            "_model_module_version": "1.5.0",
            "value": 1,
            "_view_count": null,
            "_view_module_version": "1.5.0",
            "orientation": "horizontal",
            "min": 0,
            "description_tooltip": null,
            "_model_module": "@jupyter-widgets/controls",
            "layout": "IPY_MODEL_8f23b388debc42498e826c434db376a3"
          }
        },
        "7ef34b7f1a47427aba3e792951b09959": {
          "model_module": "@jupyter-widgets/controls",
          "model_name": "HTMLModel",
          "state": {
            "_view_name": "HTMLView",
            "style": "IPY_MODEL_87feab16baa941f4ad34d5341348c4ed",
            "_dom_classes": [],
            "description": "",
            "_model_name": "HTMLModel",
            "placeholder": "​",
            "_view_module": "@jupyter-widgets/controls",
            "_model_module_version": "1.5.0",
            "value": " 1/? [00:00&lt;00:00,  1.63 tables/s]",
            "_view_count": null,
            "_view_module_version": "1.5.0",
            "description_tooltip": null,
            "_model_module": "@jupyter-widgets/controls",
            "layout": "IPY_MODEL_86b2e792a10241d1a2c835a0cb7652de"
          }
        },
        "53e48a43d5d44390813e70497c652633": {
          "model_module": "@jupyter-widgets/controls",
          "model_name": "ProgressStyleModel",
          "state": {
            "_view_name": "StyleView",
            "_model_name": "ProgressStyleModel",
            "description_width": "initial",
            "_view_module": "@jupyter-widgets/base",
            "_model_module_version": "1.5.0",
            "_view_count": null,
            "_view_module_version": "1.2.0",
            "bar_color": null,
            "_model_module": "@jupyter-widgets/controls"
          }
        },
        "8f23b388debc42498e826c434db376a3": {
          "model_module": "@jupyter-widgets/base",
          "model_name": "LayoutModel",
          "state": {
            "_view_name": "LayoutView",
            "grid_template_rows": null,
            "right": null,
            "justify_content": null,
            "_view_module": "@jupyter-widgets/base",
            "overflow": null,
            "_model_module_version": "1.2.0",
            "_view_count": null,
            "flex_flow": null,
            "width": null,
            "min_width": null,
            "border": null,
            "align_items": null,
            "bottom": null,
            "_model_module": "@jupyter-widgets/base",
            "top": null,
            "grid_column": null,
            "overflow_y": null,
            "overflow_x": null,
            "grid_auto_flow": null,
            "grid_area": null,
            "grid_template_columns": null,
            "flex": null,
            "_model_name": "LayoutModel",
            "justify_items": null,
            "grid_row": null,
            "max_height": null,
            "align_content": null,
            "visibility": null,
            "align_self": null,
            "height": null,
            "min_height": null,
            "padding": null,
            "grid_auto_rows": null,
            "grid_gap": null,
            "max_width": null,
            "order": null,
            "_view_module_version": "1.2.0",
            "grid_template_areas": null,
            "object_position": null,
            "object_fit": null,
            "grid_auto_columns": null,
            "margin": null,
            "display": null,
            "left": null
          }
        },
        "87feab16baa941f4ad34d5341348c4ed": {
          "model_module": "@jupyter-widgets/controls",
          "model_name": "DescriptionStyleModel",
          "state": {
            "_view_name": "StyleView",
            "_model_name": "DescriptionStyleModel",
            "description_width": "",
            "_view_module": "@jupyter-widgets/base",
            "_model_module_version": "1.5.0",
            "_view_count": null,
            "_view_module_version": "1.2.0",
            "_model_module": "@jupyter-widgets/controls"
          }
        },
        "86b2e792a10241d1a2c835a0cb7652de": {
          "model_module": "@jupyter-widgets/base",
          "model_name": "LayoutModel",
          "state": {
            "_view_name": "LayoutView",
            "grid_template_rows": null,
            "right": null,
            "justify_content": null,
            "_view_module": "@jupyter-widgets/base",
            "overflow": null,
            "_model_module_version": "1.2.0",
            "_view_count": null,
            "flex_flow": null,
            "width": null,
            "min_width": null,
            "border": null,
            "align_items": null,
            "bottom": null,
            "_model_module": "@jupyter-widgets/base",
            "top": null,
            "grid_column": null,
            "overflow_y": null,
            "overflow_x": null,
            "grid_auto_flow": null,
            "grid_area": null,
            "grid_template_columns": null,
            "flex": null,
            "_model_name": "LayoutModel",
            "justify_items": null,
            "grid_row": null,
            "max_height": null,
            "align_content": null,
            "visibility": null,
            "align_self": null,
            "height": null,
            "min_height": null,
            "padding": null,
            "grid_auto_rows": null,
            "grid_gap": null,
            "max_width": null,
            "order": null,
            "_view_module_version": "1.2.0",
            "grid_template_areas": null,
            "object_position": null,
            "object_fit": null,
            "grid_auto_columns": null,
            "margin": null,
            "display": null,
            "left": null
          }
        },
        "5c4e447fc9d747f7baac22b87ffabaaf": {
          "model_module": "@jupyter-widgets/controls",
          "model_name": "HBoxModel",
          "state": {
            "_view_name": "HBoxView",
            "_dom_classes": [],
            "_model_name": "HBoxModel",
            "_view_module": "@jupyter-widgets/controls",
            "_model_module_version": "1.5.0",
            "_view_count": null,
            "_view_module_version": "1.5.0",
            "box_style": "",
            "layout": "IPY_MODEL_b5ea5e183c9b45df95d0bcf419ea7741",
            "_model_module": "@jupyter-widgets/controls",
            "children": [
              "IPY_MODEL_b197310c485340d7a67122d6c4591e23",
              "IPY_MODEL_11a0ab4a3e7f45f49435761f61731901"
            ]
          }
        },
        "b5ea5e183c9b45df95d0bcf419ea7741": {
          "model_module": "@jupyter-widgets/base",
          "model_name": "LayoutModel",
          "state": {
            "_view_name": "LayoutView",
            "grid_template_rows": null,
            "right": null,
            "justify_content": null,
            "_view_module": "@jupyter-widgets/base",
            "overflow": null,
            "_model_module_version": "1.2.0",
            "_view_count": null,
            "flex_flow": null,
            "width": null,
            "min_width": null,
            "border": null,
            "align_items": null,
            "bottom": null,
            "_model_module": "@jupyter-widgets/base",
            "top": null,
            "grid_column": null,
            "overflow_y": null,
            "overflow_x": null,
            "grid_auto_flow": null,
            "grid_area": null,
            "grid_template_columns": null,
            "flex": null,
            "_model_name": "LayoutModel",
            "justify_items": null,
            "grid_row": null,
            "max_height": null,
            "align_content": null,
            "visibility": null,
            "align_self": null,
            "height": null,
            "min_height": null,
            "padding": null,
            "grid_auto_rows": null,
            "grid_gap": null,
            "max_width": null,
            "order": null,
            "_view_module_version": "1.2.0",
            "grid_template_areas": null,
            "object_position": null,
            "object_fit": null,
            "grid_auto_columns": null,
            "margin": null,
            "display": null,
            "left": null
          }
        },
        "b197310c485340d7a67122d6c4591e23": {
          "model_module": "@jupyter-widgets/controls",
          "model_name": "FloatProgressModel",
          "state": {
            "_view_name": "ProgressView",
            "style": "IPY_MODEL_4fdaa51bbd0b4434800e4399048cab53",
            "_dom_classes": [],
            "description": "100%",
            "_model_name": "FloatProgressModel",
            "bar_style": "success",
            "max": 22176,
            "_view_module": "@jupyter-widgets/controls",
            "_model_module_version": "1.5.0",
            "value": 22176,
            "_view_count": null,
            "_view_module_version": "1.5.0",
            "orientation": "horizontal",
            "min": 0,
            "description_tooltip": null,
            "_model_module": "@jupyter-widgets/controls",
            "layout": "IPY_MODEL_861da86c81ee452a9c7ab8c9706ba608"
          }
        },
        "11a0ab4a3e7f45f49435761f61731901": {
          "model_module": "@jupyter-widgets/controls",
          "model_name": "HTMLModel",
          "state": {
            "_view_name": "HTMLView",
            "style": "IPY_MODEL_e082284fd08d4b26b3d8f0467612800a",
            "_dom_classes": [],
            "description": "",
            "_model_name": "HTMLModel",
            "placeholder": "​",
            "_view_module": "@jupyter-widgets/controls",
            "_model_module_version": "1.5.0",
            "value": " 22176/22176 [32:40&lt;00:00, 11.31ex/s]",
            "_view_count": null,
            "_view_module_version": "1.5.0",
            "description_tooltip": null,
            "_model_module": "@jupyter-widgets/controls",
            "layout": "IPY_MODEL_787e389a853b415bb6d4f9d8e23cb24a"
          }
        },
        "4fdaa51bbd0b4434800e4399048cab53": {
          "model_module": "@jupyter-widgets/controls",
          "model_name": "ProgressStyleModel",
          "state": {
            "_view_name": "StyleView",
            "_model_name": "ProgressStyleModel",
            "description_width": "initial",
            "_view_module": "@jupyter-widgets/base",
            "_model_module_version": "1.5.0",
            "_view_count": null,
            "_view_module_version": "1.2.0",
            "bar_color": null,
            "_model_module": "@jupyter-widgets/controls"
          }
        },
        "861da86c81ee452a9c7ab8c9706ba608": {
          "model_module": "@jupyter-widgets/base",
          "model_name": "LayoutModel",
          "state": {
            "_view_name": "LayoutView",
            "grid_template_rows": null,
            "right": null,
            "justify_content": null,
            "_view_module": "@jupyter-widgets/base",
            "overflow": null,
            "_model_module_version": "1.2.0",
            "_view_count": null,
            "flex_flow": null,
            "width": null,
            "min_width": null,
            "border": null,
            "align_items": null,
            "bottom": null,
            "_model_module": "@jupyter-widgets/base",
            "top": null,
            "grid_column": null,
            "overflow_y": null,
            "overflow_x": null,
            "grid_auto_flow": null,
            "grid_area": null,
            "grid_template_columns": null,
            "flex": null,
            "_model_name": "LayoutModel",
            "justify_items": null,
            "grid_row": null,
            "max_height": null,
            "align_content": null,
            "visibility": null,
            "align_self": null,
            "height": null,
            "min_height": null,
            "padding": null,
            "grid_auto_rows": null,
            "grid_gap": null,
            "max_width": null,
            "order": null,
            "_view_module_version": "1.2.0",
            "grid_template_areas": null,
            "object_position": null,
            "object_fit": null,
            "grid_auto_columns": null,
            "margin": null,
            "display": null,
            "left": null
          }
        },
        "e082284fd08d4b26b3d8f0467612800a": {
          "model_module": "@jupyter-widgets/controls",
          "model_name": "DescriptionStyleModel",
          "state": {
            "_view_name": "StyleView",
            "_model_name": "DescriptionStyleModel",
            "description_width": "",
            "_view_module": "@jupyter-widgets/base",
            "_model_module_version": "1.5.0",
            "_view_count": null,
            "_view_module_version": "1.2.0",
            "_model_module": "@jupyter-widgets/controls"
          }
        },
        "787e389a853b415bb6d4f9d8e23cb24a": {
          "model_module": "@jupyter-widgets/base",
          "model_name": "LayoutModel",
          "state": {
            "_view_name": "LayoutView",
            "grid_template_rows": null,
            "right": null,
            "justify_content": null,
            "_view_module": "@jupyter-widgets/base",
            "overflow": null,
            "_model_module_version": "1.2.0",
            "_view_count": null,
            "flex_flow": null,
            "width": null,
            "min_width": null,
            "border": null,
            "align_items": null,
            "bottom": null,
            "_model_module": "@jupyter-widgets/base",
            "top": null,
            "grid_column": null,
            "overflow_y": null,
            "overflow_x": null,
            "grid_auto_flow": null,
            "grid_area": null,
            "grid_template_columns": null,
            "flex": null,
            "_model_name": "LayoutModel",
            "justify_items": null,
            "grid_row": null,
            "max_height": null,
            "align_content": null,
            "visibility": null,
            "align_self": null,
            "height": null,
            "min_height": null,
            "padding": null,
            "grid_auto_rows": null,
            "grid_gap": null,
            "max_width": null,
            "order": null,
            "_view_module_version": "1.2.0",
            "grid_template_areas": null,
            "object_position": null,
            "object_fit": null,
            "grid_auto_columns": null,
            "margin": null,
            "display": null,
            "left": null
          }
        },
        "6ecd0783ec624a59a79c29276fcb444d": {
          "model_module": "@jupyter-widgets/controls",
          "model_name": "HBoxModel",
          "state": {
            "_view_name": "HBoxView",
            "_dom_classes": [],
            "_model_name": "HBoxModel",
            "_view_module": "@jupyter-widgets/controls",
            "_model_module_version": "1.5.0",
            "_view_count": null,
            "_view_module_version": "1.5.0",
            "box_style": "",
            "layout": "IPY_MODEL_ed8c0471069247af9af48f20097518e5",
            "_model_module": "@jupyter-widgets/controls",
            "children": [
              "IPY_MODEL_0af40482efad4c74990c3b97802c2ddb",
              "IPY_MODEL_7ee8624a899c49f79f70ef0e9aece8f1"
            ]
          }
        },
        "ed8c0471069247af9af48f20097518e5": {
          "model_module": "@jupyter-widgets/base",
          "model_name": "LayoutModel",
          "state": {
            "_view_name": "LayoutView",
            "grid_template_rows": null,
            "right": null,
            "justify_content": null,
            "_view_module": "@jupyter-widgets/base",
            "overflow": null,
            "_model_module_version": "1.2.0",
            "_view_count": null,
            "flex_flow": null,
            "width": null,
            "min_width": null,
            "border": null,
            "align_items": null,
            "bottom": null,
            "_model_module": "@jupyter-widgets/base",
            "top": null,
            "grid_column": null,
            "overflow_y": null,
            "overflow_x": null,
            "grid_auto_flow": null,
            "grid_area": null,
            "grid_template_columns": null,
            "flex": null,
            "_model_name": "LayoutModel",
            "justify_items": null,
            "grid_row": null,
            "max_height": null,
            "align_content": null,
            "visibility": null,
            "align_self": null,
            "height": null,
            "min_height": null,
            "padding": null,
            "grid_auto_rows": null,
            "grid_gap": null,
            "max_width": null,
            "order": null,
            "_view_module_version": "1.2.0",
            "grid_template_areas": null,
            "object_position": null,
            "object_fit": null,
            "grid_auto_columns": null,
            "margin": null,
            "display": null,
            "left": null
          }
        },
        "0af40482efad4c74990c3b97802c2ddb": {
          "model_module": "@jupyter-widgets/controls",
          "model_name": "FloatProgressModel",
          "state": {
            "_view_name": "ProgressView",
            "style": "IPY_MODEL_e7373c677c514380bf39488140105001",
            "_dom_classes": [],
            "description": "100%",
            "_model_name": "FloatProgressModel",
            "bar_style": "danger",
            "max": 1000,
            "_view_module": "@jupyter-widgets/controls",
            "_model_module_version": "1.5.0",
            "value": 997,
            "_view_count": null,
            "_view_module_version": "1.5.0",
            "orientation": "horizontal",
            "min": 0,
            "description_tooltip": null,
            "_model_module": "@jupyter-widgets/controls",
            "layout": "IPY_MODEL_859acf8eef5649eb8386339dda038057"
          }
        },
        "7ee8624a899c49f79f70ef0e9aece8f1": {
          "model_module": "@jupyter-widgets/controls",
          "model_name": "HTMLModel",
          "state": {
            "_view_name": "HTMLView",
            "style": "IPY_MODEL_346ce9730a494b4a93af3645a77a131e",
            "_dom_classes": [],
            "description": "",
            "_model_name": "HTMLModel",
            "placeholder": "​",
            "_view_module": "@jupyter-widgets/controls",
            "_model_module_version": "1.5.0",
            "value": " 997/1000 [00:30&lt;00:00, 52.48it/s]",
            "_view_count": null,
            "_view_module_version": "1.5.0",
            "description_tooltip": null,
            "_model_module": "@jupyter-widgets/controls",
            "layout": "IPY_MODEL_9b847a54c7094026ae982e9553e4c21f"
          }
        },
        "e7373c677c514380bf39488140105001": {
          "model_module": "@jupyter-widgets/controls",
          "model_name": "ProgressStyleModel",
          "state": {
            "_view_name": "StyleView",
            "_model_name": "ProgressStyleModel",
            "description_width": "initial",
            "_view_module": "@jupyter-widgets/base",
            "_model_module_version": "1.5.0",
            "_view_count": null,
            "_view_module_version": "1.2.0",
            "bar_color": null,
            "_model_module": "@jupyter-widgets/controls"
          }
        },
        "859acf8eef5649eb8386339dda038057": {
          "model_module": "@jupyter-widgets/base",
          "model_name": "LayoutModel",
          "state": {
            "_view_name": "LayoutView",
            "grid_template_rows": null,
            "right": null,
            "justify_content": null,
            "_view_module": "@jupyter-widgets/base",
            "overflow": null,
            "_model_module_version": "1.2.0",
            "_view_count": null,
            "flex_flow": null,
            "width": null,
            "min_width": null,
            "border": null,
            "align_items": null,
            "bottom": null,
            "_model_module": "@jupyter-widgets/base",
            "top": null,
            "grid_column": null,
            "overflow_y": null,
            "overflow_x": null,
            "grid_auto_flow": null,
            "grid_area": null,
            "grid_template_columns": null,
            "flex": null,
            "_model_name": "LayoutModel",
            "justify_items": null,
            "grid_row": null,
            "max_height": null,
            "align_content": null,
            "visibility": null,
            "align_self": null,
            "height": null,
            "min_height": null,
            "padding": null,
            "grid_auto_rows": null,
            "grid_gap": null,
            "max_width": null,
            "order": null,
            "_view_module_version": "1.2.0",
            "grid_template_areas": null,
            "object_position": null,
            "object_fit": null,
            "grid_auto_columns": null,
            "margin": null,
            "display": null,
            "left": null
          }
        },
        "346ce9730a494b4a93af3645a77a131e": {
          "model_module": "@jupyter-widgets/controls",
          "model_name": "DescriptionStyleModel",
          "state": {
            "_view_name": "StyleView",
            "_model_name": "DescriptionStyleModel",
            "description_width": "",
            "_view_module": "@jupyter-widgets/base",
            "_model_module_version": "1.5.0",
            "_view_count": null,
            "_view_module_version": "1.2.0",
            "_model_module": "@jupyter-widgets/controls"
          }
        },
        "9b847a54c7094026ae982e9553e4c21f": {
          "model_module": "@jupyter-widgets/base",
          "model_name": "LayoutModel",
          "state": {
            "_view_name": "LayoutView",
            "grid_template_rows": null,
            "right": null,
            "justify_content": null,
            "_view_module": "@jupyter-widgets/base",
            "overflow": null,
            "_model_module_version": "1.2.0",
            "_view_count": null,
            "flex_flow": null,
            "width": null,
            "min_width": null,
            "border": null,
            "align_items": null,
            "bottom": null,
            "_model_module": "@jupyter-widgets/base",
            "top": null,
            "grid_column": null,
            "overflow_y": null,
            "overflow_x": null,
            "grid_auto_flow": null,
            "grid_area": null,
            "grid_template_columns": null,
            "flex": null,
            "_model_name": "LayoutModel",
            "justify_items": null,
            "grid_row": null,
            "max_height": null,
            "align_content": null,
            "visibility": null,
            "align_self": null,
            "height": null,
            "min_height": null,
            "padding": null,
            "grid_auto_rows": null,
            "grid_gap": null,
            "max_width": null,
            "order": null,
            "_view_module_version": "1.2.0",
            "grid_template_areas": null,
            "object_position": null,
            "object_fit": null,
            "grid_auto_columns": null,
            "margin": null,
            "display": null,
            "left": null
          }
        },
        "34951716f19444dd8c0d14d1444a0057": {
          "model_module": "@jupyter-widgets/controls",
          "model_name": "HBoxModel",
          "state": {
            "_view_name": "HBoxView",
            "_dom_classes": [],
            "_model_name": "HBoxModel",
            "_view_module": "@jupyter-widgets/controls",
            "_model_module_version": "1.5.0",
            "_view_count": null,
            "_view_module_version": "1.5.0",
            "box_style": "",
            "layout": "IPY_MODEL_7a2382a8fe404915b9f9ba815911bb29",
            "_model_module": "@jupyter-widgets/controls",
            "children": [
              "IPY_MODEL_5706d8b7afda48509df69b13cdb2f576",
              "IPY_MODEL_aa48aeff1c7f488c8ec1efe0000e269e"
            ]
          }
        },
        "7a2382a8fe404915b9f9ba815911bb29": {
          "model_module": "@jupyter-widgets/base",
          "model_name": "LayoutModel",
          "state": {
            "_view_name": "LayoutView",
            "grid_template_rows": null,
            "right": null,
            "justify_content": null,
            "_view_module": "@jupyter-widgets/base",
            "overflow": null,
            "_model_module_version": "1.2.0",
            "_view_count": null,
            "flex_flow": null,
            "width": null,
            "min_width": null,
            "border": null,
            "align_items": null,
            "bottom": null,
            "_model_module": "@jupyter-widgets/base",
            "top": null,
            "grid_column": null,
            "overflow_y": null,
            "overflow_x": null,
            "grid_auto_flow": null,
            "grid_area": null,
            "grid_template_columns": null,
            "flex": null,
            "_model_name": "LayoutModel",
            "justify_items": null,
            "grid_row": null,
            "max_height": null,
            "align_content": null,
            "visibility": null,
            "align_self": null,
            "height": null,
            "min_height": null,
            "padding": null,
            "grid_auto_rows": null,
            "grid_gap": null,
            "max_width": null,
            "order": null,
            "_view_module_version": "1.2.0",
            "grid_template_areas": null,
            "object_position": null,
            "object_fit": null,
            "grid_auto_columns": null,
            "margin": null,
            "display": null,
            "left": null
          }
        },
        "5706d8b7afda48509df69b13cdb2f576": {
          "model_module": "@jupyter-widgets/controls",
          "model_name": "FloatProgressModel",
          "state": {
            "_view_name": "ProgressView",
            "style": "IPY_MODEL_cfbcf833f0c445bd89eea5dfa8a08d86",
            "_dom_classes": [],
            "description": "100%",
            "_model_name": "FloatProgressModel",
            "bar_style": "success",
            "max": 1,
            "_view_module": "@jupyter-widgets/controls",
            "_model_module_version": "1.5.0",
            "value": 1,
            "_view_count": null,
            "_view_module_version": "1.5.0",
            "orientation": "horizontal",
            "min": 0,
            "description_tooltip": null,
            "_model_module": "@jupyter-widgets/controls",
            "layout": "IPY_MODEL_6e6bb19fbd264877a9f5639fb5dea5fd"
          }
        },
        "aa48aeff1c7f488c8ec1efe0000e269e": {
          "model_module": "@jupyter-widgets/controls",
          "model_name": "HTMLModel",
          "state": {
            "_view_name": "HTMLView",
            "style": "IPY_MODEL_6b9350218d784139b7dd7e08c561df80",
            "_dom_classes": [],
            "description": "",
            "_model_name": "HTMLModel",
            "placeholder": "​",
            "_view_module": "@jupyter-widgets/controls",
            "_model_module_version": "1.5.0",
            "value": " 1/1 [06:29&lt;00:00, 389.55s/it]",
            "_view_count": null,
            "_view_module_version": "1.5.0",
            "description_tooltip": null,
            "_model_module": "@jupyter-widgets/controls",
            "layout": "IPY_MODEL_e339b0ea336e4d27babd59a91e6c9ac9"
          }
        },
        "cfbcf833f0c445bd89eea5dfa8a08d86": {
          "model_module": "@jupyter-widgets/controls",
          "model_name": "ProgressStyleModel",
          "state": {
            "_view_name": "StyleView",
            "_model_name": "ProgressStyleModel",
            "description_width": "initial",
            "_view_module": "@jupyter-widgets/base",
            "_model_module_version": "1.5.0",
            "_view_count": null,
            "_view_module_version": "1.2.0",
            "bar_color": null,
            "_model_module": "@jupyter-widgets/controls"
          }
        },
        "6e6bb19fbd264877a9f5639fb5dea5fd": {
          "model_module": "@jupyter-widgets/base",
          "model_name": "LayoutModel",
          "state": {
            "_view_name": "LayoutView",
            "grid_template_rows": null,
            "right": null,
            "justify_content": null,
            "_view_module": "@jupyter-widgets/base",
            "overflow": null,
            "_model_module_version": "1.2.0",
            "_view_count": null,
            "flex_flow": null,
            "width": null,
            "min_width": null,
            "border": null,
            "align_items": null,
            "bottom": null,
            "_model_module": "@jupyter-widgets/base",
            "top": null,
            "grid_column": null,
            "overflow_y": null,
            "overflow_x": null,
            "grid_auto_flow": null,
            "grid_area": null,
            "grid_template_columns": null,
            "flex": null,
            "_model_name": "LayoutModel",
            "justify_items": null,
            "grid_row": null,
            "max_height": null,
            "align_content": null,
            "visibility": null,
            "align_self": null,
            "height": null,
            "min_height": null,
            "padding": null,
            "grid_auto_rows": null,
            "grid_gap": null,
            "max_width": null,
            "order": null,
            "_view_module_version": "1.2.0",
            "grid_template_areas": null,
            "object_position": null,
            "object_fit": null,
            "grid_auto_columns": null,
            "margin": null,
            "display": null,
            "left": null
          }
        },
        "6b9350218d784139b7dd7e08c561df80": {
          "model_module": "@jupyter-widgets/controls",
          "model_name": "DescriptionStyleModel",
          "state": {
            "_view_name": "StyleView",
            "_model_name": "DescriptionStyleModel",
            "description_width": "",
            "_view_module": "@jupyter-widgets/base",
            "_model_module_version": "1.5.0",
            "_view_count": null,
            "_view_module_version": "1.2.0",
            "_model_module": "@jupyter-widgets/controls"
          }
        },
        "e339b0ea336e4d27babd59a91e6c9ac9": {
          "model_module": "@jupyter-widgets/base",
          "model_name": "LayoutModel",
          "state": {
            "_view_name": "LayoutView",
            "grid_template_rows": null,
            "right": null,
            "justify_content": null,
            "_view_module": "@jupyter-widgets/base",
            "overflow": null,
            "_model_module_version": "1.2.0",
            "_view_count": null,
            "flex_flow": null,
            "width": null,
            "min_width": null,
            "border": null,
            "align_items": null,
            "bottom": null,
            "_model_module": "@jupyter-widgets/base",
            "top": null,
            "grid_column": null,
            "overflow_y": null,
            "overflow_x": null,
            "grid_auto_flow": null,
            "grid_area": null,
            "grid_template_columns": null,
            "flex": null,
            "_model_name": "LayoutModel",
            "justify_items": null,
            "grid_row": null,
            "max_height": null,
            "align_content": null,
            "visibility": null,
            "align_self": null,
            "height": null,
            "min_height": null,
            "padding": null,
            "grid_auto_rows": null,
            "grid_gap": null,
            "max_width": null,
            "order": null,
            "_view_module_version": "1.2.0",
            "grid_template_areas": null,
            "object_position": null,
            "object_fit": null,
            "grid_auto_columns": null,
            "margin": null,
            "display": null,
            "left": null
          }
        },
        "79bf9f03fdea4a8aa1a92ca496d6eb4d": {
          "model_module": "@jupyter-widgets/controls",
          "model_name": "HBoxModel",
          "state": {
            "_view_name": "HBoxView",
            "_dom_classes": [],
            "_model_name": "HBoxModel",
            "_view_module": "@jupyter-widgets/controls",
            "_model_module_version": "1.5.0",
            "_view_count": null,
            "_view_module_version": "1.5.0",
            "box_style": "",
            "layout": "IPY_MODEL_a02b6c668fbb4eacbef96670edc7a7f4",
            "_model_module": "@jupyter-widgets/controls",
            "children": [
              "IPY_MODEL_808cdad398d54fa4bdd07f6a9825a502",
              "IPY_MODEL_7bb646858ca04b1d9b25cfb9cfc7fc53"
            ]
          }
        },
        "a02b6c668fbb4eacbef96670edc7a7f4": {
          "model_module": "@jupyter-widgets/base",
          "model_name": "LayoutModel",
          "state": {
            "_view_name": "LayoutView",
            "grid_template_rows": null,
            "right": null,
            "justify_content": null,
            "_view_module": "@jupyter-widgets/base",
            "overflow": null,
            "_model_module_version": "1.2.0",
            "_view_count": null,
            "flex_flow": null,
            "width": null,
            "min_width": null,
            "border": null,
            "align_items": null,
            "bottom": null,
            "_model_module": "@jupyter-widgets/base",
            "top": null,
            "grid_column": null,
            "overflow_y": null,
            "overflow_x": null,
            "grid_auto_flow": null,
            "grid_area": null,
            "grid_template_columns": null,
            "flex": null,
            "_model_name": "LayoutModel",
            "justify_items": null,
            "grid_row": null,
            "max_height": null,
            "align_content": null,
            "visibility": null,
            "align_self": null,
            "height": null,
            "min_height": null,
            "padding": null,
            "grid_auto_rows": null,
            "grid_gap": null,
            "max_width": null,
            "order": null,
            "_view_module_version": "1.2.0",
            "grid_template_areas": null,
            "object_position": null,
            "object_fit": null,
            "grid_auto_columns": null,
            "margin": null,
            "display": null,
            "left": null
          }
        },
        "808cdad398d54fa4bdd07f6a9825a502": {
          "model_module": "@jupyter-widgets/controls",
          "model_name": "FloatProgressModel",
          "state": {
            "_view_name": "ProgressView",
            "style": "IPY_MODEL_286c6f7a2c7d47bba47d9ab826d94d46",
            "_dom_classes": [],
            "description": "Train epoch: ",
            "_model_name": "FloatProgressModel",
            "bar_style": "",
            "max": 1500,
            "_view_module": "@jupyter-widgets/controls",
            "_model_module_version": "1.5.0",
            "value": 1500,
            "_view_count": null,
            "_view_module_version": "1.5.0",
            "orientation": "horizontal",
            "min": 0,
            "description_tooltip": null,
            "_model_module": "@jupyter-widgets/controls",
            "layout": "IPY_MODEL_b6e331e6ecbf42cfaf4d070724aaf2fb"
          }
        },
        "7bb646858ca04b1d9b25cfb9cfc7fc53": {
          "model_module": "@jupyter-widgets/controls",
          "model_name": "HTMLModel",
          "state": {
            "_view_name": "HTMLView",
            "style": "IPY_MODEL_8856c73ac5cb4d188b53f00d7037ea23",
            "_dom_classes": [],
            "description": "",
            "_model_name": "HTMLModel",
            "placeholder": "​",
            "_view_module": "@jupyter-widgets/controls",
            "_model_module_version": "1.5.0",
            "value": " 1577/? [04:33&lt;00:00,  7.12it/s]",
            "_view_count": null,
            "_view_module_version": "1.5.0",
            "description_tooltip": null,
            "_model_module": "@jupyter-widgets/controls",
            "layout": "IPY_MODEL_d256be2cdb3d4c599ab588cdf4ef1430"
          }
        },
        "286c6f7a2c7d47bba47d9ab826d94d46": {
          "model_module": "@jupyter-widgets/controls",
          "model_name": "ProgressStyleModel",
          "state": {
            "_view_name": "StyleView",
            "_model_name": "ProgressStyleModel",
            "description_width": "initial",
            "_view_module": "@jupyter-widgets/base",
            "_model_module_version": "1.5.0",
            "_view_count": null,
            "_view_module_version": "1.2.0",
            "bar_color": null,
            "_model_module": "@jupyter-widgets/controls"
          }
        },
        "b6e331e6ecbf42cfaf4d070724aaf2fb": {
          "model_module": "@jupyter-widgets/base",
          "model_name": "LayoutModel",
          "state": {
            "_view_name": "LayoutView",
            "grid_template_rows": null,
            "right": null,
            "justify_content": null,
            "_view_module": "@jupyter-widgets/base",
            "overflow": null,
            "_model_module_version": "1.2.0",
            "_view_count": null,
            "flex_flow": null,
            "width": null,
            "min_width": null,
            "border": null,
            "align_items": null,
            "bottom": null,
            "_model_module": "@jupyter-widgets/base",
            "top": null,
            "grid_column": null,
            "overflow_y": null,
            "overflow_x": null,
            "grid_auto_flow": null,
            "grid_area": null,
            "grid_template_columns": null,
            "flex": null,
            "_model_name": "LayoutModel",
            "justify_items": null,
            "grid_row": null,
            "max_height": null,
            "align_content": null,
            "visibility": null,
            "align_self": null,
            "height": null,
            "min_height": null,
            "padding": null,
            "grid_auto_rows": null,
            "grid_gap": null,
            "max_width": null,
            "order": null,
            "_view_module_version": "1.2.0",
            "grid_template_areas": null,
            "object_position": null,
            "object_fit": null,
            "grid_auto_columns": null,
            "margin": null,
            "display": null,
            "left": null
          }
        },
        "8856c73ac5cb4d188b53f00d7037ea23": {
          "model_module": "@jupyter-widgets/controls",
          "model_name": "DescriptionStyleModel",
          "state": {
            "_view_name": "StyleView",
            "_model_name": "DescriptionStyleModel",
            "description_width": "",
            "_view_module": "@jupyter-widgets/base",
            "_model_module_version": "1.5.0",
            "_view_count": null,
            "_view_module_version": "1.2.0",
            "_model_module": "@jupyter-widgets/controls"
          }
        },
        "d256be2cdb3d4c599ab588cdf4ef1430": {
          "model_module": "@jupyter-widgets/base",
          "model_name": "LayoutModel",
          "state": {
            "_view_name": "LayoutView",
            "grid_template_rows": null,
            "right": null,
            "justify_content": null,
            "_view_module": "@jupyter-widgets/base",
            "overflow": null,
            "_model_module_version": "1.2.0",
            "_view_count": null,
            "flex_flow": null,
            "width": null,
            "min_width": null,
            "border": null,
            "align_items": null,
            "bottom": null,
            "_model_module": "@jupyter-widgets/base",
            "top": null,
            "grid_column": null,
            "overflow_y": null,
            "overflow_x": null,
            "grid_auto_flow": null,
            "grid_area": null,
            "grid_template_columns": null,
            "flex": null,
            "_model_name": "LayoutModel",
            "justify_items": null,
            "grid_row": null,
            "max_height": null,
            "align_content": null,
            "visibility": null,
            "align_self": null,
            "height": null,
            "min_height": null,
            "padding": null,
            "grid_auto_rows": null,
            "grid_gap": null,
            "max_width": null,
            "order": null,
            "_view_module_version": "1.2.0",
            "grid_template_areas": null,
            "object_position": null,
            "object_fit": null,
            "grid_auto_columns": null,
            "margin": null,
            "display": null,
            "left": null
          }
        },
        "b590fad1de40430e8d69d2615931ab95": {
          "model_module": "@jupyter-widgets/controls",
          "model_name": "HBoxModel",
          "state": {
            "_view_name": "HBoxView",
            "_dom_classes": [],
            "_model_name": "HBoxModel",
            "_view_module": "@jupyter-widgets/controls",
            "_model_module_version": "1.5.0",
            "_view_count": null,
            "_view_module_version": "1.5.0",
            "box_style": "",
            "layout": "IPY_MODEL_cff110934e864e66bdaa5e16d67a83b1",
            "_model_module": "@jupyter-widgets/controls",
            "children": [
              "IPY_MODEL_713ec38dce1c4a078afa7dbe1d3a1cc6",
              "IPY_MODEL_9988be623b7241558281e1bcd209ca20"
            ]
          }
        },
        "cff110934e864e66bdaa5e16d67a83b1": {
          "model_module": "@jupyter-widgets/base",
          "model_name": "LayoutModel",
          "state": {
            "_view_name": "LayoutView",
            "grid_template_rows": null,
            "right": null,
            "justify_content": null,
            "_view_module": "@jupyter-widgets/base",
            "overflow": null,
            "_model_module_version": "1.2.0",
            "_view_count": null,
            "flex_flow": null,
            "width": null,
            "min_width": null,
            "border": null,
            "align_items": null,
            "bottom": null,
            "_model_module": "@jupyter-widgets/base",
            "top": null,
            "grid_column": null,
            "overflow_y": null,
            "overflow_x": null,
            "grid_auto_flow": null,
            "grid_area": null,
            "grid_template_columns": null,
            "flex": null,
            "_model_name": "LayoutModel",
            "justify_items": null,
            "grid_row": null,
            "max_height": null,
            "align_content": null,
            "visibility": null,
            "align_self": null,
            "height": null,
            "min_height": null,
            "padding": null,
            "grid_auto_rows": null,
            "grid_gap": null,
            "max_width": null,
            "order": null,
            "_view_module_version": "1.2.0",
            "grid_template_areas": null,
            "object_position": null,
            "object_fit": null,
            "grid_auto_columns": null,
            "margin": null,
            "display": null,
            "left": null
          }
        },
        "713ec38dce1c4a078afa7dbe1d3a1cc6": {
          "model_module": "@jupyter-widgets/controls",
          "model_name": "FloatProgressModel",
          "state": {
            "_view_name": "ProgressView",
            "style": "IPY_MODEL_caa0bf18d1e348f3922d1e9c324ecbe6",
            "_dom_classes": [],
            "description": "Valid epoch: ",
            "_model_name": "FloatProgressModel",
            "bar_style": "",
            "max": 221,
            "_view_module": "@jupyter-widgets/controls",
            "_model_module_version": "1.5.0",
            "value": 221,
            "_view_count": null,
            "_view_module_version": "1.5.0",
            "orientation": "horizontal",
            "min": 0,
            "description_tooltip": null,
            "_model_module": "@jupyter-widgets/controls",
            "layout": "IPY_MODEL_6b952f4ac249468d893ff6e3c1ef026c"
          }
        },
        "9988be623b7241558281e1bcd209ca20": {
          "model_module": "@jupyter-widgets/controls",
          "model_name": "HTMLModel",
          "state": {
            "_view_name": "HTMLView",
            "style": "IPY_MODEL_e0334efc58024d12a9125cd54e04c312",
            "_dom_classes": [],
            "description": "",
            "_model_name": "HTMLModel",
            "placeholder": "​",
            "_view_module": "@jupyter-widgets/controls",
            "_model_module_version": "1.5.0",
            "value": " 285/? [00:52&lt;00:00,  5.85it/s]",
            "_view_count": null,
            "_view_module_version": "1.5.0",
            "description_tooltip": null,
            "_model_module": "@jupyter-widgets/controls",
            "layout": "IPY_MODEL_64068f1e3b244abda9ece138d1af44f1"
          }
        },
        "caa0bf18d1e348f3922d1e9c324ecbe6": {
          "model_module": "@jupyter-widgets/controls",
          "model_name": "ProgressStyleModel",
          "state": {
            "_view_name": "StyleView",
            "_model_name": "ProgressStyleModel",
            "description_width": "initial",
            "_view_module": "@jupyter-widgets/base",
            "_model_module_version": "1.5.0",
            "_view_count": null,
            "_view_module_version": "1.2.0",
            "bar_color": null,
            "_model_module": "@jupyter-widgets/controls"
          }
        },
        "6b952f4ac249468d893ff6e3c1ef026c": {
          "model_module": "@jupyter-widgets/base",
          "model_name": "LayoutModel",
          "state": {
            "_view_name": "LayoutView",
            "grid_template_rows": null,
            "right": null,
            "justify_content": null,
            "_view_module": "@jupyter-widgets/base",
            "overflow": null,
            "_model_module_version": "1.2.0",
            "_view_count": null,
            "flex_flow": null,
            "width": null,
            "min_width": null,
            "border": null,
            "align_items": null,
            "bottom": null,
            "_model_module": "@jupyter-widgets/base",
            "top": null,
            "grid_column": null,
            "overflow_y": null,
            "overflow_x": null,
            "grid_auto_flow": null,
            "grid_area": null,
            "grid_template_columns": null,
            "flex": null,
            "_model_name": "LayoutModel",
            "justify_items": null,
            "grid_row": null,
            "max_height": null,
            "align_content": null,
            "visibility": null,
            "align_self": null,
            "height": null,
            "min_height": null,
            "padding": null,
            "grid_auto_rows": null,
            "grid_gap": null,
            "max_width": null,
            "order": null,
            "_view_module_version": "1.2.0",
            "grid_template_areas": null,
            "object_position": null,
            "object_fit": null,
            "grid_auto_columns": null,
            "margin": null,
            "display": null,
            "left": null
          }
        },
        "e0334efc58024d12a9125cd54e04c312": {
          "model_module": "@jupyter-widgets/controls",
          "model_name": "DescriptionStyleModel",
          "state": {
            "_view_name": "StyleView",
            "_model_name": "DescriptionStyleModel",
            "description_width": "",
            "_view_module": "@jupyter-widgets/base",
            "_model_module_version": "1.5.0",
            "_view_count": null,
            "_view_module_version": "1.2.0",
            "_model_module": "@jupyter-widgets/controls"
          }
        },
        "64068f1e3b244abda9ece138d1af44f1": {
          "model_module": "@jupyter-widgets/base",
          "model_name": "LayoutModel",
          "state": {
            "_view_name": "LayoutView",
            "grid_template_rows": null,
            "right": null,
            "justify_content": null,
            "_view_module": "@jupyter-widgets/base",
            "overflow": null,
            "_model_module_version": "1.2.0",
            "_view_count": null,
            "flex_flow": null,
            "width": null,
            "min_width": null,
            "border": null,
            "align_items": null,
            "bottom": null,
            "_model_module": "@jupyter-widgets/base",
            "top": null,
            "grid_column": null,
            "overflow_y": null,
            "overflow_x": null,
            "grid_auto_flow": null,
            "grid_area": null,
            "grid_template_columns": null,
            "flex": null,
            "_model_name": "LayoutModel",
            "justify_items": null,
            "grid_row": null,
            "max_height": null,
            "align_content": null,
            "visibility": null,
            "align_self": null,
            "height": null,
            "min_height": null,
            "padding": null,
            "grid_auto_rows": null,
            "grid_gap": null,
            "max_width": null,
            "order": null,
            "_view_module_version": "1.2.0",
            "grid_template_areas": null,
            "object_position": null,
            "object_fit": null,
            "grid_auto_columns": null,
            "margin": null,
            "display": null,
            "left": null
          }
        },
        "e5775e1a037547f4a3cd7d31ef46b58e": {
          "model_module": "@jupyter-widgets/controls",
          "model_name": "VBoxModel",
          "state": {
            "_view_name": "VBoxView",
            "_dom_classes": [
              "widget-interact"
            ],
            "_model_name": "VBoxModel",
            "_view_module": "@jupyter-widgets/controls",
            "_model_module_version": "1.5.0",
            "_view_count": null,
            "_view_module_version": "1.5.0",
            "box_style": "",
            "layout": "IPY_MODEL_2ea7540cbd3c4d0895253f62a68c44d9",
            "_model_module": "@jupyter-widgets/controls",
            "children": [
              "IPY_MODEL_47500a94e2504f5c98a55da811904a6b",
              "IPY_MODEL_854097e17971416284bd8d1dbc6eac95"
            ]
          }
        },
        "2ea7540cbd3c4d0895253f62a68c44d9": {
          "model_module": "@jupyter-widgets/base",
          "model_name": "LayoutModel",
          "state": {
            "_view_name": "LayoutView",
            "grid_template_rows": null,
            "right": null,
            "justify_content": null,
            "_view_module": "@jupyter-widgets/base",
            "overflow": null,
            "_model_module_version": "1.2.0",
            "_view_count": null,
            "flex_flow": null,
            "width": null,
            "min_width": null,
            "border": null,
            "align_items": null,
            "bottom": null,
            "_model_module": "@jupyter-widgets/base",
            "top": null,
            "grid_column": null,
            "overflow_y": null,
            "overflow_x": null,
            "grid_auto_flow": null,
            "grid_area": null,
            "grid_template_columns": null,
            "flex": null,
            "_model_name": "LayoutModel",
            "justify_items": null,
            "grid_row": null,
            "max_height": null,
            "align_content": null,
            "visibility": null,
            "align_self": null,
            "height": null,
            "min_height": null,
            "padding": null,
            "grid_auto_rows": null,
            "grid_gap": null,
            "max_width": null,
            "order": null,
            "_view_module_version": "1.2.0",
            "grid_template_areas": null,
            "object_position": null,
            "object_fit": null,
            "grid_auto_columns": null,
            "margin": null,
            "display": null,
            "left": null
          }
        },
        "47500a94e2504f5c98a55da811904a6b": {
          "model_module": "@jupyter-widgets/controls",
          "model_name": "FloatSliderModel",
          "state": {
            "_view_name": "FloatSliderView",
            "style": "IPY_MODEL_2cdf646c2d97433c929a65e5e76cfe09",
            "_dom_classes": [],
            "description": "T",
            "step": 0.1,
            "_model_name": "FloatSliderModel",
            "orientation": "horizontal",
            "max": 10,
            "_view_module": "@jupyter-widgets/controls",
            "_model_module_version": "1.5.0",
            "value": 1.02,
            "_view_count": null,
            "disabled": false,
            "_view_module_version": "1.5.0",
            "min": 0.02,
            "continuous_update": true,
            "readout_format": ".2f",
            "description_tooltip": null,
            "readout": true,
            "_model_module": "@jupyter-widgets/controls",
            "layout": "IPY_MODEL_394834803ede4bf584890ccf457066e2"
          }
        },
        "854097e17971416284bd8d1dbc6eac95": {
          "model_module": "@jupyter-widgets/output",
          "model_name": "OutputModel",
          "state": {
            "_view_name": "OutputView",
            "msg_id": "",
            "_dom_classes": [],
            "_model_name": "OutputModel",
            "outputs": [
              {
                "output_type": "display_data",
                "metadata": {
                  "tags": []
                },
                "image/png": "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\n",
                "text/plain": "<Figure size 864x576 with 1 Axes>"
              }
            ],
            "_view_module": "@jupyter-widgets/output",
            "_model_module_version": "1.0.0",
            "_view_count": null,
            "_view_module_version": "1.0.0",
            "layout": "IPY_MODEL_6813c616c55345bda28cd01dc45997df",
            "_model_module": "@jupyter-widgets/output"
          }
        },
        "2cdf646c2d97433c929a65e5e76cfe09": {
          "model_module": "@jupyter-widgets/controls",
          "model_name": "SliderStyleModel",
          "state": {
            "_view_name": "StyleView",
            "handle_color": null,
            "_model_name": "SliderStyleModel",
            "description_width": "",
            "_view_module": "@jupyter-widgets/base",
            "_model_module_version": "1.5.0",
            "_view_count": null,
            "_view_module_version": "1.2.0",
            "_model_module": "@jupyter-widgets/controls"
          }
        },
        "394834803ede4bf584890ccf457066e2": {
          "model_module": "@jupyter-widgets/base",
          "model_name": "LayoutModel",
          "state": {
            "_view_name": "LayoutView",
            "grid_template_rows": null,
            "right": null,
            "justify_content": null,
            "_view_module": "@jupyter-widgets/base",
            "overflow": null,
            "_model_module_version": "1.2.0",
            "_view_count": null,
            "flex_flow": null,
            "width": null,
            "min_width": null,
            "border": null,
            "align_items": null,
            "bottom": null,
            "_model_module": "@jupyter-widgets/base",
            "top": null,
            "grid_column": null,
            "overflow_y": null,
            "overflow_x": null,
            "grid_auto_flow": null,
            "grid_area": null,
            "grid_template_columns": null,
            "flex": null,
            "_model_name": "LayoutModel",
            "justify_items": null,
            "grid_row": null,
            "max_height": null,
            "align_content": null,
            "visibility": null,
            "align_self": null,
            "height": null,
            "min_height": null,
            "padding": null,
            "grid_auto_rows": null,
            "grid_gap": null,
            "max_width": null,
            "order": null,
            "_view_module_version": "1.2.0",
            "grid_template_areas": null,
            "object_position": null,
            "object_fit": null,
            "grid_auto_columns": null,
            "margin": null,
            "display": null,
            "left": null
          }
        },
        "6813c616c55345bda28cd01dc45997df": {
          "model_module": "@jupyter-widgets/base",
          "model_name": "LayoutModel",
          "state": {
            "_view_name": "LayoutView",
            "grid_template_rows": null,
            "right": null,
            "justify_content": null,
            "_view_module": "@jupyter-widgets/base",
            "overflow": null,
            "_model_module_version": "1.2.0",
            "_view_count": null,
            "flex_flow": null,
            "width": null,
            "min_width": null,
            "border": null,
            "align_items": null,
            "bottom": null,
            "_model_module": "@jupyter-widgets/base",
            "top": null,
            "grid_column": null,
            "overflow_y": null,
            "overflow_x": null,
            "grid_auto_flow": null,
            "grid_area": null,
            "grid_template_columns": null,
            "flex": null,
            "_model_name": "LayoutModel",
            "justify_items": null,
            "grid_row": null,
            "max_height": null,
            "align_content": null,
            "visibility": null,
            "align_self": null,
            "height": null,
            "min_height": null,
            "padding": null,
            "grid_auto_rows": null,
            "grid_gap": null,
            "max_width": null,
            "order": null,
            "_view_module_version": "1.2.0",
            "grid_template_areas": null,
            "object_position": null,
            "object_fit": null,
            "grid_auto_columns": null,
            "margin": null,
            "display": null,
            "left": null
          }
        },
        "2f304754263d4e68bbc10a5cb31e08ce": {
          "model_module": "@jupyter-widgets/controls",
          "model_name": "HBoxModel",
          "state": {
            "_view_name": "HBoxView",
            "_dom_classes": [],
            "_model_name": "HBoxModel",
            "_view_module": "@jupyter-widgets/controls",
            "_model_module_version": "1.5.0",
            "_view_count": null,
            "_view_module_version": "1.5.0",
            "box_style": "",
            "layout": "IPY_MODEL_d2725b276113421da2d6c4be44c27d72",
            "_model_module": "@jupyter-widgets/controls",
            "children": [
              "IPY_MODEL_001c7b16e7df4b42911a76bc6cf99051",
              "IPY_MODEL_ea555983aebe402192496f78f2b84f0e"
            ]
          }
        },
        "d2725b276113421da2d6c4be44c27d72": {
          "model_module": "@jupyter-widgets/base",
          "model_name": "LayoutModel",
          "state": {
            "_view_name": "LayoutView",
            "grid_template_rows": null,
            "right": null,
            "justify_content": null,
            "_view_module": "@jupyter-widgets/base",
            "overflow": null,
            "_model_module_version": "1.2.0",
            "_view_count": null,
            "flex_flow": null,
            "width": null,
            "min_width": null,
            "border": null,
            "align_items": null,
            "bottom": null,
            "_model_module": "@jupyter-widgets/base",
            "top": null,
            "grid_column": null,
            "overflow_y": null,
            "overflow_x": null,
            "grid_auto_flow": null,
            "grid_area": null,
            "grid_template_columns": null,
            "flex": null,
            "_model_name": "LayoutModel",
            "justify_items": null,
            "grid_row": null,
            "max_height": null,
            "align_content": null,
            "visibility": null,
            "align_self": null,
            "height": null,
            "min_height": null,
            "padding": null,
            "grid_auto_rows": null,
            "grid_gap": null,
            "max_width": null,
            "order": null,
            "_view_module_version": "1.2.0",
            "grid_template_areas": null,
            "object_position": null,
            "object_fit": null,
            "grid_auto_columns": null,
            "margin": null,
            "display": null,
            "left": null
          }
        },
        "001c7b16e7df4b42911a76bc6cf99051": {
          "model_module": "@jupyter-widgets/controls",
          "model_name": "FloatProgressModel",
          "state": {
            "_view_name": "ProgressView",
            "style": "IPY_MODEL_54c8ade810ad4d7faffd2d92a5d3cd4a",
            "_dom_classes": [],
            "description": "100%",
            "_model_name": "FloatProgressModel",
            "bar_style": "success",
            "max": 1,
            "_view_module": "@jupyter-widgets/controls",
            "_model_module_version": "1.5.0",
            "value": 1,
            "_view_count": null,
            "_view_module_version": "1.5.0",
            "orientation": "horizontal",
            "min": 0,
            "description_tooltip": null,
            "_model_module": "@jupyter-widgets/controls",
            "layout": "IPY_MODEL_08b465aa5bc04356af8c8a92174eb023"
          }
        },
        "ea555983aebe402192496f78f2b84f0e": {
          "model_module": "@jupyter-widgets/controls",
          "model_name": "HTMLModel",
          "state": {
            "_view_name": "HTMLView",
            "style": "IPY_MODEL_9e4b141449f2454c9bb984efc68fcb54",
            "_dom_classes": [],
            "description": "",
            "_model_name": "HTMLModel",
            "placeholder": "​",
            "_view_module": "@jupyter-widgets/controls",
            "_model_module_version": "1.5.0",
            "value": " 1/1 [05:19&lt;00:00, 319.51s/it]",
            "_view_count": null,
            "_view_module_version": "1.5.0",
            "description_tooltip": null,
            "_model_module": "@jupyter-widgets/controls",
            "layout": "IPY_MODEL_62455c2f2d1b49a9ad12c78db4fdcc52"
          }
        },
        "54c8ade810ad4d7faffd2d92a5d3cd4a": {
          "model_module": "@jupyter-widgets/controls",
          "model_name": "ProgressStyleModel",
          "state": {
            "_view_name": "StyleView",
            "_model_name": "ProgressStyleModel",
            "description_width": "initial",
            "_view_module": "@jupyter-widgets/base",
            "_model_module_version": "1.5.0",
            "_view_count": null,
            "_view_module_version": "1.2.0",
            "bar_color": null,
            "_model_module": "@jupyter-widgets/controls"
          }
        },
        "08b465aa5bc04356af8c8a92174eb023": {
          "model_module": "@jupyter-widgets/base",
          "model_name": "LayoutModel",
          "state": {
            "_view_name": "LayoutView",
            "grid_template_rows": null,
            "right": null,
            "justify_content": null,
            "_view_module": "@jupyter-widgets/base",
            "overflow": null,
            "_model_module_version": "1.2.0",
            "_view_count": null,
            "flex_flow": null,
            "width": null,
            "min_width": null,
            "border": null,
            "align_items": null,
            "bottom": null,
            "_model_module": "@jupyter-widgets/base",
            "top": null,
            "grid_column": null,
            "overflow_y": null,
            "overflow_x": null,
            "grid_auto_flow": null,
            "grid_area": null,
            "grid_template_columns": null,
            "flex": null,
            "_model_name": "LayoutModel",
            "justify_items": null,
            "grid_row": null,
            "max_height": null,
            "align_content": null,
            "visibility": null,
            "align_self": null,
            "height": null,
            "min_height": null,
            "padding": null,
            "grid_auto_rows": null,
            "grid_gap": null,
            "max_width": null,
            "order": null,
            "_view_module_version": "1.2.0",
            "grid_template_areas": null,
            "object_position": null,
            "object_fit": null,
            "grid_auto_columns": null,
            "margin": null,
            "display": null,
            "left": null
          }
        },
        "9e4b141449f2454c9bb984efc68fcb54": {
          "model_module": "@jupyter-widgets/controls",
          "model_name": "DescriptionStyleModel",
          "state": {
            "_view_name": "StyleView",
            "_model_name": "DescriptionStyleModel",
            "description_width": "",
            "_view_module": "@jupyter-widgets/base",
            "_model_module_version": "1.5.0",
            "_view_count": null,
            "_view_module_version": "1.2.0",
            "_model_module": "@jupyter-widgets/controls"
          }
        },
        "62455c2f2d1b49a9ad12c78db4fdcc52": {
          "model_module": "@jupyter-widgets/base",
          "model_name": "LayoutModel",
          "state": {
            "_view_name": "LayoutView",
            "grid_template_rows": null,
            "right": null,
            "justify_content": null,
            "_view_module": "@jupyter-widgets/base",
            "overflow": null,
            "_model_module_version": "1.2.0",
            "_view_count": null,
            "flex_flow": null,
            "width": null,
            "min_width": null,
            "border": null,
            "align_items": null,
            "bottom": null,
            "_model_module": "@jupyter-widgets/base",
            "top": null,
            "grid_column": null,
            "overflow_y": null,
            "overflow_x": null,
            "grid_auto_flow": null,
            "grid_area": null,
            "grid_template_columns": null,
            "flex": null,
            "_model_name": "LayoutModel",
            "justify_items": null,
            "grid_row": null,
            "max_height": null,
            "align_content": null,
            "visibility": null,
            "align_self": null,
            "height": null,
            "min_height": null,
            "padding": null,
            "grid_auto_rows": null,
            "grid_gap": null,
            "max_width": null,
            "order": null,
            "_view_module_version": "1.2.0",
            "grid_template_areas": null,
            "object_position": null,
            "object_fit": null,
            "grid_auto_columns": null,
            "margin": null,
            "display": null,
            "left": null
          }
        },
        "4c3c0c56f0e84efaa917ed0536263dae": {
          "model_module": "@jupyter-widgets/controls",
          "model_name": "HBoxModel",
          "state": {
            "_view_name": "HBoxView",
            "_dom_classes": [],
            "_model_name": "HBoxModel",
            "_view_module": "@jupyter-widgets/controls",
            "_model_module_version": "1.5.0",
            "_view_count": null,
            "_view_module_version": "1.5.0",
            "box_style": "",
            "layout": "IPY_MODEL_397df1b585cc4ed0bf52ccf939aa9577",
            "_model_module": "@jupyter-widgets/controls",
            "children": [
              "IPY_MODEL_eed683e6b0684acba5419f1cf5c1fcb5",
              "IPY_MODEL_62a909c674bf4f21a2c13c3a7d0fa1e5"
            ]
          }
        },
        "397df1b585cc4ed0bf52ccf939aa9577": {
          "model_module": "@jupyter-widgets/base",
          "model_name": "LayoutModel",
          "state": {
            "_view_name": "LayoutView",
            "grid_template_rows": null,
            "right": null,
            "justify_content": null,
            "_view_module": "@jupyter-widgets/base",
            "overflow": null,
            "_model_module_version": "1.2.0",
            "_view_count": null,
            "flex_flow": null,
            "width": null,
            "min_width": null,
            "border": null,
            "align_items": null,
            "bottom": null,
            "_model_module": "@jupyter-widgets/base",
            "top": null,
            "grid_column": null,
            "overflow_y": null,
            "overflow_x": null,
            "grid_auto_flow": null,
            "grid_area": null,
            "grid_template_columns": null,
            "flex": null,
            "_model_name": "LayoutModel",
            "justify_items": null,
            "grid_row": null,
            "max_height": null,
            "align_content": null,
            "visibility": null,
            "align_self": null,
            "height": null,
            "min_height": null,
            "padding": null,
            "grid_auto_rows": null,
            "grid_gap": null,
            "max_width": null,
            "order": null,
            "_view_module_version": "1.2.0",
            "grid_template_areas": null,
            "object_position": null,
            "object_fit": null,
            "grid_auto_columns": null,
            "margin": null,
            "display": null,
            "left": null
          }
        },
        "eed683e6b0684acba5419f1cf5c1fcb5": {
          "model_module": "@jupyter-widgets/controls",
          "model_name": "FloatProgressModel",
          "state": {
            "_view_name": "ProgressView",
            "style": "IPY_MODEL_fb361cf827eb471ca4f48e550aac0047",
            "_dom_classes": [],
            "description": "Train epoch: ",
            "_model_name": "FloatProgressModel",
            "bar_style": "",
            "max": 1500,
            "_view_module": "@jupyter-widgets/controls",
            "_model_module_version": "1.5.0",
            "value": 1500,
            "_view_count": null,
            "_view_module_version": "1.5.0",
            "orientation": "horizontal",
            "min": 0,
            "description_tooltip": null,
            "_model_module": "@jupyter-widgets/controls",
            "layout": "IPY_MODEL_2b210dc5feb442b689d507b72721811d"
          }
        },
        "62a909c674bf4f21a2c13c3a7d0fa1e5": {
          "model_module": "@jupyter-widgets/controls",
          "model_name": "HTMLModel",
          "state": {
            "_view_name": "HTMLView",
            "style": "IPY_MODEL_c724363c858f46a885552157ed144c37",
            "_dom_classes": [],
            "description": "",
            "_model_name": "HTMLModel",
            "placeholder": "​",
            "_view_module": "@jupyter-widgets/controls",
            "_model_module_version": "1.5.0",
            "value": " 1573/? [04:29&lt;00:00,  5.50it/s]",
            "_view_count": null,
            "_view_module_version": "1.5.0",
            "description_tooltip": null,
            "_model_module": "@jupyter-widgets/controls",
            "layout": "IPY_MODEL_e9acefc5c66d47a793150d451ef4724c"
          }
        },
        "fb361cf827eb471ca4f48e550aac0047": {
          "model_module": "@jupyter-widgets/controls",
          "model_name": "ProgressStyleModel",
          "state": {
            "_view_name": "StyleView",
            "_model_name": "ProgressStyleModel",
            "description_width": "initial",
            "_view_module": "@jupyter-widgets/base",
            "_model_module_version": "1.5.0",
            "_view_count": null,
            "_view_module_version": "1.2.0",
            "bar_color": null,
            "_model_module": "@jupyter-widgets/controls"
          }
        },
        "2b210dc5feb442b689d507b72721811d": {
          "model_module": "@jupyter-widgets/base",
          "model_name": "LayoutModel",
          "state": {
            "_view_name": "LayoutView",
            "grid_template_rows": null,
            "right": null,
            "justify_content": null,
            "_view_module": "@jupyter-widgets/base",
            "overflow": null,
            "_model_module_version": "1.2.0",
            "_view_count": null,
            "flex_flow": null,
            "width": null,
            "min_width": null,
            "border": null,
            "align_items": null,
            "bottom": null,
            "_model_module": "@jupyter-widgets/base",
            "top": null,
            "grid_column": null,
            "overflow_y": null,
            "overflow_x": null,
            "grid_auto_flow": null,
            "grid_area": null,
            "grid_template_columns": null,
            "flex": null,
            "_model_name": "LayoutModel",
            "justify_items": null,
            "grid_row": null,
            "max_height": null,
            "align_content": null,
            "visibility": null,
            "align_self": null,
            "height": null,
            "min_height": null,
            "padding": null,
            "grid_auto_rows": null,
            "grid_gap": null,
            "max_width": null,
            "order": null,
            "_view_module_version": "1.2.0",
            "grid_template_areas": null,
            "object_position": null,
            "object_fit": null,
            "grid_auto_columns": null,
            "margin": null,
            "display": null,
            "left": null
          }
        },
        "c724363c858f46a885552157ed144c37": {
          "model_module": "@jupyter-widgets/controls",
          "model_name": "DescriptionStyleModel",
          "state": {
            "_view_name": "StyleView",
            "_model_name": "DescriptionStyleModel",
            "description_width": "",
            "_view_module": "@jupyter-widgets/base",
            "_model_module_version": "1.5.0",
            "_view_count": null,
            "_view_module_version": "1.2.0",
            "_model_module": "@jupyter-widgets/controls"
          }
        },
        "e9acefc5c66d47a793150d451ef4724c": {
          "model_module": "@jupyter-widgets/base",
          "model_name": "LayoutModel",
          "state": {
            "_view_name": "LayoutView",
            "grid_template_rows": null,
            "right": null,
            "justify_content": null,
            "_view_module": "@jupyter-widgets/base",
            "overflow": null,
            "_model_module_version": "1.2.0",
            "_view_count": null,
            "flex_flow": null,
            "width": null,
            "min_width": null,
            "border": null,
            "align_items": null,
            "bottom": null,
            "_model_module": "@jupyter-widgets/base",
            "top": null,
            "grid_column": null,
            "overflow_y": null,
            "overflow_x": null,
            "grid_auto_flow": null,
            "grid_area": null,
            "grid_template_columns": null,
            "flex": null,
            "_model_name": "LayoutModel",
            "justify_items": null,
            "grid_row": null,
            "max_height": null,
            "align_content": null,
            "visibility": null,
            "align_self": null,
            "height": null,
            "min_height": null,
            "padding": null,
            "grid_auto_rows": null,
            "grid_gap": null,
            "max_width": null,
            "order": null,
            "_view_module_version": "1.2.0",
            "grid_template_areas": null,
            "object_position": null,
            "object_fit": null,
            "grid_auto_columns": null,
            "margin": null,
            "display": null,
            "left": null
          }
        },
        "e027e844084d4c87a03915a86a7adc8a": {
          "model_module": "@jupyter-widgets/controls",
          "model_name": "HBoxModel",
          "state": {
            "_view_name": "HBoxView",
            "_dom_classes": [],
            "_model_name": "HBoxModel",
            "_view_module": "@jupyter-widgets/controls",
            "_model_module_version": "1.5.0",
            "_view_count": null,
            "_view_module_version": "1.5.0",
            "box_style": "",
            "layout": "IPY_MODEL_20b538149c244c7a803536b34d25bfb5",
            "_model_module": "@jupyter-widgets/controls",
            "children": [
              "IPY_MODEL_50f9fbb6328d444480113cc5ae5966fe",
              "IPY_MODEL_9eb749af3bd442b1913cf6710dc94e28"
            ]
          }
        },
        "20b538149c244c7a803536b34d25bfb5": {
          "model_module": "@jupyter-widgets/base",
          "model_name": "LayoutModel",
          "state": {
            "_view_name": "LayoutView",
            "grid_template_rows": null,
            "right": null,
            "justify_content": null,
            "_view_module": "@jupyter-widgets/base",
            "overflow": null,
            "_model_module_version": "1.2.0",
            "_view_count": null,
            "flex_flow": null,
            "width": null,
            "min_width": null,
            "border": null,
            "align_items": null,
            "bottom": null,
            "_model_module": "@jupyter-widgets/base",
            "top": null,
            "grid_column": null,
            "overflow_y": null,
            "overflow_x": null,
            "grid_auto_flow": null,
            "grid_area": null,
            "grid_template_columns": null,
            "flex": null,
            "_model_name": "LayoutModel",
            "justify_items": null,
            "grid_row": null,
            "max_height": null,
            "align_content": null,
            "visibility": null,
            "align_self": null,
            "height": null,
            "min_height": null,
            "padding": null,
            "grid_auto_rows": null,
            "grid_gap": null,
            "max_width": null,
            "order": null,
            "_view_module_version": "1.2.0",
            "grid_template_areas": null,
            "object_position": null,
            "object_fit": null,
            "grid_auto_columns": null,
            "margin": null,
            "display": null,
            "left": null
          }
        },
        "50f9fbb6328d444480113cc5ae5966fe": {
          "model_module": "@jupyter-widgets/controls",
          "model_name": "FloatProgressModel",
          "state": {
            "_view_name": "ProgressView",
            "style": "IPY_MODEL_7cb46af3e0be48afb21376ec3b93a58d",
            "_dom_classes": [],
            "description": "Valid epoch: ",
            "_model_name": "FloatProgressModel",
            "bar_style": "",
            "max": 221,
            "_view_module": "@jupyter-widgets/controls",
            "_model_module_version": "1.5.0",
            "value": 221,
            "_view_count": null,
            "_view_module_version": "1.5.0",
            "orientation": "horizontal",
            "min": 0,
            "description_tooltip": null,
            "_model_module": "@jupyter-widgets/controls",
            "layout": "IPY_MODEL_38e3b4d6e72241879090af70d5afcc0b"
          }
        },
        "9eb749af3bd442b1913cf6710dc94e28": {
          "model_module": "@jupyter-widgets/controls",
          "model_name": "HTMLModel",
          "state": {
            "_view_name": "HTMLView",
            "style": "IPY_MODEL_7664d1e5f6e4439ebef343eb88a8afbb",
            "_dom_classes": [],
            "description": "",
            "_model_name": "HTMLModel",
            "placeholder": "​",
            "_view_module": "@jupyter-widgets/controls",
            "_model_module_version": "1.5.0",
            "value": " 285/? [00:50&lt;00:00,  6.10it/s]",
            "_view_count": null,
            "_view_module_version": "1.5.0",
            "description_tooltip": null,
            "_model_module": "@jupyter-widgets/controls",
            "layout": "IPY_MODEL_5b77829ae1f64eb6ae946c73df73babd"
          }
        },
        "7cb46af3e0be48afb21376ec3b93a58d": {
          "model_module": "@jupyter-widgets/controls",
          "model_name": "ProgressStyleModel",
          "state": {
            "_view_name": "StyleView",
            "_model_name": "ProgressStyleModel",
            "description_width": "initial",
            "_view_module": "@jupyter-widgets/base",
            "_model_module_version": "1.5.0",
            "_view_count": null,
            "_view_module_version": "1.2.0",
            "bar_color": null,
            "_model_module": "@jupyter-widgets/controls"
          }
        },
        "38e3b4d6e72241879090af70d5afcc0b": {
          "model_module": "@jupyter-widgets/base",
          "model_name": "LayoutModel",
          "state": {
            "_view_name": "LayoutView",
            "grid_template_rows": null,
            "right": null,
            "justify_content": null,
            "_view_module": "@jupyter-widgets/base",
            "overflow": null,
            "_model_module_version": "1.2.0",
            "_view_count": null,
            "flex_flow": null,
            "width": null,
            "min_width": null,
            "border": null,
            "align_items": null,
            "bottom": null,
            "_model_module": "@jupyter-widgets/base",
            "top": null,
            "grid_column": null,
            "overflow_y": null,
            "overflow_x": null,
            "grid_auto_flow": null,
            "grid_area": null,
            "grid_template_columns": null,
            "flex": null,
            "_model_name": "LayoutModel",
            "justify_items": null,
            "grid_row": null,
            "max_height": null,
            "align_content": null,
            "visibility": null,
            "align_self": null,
            "height": null,
            "min_height": null,
            "padding": null,
            "grid_auto_rows": null,
            "grid_gap": null,
            "max_width": null,
            "order": null,
            "_view_module_version": "1.2.0",
            "grid_template_areas": null,
            "object_position": null,
            "object_fit": null,
            "grid_auto_columns": null,
            "margin": null,
            "display": null,
            "left": null
          }
        },
        "7664d1e5f6e4439ebef343eb88a8afbb": {
          "model_module": "@jupyter-widgets/controls",
          "model_name": "DescriptionStyleModel",
          "state": {
            "_view_name": "StyleView",
            "_model_name": "DescriptionStyleModel",
            "description_width": "",
            "_view_module": "@jupyter-widgets/base",
            "_model_module_version": "1.5.0",
            "_view_count": null,
            "_view_module_version": "1.2.0",
            "_model_module": "@jupyter-widgets/controls"
          }
        },
        "5b77829ae1f64eb6ae946c73df73babd": {
          "model_module": "@jupyter-widgets/base",
          "model_name": "LayoutModel",
          "state": {
            "_view_name": "LayoutView",
            "grid_template_rows": null,
            "right": null,
            "justify_content": null,
            "_view_module": "@jupyter-widgets/base",
            "overflow": null,
            "_model_module_version": "1.2.0",
            "_view_count": null,
            "flex_flow": null,
            "width": null,
            "min_width": null,
            "border": null,
            "align_items": null,
            "bottom": null,
            "_model_module": "@jupyter-widgets/base",
            "top": null,
            "grid_column": null,
            "overflow_y": null,
            "overflow_x": null,
            "grid_auto_flow": null,
            "grid_area": null,
            "grid_template_columns": null,
            "flex": null,
            "_model_name": "LayoutModel",
            "justify_items": null,
            "grid_row": null,
            "max_height": null,
            "align_content": null,
            "visibility": null,
            "align_self": null,
            "height": null,
            "min_height": null,
            "padding": null,
            "grid_auto_rows": null,
            "grid_gap": null,
            "max_width": null,
            "order": null,
            "_view_module_version": "1.2.0",
            "grid_template_areas": null,
            "object_position": null,
            "object_fit": null,
            "grid_auto_columns": null,
            "margin": null,
            "display": null,
            "left": null
          }
        }
      }
    }
  },
  "cells": [
    {
      "cell_type": "markdown",
      "metadata": {
        "id": "kwqhVfKZFTsH"
      },
      "source": [
        "<p style=\"align: center;\"><img align=center src=\"https://s8.hostingkartinok.com/uploads/images/2018/08/308b49fcfbc619d629fe4604bceb67ac.jpg\" style=\"height:450px;\" width=500/></p>\n",
        "\n",
        "<h3 style=\"text-align: center;\"><b>Школа глубокого обучения ФПМИ МФТИ</b></h3>\n",
        "<h3 style=\"text-align: center;\"><b>Продвинутый поток (часть 2). Весна 2021</b></h3>\n",
        "\n",
        "<h1 style=\"text-align: center;\"><b>Language modeling.</b></h1>"
      ]
    },
    {
      "cell_type": "markdown",
      "metadata": {
        "id": "4qfMzq3yGMfz"
      },
      "source": [
        "Для начала загрузим датасет, состоящий из сэмплов кода на языке Python. Датасет представлен гитхабом. [Про датасет](https://github.blog/2019-09-26-introducing-the-codesearchnet-challenge/).\n",
        "\n",
        "Для препроцессинга будем использовать уже известную нам библиотеку `datasets` от Huggingface."
      ]
    },
    {
      "cell_type": "code",
      "metadata": {
        "id": "cRr0qansUVKx",
        "colab": {
          "base_uri": "https://localhost:8080/"
        },
        "outputId": "e4b3deb6-f550-4c40-a8ee-be57ed24891e"
      },
      "source": [
        "!pip install -q datasets"
      ],
      "execution_count": null,
      "outputs": [
        {
          "output_type": "stream",
          "text": [
            "\u001b[K     |████████████████████████████████| 194kB 21.9MB/s \n",
            "\u001b[K     |████████████████████████████████| 112kB 51.4MB/s \n",
            "\u001b[K     |████████████████████████████████| 245kB 58.4MB/s \n",
            "\u001b[?25h"
          ],
          "name": "stdout"
        }
      ]
    },
    {
      "cell_type": "code",
      "metadata": {
        "colab": {
          "base_uri": "https://localhost:8080/"
        },
        "id": "5kNmgObmKuEi",
        "outputId": "463ffad9-0925-41ce-9983-bf5ec021b5ea"
      },
      "source": [
        "!wget https://s3.amazonaws.com/code-search-net/CodeSearchNet/v2/python.zip\n",
        "!unzip -p python.zip python/final/jsonl/train/python_train_0.jsonl.gz > train.jsonl.gz\n",
        "!unzip -p python.zip python/final/jsonl/test/python_test_0.jsonl.gz > test.jsonl.gz"
      ],
      "execution_count": null,
      "outputs": [
        {
          "output_type": "stream",
          "text": [
            "--2021-03-06 10:28:54--  https://s3.amazonaws.com/code-search-net/CodeSearchNet/v2/python.zip\n",
            "Resolving s3.amazonaws.com (s3.amazonaws.com)... 52.217.70.198\n",
            "Connecting to s3.amazonaws.com (s3.amazonaws.com)|52.217.70.198|:443... connected.\n",
            "HTTP request sent, awaiting response... 200 OK\n",
            "Length: 940909997 (897M) [application/zip]\n",
            "Saving to: ‘python.zip’\n",
            "\n",
            "python.zip          100%[===================>] 897.32M  95.2MB/s    in 9.4s    \n",
            "\n",
            "2021-03-06 10:29:04 (95.0 MB/s) - ‘python.zip’ saved [940909997/940909997]\n",
            "\n"
          ],
          "name": "stdout"
        }
      ]
    },
    {
      "cell_type": "code",
      "metadata": {
        "id": "1T5RyVptLCYU"
      },
      "source": [
        "# decompress this gzip file\n",
        "!gzip -d train.jsonl.gz\n",
        "!gzip -d test.jsonl.gz"
      ],
      "execution_count": null,
      "outputs": []
    },
    {
      "cell_type": "markdown",
      "metadata": {
        "id": "_HOfyBhlImmr"
      },
      "source": [
        "Загружать датасеты можно не только из хаба, но и из диска. Для этого достаточно указать формат и путь до файла."
      ]
    },
    {
      "cell_type": "code",
      "metadata": {
        "colab": {
          "base_uri": "https://localhost:8080/",
          "height": 88,
          "referenced_widgets": [
            "db47c9b757ae4f8993c57fe7398d054e",
            "07c5c0f40ccb4d5496e870453388d4ff",
            "f01095ee39a54a69a0581651db689a4c",
            "7e42523b52044af582ce880c10918dc8",
            "34e495856afa43fa929cb9ba72d48838",
            "30ee74669b2a40c2832a759a53ff49e4",
            "e66ea1ea8c264070bfced85e1d4e2a5b",
            "a2e0af5979b943bf9ff75920df1ab995"
          ]
        },
        "id": "QWVVewKKUNXu",
        "outputId": "9dd850ab-b7af-48d0-91d0-1ed6d5fa4400"
      },
      "source": [
        "from datasets import load_dataset  \n",
        "dataset = load_dataset(\n",
        "    \"json\",\n",
        "    data_files=[\n",
        "        \"train.jsonl\",\n",
        "    ],\n",
        ")"
      ],
      "execution_count": null,
      "outputs": [
        {
          "output_type": "stream",
          "text": [
            "Using custom data configuration default-c29742d500581c14\n"
          ],
          "name": "stderr"
        },
        {
          "output_type": "stream",
          "text": [
            "Downloading and preparing dataset json/default (download: Unknown size, generated: Unknown size, post-processed: Unknown size, total: Unknown size) to /root/.cache/huggingface/datasets/json/default-c29742d500581c14/0.0.0/dc7ee63ec8b554c48ecc5a8a6fbe27af8071408c244e4347cf9222d6206d83a2...\n"
          ],
          "name": "stdout"
        },
        {
          "output_type": "display_data",
          "data": {
            "application/vnd.jupyter.widget-view+json": {
              "model_id": "db47c9b757ae4f8993c57fe7398d054e",
              "version_minor": 0,
              "version_major": 2
            },
            "text/plain": [
              "HBox(children=(FloatProgress(value=1.0, bar_style='info', max=1.0), HTML(value='')))"
            ]
          },
          "metadata": {
            "tags": []
          }
        },
        {
          "output_type": "stream",
          "text": [
            "\rDataset json downloaded and prepared to /root/.cache/huggingface/datasets/json/default-c29742d500581c14/0.0.0/dc7ee63ec8b554c48ecc5a8a6fbe27af8071408c244e4347cf9222d6206d83a2. Subsequent calls will reuse this data.\n"
          ],
          "name": "stdout"
        }
      ]
    },
    {
      "cell_type": "code",
      "metadata": {
        "colab": {
          "base_uri": "https://localhost:8080/"
        },
        "id": "Q3x7ZFbnM5vR",
        "outputId": "fd599963-b173-4612-c0bb-c6c7dfd3e84a"
      },
      "source": [
        "dataset"
      ],
      "execution_count": null,
      "outputs": [
        {
          "output_type": "execute_result",
          "data": {
            "text/plain": [
              "DatasetDict({\n",
              "    train: Dataset({\n",
              "        features: ['repo', 'path', 'func_name', 'original_string', 'language', 'code', 'code_tokens', 'docstring', 'docstring_tokens', 'sha', 'url', 'partition'],\n",
              "        num_rows: 30000\n",
              "    })\n",
              "})"
            ]
          },
          "metadata": {
            "tags": []
          },
          "execution_count": 5
        }
      ]
    },
    {
      "cell_type": "markdown",
      "metadata": {
        "id": "I3P6WOO6Iw-L"
      },
      "source": [
        "Ограничим число уникальных слов до `40000`."
      ]
    },
    {
      "cell_type": "code",
      "metadata": {
        "id": "1DfCJVx7PmiX"
      },
      "source": [
        "from collections import Counter\n",
        "\n",
        "\n",
        "vocab_size = 40000\n",
        "stats = Counter()\n",
        "\n",
        "for item in dataset[\"train\"]:\n",
        "    stats.update(item[\"code_tokens\"])\n",
        "tokens = dict(stats.most_common(vocab_size)).keys()"
      ],
      "execution_count": null,
      "outputs": []
    },
    {
      "cell_type": "markdown",
      "metadata": {
        "id": "VmkeF_DEJDLv"
      },
      "source": [
        "Посмотрим на самые часто встречающиеся слова"
      ]
    },
    {
      "cell_type": "code",
      "metadata": {
        "colab": {
          "base_uri": "https://localhost:8080/"
        },
        "id": "zK81AWTmSDoh",
        "outputId": "78c3782a-1d75-4eeb-efdb-123eaec51540"
      },
      "source": [
        "stats.most_common(20)"
      ],
      "execution_count": null,
      "outputs": [
        {
          "output_type": "execute_result",
          "data": {
            "text/plain": [
              "[('(', 299562),\n",
              " (')', 299456),\n",
              " ('.', 283659),\n",
              " (',', 267888),\n",
              " ('=', 238494),\n",
              " (':', 176959),\n",
              " ('[', 99465),\n",
              " (']', 99448),\n",
              " ('self', 71449),\n",
              " ('if', 65763),\n",
              " ('return', 40852),\n",
              " ('None', 37311),\n",
              " ('def', 32278),\n",
              " ('in', 29951),\n",
              " ('*', 21773),\n",
              " ('not', 21291),\n",
              " ('name', 21205),\n",
              " ('ret', 20862),\n",
              " ('1', 19494),\n",
              " ('for', 19364)]"
            ]
          },
          "metadata": {
            "tags": []
          },
          "execution_count": 7
        }
      ]
    },
    {
      "cell_type": "markdown",
      "metadata": {
        "id": "aeYOYOdcJIAQ"
      },
      "source": [
        "Добавим служебные токены"
      ]
    },
    {
      "cell_type": "code",
      "metadata": {
        "id": "1bI5Z3K_R6ZO"
      },
      "source": [
        "PAD = 0\n",
        "UNK = 1\n",
        "EOS = 2\n",
        "\n",
        "token2idx = {\"[PAD]\": 0, \"[UNK]\": 1, \"[EOS]\": 2}\n",
        "\n",
        "for idx, token in enumerate(tokens):\n",
        "    token2idx[token] = idx + 3"
      ],
      "execution_count": null,
      "outputs": []
    },
    {
      "cell_type": "markdown",
      "metadata": {
        "id": "1Uz228mRJOHK"
      },
      "source": [
        "Переведем токены в индексы"
      ]
    },
    {
      "cell_type": "code",
      "metadata": {
        "id": "MKWCEMGLjosj"
      },
      "source": [
        "def encode(token):\n",
        "    if token in token2idx.keys():\n",
        "        return token2idx[token]\n",
        "    return UNK"
      ],
      "execution_count": null,
      "outputs": []
    },
    {
      "cell_type": "code",
      "metadata": {
        "colab": {
          "base_uri": "https://localhost:8080/",
          "height": 66,
          "referenced_widgets": [
            "87ce259e87d94148bceb1e76b433aa09",
            "0b013a2faf7d41b39625148e8594ab83",
            "b8b7ca8bea204e90b9db146901ac497e",
            "19caa508c3864729847494b985fa3537",
            "273ca61ff9e84e91bcd5d6b98fde801d",
            "60815840fb434b0a9297f977916c5ba7",
            "6b8172f3c9b24d7a98dce2f360454001",
            "5c57a4a2df244662960ca057d2405127"
          ]
        },
        "id": "GPLkFE44O-rD",
        "outputId": "6be0e02b-62ff-49df-acc2-8fb227a51706"
      },
      "source": [
        "dataset = dataset.map(\n",
        "    lambda item: {\n",
        "        \"features\": [encode(token) for token in item[\"code_tokens\"]] + [EOS]\n",
        "    }\n",
        ")"
      ],
      "execution_count": null,
      "outputs": [
        {
          "output_type": "display_data",
          "data": {
            "application/vnd.jupyter.widget-view+json": {
              "model_id": "87ce259e87d94148bceb1e76b433aa09",
              "version_minor": 0,
              "version_major": 2
            },
            "text/plain": [
              "HBox(children=(FloatProgress(value=0.0, max=30000.0), HTML(value='')))"
            ]
          },
          "metadata": {
            "tags": []
          }
        },
        {
          "output_type": "stream",
          "text": [
            "\n"
          ],
          "name": "stdout"
        }
      ]
    },
    {
      "cell_type": "markdown",
      "metadata": {
        "id": "lvklCYVfKSp8"
      },
      "source": [
        "## N-gram\n",
        "\n",
        " Наченм с простейшей модели. Она основывается на статистическом методе. Итак, в языковом моделировании мы хотим максимизировать вероятность нашего текста по мнению модели, то есть:\n",
        " $$\n",
        "\\mathrm{P}(\\mathrm{W})=\\mathrm{P}\\left(\\mathrm{w}_{1}, \\mathrm{w}_{2}, \\mathrm{w}_{3}, \\mathrm{w}_{4}, \\mathrm{w}_{5} \\ldots \\mathrm{w}_{\\mathrm{n}}\\right)\n",
        "$$\n",
        "\n",
        "\n",
        "Вспомним, что можно переписать:\n",
        "\n",
        "$$\n",
        "P\\left(x_{1}, x_{2}, x_{3}, \\ldots, x_{n}\\right)=P\\left(x_{1}\\right) P\\left(x_{2} \\mid x_{1}\\right) P\\left(x_{3} \\mid x_{1}, x_{2}\\right) \\ldots P\\left(x_{n} \\mid x_{1}, \\ldots, x_{n-1}\\right)\n",
        "$$\n",
        "\n",
        "Тогда:\n",
        "\n",
        "$$\n",
        "P\\left(w_{1} w_{2} \\ldots w_{n}\\right)=\\prod_{i} P\\left(w_{i} \\mid w_{1} w_{2} \\ldots w_{i-1}\\right)\n",
        "$$\n",
        "\n",
        "Однако число вероятностей вида $P\\left(w_{i} \\mid w_{1} w_{2} \\ldots w_{i-1}\\right)$ растет очень быстро. Поэтому используют некоторое предположение которое называется **марковковское приближение**. Формулируется оно так:\n",
        "\n",
        "$$\n",
        "P\\left(w_{1} w_{2} \\ldots w_{n}\\right) \\approx \\prod_{i} P\\left(w_{i} \\mid w_{i-k} \\ldots w_{i-1}\\right)\n",
        "$$\n",
        "\n",
        "То есть мы считаем, что текущее слово зависит только от $k$ предыдущих.\n",
        "\n",
        "$$\n",
        "P\\left(w_{i} \\mid w_{1} w_{2} \\ldots w_{i-1}\\right) \\approx P\\left(w_{i} \\mid w_{i-k} \\ldots w_{i-1}\\right)\n",
        "$$\n"
      ]
    },
    {
      "cell_type": "code",
      "metadata": {
        "id": "iTEcwLLWh7R7"
      },
      "source": [
        "import numpy as np\n",
        "from collections import Counter, defaultdict\n",
        "\n",
        "from tqdm.notebook import tqdm\n",
        "\n",
        "\n",
        "class NGramModel(object):\n",
        "    \"\"\"\n",
        "    Структура этой реализации n-граммной модели следующая:\n",
        "    self.ngrams – словарь, который на каждый (token_0, ..., token_(n-1)) – n-1 tuple из токенов\n",
        "        хранит частоту появления следующего токена. Для подсчета числа токенов воспользуемся\n",
        "        Counter\n",
        "    self.tokenize_func – функция токенизации текста. С её помощью будем получать токены.\n",
        "    \"\"\"\n",
        "    def __init__(self, n=2):\n",
        "        self.ngrams = defaultdict(Counter)\n",
        "        self.n = n\n",
        "        self.tokenize_func = None\n",
        "        \n",
        "    def compute_ngrams(self, dataset):\n",
        "        self.ngrams = defaultdict(Counter)\n",
        "        for row in tqdm(dataset):\n",
        "            ngram = [PAD] * self.n\n",
        "            for token in row[\"features\"]:\n",
        "                ngram[:-1] = ngram[1:]\n",
        "                ngram[-1] = token\n",
        "                self.ngrams[tuple(ngram[:-1])].update([ngram[-1]])\n",
        "            \n",
        "    def get_log_probs(self, prefix, min_log_pr=-15):\n",
        "        \"\"\"\n",
        "        Функция, которая будет возвращать логарифмы частот появления токенов\n",
        "        \"\"\"\n",
        "        if len(prefix) < self.n - 1:\n",
        "            prefix = [PAD] * (self.n - len(prefix) - 1) + prefix\n",
        "        else:\n",
        "            prefix = prefix[-self.n + 1:]\n",
        "        possible_ends = self.ngrams[tuple(prefix)]\n",
        "        sum_freq = np.log(sum(possible_ends[e] for e in possible_ends))\n",
        "        return {e: np.log(possible_ends[e]) - sum_freq for e in possible_ends}\n",
        "    \n",
        "    def sample(self, prefix):\n",
        "        possible_ends = self.get_log_probs(prefix)\n",
        "        if len(possible_ends) > 0:\n",
        "            end = np.random.choice(list(possible_ends.keys()), p=np.exp(list(possible_ends.values())))\n",
        "            return end\n",
        "        return EOS"
      ],
      "execution_count": null,
      "outputs": []
    },
    {
      "cell_type": "code",
      "metadata": {
        "id": "AZztYXDZi1Aj"
      },
      "source": [
        "n_gram_model = NGramModel(n=5)"
      ],
      "execution_count": null,
      "outputs": []
    },
    {
      "cell_type": "code",
      "metadata": {
        "colab": {
          "base_uri": "https://localhost:8080/",
          "height": 66,
          "referenced_widgets": [
            "afc0d106a6cc4673b6238b9d55f6b2c7",
            "cb77689f16d64dd4b96945c23d439f0e",
            "37c184c2f18d4937a9bb108c89a9ca3d",
            "f11f25c6a50b4449bdd6a1a884ea4158",
            "c18de6fcb23f4fc28aa7115ba9019d84",
            "56bede7e68cf4928a0d2c58782687e86",
            "83c589766e3246fbaee3d73acec5a795",
            "e35b401936904619a740b8350393bff4"
          ]
        },
        "id": "OQ5aJbIOjVhZ",
        "outputId": "3ca83f32-4909-4c07-9f66-e518176e9467"
      },
      "source": [
        "n_gram_model.compute_ngrams(dataset[\"train\"])"
      ],
      "execution_count": null,
      "outputs": [
        {
          "output_type": "display_data",
          "data": {
            "application/vnd.jupyter.widget-view+json": {
              "model_id": "afc0d106a6cc4673b6238b9d55f6b2c7",
              "version_minor": 0,
              "version_major": 2
            },
            "text/plain": [
              "HBox(children=(FloatProgress(value=0.0, max=30000.0), HTML(value='')))"
            ]
          },
          "metadata": {
            "tags": []
          }
        },
        {
          "output_type": "stream",
          "text": [
            "\n"
          ],
          "name": "stdout"
        }
      ]
    },
    {
      "cell_type": "code",
      "metadata": {
        "id": "aPfNGwpmlB2T"
      },
      "source": [
        "idx2token = {idx: token for token, idx in token2idx.items()}"
      ],
      "execution_count": null,
      "outputs": []
    },
    {
      "cell_type": "code",
      "metadata": {
        "colab": {
          "base_uri": "https://localhost:8080/"
        },
        "id": "aQfO1RV7jaXj",
        "outputId": "647f9b3a-d2e6-49fa-f49f-bfb29417766f"
      },
      "source": [
        "prefix = [\"def\", \"train\", \"(\"]\n",
        "encoded_prefix = [token2idx[token] for token in prefix]\n",
        "length=100\n",
        "\n",
        "for i in range(length):\n",
        "    cur_token = n_gram_model.sample(encoded_prefix)\n",
        "    if cur_token == EOS:\n",
        "        break\n",
        "    encoded_prefix += [cur_token]\n",
        "\n",
        "\n",
        "decoded_text = [idx2token[idx] for idx in encoded_prefix]\n",
        "print(\" \".join(decoded_text))"
      ],
      "execution_count": null,
      "outputs": [
        {
          "output_type": "stream",
          "text": [
            "def train ( self ) : channel_id = self . [UNK] + self . content_feature ] [ 0 ] , ) + crop_target ) else : size = kernel_size * kernel_size * inputs_shape [ - 1 : ] == [UNK] : [UNK] try : ar = [UNK] . [UNK] ( project_name , updatetime , md5sum ) assert project_data , [UNK] if project_data . get ( 'exception' ) : ret = { 'result' : success , 'state' : { 'old' : [UNK] , 'new' : [UNK] } ret_communities [ 'changes' ] . update ( kwargs ) return ubq\n"
          ],
          "name": "stdout"
        }
      ]
    },
    {
      "cell_type": "code",
      "metadata": {
        "colab": {
          "base_uri": "https://localhost:8080/",
          "height": 88,
          "referenced_widgets": [
            "9d3a7fd52fe248038ef898c0b9acd602",
            "7c1dbd431b1440b992692effdd0b9ac8",
            "fc53fe081c5d423aaad87ddbe49a15ac",
            "7ef34b7f1a47427aba3e792951b09959",
            "53e48a43d5d44390813e70497c652633",
            "8f23b388debc42498e826c434db376a3",
            "87feab16baa941f4ad34d5341348c4ed",
            "86b2e792a10241d1a2c835a0cb7652de"
          ]
        },
        "id": "t7qmBK6Tpi5B",
        "outputId": "b84852a3-f0ba-47e7-a94a-1ba66dd440ca"
      },
      "source": [
        "test_dataset = load_dataset(\n",
        "    \"json\",\n",
        "    data_files=[\n",
        "        \"test.jsonl\",\n",
        "    ],\n",
        ")"
      ],
      "execution_count": null,
      "outputs": [
        {
          "output_type": "stream",
          "text": [
            "Using custom data configuration default-3e2c20c277017e63\n"
          ],
          "name": "stderr"
        },
        {
          "output_type": "stream",
          "text": [
            "Downloading and preparing dataset json/default (download: Unknown size, generated: Unknown size, post-processed: Unknown size, total: Unknown size) to /root/.cache/huggingface/datasets/json/default-3e2c20c277017e63/0.0.0/dc7ee63ec8b554c48ecc5a8a6fbe27af8071408c244e4347cf9222d6206d83a2...\n"
          ],
          "name": "stdout"
        },
        {
          "output_type": "display_data",
          "data": {
            "application/vnd.jupyter.widget-view+json": {
              "model_id": "9d3a7fd52fe248038ef898c0b9acd602",
              "version_minor": 0,
              "version_major": 2
            },
            "text/plain": [
              "HBox(children=(FloatProgress(value=1.0, bar_style='info', max=1.0), HTML(value='')))"
            ]
          },
          "metadata": {
            "tags": []
          }
        },
        {
          "output_type": "stream",
          "text": [
            "\rDataset json downloaded and prepared to /root/.cache/huggingface/datasets/json/default-3e2c20c277017e63/0.0.0/dc7ee63ec8b554c48ecc5a8a6fbe27af8071408c244e4347cf9222d6206d83a2. Subsequent calls will reuse this data.\n"
          ],
          "name": "stdout"
        }
      ]
    },
    {
      "cell_type": "code",
      "metadata": {
        "colab": {
          "base_uri": "https://localhost:8080/",
          "height": 66,
          "referenced_widgets": [
            "5c4e447fc9d747f7baac22b87ffabaaf",
            "b5ea5e183c9b45df95d0bcf419ea7741",
            "b197310c485340d7a67122d6c4591e23",
            "11a0ab4a3e7f45f49435761f61731901",
            "4fdaa51bbd0b4434800e4399048cab53",
            "861da86c81ee452a9c7ab8c9706ba608",
            "e082284fd08d4b26b3d8f0467612800a",
            "787e389a853b415bb6d4f9d8e23cb24a"
          ]
        },
        "id": "Txq5x7dUqEM-",
        "outputId": "38f9d220-518a-4cab-ae7f-d5a327214317"
      },
      "source": [
        "max_seq_len=128\n",
        "\n",
        "test_dataset = test_dataset.map(\n",
        "    lambda item: {\n",
        "        \"features\": [encode(token) for token in item[\"code_tokens\"]][:max_seq_len-1] + [EOS]\n",
        "    }\n",
        ")"
      ],
      "execution_count": null,
      "outputs": [
        {
          "output_type": "display_data",
          "data": {
            "application/vnd.jupyter.widget-view+json": {
              "model_id": "5c4e447fc9d747f7baac22b87ffabaaf",
              "version_minor": 0,
              "version_major": 2
            },
            "text/plain": [
              "HBox(children=(FloatProgress(value=0.0, max=22176.0), HTML(value='')))"
            ]
          },
          "metadata": {
            "tags": []
          }
        },
        {
          "output_type": "stream",
          "text": [
            "\n"
          ],
          "name": "stdout"
        }
      ]
    },
    {
      "cell_type": "markdown",
      "metadata": {
        "id": "MkTOYEwtwTGZ"
      },
      "source": [
        "### Метрика качества\n",
        "\n",
        "$$\n",
        "P P(p):=2^{H(p)}=2^{-\\sum_{x} p(x) \\log _{2} p(x)}\n",
        "$$\n",
        "\n",
        "Можно использовать\n",
        "\n",
        "$$\n",
        "P P' (p):=e^{H(p)}=e^{-\\sum_{x} p(x) \\ln p(x)}\n",
        "$$\n",
        "\n",
        "$$\n",
        "P P' (p):=e^{H(p)}=e^{-\\frac{1}{n}\\sum_{x} p(x) \\ln p(x)}\n",
        "$$"
      ]
    },
    {
      "cell_type": "code",
      "metadata": {
        "id": "4yZWod2FunaZ"
      },
      "source": [
        "def count_perplexity(model, dataset, max_iter_num: int = 1000):\n",
        "    entropy = 0\n",
        "    iter_num = 0\n",
        "    num_words = 0\n",
        "    for item in tqdm(dataset, total=min(max_iter_num, len(dataset))):\n",
        "        output_so_far = [item[\"features\"][0]]\n",
        "\n",
        "        for token in item[\"features\"][1:]:\n",
        "            num_words += 1\n",
        "            try:\n",
        "                log_probs = model.get_log_probs(output_so_far)\n",
        "                entropy += -log_probs[token]\n",
        "            except KeyError:\n",
        "                entropy += np.log(-10)\n",
        "            output_so_far.append(token)\n",
        "        iter_num += 1\n",
        "        if iter_num > max_iter_num:\n",
        "            break\n",
        "    mean_entropy = entropy / num_words\n",
        "    return np.e ** mean_entropy"
      ],
      "execution_count": null,
      "outputs": []
    },
    {
      "cell_type": "code",
      "metadata": {
        "colab": {
          "base_uri": "https://localhost:8080/",
          "height": 117,
          "referenced_widgets": [
            "6ecd0783ec624a59a79c29276fcb444d",
            "ed8c0471069247af9af48f20097518e5",
            "0af40482efad4c74990c3b97802c2ddb",
            "7ee8624a899c49f79f70ef0e9aece8f1",
            "e7373c677c514380bf39488140105001",
            "859acf8eef5649eb8386339dda038057",
            "346ce9730a494b4a93af3645a77a131e",
            "9b847a54c7094026ae982e9553e4c21f"
          ]
        },
        "id": "W71ZBELF2V_L",
        "outputId": "c2e26965-82f0-4052-acbd-7137283ccd01"
      },
      "source": [
        "count_perplexity(n_gram_model, test_dataset[\"train\"])"
      ],
      "execution_count": null,
      "outputs": [
        {
          "output_type": "display_data",
          "data": {
            "application/vnd.jupyter.widget-view+json": {
              "model_id": "6ecd0783ec624a59a79c29276fcb444d",
              "version_minor": 0,
              "version_major": 2
            },
            "text/plain": [
              "HBox(children=(FloatProgress(value=0.0, max=1000.0), HTML(value='')))"
            ]
          },
          "metadata": {
            "tags": []
          }
        },
        {
          "output_type": "stream",
          "text": [
            "/usr/local/lib/python3.7/dist-packages/ipykernel_launcher.py:14: RuntimeWarning: invalid value encountered in log\n",
            "  \n",
            "/usr/local/lib/python3.7/dist-packages/ipykernel_launcher.py:38: RuntimeWarning: divide by zero encountered in log\n"
          ],
          "name": "stderr"
        },
        {
          "output_type": "execute_result",
          "data": {
            "text/plain": [
              "nan"
            ]
          },
          "metadata": {
            "tags": []
          },
          "execution_count": 20
        }
      ]
    },
    {
      "cell_type": "markdown",
      "metadata": {
        "id": "3QbCr0x3mSc-"
      },
      "source": [
        "## CNN\n",
        "\n",
        "![](https://lena-voita.github.io/resources/lectures/lang_models/neural/cnn/cnn_main-min.png)\n",
        "\n"
      ]
    },
    {
      "cell_type": "code",
      "metadata": {
        "id": "QkTpNqkW2evJ"
      },
      "source": [
        "dataset.set_format(type=\"torch\", columns=[\"features\"])\n",
        "test_dataset.set_format(type=\"torch\", columns=[\"features\"])"
      ],
      "execution_count": null,
      "outputs": []
    },
    {
      "cell_type": "code",
      "metadata": {
        "id": "VhnKfYs95WFQ"
      },
      "source": [
        "def collate_fn(batch):\n",
        "    batch = batch[0]\n",
        "    max_len = max(len(f_t) for f_t in batch[\"features\"])\n",
        "    input_embeds = torch.zeros((len(batch[\"features\"]), max_len), dtype=torch.long)\n",
        "    for idx, row in enumerate(batch[\"features\"]):\n",
        "        input_embeds[idx][:len(row)] += row\n",
        "    return {\n",
        "        \"features\": input_embeds,\n",
        "    }"
      ],
      "execution_count": null,
      "outputs": []
    },
    {
      "cell_type": "code",
      "metadata": {
        "id": "iuFWoWexj2Xj"
      },
      "source": [
        "from torch.utils.data import Sampler\n",
        "\n",
        "\n",
        "class TextSampler(Sampler):\n",
        "    def __init__(self, sampler, batch_size_tokens=1e4):\n",
        "        self.sampler = sampler\n",
        "        self.batch_size_tokens = batch_size_tokens\n",
        "\n",
        "    def __iter__(self):\n",
        "        batch = []\n",
        "        max_len = 0\n",
        "        for ix in self.sampler:\n",
        "            row = self.sampler.data_source[ix]\n",
        "            max_len = max(max_len, len(row[\"features\"]))\n",
        "            if (len(batch) + 1) * max_len > self.batch_size_tokens:\n",
        "                yield batch\n",
        "                batch = []\n",
        "                max_len = len(row[\"features\"])\n",
        "            batch.append(ix)\n",
        "        if len(batch) > 0:\n",
        "            yield batch\n",
        "\n",
        "    def __len__(self):\n",
        "        return len(self.sampler)"
      ],
      "execution_count": null,
      "outputs": []
    },
    {
      "cell_type": "code",
      "metadata": {
        "id": "BKfRZ8gq6Hm-"
      },
      "source": [
        "from torch.utils.data import DataLoader, SequentialSampler, RandomSampler, random_split\n",
        "\n",
        "\n",
        "train_sampler = RandomSampler(dataset[\"train\"])\n",
        "valid_sampler = SequentialSampler(test_dataset[\"train\"])\n",
        "\n",
        "loaders = {\n",
        "    \"train\": DataLoader(\n",
        "        dataset[\"train\"], \n",
        "        collate_fn=collate_fn, \n",
        "        sampler=TextSampler(train_sampler,)\n",
        "    ),\n",
        "    \"valid\": DataLoader(\n",
        "        test_dataset[\"train\"],\n",
        "        collate_fn=collate_fn, \n",
        "        sampler=TextSampler(\n",
        "            valid_sampler, \n",
        "        )\n",
        "    )\n",
        "}"
      ],
      "execution_count": null,
      "outputs": []
    },
    {
      "cell_type": "code",
      "metadata": {
        "id": "XiIAV6jX6z7m"
      },
      "source": [
        "import torch\n",
        "import torch.nn as nn\n",
        "\n",
        "\n",
        "class CNNLM(nn.Module):\n",
        "    def __init__(self, vocab_size, emb_size, hidden_size, num_layers=3, kernel_size: int = 5):\n",
        "        super().__init__()\n",
        "        \n",
        "        self.emb = nn.Embedding(vocab_size, emb_size)\n",
        "        layers = []\n",
        "        for layer_idx in range(num_layers):\n",
        "            layers.append(nn.ZeroPad2d((kernel_size-1, 0, 0, 0)))\n",
        "            if layer_idx == 0:\n",
        "                layers.append(nn.Conv1d(emb_size, hidden_size, kernel_size=kernel_size))\n",
        "            else:\n",
        "                layers.append(nn.Conv1d(hidden_size, hidden_size, kernel_size=kernel_size))\n",
        "        self.conv_layers = nn.Sequential(*layers)\n",
        "        self.receptive_field = kernel_size + (kernel_size-1)*(num_layers-1)\n",
        "        self.pred = nn.Linear(hidden_size, vocab_size)\n",
        "        \n",
        "    def forward(self, input_ids):\n",
        "        embed = self.emb(input_ids)\n",
        "        embed = embed.permute(0, 2, 1)\n",
        "        features = self.conv_layers(embed)\n",
        "        features = features.permute(0, 2, 1)\n",
        "        logits = self.pred(features)\n",
        "        return logits"
      ],
      "execution_count": null,
      "outputs": []
    },
    {
      "cell_type": "code",
      "metadata": {
        "id": "rdJGxl6ADLt_"
      },
      "source": [
        "device = \"cuda:0\" if torch.cuda.is_available() else \"cpu\"\n",
        "\n",
        "model = CNNLM(len(tokens) + 3, 300, 100, num_layers=1).to(device)\n",
        "optimizer = torch.optim.Adam(model.parameters(), lr=1e-2)\n",
        "criterion = nn.CrossEntropyLoss(ignore_index=PAD)"
      ],
      "execution_count": null,
      "outputs": []
    },
    {
      "cell_type": "code",
      "metadata": {
        "id": "b6ooYStKFcJn"
      },
      "source": [
        "from tqdm.notebook import tqdm, trange\n",
        "\n",
        "\n",
        "def train(\n",
        "    num_epochs: int, \n",
        "    model: nn.Module,\n",
        "    train_loader: DataLoader,\n",
        "    valid_loader: DataLoader,\n",
        "    criterion: nn.Module,\n",
        "    optimizer: torch.optim.Optimizer,\n",
        "    max_grad_norm: float = None\n",
        "):\n",
        "    for epoch in trange(num_epochs):\n",
        "        pbar = tqdm(train_loader, leave=False, total=len(train_loader)//20)\n",
        "        pbar.set_description(\"Train epoch\")\n",
        "        model.train()\n",
        "        for batch in pbar:\n",
        "            optimizer.zero_grad()\n",
        "            features = batch[\"features\"].to(device)\n",
        "            predictions = model(features[:, :-1])\n",
        "            loss = criterion(\n",
        "                predictions.reshape(-1, predictions.size(-1)),\n",
        "                features[:, 1:].reshape(-1)\n",
        "            )\n",
        "            loss.backward()\n",
        "            if max_grad_norm is not None:\n",
        "                torch.nn.utils.clip_grad_norm_(model.parameters(), max_grad_norm)\n",
        "            optimizer.step()\n",
        "        model.eval()\n",
        "        mean_loss = 0\n",
        "        pbar = tqdm(valid_loader, leave=False, total=len(valid_loader)//100)\n",
        "        pbar.set_description(\"Valid epoch\")\n",
        "        num_iter=0\n",
        "        for batch in pbar:\n",
        "            features = batch[\"features\"].to(device)\n",
        "            with torch.no_grad():\n",
        "                predictions = model(features[:, :-1])\n",
        "                loss = criterion(\n",
        "                    predictions.reshape(-1, predictions.size(-1)),\n",
        "                    features[:, 1:].reshape(-1)\n",
        "                )\n",
        "            mean_loss += loss.item()\n",
        "            num_iter += 1\n",
        "        mean_loss /= num_iter\n",
        "        print(f\"Epoch: {epoch}; mean loss: {mean_loss}; perplexity: {np.exp(mean_loss)}\")\n",
        "            "
      ],
      "execution_count": null,
      "outputs": []
    },
    {
      "cell_type": "code",
      "metadata": {
        "colab": {
          "base_uri": "https://localhost:8080/",
          "height": 137,
          "referenced_widgets": [
            "34951716f19444dd8c0d14d1444a0057",
            "7a2382a8fe404915b9f9ba815911bb29",
            "5706d8b7afda48509df69b13cdb2f576",
            "aa48aeff1c7f488c8ec1efe0000e269e",
            "cfbcf833f0c445bd89eea5dfa8a08d86",
            "6e6bb19fbd264877a9f5639fb5dea5fd",
            "6b9350218d784139b7dd7e08c561df80",
            "e339b0ea336e4d27babd59a91e6c9ac9",
            "79bf9f03fdea4a8aa1a92ca496d6eb4d",
            "a02b6c668fbb4eacbef96670edc7a7f4",
            "808cdad398d54fa4bdd07f6a9825a502",
            "7bb646858ca04b1d9b25cfb9cfc7fc53",
            "286c6f7a2c7d47bba47d9ab826d94d46",
            "b6e331e6ecbf42cfaf4d070724aaf2fb",
            "8856c73ac5cb4d188b53f00d7037ea23",
            "d256be2cdb3d4c599ab588cdf4ef1430",
            "b590fad1de40430e8d69d2615931ab95",
            "cff110934e864e66bdaa5e16d67a83b1",
            "713ec38dce1c4a078afa7dbe1d3a1cc6",
            "9988be623b7241558281e1bcd209ca20",
            "caa0bf18d1e348f3922d1e9c324ecbe6",
            "6b952f4ac249468d893ff6e3c1ef026c",
            "e0334efc58024d12a9125cd54e04c312",
            "64068f1e3b244abda9ece138d1af44f1"
          ]
        },
        "id": "0oCRpQnHK_TH",
        "outputId": "aec8e55b-7c12-49dd-e42e-d0782963d151"
      },
      "source": [
        "train(\n",
        "    num_epochs=1,\n",
        "    model=model, \n",
        "    train_loader=loaders[\"train\"],\n",
        "    valid_loader=loaders[\"valid\"],\n",
        "    criterion=criterion,\n",
        "    optimizer=optimizer,\n",
        ")"
      ],
      "execution_count": null,
      "outputs": [
        {
          "output_type": "display_data",
          "data": {
            "application/vnd.jupyter.widget-view+json": {
              "model_id": "34951716f19444dd8c0d14d1444a0057",
              "version_minor": 0,
              "version_major": 2
            },
            "text/plain": [
              "HBox(children=(FloatProgress(value=0.0, max=1.0), HTML(value='')))"
            ]
          },
          "metadata": {
            "tags": []
          }
        },
        {
          "output_type": "display_data",
          "data": {
            "application/vnd.jupyter.widget-view+json": {
              "model_id": "79bf9f03fdea4a8aa1a92ca496d6eb4d",
              "version_minor": 0,
              "version_major": 2
            },
            "text/plain": [
              "HBox(children=(FloatProgress(value=0.0, max=1500.0), HTML(value='')))"
            ]
          },
          "metadata": {
            "tags": []
          }
        },
        {
          "output_type": "stream",
          "text": [
            "/usr/local/lib/python3.7/dist-packages/datasets/formatting/formatting.py:147: VisibleDeprecationWarning: Creating an ndarray from ragged nested sequences (which is a list-or-tuple of lists-or-tuples-or ndarrays with different lengths or shapes) is deprecated. If you meant to do this, you must specify 'dtype=object' when creating the ndarray\n",
            "  return np.array(array, copy=False, **self.np_array_kwargs)\n"
          ],
          "name": "stderr"
        },
        {
          "output_type": "display_data",
          "data": {
            "application/vnd.jupyter.widget-view+json": {
              "model_id": "b590fad1de40430e8d69d2615931ab95",
              "version_minor": 0,
              "version_major": 2
            },
            "text/plain": [
              "HBox(children=(FloatProgress(value=0.0, max=221.0), HTML(value='')))"
            ]
          },
          "metadata": {
            "tags": []
          }
        },
        {
          "output_type": "stream",
          "text": [
            "Epoch: 0; mean loss: 3.3694700441862406; perplexity: 29.063120806004164\n",
            "\n"
          ],
          "name": "stdout"
        }
      ]
    },
    {
      "cell_type": "markdown",
      "metadata": {
        "id": "kr1iE9Vtu-mt"
      },
      "source": [
        "![](https://lena-voita.github.io/resources/lectures/lang_models/neural/cnn/receptive_field-min.png)\n",
        "\n",
        "\n",
        "Как увеличить receptive field? \n",
        "\n",
        "Добавить больше слоев.\n",
        "\n",
        "Как обучать?\n",
        "\n",
        "Добавить residual connections.\n",
        "\n",
        "\n",
        "![](https://lena-voita.github.io/resources/lectures/lang_models/neural/cnn/cnn_with_residual-min.png)\n",
        "\n"
      ]
    },
    {
      "cell_type": "code",
      "metadata": {
        "id": "Vlcl6vcX1HAF"
      },
      "source": [
        "import numpy as np\n",
        "from matplotlib import pyplot as plt\n",
        "import seaborn as sns\n",
        "from ipywidgets import interactive\n",
        "from IPython import display\n",
        "\n",
        "sns.set(style=\"whitegrid\", font_scale=1.4)\n",
        "\n",
        "sample = np.random.randn(10)\n",
        "def plot_temperature(T: float = 1.0):\n",
        "    plt.figure(figsize=(12, 8))\n",
        "    plt.title(f\"Temperature = {T}\")\n",
        "    probs = np.exp(sample / T) / sum(np.exp(sample / T))\n",
        "    plt.bar(range(10), probs)\n",
        "    plt.xlabel(\"tokens\")\n",
        "    plt.ylabel(\"probs\")\n",
        "    plt.show()\n",
        "\n",
        "\n",
        "v = interactive(\n",
        "    plot_temperature, T=(0.02, 10)\n",
        ")"
      ],
      "execution_count": null,
      "outputs": []
    },
    {
      "cell_type": "code",
      "metadata": {
        "colab": {
          "base_uri": "https://localhost:8080/",
          "height": 564,
          "referenced_widgets": [
            "e5775e1a037547f4a3cd7d31ef46b58e",
            "2ea7540cbd3c4d0895253f62a68c44d9",
            "47500a94e2504f5c98a55da811904a6b",
            "854097e17971416284bd8d1dbc6eac95",
            "2cdf646c2d97433c929a65e5e76cfe09",
            "394834803ede4bf584890ccf457066e2",
            "6813c616c55345bda28cd01dc45997df"
          ]
        },
        "id": "Kn-GXW-V3_Ns",
        "outputId": "fbdbd3f5-6e10-46c6-83f6-d8ce11e01192"
      },
      "source": [
        "display.display(v)"
      ],
      "execution_count": null,
      "outputs": [
        {
          "output_type": "display_data",
          "data": {
            "application/vnd.jupyter.widget-view+json": {
              "model_id": "e5775e1a037547f4a3cd7d31ef46b58e",
              "version_minor": 0,
              "version_major": 2
            },
            "text/plain": [
              "interactive(children=(FloatSlider(value=1.0, description='T', max=10.0, min=0.02), Output()), _dom_classes=('w…"
            ]
          },
          "metadata": {
            "tags": []
          }
        }
      ]
    },
    {
      "cell_type": "code",
      "metadata": {
        "id": "vz96lopCPIdx"
      },
      "source": [
        "from typing import List\n",
        "from torch.distributions import Categorical\n",
        "\n",
        "@torch.no_grad()\n",
        "def generate(\n",
        "    prefix, model, length: int = 100, receptive_field: int = 5, T: float = 1.\n",
        ") -> List[int]:\n",
        "    prefix = torch.from_numpy(prefix)\n",
        "    prefix = prefix.unsqueeze(0).to(device)\n",
        "    model.eval()\n",
        "    for iter_idx in range(length):\n",
        "        preds = model(prefix[:, -receptive_field:])\n",
        "        probs = torch.softmax(preds[:, -1]/T, dim=-1)\n",
        "        distribution = Categorical(probs)\n",
        "        sampled = distribution.sample()\n",
        "        if sampled.item() == EOS:\n",
        "            break\n",
        "        prefix = torch.cat((prefix, sampled.unsqueeze(0)), dim=1)\n",
        "    return prefix"
      ],
      "execution_count": null,
      "outputs": []
    },
    {
      "cell_type": "code",
      "metadata": {
        "id": "RRnzjA-DfcOx",
        "colab": {
          "base_uri": "https://localhost:8080/"
        },
        "outputId": "908159dc-9c15-4c14-8d54-0e515bd308a4"
      },
      "source": [
        "prefix = [\"def\", \"train\", \"(\"]\n",
        "encoded_prefix = np.array([token2idx[t] for t in prefix])\n",
        "\n",
        "\n",
        "for t in np.logspace(0.002, 1, 10):\n",
        "    generated = generate(\n",
        "        encoded_prefix, \n",
        "        model, \n",
        "        receptive_field=model.receptive_field, \n",
        "        length=20,\n",
        "        T=t-1\n",
        "    )\n",
        "    print(f\"Temperature: {t-1}\")\n",
        "    print(\" \".join([idx2token[idx] for idx in generated.cpu().numpy().flatten()]))"
      ],
      "execution_count": null,
      "outputs": [
        {
          "output_type": "stream",
          "text": [
            "Temperature: 0.004615790278395204\n",
            "def train ( self , y , y , y , y , y , y , y , y , y ,\n",
            "Temperature: 0.29684743947274783\n",
            "def train ( self , other , other , other ) : self . [UNK] . emit ( ) ) editor . [UNK]\n",
            "Temperature: 0.6740860511469413\n",
            "def train ( self , buf , ctypes . byref ( local_struct_pack ) , ctypes . byref ( round ( y0 ) unmatched\n",
            "Temperature: 1.161059212781561\n",
            "def train ( self = 4 , broker_name = // 3 ) . Y_batch ) [ 'code' ] environments = language = cwd\n",
            "Temperature: 1.7896874942291365\n",
            "def train ( expr , >= , finished_seq\n",
            "Temperature: 2.6011768069240193\n",
            "def train ( query_info ) values jls parse . metric_type cm Menu service_root yp_masked_test font num_entities_in_instance new_class VMwareSaltError ) pl . start_session start_open\n",
            "Temperature: 3.648719407300855\n",
            "def train ( bus_number \"q\" usable_url ip_info video_hparams logprob_i bad_probs render_template alignments queue = GraphDef nni exports [UNK] effective_path interpreter , n_iter \"_id\"\n",
            "Temperature: 5.000980592306576\n",
            "def train ( te_encoding \"encoder\" 'c' DStream fallback grinfo auto_reload 'worker' linear_to_mel_weight_matrix as_group slobj sound # pylint: disable=broad-except excel next_r end \"{0}\\n{1}\" cnn_model cache_data ''\n",
            "Temperature: 6.746599636167198\n",
            "def train ( 'svnfs' metadata __silencers__ commands_dict menurole full_text brname gpg_passphrase _yaml_safe_dump 'results' caffe_model_path PDDMError overwrite family var_index lxc_kws get_window_extent \"_id\" newpath 'msg_id'\n",
            "Temperature: 9.0\n",
            "def train ( 'BUILDING_NUMBER' table_b load_data_batch get_instrument to_time is_image time_step read_csv statusCode anns math_dataset_init header_list \"height\" getsource trial_data \"/\" index_ids RENDER_WRAPPER _dispatch _stat_now\n"
          ],
          "name": "stdout"
        }
      ]
    },
    {
      "cell_type": "markdown",
      "metadata": {
        "id": "DpA1Zm2L_hx0"
      },
      "source": [
        "## LSTM\n",
        "\n",
        "![](https://lena-voita.github.io/resources/lectures/lang_models/neural/rnn/rnn_simple-min.png)"
      ]
    },
    {
      "cell_type": "code",
      "metadata": {
        "id": "nodBgU58g8Rc"
      },
      "source": [
        "class LSTM(nn.Module):\n",
        "    def __init__(self, vocab_size, emb_size, hidden_size):\n",
        "        super().__init__()\n",
        "        self.emb = nn.Embedding(vocab_size, emb_size)\n",
        "        self.lstm = nn.LSTM(emb_size, hidden_size, batch_first=True)\n",
        "        self.pred = nn.Linear(hidden_size, vocab_size)\n",
        "        \n",
        "    def forward(self, input_ids):\n",
        "        embs = self.emb(input_ids)\n",
        "        output, _ = self.lstm(embs)\n",
        "        return self.pred(output)"
      ],
      "execution_count": null,
      "outputs": []
    },
    {
      "cell_type": "code",
      "metadata": {
        "id": "wKVa5ko8x8X6"
      },
      "source": [
        "model = LSTM(len(token2idx), 300, 50).to(device)\n",
        "optimizer = torch.optim.Adam(model.parameters(), lr=1e-2)"
      ],
      "execution_count": null,
      "outputs": []
    },
    {
      "cell_type": "code",
      "metadata": {
        "colab": {
          "base_uri": "https://localhost:8080/",
          "height": 137,
          "referenced_widgets": [
            "2f304754263d4e68bbc10a5cb31e08ce",
            "d2725b276113421da2d6c4be44c27d72",
            "001c7b16e7df4b42911a76bc6cf99051",
            "ea555983aebe402192496f78f2b84f0e",
            "54c8ade810ad4d7faffd2d92a5d3cd4a",
            "08b465aa5bc04356af8c8a92174eb023",
            "9e4b141449f2454c9bb984efc68fcb54",
            "62455c2f2d1b49a9ad12c78db4fdcc52",
            "4c3c0c56f0e84efaa917ed0536263dae",
            "397df1b585cc4ed0bf52ccf939aa9577",
            "eed683e6b0684acba5419f1cf5c1fcb5",
            "62a909c674bf4f21a2c13c3a7d0fa1e5",
            "fb361cf827eb471ca4f48e550aac0047",
            "2b210dc5feb442b689d507b72721811d",
            "c724363c858f46a885552157ed144c37",
            "e9acefc5c66d47a793150d451ef4724c",
            "e027e844084d4c87a03915a86a7adc8a",
            "20b538149c244c7a803536b34d25bfb5",
            "50f9fbb6328d444480113cc5ae5966fe",
            "9eb749af3bd442b1913cf6710dc94e28",
            "7cb46af3e0be48afb21376ec3b93a58d",
            "38e3b4d6e72241879090af70d5afcc0b",
            "7664d1e5f6e4439ebef343eb88a8afbb",
            "5b77829ae1f64eb6ae946c73df73babd"
          ]
        },
        "id": "hFVm161y09Bq",
        "outputId": "6b810ddf-eb63-4aed-9699-c7064ee4023b"
      },
      "source": [
        "train(\n",
        "    num_epochs=1,\n",
        "    model=model,\n",
        "    train_loader=loaders[\"train\"],\n",
        "    valid_loader=loaders[\"valid\"],\n",
        "    criterion=criterion,\n",
        "    optimizer=optimizer,\n",
        ")"
      ],
      "execution_count": null,
      "outputs": [
        {
          "output_type": "display_data",
          "data": {
            "application/vnd.jupyter.widget-view+json": {
              "model_id": "2f304754263d4e68bbc10a5cb31e08ce",
              "version_minor": 0,
              "version_major": 2
            },
            "text/plain": [
              "HBox(children=(FloatProgress(value=0.0, max=1.0), HTML(value='')))"
            ]
          },
          "metadata": {
            "tags": []
          }
        },
        {
          "output_type": "display_data",
          "data": {
            "application/vnd.jupyter.widget-view+json": {
              "model_id": "4c3c0c56f0e84efaa917ed0536263dae",
              "version_minor": 0,
              "version_major": 2
            },
            "text/plain": [
              "HBox(children=(FloatProgress(value=0.0, max=1500.0), HTML(value='')))"
            ]
          },
          "metadata": {
            "tags": []
          }
        },
        {
          "output_type": "stream",
          "text": [
            "/usr/local/lib/python3.7/dist-packages/datasets/formatting/formatting.py:147: VisibleDeprecationWarning: Creating an ndarray from ragged nested sequences (which is a list-or-tuple of lists-or-tuples-or ndarrays with different lengths or shapes) is deprecated. If you meant to do this, you must specify 'dtype=object' when creating the ndarray\n",
            "  return np.array(array, copy=False, **self.np_array_kwargs)\n"
          ],
          "name": "stderr"
        },
        {
          "output_type": "display_data",
          "data": {
            "application/vnd.jupyter.widget-view+json": {
              "model_id": "e027e844084d4c87a03915a86a7adc8a",
              "version_minor": 0,
              "version_major": 2
            },
            "text/plain": [
              "HBox(children=(FloatProgress(value=0.0, max=221.0), HTML(value='')))"
            ]
          },
          "metadata": {
            "tags": []
          }
        },
        {
          "output_type": "stream",
          "text": [
            "Epoch: 0; mean loss: 3.1772768689875015; perplexity: 23.981360169501063\n",
            "\n"
          ],
          "name": "stdout"
        }
      ]
    },
    {
      "cell_type": "markdown",
      "metadata": {
        "id": "AAHTd3Kktcc8"
      },
      "source": [
        "## Методы генерации текста\n",
        "\n",
        "### Greedy Search\n",
        "\n",
        "$$\n",
        "w_t = \\operatorname{argmax}_{w} P\\left(w \\mid w_{1: t-1}\\right)\n",
        "$$\n",
        "\n",
        "![](https://huggingface.co/blog/assets/02_how-to-generate/greedy_search.png)\n",
        "\n",
        "**Проблема**: Модель быстро начинает повторять одну и ту же фразу. \n",
        "\n",
        "### Beam search\n",
        "\n",
        "![](https://huggingface.co/blog/assets/02_how-to-generate/beam_search.png)\n",
        "\n",
        "**Проблема**: Модель все еще выдает слишком предсказуемый текст, в отличии от человеческой речи.\n",
        "![](https://blog.fastforwardlabs.com/images/2019/05/Screen_Shot_2019_05_08_at_3_06_36_PM-1557342561886.png)\n",
        "\n",
        "### Sampling\n",
        "\n",
        "$$\n",
        "w_{t} \\sim P\\left(w \\mid w_{1: t-1}\\right)\n",
        "$$\n",
        "\n",
        "![](https://huggingface.co/blog/assets/02_how-to-generate/sampling_search_with_temp.png)\n",
        "\n",
        "**Проблема**: страдает целостность текста. Некоторые фразы получаются слишком случайные.\n",
        "\n",
        "### Top-K Sampling\n",
        "\n",
        "\n",
        "![](https://huggingface.co/blog/assets/02_how-to-generate/top_k_sampling.png)\n",
        "\n",
        "Еще можно использовать top-p sampling. Жадно набирать слова, пока их общая вероятность не станет p.\n"
      ]
    },
    {
      "cell_type": "code",
      "metadata": {
        "id": "jWc4lW_41Ii7"
      },
      "source": [
        "prefix = [\"def\", \"train\", \"(\"]\n",
        "encoded_prefix = np.array([token2idx[t] for t in prefix])\n",
        "\n",
        "generated = generate(encoded_prefix, model)"
      ],
      "execution_count": null,
      "outputs": []
    },
    {
      "cell_type": "code",
      "metadata": {
        "colab": {
          "base_uri": "https://localhost:8080/"
        },
        "id": "TkMIZbX92mvd",
        "outputId": "be7c3809-d329-4623-8805-2f232a1f798a"
      },
      "source": [
        "prefix = [\"def\", \"train\", \"(\"]\n",
        "encoded_prefix = np.array([token2idx[t] for t in prefix])\n",
        "\n",
        "\n",
        "for t in np.logspace(0.002, 1, 10):\n",
        "    generated = generate(\n",
        "        encoded_prefix, \n",
        "        model, \n",
        "        receptive_field=20, \n",
        "        length=20,\n",
        "        T=t-1\n",
        "    )\n",
        "    print(f\"Temperature: {t-1}\")\n",
        "    print(\" \".join([idx2token[idx] for idx in generated.cpu().numpy().flatten()]))"
      ],
      "execution_count": null,
      "outputs": [
        {
          "output_type": "stream",
          "text": [
            "Temperature: 0.004615790278395204\n",
            "def train ( self , [UNK] , [UNK] ) : if not isinstance ( self , [UNK] ) : raise CommandExecutionError ( [UNK]\n",
            "Temperature: 0.29684743947274783\n",
            "def train ( self , name , * * kwargs ) : if self . [UNK] : [UNK] = [UNK] . format (\n",
            "Temperature: 0.6740860511469413\n",
            "def train ( self , * ) : self . [UNK] = [UNK] ( [UNK] . format ( ) ) if [UNK] in\n",
            "Temperature: 1.161059212781561\n",
            "def train ( create_from_ll , data , models : payload = { self . plot_obj . get ( difference ) , # type: bool cl\n",
            "Temperature: 1.7896874942291365\n",
            "def train ( \"text/plain\" EISDIR pos num_expired sequenceOutput init_h RQInvalidArgument _urlopen tw tok_tokens file_count list_cache Summary ABCSeries font_o _gluster_ok segments RuntimeError end_date_ixs regex_re\n",
            "Temperature: 2.6011768069240193\n",
            "def train ( per_cpu time_started around_and_astype pretrained_settings version_ f student_w numpy_doc resize_height_factor _mxnet_utils remember_bias pages [UNK] 'code' newb upload x_index back_color skey changes_new\n",
            "Temperature: 3.648719407300855\n",
            "def train ( ray complete prepare VIDEO_BITWISE start pickler isTransposed n_directs current_service_policy InvalidArgument grad_reqs 'new' candidate_answers tensorflow get_active_project_path iid filenames json_data vcs args_defaults\n",
            "Temperature: 5.000980592306576\n",
            "def train ( Vertical GITPYTHON_VERSION remotes table_type nb_filters type_keys conv2_2 condition_name <= ERROR_FILE_NOT_FOUND text_or_generator cogroup resource_labels \"labels\" _leased_messages texts configure timeLeft generate_encoded_samples n_short_blocks\n",
            "Temperature: 6.746599636167198\n",
            "def train ( conv2 system_info pyexe ha_conn host_key wheel_name out_depth batch_eval ws _np qsym cm upper_cutoff hdfs_host 'headers' weight_samples sent_len f_root y_directs wdhistory\n",
            "Temperature: 9.0\n",
            "def train ( component fvec datestring crit ckey sub_val unknown_field_list res latency_array new_providers \"int32\" swagger currentWidget new_envs predict_y set \"{}:{}\" retry archive_format example_reading_spec\n"
          ],
          "name": "stdout"
        }
      ]
    },
    {
      "cell_type": "markdown",
      "metadata": {
        "id": "R6LKZuDu-3Tu"
      },
      "source": [
        "## References\n",
        "\n",
        "\n",
        "\n",
        "1.   [Заметки из курса ШАДа.](https://lena-voita.github.io/nlp_course/language_modeling.html)\n",
        "2.   [Блогпост по теме генерации текста от huggingface.](https://huggingface.co/blog/how-to-generate) Пока не заморачивайтесь, что там за модель в примере. Мы ее подробно рамерем в одном из следующих занятий.\n",
        "\n"
      ]
    },
    {
      "cell_type": "code",
      "metadata": {
        "id": "p7lRBwUR2o65"
      },
      "source": [
        ""
      ],
      "execution_count": null,
      "outputs": []
    }
  ]
}