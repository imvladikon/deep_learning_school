{
  "nbformat": 4,
  "nbformat_minor": 0,
  "metadata": {
    "colab": {
      "name": "seminar_cnn and rnn",
      "private_outputs": true,
      "provenance": [],
      "collapsed_sections": []
    },
    "kernelspec": {
      "name": "python3",
      "display_name": "Python 3"
    },
    "accelerator": "GPU"
  },
  "cells": [
    {
      "cell_type": "markdown",
      "metadata": {
        "id": "aUI02UFXY5lZ"
      },
      "source": [
        "# Архитектура RNN. Классификация текста.\n",
        "\n",
        "Привет! В это семинаре мы познакомимся с задачей классификации текста, на примере поиска тематики новости, а также с двумя из основных архитектурт рекуррентных нейросетей – RNN и GRU.\n",
        "\n",
        "Нам потребуется одна библиотека от `HuggingFace🤗` под названием `datasets`. Она содержит большое число датасетов, которые используются в NLP."
      ]
    },
    {
      "cell_type": "code",
      "metadata": {
        "id": "4eSlBJXbpNhH"
      },
      "source": [
        "!pip install datasets"
      ],
      "execution_count": null,
      "outputs": []
    },
    {
      "cell_type": "code",
      "metadata": {
        "id": "gwNeXLCXr4ue"
      },
      "source": [
        "import random\n",
        "import numpy as np\n",
        "\n",
        "import nltk\n",
        "import gensim.downloader as api\n",
        "\n",
        "import torch\n",
        "import torch.nn as nn\n",
        "import datasets"
      ],
      "execution_count": null,
      "outputs": []
    },
    {
      "cell_type": "code",
      "metadata": {
        "id": "IBGF3mNQKAgN"
      },
      "source": [
        "# За детерминизм!\n",
        "SEED = 0xDEAD\n",
        "random.seed(SEED)\n",
        "np.random.seed(SEED)\n",
        "torch.random.manual_seed(SEED)\n",
        "torch.cuda.random.manual_seed_all(SEED)"
      ],
      "execution_count": null,
      "outputs": []
    },
    {
      "cell_type": "markdown",
      "metadata": {
        "id": "YX-nNNuqZ9GN"
      },
      "source": [
        "Загрузим датасет новостей: `AgNews`. В нем разделены тексты на 4 темы: `World`, `Sports`, `Business`, `Sci/Tech`. Посмотрим на структуру датасета и на примеры текстов:"
      ]
    },
    {
      "cell_type": "code",
      "metadata": {
        "id": "_LREB3dpscnH"
      },
      "source": [
        "dataset = datasets.load_dataset(\"ag_news\")\n",
        "dataset[\"train\"]"
      ],
      "execution_count": null,
      "outputs": []
    },
    {
      "cell_type": "code",
      "metadata": {
        "id": "-YysP5HpsiBX"
      },
      "source": [
        "dataset[\"train\"][0]"
      ],
      "execution_count": null,
      "outputs": []
    },
    {
      "cell_type": "markdown",
      "metadata": {
        "id": "9QK1tDYKaTJa"
      },
      "source": [
        "В `dataset` находятся `train` и `test` части датасета."
      ]
    },
    {
      "cell_type": "code",
      "metadata": {
        "id": "wjEB-Yv09AQo"
      },
      "source": [
        "dataset"
      ],
      "execution_count": null,
      "outputs": []
    },
    {
      "cell_type": "markdown",
      "metadata": {
        "id": "SmSIXBJPaegW"
      },
      "source": [
        "Чтобы превращать текст из набора слов в набор векторов мы будем использовать предобученные эмбеддинги. Посмотрим на их список и выберем один из них."
      ]
    },
    {
      "cell_type": "code",
      "metadata": {
        "id": "FGW4jSiswVDy"
      },
      "source": [
        "print(\"\\n\".join(api.info()['models'].keys()))"
      ],
      "execution_count": null,
      "outputs": []
    },
    {
      "cell_type": "code",
      "metadata": {
        "id": "xd1RzPKhwC3q"
      },
      "source": [
        "word2vec = api.load(\"glove-twitter-50\")"
      ],
      "execution_count": null,
      "outputs": []
    },
    {
      "cell_type": "markdown",
      "metadata": {
        "id": "RAIznT0Kaue8"
      },
      "source": [
        "Токенезируем наш текст с помощью NLTK."
      ]
    },
    {
      "cell_type": "code",
      "metadata": {
        "id": "F6k91UgcAQNz"
      },
      "source": [
        "MAX_LENGTH=128\n",
        "\n",
        "tokenizer = nltk.WordPunctTokenizer()\n",
        "\n",
        "dataset = dataset.map(\n",
        "    lambda item: {\n",
        "        \"tokenized\": tokenizer.tokenize(item[\"text\"])[:MAX_LENGTH]\n",
        "    }\n",
        ")"
      ],
      "execution_count": null,
      "outputs": []
    },
    {
      "cell_type": "markdown",
      "metadata": {
        "id": "aqrtz1bDk2Ws"
      },
      "source": [
        "Создадим мапинг из токенов в индексы"
      ]
    },
    {
      "cell_type": "code",
      "metadata": {
        "id": "SMDWoNeEArA6"
      },
      "source": [
        "word2idx = {word: idx for idx, word in enumerate(word2vec.index2word)}"
      ],
      "execution_count": null,
      "outputs": []
    },
    {
      "cell_type": "markdown",
      "metadata": {
        "id": "4G_q_EgHlCWC"
      },
      "source": [
        "Переведем токены в индексы"
      ]
    },
    {
      "cell_type": "code",
      "metadata": {
        "id": "WVQX-b8mEKtA"
      },
      "source": [
        "def encode(word):\n",
        "    if word in word2idx.keys():\n",
        "        return word2idx[word]\n",
        "    return word2idx[\"unk\"]"
      ],
      "execution_count": null,
      "outputs": []
    },
    {
      "cell_type": "code",
      "metadata": {
        "id": "r9byefh6DSjV"
      },
      "source": [
        "dataset = dataset.map(\n",
        "    lambda item: {\n",
        "        \"features\": [encode(word) for word in item[\"tokenized\"]]\n",
        "    }\n",
        ")"
      ],
      "execution_count": null,
      "outputs": []
    },
    {
      "cell_type": "code",
      "metadata": {
        "id": "Y05UCYA4D0OC"
      },
      "source": [
        "dataset[\"train\"][0]"
      ],
      "execution_count": null,
      "outputs": []
    },
    {
      "cell_type": "code",
      "metadata": {
        "id": "UiHvDSTAHJ8D"
      },
      "source": [
        "dataset.remove_columns_([\"text\", \"tokenized\"])"
      ],
      "execution_count": null,
      "outputs": []
    },
    {
      "cell_type": "markdown",
      "metadata": {
        "id": "hOI1-AlYlbgA"
      },
      "source": [
        "Переведем в тензоры"
      ]
    },
    {
      "cell_type": "code",
      "metadata": {
        "id": "6VZ9EBnCK9V3"
      },
      "source": [
        "dataset.set_format(type='torch')"
      ],
      "execution_count": null,
      "outputs": []
    },
    {
      "cell_type": "code",
      "metadata": {
        "id": "FWdVJKsnPtYX"
      },
      "source": [
        "dataset[\"train\"][0]"
      ],
      "execution_count": null,
      "outputs": []
    },
    {
      "cell_type": "markdown",
      "metadata": {
        "id": "-6haisMrlmSu"
      },
      "source": [
        "Хотим склеить объекты разной длинны в батчи. Для этого давайте напишем `collate_fn`."
      ]
    },
    {
      "cell_type": "code",
      "metadata": {
        "id": "hzwuahwBxb2l"
      },
      "source": [
        "def collate_fn(batch):\n",
        "    max_len = max(len(row[\"features\"]) for row in batch)\n",
        "    input_embeds = torch.empty((len(batch), max_len), dtype=torch.long)\n",
        "    labels = torch.empty(len(batch), dtype=torch.long)\n",
        "    for idx, row in enumerate(batch):\n",
        "        to_pad = max_len - len(row[\"features\"])\n",
        "        input_embeds[idx] = torch.cat((row[\"features\"], torch.zeros(to_pad)))\n",
        "        labels[idx] = row[\"label\"]\n",
        "    return {\"features\": input_embeds, \"labels\": labels}"
      ],
      "execution_count": null,
      "outputs": []
    },
    {
      "cell_type": "code",
      "metadata": {
        "id": "FdVbtWJzszbu"
      },
      "source": [
        "from torch.utils.data import DataLoader\n",
        "\n",
        "loaders = {\n",
        "    k: DataLoader(\n",
        "        ds, shuffle=(k==\"train\"), batch_size=32, collate_fn=collate_fn\n",
        "    ) for k, ds in dataset.items()\n",
        "}"
      ],
      "execution_count": null,
      "outputs": []
    },
    {
      "cell_type": "markdown",
      "metadata": {
        "id": "jbsqpZ-WfPqe"
      },
      "source": [
        "## CNN\n",
        "\n",
        "Первая модель, которую мы рассмотрим: CNN. Одномерная конволюция достаточно хорошо справляется с задачей классификации. В конце надо собрать вектор текста с помощью `AdaptiveMaxPool1d` или `AdiptiveAvgPool1d`. Для классиффикации можно собрать любую Feed Forward Network."
      ]
    },
    {
      "cell_type": "code",
      "metadata": {
        "id": "e9DMopWCiBlD"
      },
      "source": [
        "class CNNModel(nn.Module):\n",
        "    def __init__(self, embed_size, hidden_size, num_classes=4):\n",
        "        super().__init__()\n",
        "        self.embeddings = nn.Embedding(len(word2idx), embedding_dim=embed_size)\n",
        "        self.cnn = nn.Sequential(\n",
        "            nn.Conv1d(embed_size, hidden_size, kernel_size=3, padding=1, stride=2),\n",
        "            nn.BatchNorm1d(hidden_size),\n",
        "            nn.ReLU(),\n",
        "            nn.Conv1d(hidden_size, hidden_size, kernel_size=3, padding=1, stride=2),\n",
        "            nn.BatchNorm1d(hidden_size),\n",
        "            nn.ReLU(),\n",
        "            nn.Conv1d(hidden_size, hidden_size, kernel_size=3, padding=1, stride=2),\n",
        "            nn.BatchNorm1d(hidden_size),\n",
        "            nn.ReLU(),\n",
        "            nn.AdaptiveMaxPool1d(1),\n",
        "            nn.Flatten(),\n",
        "        )\n",
        "        self.cl = nn.Sequential(\n",
        "            nn.Linear(hidden_size, num_classes)\n",
        "        )\n",
        "\n",
        "    def forward(self, x):\n",
        "        x = self.embeddings(x)  # (batch_size, seq_len, embed_dim)\n",
        "        x = x.permute(0, 2, 1)\n",
        "        x = self.cnn(x)\n",
        "        prediction = self.cl(x)\n",
        "        return prediction"
      ],
      "execution_count": null,
      "outputs": []
    },
    {
      "cell_type": "code",
      "metadata": {
        "id": "2Ed-3nQHjDrd"
      },
      "source": [
        "device = \"cuda\" if torch.cuda.is_available() else \"cpu\"\n",
        "\n",
        "model = CNNModel(word2vec.vector_size, 50).to(device)\n",
        "criterion = nn.CrossEntropyLoss()\n",
        "optimizer = torch.optim.Adam(model.parameters(), lr=1e-2)\n",
        "\n",
        "num_epochs = 1"
      ],
      "execution_count": null,
      "outputs": []
    },
    {
      "cell_type": "markdown",
      "metadata": {
        "id": "9oZjYEBkgauj"
      },
      "source": [
        "Подготовим функцию для обучения модели:"
      ]
    },
    {
      "cell_type": "code",
      "metadata": {
        "id": "Y7Smd5_03CSp"
      },
      "source": [
        "\n",
        "from tqdm.notebook import tqdm, trange\n",
        "\n",
        "\n",
        "def training(model, criterion, optimizer, num_epochs, loaders, max_grad_norm=2):\n",
        "    for e in trange(num_epochs, leave=False):\n",
        "        model.train()\n",
        "        num_iter = 0\n",
        "        pbar = tqdm(loaders[\"train\"], leave=False)\n",
        "        for batch in pbar:\n",
        "            optimizer.zero_grad()\n",
        "            input_embeds = batch[\"features\"].to(device)\n",
        "            labels = batch[\"labels\"].to(device)\n",
        "            prediction = model(input_embeds)\n",
        "            loss = criterion(prediction, labels)\n",
        "            loss.backward()\n",
        "            if max_grad_norm is not None:\n",
        "                torch.nn.utils.clip_grad_norm_(model.parameters(), max_grad_norm)\n",
        "            optimizer.step()\n",
        "            num_iter += 1\n",
        "        valid_loss = 0\n",
        "        valid_acc = 0\n",
        "        num_iter = 0\n",
        "        model.eval()\n",
        "        with torch.no_grad():\n",
        "            correct = 0\n",
        "            num_objs = 0\n",
        "            for batch in loaders[\"test\"]:\n",
        "                input_embeds = batch[\"features\"].to(device)\n",
        "                labels = batch[\"labels\"].to(device)\n",
        "                prediction = model(input_embeds)\n",
        "                valid_loss += criterion(prediction, labels)\n",
        "                correct += (labels == prediction.argmax(-1)).float().sum()\n",
        "                num_objs += len(labels)\n",
        "                num_iter += 1\n",
        "\n",
        "        print(f\"Valid Loss: {valid_loss / num_iter}, accuracy: {correct/num_objs}\")"
      ],
      "execution_count": null,
      "outputs": []
    },
    {
      "cell_type": "code",
      "metadata": {
        "id": "oOi77V2XjDpg"
      },
      "source": [
        "training(model, criterion, optimizer, num_epochs, loaders)"
      ],
      "execution_count": null,
      "outputs": []
    },
    {
      "cell_type": "markdown",
      "metadata": {
        "id": "FN8E8-ZSgnul"
      },
      "source": [
        "## RNN\n",
        "\n",
        "Вторая модель: RNN. Это рекуррентная сеть, она использует скрытое состояние из прошлой иттерации для создания нового. Это описывается с помощью формул:\n",
        "\n",
        "$$\n",
        "h_t = \\tanh(W_{ih} x_t + b_{ih} + W_{hh} h_{(t-1)} + b_{hh})\n",
        "$$\n",
        "\n",
        "Напишем этот модуль на `Torch`!\n",
        "\n"
      ]
    },
    {
      "cell_type": "code",
      "metadata": {
        "id": "zBKQXeMOwie-"
      },
      "source": [
        "class RNN(nn.Module):\n",
        "    def __init__(self, embed_size, hidden_size):\n",
        "        super().__init__()\n",
        "\n",
        "        self.embed_size = embed_size\n",
        "        self.hidden_size = hidden_size\n",
        "\n",
        "        self.w_h = nn.Parameter(torch.rand(hidden_size, hidden_size))\n",
        "        self.b_h = nn.Parameter(torch.rand((1, hidden_size)))\n",
        "        self.w_x = nn.Parameter(torch.rand(embed_size, hidden_size))\n",
        "        self.b_x = nn.Parameter(torch.rand(1, hidden_size))\n",
        "\n",
        "    def forward(self, x, hidden=None):\n",
        "        '''\n",
        "        x – torch.FloatTensor with the shape (bs, seq_length, emb_size)\n",
        "        hidden - torch.FloatTensro with the shape (bs, hidden_size)\n",
        "        return: torch.FloatTensor with the shape (bs, hidden_size)\n",
        "        '''\n",
        "        if hidden is None:\n",
        "            hidden = torch.zeros((x.size(0), self.hidden_size)).to(x.device)\n",
        "        seq_length = x.size(1)\n",
        "        for cur_idx in range(seq_length):\n",
        "            hidden = torch.tanh(\n",
        "                x[:, cur_idx] @ self.w_x + self.b_x + hidden @ self.w_h + self.b_h\n",
        "            )\n",
        "        return hidden"
      ],
      "execution_count": null,
      "outputs": []
    },
    {
      "cell_type": "code",
      "metadata": {
        "id": "9LJ3ZIuZzamP"
      },
      "source": [
        "class RNNModel(nn.Module):\n",
        "    def __init__(self, embed_size, hidden_size, num_classes=4):\n",
        "        super().__init__()\n",
        "        self.embeddings = nn.Embedding(len(word2idx), embed_size)\n",
        "        self.rnn = RNN(embed_size, hidden_size)\n",
        "        self.cls = nn.Linear(hidden_size, num_classes)\n",
        "\n",
        "    def forward(self, x):\n",
        "        x = self.embeddings(x)\n",
        "        hidden = self.rnn(x)\n",
        "        output = self.cls(hidden)\n",
        "        return output"
      ],
      "execution_count": null,
      "outputs": []
    },
    {
      "cell_type": "code",
      "metadata": {
        "id": "ftuDhqdtzaj-"
      },
      "source": [
        "device = \"cuda\" if torch.cuda.is_available() else \"cpu\"\n",
        "\n",
        "model = RNNModel(word2vec.vector_size, 50).to(device)\n",
        "criterion = nn.CrossEntropyLoss()\n",
        "optimizer = torch.optim.Adam(model.parameters(), lr=1e-2)\n",
        "\n",
        "num_epochs = 1\n",
        "max_grad_norm = 1.0"
      ],
      "execution_count": null,
      "outputs": []
    },
    {
      "cell_type": "code",
      "metadata": {
        "id": "Yx62ofTU3CNY"
      },
      "source": [
        "training(model, criterion, optimizer, num_epochs, loaders, max_grad_norm)"
      ],
      "execution_count": null,
      "outputs": []
    },
    {
      "cell_type": "markdown",
      "metadata": {
        "id": "XJqh9eWIhxE0"
      },
      "source": [
        "## GRU\n",
        "\n",
        "Третья модель: GRU. Она усложненная версия `RNN`. Гланая идея GRU: гейты. Так реализуется \"память\" модели – она маскирует часть старого скрытого состояния, создавая на этом месте новое. Модель GRU описывается следующим образом:\n",
        "\n",
        "$$\n",
        "\\begin{array}{ll}\n",
        "            r_t = \\sigma(W_{ir} x_t + b_{ir} + W_{hr} h_{(t-1)} + b_{hr}) \\\\\n",
        "            z_t = \\sigma(W_{iz} x_t + b_{iz} + W_{hz} h_{(t-1)} + b_{hz}) \\\\\n",
        "            n_t = \\tanh(W_{in} x_t + b_{in} + r_t * (W_{hn} h_{(t-1)}+ b_{hn})) \\\\\n",
        "            h_t = (1 - z_t) * n_t + z_t * h_{(t-1)}\n",
        "        \\end{array}\n",
        "$$"
      ]
    },
    {
      "cell_type": "code",
      "metadata": {
        "id": "Hi1yv2cy3CJB"
      },
      "source": [
        "class GRU(nn.Module):\n",
        "    def __init__(self, embed_size, hidden_size):\n",
        "        super().__init__()\n",
        "\n",
        "        self.embed_size = embed_size\n",
        "        self.hidden_size = hidden_size\n",
        "\n",
        "        self.w_rh = nn.Parameter(torch.rand(hidden_size, hidden_size))\n",
        "        self.b_rh = nn.Parameter(torch.rand((1, hidden_size)))\n",
        "        self.w_rx = nn.Parameter(torch.rand(embed_size, hidden_size))\n",
        "        self.b_rx = nn.Parameter(torch.rand(1, hidden_size))\n",
        "\n",
        "        self.w_zh = nn.Parameter(torch.rand(hidden_size, hidden_size))\n",
        "        self.b_zh = nn.Parameter(torch.rand((1, hidden_size)))\n",
        "        self.w_zx = nn.Parameter(torch.rand(embed_size, hidden_size))\n",
        "        self.b_zx = nn.Parameter(torch.rand(1, hidden_size))\n",
        "\n",
        "        self.w_nh = nn.Parameter(torch.rand(hidden_size, hidden_size))\n",
        "        self.b_nh = nn.Parameter(torch.rand((1, hidden_size)))\n",
        "        self.w_nx = nn.Parameter(torch.rand(embed_size, hidden_size))\n",
        "        self.b_nx = nn.Parameter(torch.rand(1, hidden_size))\n",
        "\n",
        "    def forward(self, x, hidden = None):\n",
        "        '''\n",
        "        x – torch.FloatTensor with the shape (bs, seq_length, emb_size)\n",
        "        hidden - torch.FloatTensro with the shape (bs, hidden_size)\n",
        "        return: torch.FloatTensor with the shape (bs, hidden_size)\n",
        "        '''\n",
        "        if hidden is None:\n",
        "            hidden = torch.zeros((x.size(0), self.hidden_size)).to(x.device)\n",
        "        \n",
        "        for cur_idx in range(x.size(1)):\n",
        "            r = torch.sigmoid(\n",
        "                x[:, cur_idx] @ self.w_rx + self.b_rx + hidden @ self.w_rh + self.b_rh\n",
        "            )\n",
        "            z = torch.sigmoid(\n",
        "                x[:, cur_idx] @ self.w_zx + self.b_zx + hidden @ self.w_zh + self.b_zh\n",
        "            )\n",
        "            n = torch.tanh(\n",
        "                x[:, cur_idx] @ self.w_nx + self.b_nx + r * (hidden @ self.w_nh + self.b_nh)\n",
        "            )\n",
        "            hidden = (1 - z) * n + z * hidden\n",
        "\n",
        "        return hidden"
      ],
      "execution_count": null,
      "outputs": []
    },
    {
      "cell_type": "code",
      "metadata": {
        "id": "bisyVic-3CDu"
      },
      "source": [
        "class GRUModel(nn.Module):\n",
        "    def __init__(self, embed_size, hidden_size, num_classes=4):\n",
        "        super().__init__()\n",
        "        self.embed = nn.Embedding(len(word2idx), embed_size)\n",
        "        self.gru = GRU(embed_size, hidden_size)\n",
        "        self.cls = nn.Linear(hidden_size, num_classes)\n",
        "\n",
        "    def forward(self, x):\n",
        "        x = self.embed(x)\n",
        "        hidden = self.gru(x)\n",
        "        output = self.cls(hidden)\n",
        "        return output"
      ],
      "execution_count": null,
      "outputs": []
    },
    {
      "cell_type": "code",
      "metadata": {
        "id": "UASjrUtDzaf3"
      },
      "source": [
        "device = \"cuda\" if torch.cuda.is_available() else \"cpu\"\n",
        "\n",
        "model = GRUModel(word2vec.vector_size, 50).to(device)\n",
        "criterion = nn.CrossEntropyLoss()\n",
        "optimizer = torch.optim.Adam(model.parameters(), lr=1e-2)\n",
        "\n",
        "num_epochs = 1\n",
        "max_grad_norm = 1.0"
      ],
      "execution_count": null,
      "outputs": []
    },
    {
      "cell_type": "code",
      "metadata": {
        "id": "wlom9sHdzac6"
      },
      "source": [
        "training(model, criterion, optimizer, num_epochs, loaders, max_grad_norm)"
      ],
      "execution_count": null,
      "outputs": []
    },
    {
      "cell_type": "markdown",
      "metadata": {
        "id": "mG4My7G5i5Vs"
      },
      "source": [
        "## GRU + Embeddings\n",
        "\n",
        "Мы не просто так загрузили эмбэдинги в начале. Давай использовать их вместо случайной инициализации! Для этого надо немного переделать способ подачи данных в модель и добавить в модель модуль `Embedding`. По-экспериментируем на модели `GRU`."
      ]
    },
    {
      "cell_type": "code",
      "metadata": {
        "id": "SbYLzLdYLxjc"
      },
      "source": [
        "device = \"cuda\" if torch.cuda.is_available() else \"cpu\"\n",
        "\n",
        "model = GRUModel(word2vec.vector_size, 50).to(device)\n",
        "criterion = nn.CrossEntropyLoss()\n",
        "optimizer = torch.optim.Adam(model.parameters(), lr=1e-2)\n",
        "\n",
        "num_epochs = 1\n",
        "max_grad_norm = 1.0"
      ],
      "execution_count": null,
      "outputs": []
    },
    {
      "cell_type": "code",
      "metadata": {
        "id": "_-TxEwzMLsuz"
      },
      "source": [
        "with torch.no_grad():\n",
        "    for word, idx in word2idx.items():\n",
        "        if word in word2vec:\n",
        "            model.embed.weight[idx] = torch.from_numpy(word2vec.get_vector(word))"
      ],
      "execution_count": null,
      "outputs": []
    },
    {
      "cell_type": "code",
      "metadata": {
        "id": "Opw85y82Mhvf"
      },
      "source": [
        "training(model, criterion, optimizer, num_epochs, loaders, max_grad_norm)"
      ],
      "execution_count": null,
      "outputs": []
    },
    {
      "cell_type": "markdown",
      "metadata": {
        "id": "T91mZsx_b8z8"
      },
      "source": [
        "Попробуем заморозить эмбединги на первых итерациях обучения. Это поможет не сильно портить наши эмбединги на первых итерациях."
      ]
    },
    {
      "cell_type": "code",
      "metadata": {
        "id": "trrbDTJqMvLK"
      },
      "source": [
        "def freeze_embeddings(model, req_grad=False):\n",
        "    embeddings = model.embed\n",
        "    for c_p in embeddings.parameters():\n",
        "        c_p.requires_grad = req_grad"
      ],
      "execution_count": null,
      "outputs": []
    },
    {
      "cell_type": "code",
      "metadata": {
        "id": "zcPZxlseJME5"
      },
      "source": [
        "def training_freeze(model, criterion, optimizer, num_epochs, loaders, max_grad_norm=2, num_freeze_iter=1000):\n",
        "    freeze_embeddings(model)\n",
        "    for e in trange(num_epochs, leave=False):\n",
        "        model.train()\n",
        "        num_iter = 0\n",
        "        pbar = tqdm(loaders[\"train\"], leave=False)\n",
        "        for batch in pbar:\n",
        "            if num_iter > num_freeze_iter and e < 1:\n",
        "                freeze_embeddings(model, True)\n",
        "            optimizer.zero_grad()\n",
        "            input_embeds = batch[\"features\"].to(device)\n",
        "            labels = batch[\"labels\"].to(device)\n",
        "            prediction = model(input_embeds)\n",
        "            loss = criterion(prediction, labels)\n",
        "            loss.backward()\n",
        "            if max_grad_norm is not None:\n",
        "                torch.nn.utils.clip_grad_norm_(model.parameters(), max_grad_norm)\n",
        "            optimizer.step()\n",
        "            num_iter += 1\n",
        "        valid_loss = 0\n",
        "        valid_acc = 0\n",
        "        num_iter = 0\n",
        "        model.eval()\n",
        "        with torch.no_grad():\n",
        "            correct = 0\n",
        "            num_objs = 0\n",
        "            for batch in loaders[\"test\"]:\n",
        "                input_embeds = batch[\"features\"].to(device)\n",
        "                labels = batch[\"labels\"].to(device)\n",
        "                prediction = model(input_embeds)\n",
        "                valid_loss += criterion(prediction, labels)\n",
        "                correct += (labels == prediction.argmax(-1)).float().sum()\n",
        "                num_objs += len(labels)\n",
        "                num_iter += 1\n",
        "\n",
        "        print(f\"Valid Loss: {valid_loss / num_iter}, accuracy: {correct/num_objs}\")"
      ],
      "execution_count": null,
      "outputs": []
    },
    {
      "cell_type": "code",
      "metadata": {
        "id": "fYbcqM2iKERh"
      },
      "source": [
        "device = \"cuda\" if torch.cuda.is_available() else \"cpu\"\n",
        "\n",
        "model = GRUModel(word2vec.vector_size, 50).to(device)\n",
        "criterion = nn.CrossEntropyLoss()\n",
        "optimizer = torch.optim.Adam(model.parameters(), lr=1e-2)\n",
        "\n",
        "num_epochs = 1\n",
        "max_grad_norm = 1.0"
      ],
      "execution_count": null,
      "outputs": []
    },
    {
      "cell_type": "code",
      "metadata": {
        "id": "E3i8-_MhKHCo"
      },
      "source": [
        "with torch.no_grad():\n",
        "    for word, idx in word2idx.items():\n",
        "        if word in word2vec:\n",
        "            model.embed.weight[idx] = torch.from_numpy(word2vec.get_vector(word))"
      ],
      "execution_count": null,
      "outputs": []
    },
    {
      "cell_type": "code",
      "metadata": {
        "id": "jKIdxoobKLas"
      },
      "source": [
        "training_freeze(model, criterion, optimizer, num_epochs, loaders, max_grad_norm)"
      ],
      "execution_count": null,
      "outputs": []
    },
    {
      "cell_type": "code",
      "metadata": {
        "id": "_JDRH3TkK6VS"
      },
      "source": [
        ""
      ],
      "execution_count": null,
      "outputs": []
    }
  ]
}